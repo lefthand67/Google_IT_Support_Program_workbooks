{
 "cells": [
  {
   "cell_type": "markdown",
   "id": "8a65f012-5b14-457f-9b4c-fde13e9e490d",
   "metadata": {
    "execution": {
     "iopub.execute_input": "2023-08-18T13:51:17.410703Z",
     "iopub.status.busy": "2023-08-18T13:51:17.409436Z",
     "iopub.status.idle": "2023-08-18T13:51:17.515214Z",
     "shell.execute_reply": "2023-08-18T13:51:17.514261Z",
     "shell.execute_reply.started": "2023-08-18T13:51:17.410660Z"
    },
    "tags": []
   },
   "source": [
    "# GOOGLE IT SUPPORT PROFESSIONAL CERTIFICATE from [Google](https://www.coursera.org/google-certificates/it-support-certificate)"
   ]
  },
  {
   "cell_type": "markdown",
   "id": "b8dc1379-8bc6-44d7-a476-55609ddf62f0",
   "metadata": {},
   "source": [
    "# <b>C4 [Introduction to System Administration and IT Infrastructure Services](https://www.coursera.org/learn/system-administration-it-infrastructure-services?specialization=google-it-support)</b>"
   ]
  },
  {
   "cell_type": "markdown",
   "id": "12ea002a-47a6-4798-b270-a1fcbe2496f4",
   "metadata": {},
   "source": [
    "> **System administration** is the field in IT that's responsible for maintaining reliable computer systems in a multi-user environment."
   ]
  },
  {
   "cell_type": "markdown",
   "id": "ec089556-dc2a-4267-a7b0-5d66f490113a",
   "metadata": {},
   "source": [
    "> **IT infrastructure** encompasses \n",
    "- the software, \n",
    "- the hardware, and \n",
    "- network and services \n",
    "required for an organization to operate in an enterprise IT environment. "
   ]
  },
  {
   "cell_type": "markdown",
   "id": "94ba1394-534d-450a-93cd-df7ad73ca4cc",
   "metadata": {},
   "source": [
    "# 4.1 What is System Administration?"
   ]
  },
  {
   "cell_type": "markdown",
   "id": "ff2f0a3a-98dd-43c8-86ec-aecb2086b198",
   "metadata": {},
   "source": [
    "<center>\n",
    "    <img src=\"data/images/Screenshot_20231011_131336.png\" alt=\"Servers' most common form factors\" style=\"width: 500px\">\n",
    "    <p style=\"text-align: center\"><i>Servers' most common form factors</i></p>"
   ]
  },
  {
   "cell_type": "markdown",
   "id": "4aade80d-d135-4e13-9049-2df9678b7857",
   "metadata": {},
   "source": [
    "<center>\n",
    "    <img src=\"data/images/Screenshot_20231011_132416.png\" alt=\"KVM Switch\" style=\"width: 500px\">\n",
    "    <p style=\"text-align: center\"><i>KVM (keyboard, video, mouse) Switch</i></p>"
   ]
  },
  {
   "cell_type": "markdown",
   "id": "a4b5b514-c900-4008-ac25-b6eab8193584",
   "metadata": {},
   "source": [
    "<center>\n",
    "    <img src=\"data/images/Screenshot_20231011_134653.png\" alt=\"Hardware Lifecycle\" style=\"width: 500px\">\n",
    "    <p style=\"text-align: center\"><i>Hardware Lifecycle</i></p>"
   ]
  },
  {
   "cell_type": "markdown",
   "id": "8533d60c-cb8d-450a-b661-af2cc8c6c39a",
   "metadata": {},
   "source": [
    "## Vendor Life-Cycle for Custom Services and Products"
   ]
  },
  {
   "cell_type": "markdown",
   "id": "13ffeee6-de41-40b7-9e9d-47012e6229ab",
   "metadata": {},
   "source": [
    "Another important vendor life-cycle involves the engagement and management of service vendors. IT Support professionals may need to engage and/or manage service vendor relationships as part of their job responsibilities. Service vendors are often businesses that offer specialized services, products, and/or skilled labor to other businesses. Many organizations outsource business needs to these types of vendors as cost saving measures to temporarily augment staff, and to more efficiently manage company time and resources. \n",
    "\n",
    "Hiring temporary contractors on an as-needed basis can be a disruptive, lengthy, and expensive process. Employing a full-service vendor, on the other hand, simplifies the process to a single contract agreement, allowing the vendor to assume responsibility for supplying and managing the resources necessary to carry out your project. For example, your organization may choose to outsource a company-wide computer system upgrade to a vendor that can supply a temporary IT workforce to implement the large-scale project. Using a vendor for this project may save your organization the time, expense, effort, and liability associated with hiring, training, and managing individual contractors.\n",
    "\n",
    "**Vendor life-cycle management for custom services and products**\n",
    "\n",
    "Vendor life-cycle management is an end-to-end standardization for conducting business partnerships with vendors. As a best practice for business management, organizations should develop standard policies and procedures for the procurement and management of vendors. \n",
    "\n",
    "The standard vendor lifecycle can be categorized into three contract phases and eight management steps:\n",
    "\n",
    "**Phase one - Pre-contract**\n",
    "\n",
    "Phase one of the vendor lifecycle management process begins with an organization identifying the need to outsource a process or project to a services vendor. \n",
    "\n",
    "1. **Vendor identification and engagement**: An organization identifies potential vendors and engages them to collect more information about the vendor’s business offerings and capabilities. The organization will inform the vendors of the service needs and will solicit “**requests for proposals**” (RFPs), “**invitations to bid**” (ITB), or other similar proposal documents from the vendor. The organization will select a small number of promising proposals to analyze in greater depth. Some organizations may have official procurement officers to ensure fair and ethical vendor selections.\n",
    "\n",
    "1. **Vendor qualification and risk mitigation**: The organization advances the shortlisted proposals to the qualification stage. In this stage, the organization and/or procurement officers request additional information from the vendor to help exclude vendors that might pose a risk to the organization. \n",
    "\n",
    "1. **Vendor evaluation and selection**: The organization and/or procurement officers evaluate the vendor information collected during the qualification phase. The organization’s vendor selection team analyzes the vendor information to determine each vendor’s health and stability as a business, as well as their ability to deliver on the organization's request. Some of the data points used in this evaluation and selection may include the vendor’s:\n",
    "    - **History**: Does the vendor have a clean business record?\n",
    "    - **Ratings and quality**: What are other customers saying about the vendor online and through services like the Better Business Bureau?\n",
    "    - **Expertise**: Does the vendor have the experience, skills, talent, and/or expertise to deliver on needed services?\n",
    "    - **Cost**: Will the vendor’s proposal fit into the organization’s budget? \n",
    "    - **Offer compliance**: Does the vendor’s proposal fulfill all of the requirements of the organization’s request?\n",
    "    - **Responsiveness and customer service**: How long does it take the vendor to respond to the organization’s requests? What is the vendor’s approach to offering timely customer service?\n",
    "\n",
    "Once a vendor is selected, the organization will negotiate a **statement of work (SoW)** and contract terms with the vendor. Performance criteria, milestones, and deliverables should be well-defined in the SoW and contract. \n",
    "\n",
    "1. **Vendor information management and onboarding**: The selected vendor goes through an onboarding process with the organization. Information about the vendor is recorded in the organization’s procurement system and provided to the appropriate stakeholders for the engagement. Information management is important to the vendor life-cycle management and maintaining strategic relationships with vendors. The organization's IT department may issue IT equipment to the vendor for establishing secure and monitored connections to the organization’s network. The organization might also offer vendors training sessions for the organization’s relevant policies, procedures, expectations, systems, network, tools, etc. \n",
    "\n",
    "**Phase two - Contract delivery**\n",
    "\n",
    "1. **Performance management monitoring**: Organizations often assign a project manager to monitor the performance criteria, milestones, due dates, and deliverables defined in the SoW and contract. It is vital to vendor and project management to ensure the vendor is meeting the contracted expectations on time and on budget. The organization should conduct regular performance reviews and may request improvements to the vendor’s performance. How the vendor responds to improvement requests is important to the business relationship and can positively or negatively affect opportunities for future engagements.\n",
    "\n",
    "1. **Risk management**: Organizations and project managers should also monitor and analyze potential risks during the course of the vendor engagement.  \n",
    "\n",
    "    - **Supply chain risk management**: If the vendor’s product or service depends on a supply chain, contingency plans need to be in place to prevent negative impacts to the project if a disruption to the supply chain occurs. Additionally, it is important to ensure the vendor does not create compliance problems with supply chains, as this risk might impact the organization’s reputation.\n",
    "\n",
    "    - **Product upgrade limitations and other risks**: Organizations must monitor risks related to updating, maintaining, and upgrading the vendor’s deliverables. Especially important is the availability and capability of the vendor to provide these periodic updates or upgrades. Contingent plans should be defined in case the vendor cannot meet this need.\n",
    "\n",
    "1. **Vendor relationship management**: Organizations can support their relationships with vendors by: \n",
    "\n",
    "    - Developing a communication plan with frequent check-ins\n",
    "\n",
    "    - Building and maintaining healthy partnerships\n",
    "\n",
    "    - Ensuring all parties benefit from the engagement\n",
    "\n",
    "**Phase three - Post-contract**\n",
    "\n",
    "1. **Vendor offboarding**: When the vendor project comes to an end, the post-contract closing process is initiated. The organization’s project manager and/or a procurement officer are often assigned to facilitate the vendor offboarding. In this phase, the organization performs an analysis to ensure the vendor has met all contractual obligations. Any residual obligations, like warranties and post contract support are revisited, and sometimes revised, with the vendor and relevant stakeholders of the organization.\n",
    "\n",
    "    - **Warranties**: The organization should keep detailed records of any vendor or third-party warranties provided for the deliverables from the vendor engagement. All stakeholders should be made aware of the inclusions, exclusions, and expiration dates of the warranties. \n",
    "\n",
    "    - **Post-contract support**: The organization should keep detailed records of any services, like technical support, supplied in the post-contract phase. The organization’s contract with the vendor should have a clearly defined maintenance clause or a statement that post-contract support is not included.\n",
    "\n",
    "Finally, the organization’s project manager and/or a procurement officer uses the organization’s offboarding checklist to complete the post-contract closing. The checklist might include requesting the vendor return IT equipment and removing the vendor identity profiles on the organization’s network. IT Support professionals might also be enlisted to  ensure any intellectual property belonging to the organization is stored properly with necessary security precautions. "
   ]
  },
  {
   "cell_type": "markdown",
   "id": "be188f61-47d9-4689-8c21-10bbc7be6475",
   "metadata": {},
   "source": [
    "## Vendor Life-Cycle for Support of Commercial Products"
   ]
  },
  {
   "cell_type": "markdown",
   "id": "8c6158a5-5a60-480b-8493-7aa40d190627",
   "metadata": {},
   "source": [
    "Commercial vendors of computer operating systems, software, products, peripherals, and other IT equipment plan life-cycle schedules, or product roadmaps, for supporting their products. It is important for IT Support professionals to keep track of these life-cycle schedules, especially the date when the product will reach its **end of life (EOL)**. The EOL date is the point at which the vendor plans to end all support for the product and it is reclassified as a legacy product.\n",
    "\n",
    "IT Support professionals should plan to update, upgrade, or replace a product before it reaches its EOL date. Once the EOL date has passed, the vendor will no longer provide technical support, security patches, or driver or firmware updates for the product. This lack of support can create a security risk for computer systems and networks. Cybercriminals take advantage of legacy products that are no longer being patched or updated. Warranties can expire on or before a product’s EOL date as well. This can disrupt normal IT operations if the product fails, as IT Support professionals must expedite purchasing, implementing, and providing  training for the legacy product’s replacement. \n",
    "\n",
    "The details of product life-cycle support policies vary from vendor to vendor. However, some life-cycle phases are common to most vendors: \n",
    "\n",
    "1. **Beta testing phase**: Often, the first introduction of a vendor’s product to the public occurs through a beta testing phase. Beta testing is used to collect product feedback from early adoption tech users. This feedback is used to improve the product before it is available to the general public. For example, you might be familiar with Microsoft’s Windows Insider Program. Early adopters of Microsoft products can sign up to beta test the latest updates to the Windows operating systems.\n",
    "\n",
    "1. **Product release and primary support phase**: When the beta testing phase ends and the vendor has updated and repaired reported defects, the product will then become available and marketed to the general public. It is normal for products to experience problems as a larger group of end users implements the product into their unique computing environments. Vendors respond by developing and releasing regular updates and security patches for the product during this supported product life-cycle phase. It is critical that IT Support professionals update the product regularly to prevent security breaches and other disruptions to the product’s usability. \n",
    "\n",
    "1. **Extended support phase**: Product roadmaps also include a phase-out period when vendors introduce their next generation products. The vendor normally continues support for the older product during this phase by releasing critical patches. The product is often phased out of the primary commercial market, but resellers may continue to sell it as a used or unused surplus product. Buyers should carefully investigate the warranty and support for the product if purchased from a reseller. \n",
    "\n",
    "1. **End of life (EOL) phase**: When a product has reached its scheduled EOL date, the vendor will end support for the product. Tech support and warranties will expire. The vendor will no longer release product updates, security patches, drivers, firmware, etc., leaving the legacy product vulnerable to security attacks. Vendors encourage customers to buy the new, next generation product as a replacement for the legacy product. "
   ]
  },
  {
   "cell_type": "markdown",
   "id": "98448fd7-1444-4c7e-8a04-27669d731342",
   "metadata": {},
   "source": [
    "## Change Management"
   ]
  },
  {
   "cell_type": "markdown",
   "id": "4167cd58-a332-4b12-9197-a55eff246fe0",
   "metadata": {},
   "source": [
    "> IT change management is a standardized process for planning, communicating, and implementing technical changes to information systems. \n",
    "\n",
    "IT Support professionals are often responsible for installations, updates, upgrades, migrations, etc. to an organization’s software, hardware, network security policy, data storage policy, cloud platforms, and more. IT Support staff are expected to make these changes while also minimizing disruptions to the organization’s IT services. By following IT change management best practices, IT Support professionals can create robust plans for change rollouts that protect business continuity. The change management plan is often reviewed by change board approvals, management teams, and/or project stakeholders for risk assessment, feedback, and plan approvals or rejections.\n",
    "\n",
    "**IT change management plans**\n",
    "\n",
    "Each organization will have their own change management policies, processes, and procedures. However, there are several common items that should be included in change management plans as a best practice. When proposing a change, IT professionals may create documentation or use change request forms to detail the following elements:\n",
    "\n",
    "- **Person/team responsible for the change**: Names at least one person as the responsible party for overseeing the change management plan.\n",
    "\n",
    "- **Change priority**: States the urgency of the change. For example, critical security patches would have a high priority and need to be scheduled ASAP. Whereas, a software update that merely adds new features might be a very low priority and can be scheduled for a convenient future date.  \n",
    "\n",
    "- **Change description**: Gives an overview of the planned changes. The change description should also provide a list of the planned changes. For example, if the change involves updating firmware on several router models, the description should include which routers and models will be updated. Additionally, the plan should list the old firmware versions currently on the routers along with the new firmware versions to be applied during the update.  \n",
    "\n",
    "- **Purpose of the change**: Explains why the change is necessary. For IT Support professionals, the most common reasons for changes are operating system, software, driver, and firmware patches and updates, as well as hardware and peripheral upgrades. Installations, implementations, and redesigns of software and hardware systems are also common IT changes. IT Support professionals should regularly evaluate the need for improvements and changes to network security policies and procedures. Laws, regulations, and company policies may also require changes to how organizations store, transmit, and protect data.\n",
    "\n",
    "- **Scope of the change**: Describes the extent of the changes. The documentation should include a list of all IT systems (hardware, software, etc.), locations, departments, individuals, vendors, partners, customers, and others the changes affect, whether directly or indirectly. Any changes to policies, processes, or procedures should also be recorded.\n",
    "\n",
    "- **Date, time, and duration of the change**: Indicates when the change is scheduled to take place and the duration of the change rollout. If the change is expected to create service outages, the person or team responsible for managing the change should inform all affected staff about the outage before the systems are taken offline. IT changes are often implemented outside of normal business hours, when systems can be taken offline with minimal disruption. For organizations with traditional Monday through Friday, 8 a.m. to 5 p.m. business hours, changes are usually planned to begin in the early evening on a Friday, after end users have logged out for the weekend. The change implementation process should include plenty of contingency time before the next business day in order to test, troubleshoot, repair, and roll-back any changes that are not successful. When an unsuccessful change occurs, IT Support professionals may need to work through the night and into the next morning. Organizations and IT departments may opt to hire a vendor to perform overnight system changes to adhere to company overtime policies and labor laws. \n",
    "\n",
    "- **Change rollback or backout plan**: In case of primary plan failures, details a rollback plan to return the affected systems back to their original state before the changes were attempted. Additionally, a secondary or alternative plan may be included. This could be a plan to activate a failover system to replace any problemed systems until they are repaired. IT Support professionals should detail the steps involved in the rollback and/or alternative plans, including the original configuration settings and software, patch, driver, and/or firmware versions. Files needed to rollback updates and patches should be downloaded and stored in an accessible location to simplify rollbacks. Cloud-based virtual systems can be restored in seconds by simply using clones of saved previous VM states. \n",
    "\n",
    "- **Technical evaluation**: Records the results of any testing performed on the proposed changes in a lab or sandboxed environment. The testing environment should be as similar to the target environment as possible. For example, the same operating system versions, hardware parts, drivers, firmware, etc. of the target system should be reflected in the lab/sandbox testing environment. Setting up a testing sandbox for cloud platforms should be as simple as cloning the virtual system(s) targeted for updates. The plans should also include metrics for evaluating if a change is successful or not. \n",
    "\n",
    "- **Systems affected by the change**: Lists all IT resources (including hardware, software, networked, and cloud systems) that will experience direct or indirect changes as a result of the change rollout. \n",
    "\n",
    "- **Anticipated impact of changes**: Describes how the planned changes are expected to impact the affected systems. For example, if the change involves adding new servers to a resource pool, the plan might describe that this increase in load capacity will result in system performance improvements and faster server response times. \n",
    "\n",
    "- **Resources needed to implement the change**: Lists the human resources, budget, time, management oversight, subject matter expert (SME) consultations, training, equipment, hardware, software, parts, systems, tools, insurance policies, and any other resource needed to complete the planned changes.   \n",
    "\n",
    "- **Training for users impacted by the change**: Outlines any training needs to help users adapt to the changes. This might include classes on how to use new software applications, hands-on practice with new hardware, a company-wide announcement for security procedure changes, and more. \n",
    "\n",
    "- **Risk level for change**: Describes how much risk is involved in making the proposed changes. Some changes are high risk and might cause catastrophic failures if the plan goes wrong. For example, an upgrade involving a single point of failure on a critical system could create a system-wide outage. In this case, it would be wise to implement a redundant failover system for that critical system before attempting any other changes. \n",
    "\n",
    "- **Change instructions**: Details each step of the planned changes. This should be formatted as an instruction manual for the IT Support professionals to follow to ensure there is no guesswork involved in implementing the changes.  \n",
    "\n",
    "**Change board approvals**\n",
    "\n",
    "Some large organizations may have a **Change Advisory Board (CAB)**. The CAB is a board of directors appointed to oversee all implemented IT changes in the organization. The CAB can be the official governing body to approve or deny change management plans. They may advise on needed adjustments to the plan to meet business goals or to comply with regulatory compliance criteria. The CAB may also assist with mitigating risk brought about by proposed changes.\n",
    "\n",
    "**User acceptance**\n",
    "\n",
    "Including a user acceptance process for information system changes is a best practice in IT change management. IT change management plans can include a beta testing period similar to software development user acceptance testing. This plan might include several days of testing by a select group of users to ensure that the changes have been successful and that there are no hidden surprises caused by the changes. The change management team for the plan should develop user acceptance criteria forms for the beta testers to complete. The criteria normally includes common activities that all end users should be able to perform successfully in the new or changed environment. A period of time should be reserved for fixing any problems the beta testers find. When beta testing is successful and the changes have been accepted/approved by the users, the changes should become available to all appropriate end users."
   ]
  },
  {
   "cell_type": "markdown",
   "id": "42408297-d0f0-4b44-9961-4e4276a80807",
   "metadata": {},
   "source": [
    "## Recording Your Actions"
   ]
  },
  {
   "cell_type": "markdown",
   "id": "4373c82c-4ea6-47fd-a649-aac05d984006",
   "metadata": {},
   "source": [
    "When you are going to make changes in a machine, it’s very important to have a clear plan of what you are going to do and to store the actions that you actually took.\n",
    "\n",
    "A common practice for system administrators that work with bug queues or ticketing systems is to include the commands executed and the output obtained in the corresponding bug or ticket. This is recommended if the commands that need to be executed are few and straightforward.\n",
    "\n",
    "However, there are situations where you don’t yet know which commands exactly you’ll need to execute because there’s some investigation that needs to happen. In cases like that, it can be helpful to use a command like [script](http://manpages.ubuntu.com/manpages/bionic/man1/script.1.html) for Linux or [Start-Transcript](https://docs.microsoft.com/en-us/powershell/module/microsoft.powershell.host/start-transcript?view=powershell-6) for Windows.\n",
    "\n",
    "**script**\n",
    "\n",
    "In the case of script, you can call it like this:\n",
    "```\n",
    "          script session.log\n",
    "```\n",
    "This will write the contents of your session to the `session.log` file. When you want to stop recording, you can write `exit` or press `Ctrl-D`. The generated file will be in ANSI format which includes the colors that were displayed on screen. In order to read them, you can use commands like \n",
    "[ansi2txt](http://manpages.ubuntu.com/manpages/bionic/man1/ansi2txt.1.html) or [ansi2html](http://manpages.ubuntu.com/manpages/bionic/man1/ansi2html.1.html) to convert it to plain text or HTML respectively.\n",
    "\n",
    "**Start-Transcript**\n",
    "\n",
    "In the case of Start-Transcript, you can call it like this:\n",
    "```\n",
    "            Start-Transcript -Path C:\\Transcript.txt\n",
    "```\n",
    "This will write the contents of the session to `C:\\Transcript.txt`. When you want to stop recording you need to call `Stop-Transcript`. The file created is a plain text file where the commands executed and their outputs are stored.\n",
    "\n",
    "**Recording Graphical Sessions**\n",
    "\n",
    "Performing system administration actions through a Graphical user interface is less common (as it’s harder to automate and to perform remotely), but it’s still something that may happen sometimes.\n",
    "\n",
    "If you are going to be performing an action that needs to be done graphically and you can document what you are doing, you can use a specialized tool like [recordMyDesktop](http://recordmydesktop.sourceforge.net/about.php) for Linux, or general video tools like [OBS](https://obsproject.com/) or [VLC](https://www.videolan.org/vlc/index.html)."
   ]
  },
  {
   "cell_type": "markdown",
   "id": "aa62732a-ced0-4cea-b62a-19869c9e42c4",
   "metadata": {},
   "source": [
    "## Never Test in Production"
   ]
  },
  {
   "cell_type": "markdown",
   "id": "8a32a3f6-0ce4-43de-b2af-61575cb379e5",
   "metadata": {},
   "source": [
    "### Production"
   ]
  },
  {
   "cell_type": "markdown",
   "id": "4528c3b7-d8fb-4782-b352-a578849b8f19",
   "metadata": {},
   "source": [
    "> Production, in an infrastructure contexts, is the parts of the infrastructure where certain service is executed and serve to its users production."
   ]
  },
  {
   "cell_type": "markdown",
   "id": "e62b282f-864e-465c-ad50-0df3ff0dc3e5",
   "metadata": {},
   "source": [
    "### Test environment"
   ]
  },
  {
   "cell_type": "markdown",
   "id": "47061dbe-b34e-4d6a-80a6-e89c5c62b6cc",
   "metadata": {},
   "source": [
    "> The test environment is usually a virtual machine running the same configuration as a production environment, but isn't actually serving any users of the service"
   ]
  },
  {
   "cell_type": "markdown",
   "id": "4521de49-6357-4539-a7e3-e27f903ee813",
   "metadata": {},
   "source": [
    "### A secondary, or a stand-by machine"
   ]
  },
  {
   "cell_type": "markdown",
   "id": "bb973bc1-756a-4229-ba1c-4454a46715dc",
   "metadata": {},
   "source": [
    "This machine will be exactly the same as a production machine, but won't receive any traffic from actual users until you enable it to do so.\n",
    "\n",
    "Once the changes have been applied, make the stand-by machine the primary machine, and then apply the changes to the other machine. "
   ]
  },
  {
   "cell_type": "markdown",
   "id": "2de2fc5f-4adc-4396-8b5c-65f8a6529ea4",
   "metadata": {},
   "source": [
    "## Reproduction case"
   ]
  },
  {
   "cell_type": "markdown",
   "id": "338180e5-98e7-4299-a4e7-25c0bc860a73",
   "metadata": {},
   "source": [
    "> means you are creating a roadmap to retrace the steps that led the user to an unexpected outcome, like reaching an error page.\n",
    "\n",
    "- What steps did you take to get to this point? \n",
    "- What's the unexpected or bad result? \n",
    "- What's the expected result?\n",
    "\n",
    "Remember, always do this in your test instance, never in production. \n",
    "\n",
    "Make sure you document all your steps and any findings. Having this documentation may prove invaluable if you ever had to deal with similar issues again. "
   ]
  },
  {
   "cell_type": "markdown",
   "id": "8a68ecd3-350d-4fda-ab50-0ab332eeba02",
   "metadata": {},
   "source": [
    "# 4.2 Infrastructure Services "
   ]
  },
  {
   "cell_type": "markdown",
   "id": "c65a7c7b-a3e5-4490-aca1-f18299fa826c",
   "metadata": {},
   "source": [
    "## IT Infrastructure Services"
   ]
  },
  {
   "cell_type": "markdown",
   "id": "d61054c6-c5b5-4039-b36d-c6de7ed30c91",
   "metadata": {
    "jupyter": {
     "source_hidden": true
    },
    "tags": []
   },
   "source": [
    "For more information on the following topics check out the following links: \n",
    "- Infrastructure as a Service [IaaS](https://cloud.google.com/learn/what-is-iaas), \n",
    "- Network as a Service [NaaS](https://en.wikipedia.org/wiki/Network_as_a_service) , \n",
    "- Software as a service [SaaS](http://www.businessinsider.com/the-most-popular-cloud-apps-used-at-work-2015-8), and \n",
    "- Platform as a Service [PaaS](https://www.techradar.com/best/best-paas-providers) \n",
    "\n",
    "Providers.\n",
    "\n",
    "For more detailed information on DaaS Providers check out Amazon [here](https://aws.amazon.com/cloud-directory/), Jumpcloud [here](https://jumpcloud.com/daas-product/index) and the Azure Active Directory [here](https://azure.microsoft.com/en-us/services/active-directory/)."
   ]
  },
  {
   "cell_type": "markdown",
   "id": "32440574-b2f9-428f-983f-6cbb442e13dc",
   "metadata": {},
   "source": [
    "## Physical Infrastructure Services"
   ]
  },
  {
   "cell_type": "markdown",
   "id": "8c9e4ae7-42e3-4814-a95a-53b32468e4c6",
   "metadata": {},
   "source": [
    "> **Server operating systems** are regular operating systems that are optimized for server functionality."
   ]
  },
  {
   "cell_type": "markdown",
   "id": "3e8652f1-ff24-4293-b3d9-e08d2f90061f",
   "metadata": {},
   "source": [
    "### [Server OS Types & How to Choose](https://phoenixnap.com/kb/server-operating-system)"
   ]
  },
  {
   "cell_type": "markdown",
   "id": "4f97475e-9952-4a1a-8474-259e9f4f6338",
   "metadata": {},
   "source": [
    "**Introduction**\n",
    "\n",
    "Server operating systems are designed for platforms that act as web servers, application servers, database servers, email servers, or other platforms running on a dedicated server.\n",
    "\n",
    "Server operating systems offer various benefits compared to standard operating systems, including unlimited user connections, more memory, and advanced network optimizations.\n",
    "\n",
    "In this article, you will learn about different server operating systems and how to choose the best server OS for your needs.\n",
    "\n",
    "**What is a Server Operating System**\n",
    "\n",
    "A server operating system is an advanced operating system designed to run on servers. It has the necessary features and subsystems to operate in a client-server architecture and serve clients' requests.\n",
    "\n",
    "A server OS is designed from the ground up to provide features suitable for multi-user, business-critical applications. It provides the central interface for managing users, implementing security, and other administrative processes. The focus of a server operating system is usually security, stability, and cooperation.\n",
    "\n",
    "Server operating systems facilitate the implementation of various server platforms, such as:\n",
    "\n",
    "- **Web servers**. A web server hosts programs and data, and responds to client requests for web pages or other web-based services. Common web servers are Apache, Microsoft Internet Information Services (IIS), and Nginx.\n",
    "- **Mail servers**. A mail server allows users to forward and receive emails for and from their business and controls individual email accounts based on a specific domain.\n",
    "- **File servers**. File sharing involves a joint storage point for a business to store documents or data - a network drive.\n",
    "- **Database servers**. Some server operating systems include database integration, which facilitates dynamic web page building based on the database contents.\n",
    "- **Application servers**. Server operating systems must be able to run business-critical applications, whether that's a self-hosted CRM or a SaaS. A server OS usually functions as a shared environment for various collaborative applications.\n",
    "- **Print servers**. Another feature that server operating systems facilitate is print sharing, allowing multiple machines to use a single printer.\n",
    "\n",
    "Server operating systems are capable of handling several of the features mentioned above if the tasks don't require too many resources. If many clients/users need to be served or the hosted applications require a lot of processing power, diversify the functions across multiple servers.\n",
    "\n",
    "**Common Server Operating Systems**\n",
    "\n",
    "There is an abundance of operating systems available today. According to some statistics, roughly 80% of all servers use some variation of Linux, while about 20% of servers use Windows.\n",
    "\n",
    "The stark difference in market share is likely because Linux is free and doesn't require user-based licensing like Windows.\n",
    "\n",
    "Each OS has its pros and cons, and its ease of use depends on the user's technical competence level. The following list is not exhaustive, but it comprises the most common server operating systems.\n",
    "\n",
    "1. Windows Server\n",
    "\n",
    "- Microsoft developed the Windows operating system family for everyday personal use and professional use in servers. The Windows Server OS supports enterprise-level management, data storage, and a vast array or applications.\n",
    "\n",
    "- Windows Server features virtual memory management, a complete desktop GUI experience, allows multitasking, and supports various peripheral devices. Microsoft usually provides 10 years of support for Windows Server.\n",
    "\n",
    "The pros of a Windows server OS are the intuitive GUI, support for symmetric multi-processor systems, great third-party application support, and many versions to choose from. The cons are the need for user-based licensing and more virus security threats compared to other platforms.\n",
    "\n",
    "2. Linux\n",
    "\n",
    "- Linux is a family of UNIX-like operating systems that have all the features of UNIX. It is open-source, available for free, facilitating multi-user, multi-process, multi-thread operations. However, Linux servers require more technical knowledge - from installation to maintenance and bug fixing.\n",
    "\n",
    "- One of the most common website hosting platforms, the [LAMP stack](https://phoenixnap.com/kb/what-is-a-lamp-stack), is based on Linux (Linux, Apache, MariaDB/MySQL, Perl/PHP/Python).\n",
    "\n",
    "Some of the most popular Linux server distributions are:\n",
    "\n",
    "- Ubuntu Server.\n",
    "- Debian Server.\n",
    "- Fedora.\n",
    "- OpenSUSE Leap.\n",
    "- SUSE Linux Enterprise Server.\n",
    "- Arch Linux.\n",
    "\n",
    "The pros of a Linux server OS are high security, a wide variety of distributions, integrated open-source software, including high-level language compilers, and the ability to control the system using a GUI.\n",
    "\n",
    "The cons are the lack of long-term support for some distributions and certain complex operations, such as system updates.\n",
    "\n",
    "3. UNIX-Based Operating Systems\n",
    "\n",
    "In the beginning, UNIX was a time-sharing operating system for small computers, and over time it has become one of the most widespread client-server environment operating systems. The UNIX programming language is C, which facilitated the creation of UNIX ports for many machines.\n",
    "\n",
    "The pros of UNIX are a multi-user environment, built-in TCP/IP support, and a high level of stability and security. The downside is that it is paid, and different vendors sell different UNIX versions, so there is no standard UNIX version.\n",
    "\n",
    "4. NetWare\n",
    "\n",
    "Novell NetWare is a server-based network operating system that requires a dedicated server to function. It was a widespread OS in early LANs.\n",
    "\n",
    "The pros of NetWare are its support for multiprocessors and large-capacity physical memory management, as well as top-notch file sharing and printing functions in corporate networks. The OS also offers a wide range of management interfaces, including a Web interface.\n",
    "\n",
    "The cons are the price, poor support, a challenging installation process, and low third-party app support.\n",
    "\n",
    "5. macOS Server\n",
    "\n",
    "The macOS Server is a UNIX-like server operating system based on macOS, developed by Apple. The OS builds on top of macOS and adds server functionality and system administration tools, as well as the tools to manage macOS and iOS devices.\n",
    "\n",
    "The macOS Server is a great choice if you use Mac clients in your network, considering its ability to create features for Mac clients easily.\n",
    "\n",
    "The macOS Server pros are easy administration, intuitive GUI, great support, and easy workload distribution across multiple machines. Thus, it is easy to increase the processing power. The OS comes with an unlimited user license.\n",
    "\n",
    "The cons are that macOS Server only runs on Apple hardware, which can be pricey, and there aren't many third-party applications. Also, while Apple implements open-source software in its system, there are changes specific to macOS, requiring working around some issues not present in Linux.\n",
    "\n",
    "6. FreeBSD\n",
    "\n",
    "FreeBSD is a free and open-source Unix-like operating system. The OS maintains a complete system, delivering the kernel, drivers, utilities, and documentation, and includes an extensive server-related software collection. Thus, FreeBSD is easily configured as a mail server, web server, firewall, etc.\n",
    "\n",
    "FreeBSD has its security team that inspects all the software shipped with the base distribution and allows the installation of third-party applications from binary packages.\n",
    "\n",
    "The pros of FreeBSD are that it is fast, completely free, has good security that utilizes the ipfw firewall, and has a lot of tools available and owned by the FreeBSD Team.\n",
    "\n",
    "The cons of FreeBSD are that it is not very easy to learn since it has poorer community support than Linux and lacks driver support.\n",
    "\n",
    "**Best Server OS for Businesses**\n",
    "\n",
    "This section explains which server operating systems best suit your organization based on its size. The list is not exhaustive, but it shows the best server OS choices.\n",
    "\n",
    "**Small**\n",
    "\n",
    "The best OS choice for a small business server depends on the budget, server type, and the maintenance team's expertise.\n",
    "\n",
    "If you have a budget that can handle a server OS purchase, a good OS choice is the Windows Server Essentials (formerly Windows Small Business Server). It is a good solution for companies under 25 users and a small maintenance team. The OS features a familiar interface and broad third-party app support at a reasonable price. It facilitates connectivity and includes email clients, remote access, support for mobile devices, file and printer sharing, backup and restore, and other features.\n",
    "\n",
    "If you prefer a free and stable production OS, choose a free Linux distribution, such as Ubuntu Server or Debian. Both Linux distributions are very popular and stable, featuring great community and official support. For example, Ubuntu's LTS (long-term support) releases receive updates for five years.\n",
    "\n",
    "Linux requires extensive knowledge, so make sure to have a knowledgeable system admin to handle configuration and the more complex operations.\n",
    "\n",
    "**Medium**\n",
    "\n",
    "For a medium-sized business, it's essential to choose an OS that allows your business to grow. However, you don't want heavy investments you may not need.\n",
    "\n",
    "Because of their scalability, Linux distributions are possibly the best choice for a medium-sized business. An example is Ubuntu Server, a free, stable, easy-to-install OS with a trusted name. Since it is open-source, it features extensive customizability, allowing you to tailor the OS to your business needs.\n",
    "\n",
    "Saving money on an OS means a bigger budget for scaling and implementing security features.\n",
    "\n",
    "Other solutions that come with a price tag, but are cost-effective, are RHEL and Windows Server Standard Edition.\n",
    "\n",
    "**Large**\n",
    "\n",
    "Choosing an OS for a large business depends on the server type and its function. For example, a Windows Server in an Active Directory domain is a good choice for a file server, authentication server, or email server. On the other hand, both Windows and Linux are good choices for a web server.\n",
    "\n",
    "For example, the Windows Server Datacenter Edition is a good choice for a highly virtualized datacenter or a cloud environment. The OS allows for an unlimited number of Windows server instances on a server, both in physical and virtual environments.\n",
    "\n",
    "On the other hand, SUSE Linux Enterprise Server (SLES) is an open-source operating system. It is designed for extensive workloads in large data centers, but also for single-server environments. SLES is subscription-based and provides access to patches, fixes, and security updates through the SLES customer portal."
   ]
  },
  {
   "cell_type": "markdown",
   "id": "edac1c8b-a905-425d-b29a-42bdeed66f48",
   "metadata": {},
   "source": [
    "## Remote Access"
   ]
  },
  {
   "cell_type": "markdown",
   "id": "ac68c79b-de1c-46e8-8a1a-aaf68c4c2269",
   "metadata": {},
   "source": [
    "### Remote connections"
   ]
  },
  {
   "cell_type": "markdown",
   "id": "6003bc9d-8f9a-4f8a-aa14-16e47a138f3b",
   "metadata": {},
   "source": [
    "Previously, you learned about the fundamentals of remote access. In this reading, you will learn about various methods and tools for connecting remotely. You will also learn about some of the security risks related to using remote connections. \n",
    "\n",
    "Remote connections can be used by IT Support professionals to troubleshoot remote systems. Remote systems may include laptops, PCs, workstations, servers, data center machines, and other IT equipment that supports remote access. Additionally, remote connections can be used for file transfers and terminal emulations. IT Support professionals often use remote access software to save time by eliminating the need to travel to the computer system’s location.   \n",
    "\n",
    "Remote access software can also be used for remote and flexible work arrangements, which have been increasing in popularity in recent years. Numerous organizations have developed remote, hybrid, and flexible work opportunities to give employees the option to work from home. Through these arrangements, employers and employees have discovered the benefits of remote work. Employees save time and money by avoiding the commute to work. Employees also report an improvement in their work-life balance. Employers can save on the costs of maintaining physical offices. Employers can opt to expand their hiring pool far beyond their physical locations by hiring talent in other cities, regions, states, or even countries. \n",
    "\n",
    "Multiple surveys have revealed that up to 95% of employers and employees in the United States would like to keep remote, hybrid, and/or flexible work options permanently. Recently, Microsoft reported that 66% of employers around the world are adapting their workplaces to support hybrid work models (see the Resources section at the bottom of this reading for more information). Given this workplace transformation, organizations are likely to ask IT Support professionals to design, configure, manage, and/or troubleshoot remote connections for business networks.\n",
    "\n",
    "**Remote access software for IT management**\n",
    "\n",
    "Unlike RDP and VPN, there are some types of remote access software that are typically used only by IT management and other computer support professionals. These remote applications help IT Support teams manage and monitor large networks more efficiently. \n",
    "\n",
    "- **Secure Shell or Secure Socket Shell (SSH)**: SSH is a network protocol and suite of tools that can be used to establish a secure connection between a computer and a private network over the internet. SSH is included with Linux/Unix and Mac Server operating systems. SSH provides identity and access management protocols through robust password authentication and public key authentication. SSH also encrypts data transmissions over the internet. Sessions are established by using an SSH client application to connect to an SSH server. For security, SSH keys are used to provide single sign-on (SSO) services and to automate access to servers for running scripts, backups, and configuration tools. SSH is primarily used by IT Support professionals to remotely manage file transfers and terminal emulators on Linux/Unix systems. For example, IT Support staff can use the SSH network protocol tool to establish an encrypted tunnel from their computer to a remote server over a network. The SSH file transfer tool can then be used to transfer a file, like a firmware update package, to the remote server. Finally, the SSH terminal emulator can be used to issue command lines to install the firmware onto the remote server. \n",
    "\n",
    "- **Remote Monitoring and Management (RMM)**: RMM is used by IT Support professionals to remotely monitor and manage information systems. Implementing RMM involves installing an RMM agent on each endpoint within a network, including servers, workstations, and mobile devices. The agents then send periodic status reports about the health of each endpoint to IT Support staff. RMM tools also help IT Support professionals proactively maintain the network by facilitating the remote installation of  security patches and updates. If a problem occurs on an endpoint, the RMM agent will create a ticket, classify the problem type and severity, and then forward the ticket to IT Support staff. RMM systems enable IT Support providers to improve efficiency in information systems management. IT Support providers can manage and even automate routine maintenance for multiple endpoints simultaneously through a unified RMM dashboard. \n",
    "\n",
    "**Remote access software**\n",
    "\n",
    "End user remote connections to business networks can be established using remote access software. IT professional can also use this software to manage business networks remotely. There are multiple options available for remote access software, each with their own benefits and disadvantages. The following list provides a few options for various uses, workforce sizes, and network environments: \n",
    "\n",
    "- Remote Desktop Protocol (RDP): RDP is a remote protocol developed by Microsoft. It is compatible with most Windows and Mac operating systems. An RDP solution may work well for flexible or hybrid work environments where employees split their work schedule between being physically in the office and working remotely. With RDP, end users can remotely access the physical computers housed at their offices, in addition to the desktop, software, files, and network access available to those systems. IT Support professionals can also use RDP software to troubleshoot, repair, patch and update end user computers without needing to be in the same room as the PCs. \n",
    "\n",
    "RDP works by encrypting and transmitting the user’s desktop, data, keystrokes, and mouse movements over the internet. Users may notice delayed responses to their keystrokes and mouse activity during the transmission process. RDP creates a dedicated network channel and uses network port 3389 to transmit this information using the TCP/IP protocol standard. Unfortunately, using a single dedicated port creates a security weakness that cybercriminals can target for on-path attacks. Further, RDP does not enforce strong sign-in credentials, which leaves RDP systems vulnerable to stolen credential and brute force attacks. \n",
    "\n",
    "- Virtual Private Network (VPN): VPNs are often described as private tunnels through the public internet. Organizations can use VPNs to create encrypted connections over the internet between remote computers or mobile devices and the organizations’ networks. VPNs can be implemented as software running on networked servers or on network routers with VPN features enabled. When the employees remotely connect to their VPN, they are able to access their organization’s network as though they were physically in the office, eliminating the need to travel to the office in person. VPNs work well for small to medium sized organizations, but may not be adequate for large enterprises. Additionally, VPNs might not be the right solution for organizations that need to provide restricted levels of network access to groups like contractors or vendors. \n",
    "\n",
    "**Third party tools**\n",
    "\n",
    "- **Integrated video conferencing, screen sharing, and desktop management apps**: Video conferencing apps like Google Meet, Zoom, Microsoft Teams, Skype, etc. are growing in popularity as remote work tools. Video conferencing allows two or more people to meet “face-to-face” in a virtual environment. Some video conferencing apps also offer screen sharing tools, remote desktop control, polling tools, text messaging, meeting transcripts, webinar management options, the ability to record meetings, and more. The growing popularity of these tools for remote work has also invited an increase in related security attacks. Fortunately, the major providers of video conferencing software continuously update and patch their applications in response to these attacks. \n",
    "\n",
    "- **File sharing and transfer platforms**: Cloud storage platforms, like Google Drive, Microsoft OneDrive, and Dropbox, have largely replaced file transfer protocol (FTP) tools. File sharing through a cloud platform provides the benefits of asynchronous file transfers, file transfer and data encryption, customizable security and authentication settings, and the ability to file share with multiple users simultaneously. File owners can share individual files, folders, or entire drives. However, cloud storage might not be an appropriate option for organizations affected by certain privacy laws, regulations, or other security concerns. These organizations can still use FTP applications based on SSH or HTTPS protocols for secure file transfers over the internet.  \n",
    "\n",
    "**Resources for more information**\n",
    "\n",
    "- [How to use Remote Desktop](https://support.microsoft.com/en-us/windows/how-to-use-remote-desktop-5fe128d5-8fb1-7a23-3b8a-41e636865e8c) - Walkthrough from Microsoft on how to use Remote Desktop to connect to a remote Windows 10 or 11 computer from a device running Windows, Android, or iOS. \n",
    "\n",
    "- [The Next Great Disruption Is Hybrid Work—Are We Ready?](https://www.microsoft.com/en-us/worklab/work-trend-index/hybrid-work) - Microsoft’s Work Trend Index report on global workplace trends regarding hybrid work environments.\n",
    "\n",
    "- [Remote Work Stats & Trends: Navigating Work From Home Jobs](https://www.flexjobs.com/blog/post/remote-work-statistics/) - Provides findings from multiple surveys about attitudes and growing prevalence of remote work."
   ]
  },
  {
   "cell_type": "markdown",
   "id": "ccd36092-72b1-4b77-a0e6-845d9c6dac7a",
   "metadata": {},
   "source": [
    "### Supplemental Reading for Remote Access and SSH"
   ]
  },
  {
   "cell_type": "markdown",
   "id": "4c9c4212-17e8-4eca-9487-cd30eb700716",
   "metadata": {},
   "source": [
    "For more information on Open SSH check out the link [here](https://en.wikipedia.org/wiki/OpenSSH).\n",
    "\n",
    "For more detailed information on Windows remote access tools check out: [Remote Desktop Clients](https://docs.microsoft.com/en-us/windows-server/remote/remote-desktop-services/clients/remote-desktop-clients), [Windows Remote Management](https://msdn.microsoft.com/en-us/library/aa384291(v=vs.85).aspx) and [PuTTY](https://en.wikipedia.org/wiki/PuTTY). "
   ]
  },
  {
   "cell_type": "markdown",
   "id": "a040bf3b-6fa0-4a81-aeac-0aa1e6bb5588",
   "metadata": {},
   "source": [
    "## Network Services"
   ]
  },
  {
   "cell_type": "markdown",
   "id": "a474f692-85c8-4aaa-9d67-5fdefbc703db",
   "metadata": {},
   "source": [
    "### FTP, SFTP, and TFTP"
   ]
  },
  {
   "cell_type": "markdown",
   "id": "0f734ac3-da58-401c-b014-d507d5864344",
   "metadata": {},
   "source": [
    "A network service that's commonly used in organization is a **file transfer service**. Why would you want to have a service dedicated file transfer? Sure, you could probably carry around a flash drive and copy files to each machine you work on, or even using remote copy tools we learned in the last course. Or you could essentially store huge files and transfer files from one computer to another using the Internet. \n",
    "\n",
    "There are a few different file transfer protocol services that are used today. \n",
    "\n",
    "- **FTP**. It's a legacy way to transfer files from one computer to another over the Internet, and it's still in use today. It's not a super secure way to transfer data because it doesn't handle data encryption. The FTP service works much like SSH service: clients that want to access an FTP server have to install an FTP client; on the FTP server, we install the software that allows us to share information located in a directory on that server. FTP is primarily used today to share web content. If you use a website host provider, you might see that they have an FTP connection already available for use. They can easily copy files to and from your website. \n",
    "\n",
    "- **SFTP** is a secure version of FTP, so it makes sense to choose this option over FTP. During this SFTP process, data is sent through SSH and is encrypted. \n",
    "\n",
    "- **TFTP** stands for trivial FTP. Is a simpler way to transfer files than using FTP. TFTP doesn't require user authentication like FTP, so any files that you store here should be generic and not need to be secure. A popular use of TFTP is to host installation files. One method of booting a computer that we haven't discussed yet is PXE or pixie boot, which stands for pre boot execution. This allows you to boot into a software that's available over the network. A common use case for organization that wants to install software over a network is to keep operating system installation files, but TFTP server. That way, when you perform a network boot, you can be automatically launched into the installer. This is a lot more efficient than having to carry around a USB with an operating system image. "
   ]
  },
  {
   "cell_type": "markdown",
   "id": "12044095-09bd-4d45-a5cd-0a622dc09e0a",
   "metadata": {},
   "source": [
    "<center>\n",
    "    <img src=\"data/images/Screenshot_20231019_121910.png\" alt=\"FTP, SFTP, and TFTP\" style=\"width: 600px\">\n",
    "    <p style=\"text-align: center\"><i>Network Services</i></p>"
   ]
  },
  {
   "cell_type": "markdown",
   "id": "4407579e-628a-4213-b9b4-09e765441283",
   "metadata": {},
   "source": [
    "Depending on your usage of file transferring services, you might want to weigh the option we mentioned. If you just want to share files between your computers in a secure way and have a nice directory where you can access all the shared files instead of transferring them to your machine, you'll want to look at network file storage services instead."
   ]
  },
  {
   "cell_type": "markdown",
   "id": "883407e0-ef17-46d8-a9cc-f219f2018e01",
   "metadata": {},
   "source": [
    "### Supplemental Reading for FTP Clients\n",
    "\n",
    "For more information on PXE Boot click [here](https://en.wikipedia.org/wiki/Preboot_Execution_Environment) and for FTP Clients click [here](https://en.wikipedia.org/wiki/Comparison_of_FTP_client_software)."
   ]
  },
  {
   "cell_type": "markdown",
   "id": "a0db1ce9-d659-49da-a14f-61e70e36e17f",
   "metadata": {},
   "source": [
    "### NTP"
   ]
  },
  {
   "cell_type": "markdown",
   "id": "daf00949-a3db-476a-bdf3-b70c048c969c",
   "metadata": {},
   "source": [
    "One of the oldest internet protocols in use today is the **network time protocol**, or **NTP**. it's used to keep the clock synchronized on machines connected to a network. You've probably seen NTP implemented in your personal life if you've ever been in an airport. Airports utilized synchronized clock systems and many of the systems use NTP. This is because the information that you see on your departure and arrival screen, has to match the time that the air traffic controller team seems for their airplanes. \n",
    "\n",
    "If only NTP console for airport delays, in the IT world machines need to have accurate time across the network for a lot of reasons. There are some security service like Kerberos, and network authentication protocol that depend on the time being consistent across the network to work. It is important to keep the time consistent and accurate across your company's fleet. You can't depend on the hardware itself to keep consistent time, so you might want to set up an NTP server. \n",
    "\n",
    "There are different ways that an IT support specialist or sysadmin can do this for an organization. You can use a local NTP server or a public NTP server. \n",
    "\n",
    "To set up a local NTP server, you can install NTP server software on your managed server. Then, you install NTP clients on your machines and tell those computers which NTP servers to sync their time to. This is a great option, because you can then manage the entire process from end to end. \n",
    "\n",
    "The other way to set up NTP is to use a public NTP server. Public NTP servers are managed by other organizations that your client machines connect to in order to get synchronized time. This is an awesome way to utilize NTP without having to run a dedicated NTP server. But if you have a large fleet of thousands of machines, it's a better etiquette to be running your own NTP service. Another good practice is to run your own NTP server, then have that point to a public NTP server. This makes it so that you don't connect all your clients to a public NTP server, and you don't have to measure time synchronization. \n",
    "\n",
    "Whether you run your own NTP server or use a public one, NTP is an important network service that you should definitely integrate into your own fleet."
   ]
  },
  {
   "cell_type": "markdown",
   "id": "dc62a6ba-a545-437a-93cc-82f34c3eab7a",
   "metadata": {},
   "source": [
    "<center>\n",
    "    <img src=\"data/images/Screenshot_20231019_122636.png\" alt=\"NTP\" style=\"width: 700px\">\n",
    "    <p style=\"text-align: center\"><i>NTP</i></p>"
   ]
  },
  {
   "cell_type": "markdown",
   "id": "c81dfe64-3143-4ede-9568-9e58a510d8cb",
   "metadata": {},
   "source": [
    "### [The Top DNS Servers And What They Offer](https://blog.dnsimple.com/2015/02/top-dns-servers/)"
   ]
  },
  {
   "cell_type": "markdown",
   "id": "733e3e15-3fd7-4a83-8c1d-b5202135d32f",
   "metadata": {},
   "source": [
    "The Domain Name System is a core part of the Internet. There are many processes running in the background while you're doing something as simple as catching up on a blog like this one. One of the most important processes in simple web browsing is performed mostly by DNS servers, yet many developers have never learned much more than the name of one (or maybe two) DNS servers. Let's change that today.\n",
    "\n",
    "**DNS as a part of the Internet**\n",
    "\n",
    "The domain name system, or simply DNS, may not be something you think of everyday. However, DNS is an essential piece of what makes the internet usable. When DNS is working properly, it's enough to type out a domain name into the URL bar in order to open a website, but if it weren't for DNS, we'd have to type in the IP address associated with that website in order to open it.\n",
    "\n",
    "**The different DNS servers today**\n",
    "\n",
    "There are many different implementations of the DNS system today. Each DNS server represents a different implementation of characteristics, such as the interface, platform support, packaging and additional features.\n",
    "\n",
    "**BIND**\n",
    "\n",
    "BIND was designed in the early 1980 at the University of California Berkeley. Written by four students, BIND was and still is continually upgraded and is often considered the standard conventional DNS server. BIND is capable of serving as an authoritative name server as well as a recursor and supports many advanced DNS features such as DNSSEC, TSIG transfers, IPv6 networking. It can be managed via the command line or with a web interface. Even though it is mostly used on Unix-like operating systems, BIND is completely cross-platform today.\n",
    "\n",
    "**PowerDNS**\n",
    "\n",
    "PowerDNS was created in the late 1990s in the Netherlands and quickly became one of the top providers of DNS software and services. The server itself is written in C++ and has a strong community of contributors. PowerDNS is just as full-featured as BIND, but is managed exclusively via a CLI. Many choose to deploy PowerDNS as it is a stable and robust DNS server while also being backed by strong community and commercial support.\n",
    "\n",
    "**Unbound**\n",
    "\n",
    "Initially written in Java in 2006, Unbound was rewritten in C by NLnet Labs as high-performance DNS server software in 2007. The strong points of Unbound are its modular components with modern features. Unbound is a recursive DNS resolver and so is not capable of acting as an authoritative name server, but modules are available for DNSSEC and an integrated client resolver API. Unbound was originally created for Unix-like operating systems, but has since been ported to Windows as well.\n",
    "\n",
    "**Dnsmasq**\n",
    "\n",
    "Dnsmasq was first released in 2001 under the GPL. As free software, Dnsmasq is a part of many Linux distributions today. Dnsmasq is mainly a DNS forwarder and a DHCP server managed via the command line. This software is lightweight and considered especially easy to configure. Dnsmasq is recommended for small networks on all operating systems with the exception of Windows.\n",
    "\n",
    "**Erl-DNS**\n",
    "\n",
    "Erl-DNS is a full-fledged name server written in Erlang. It provides very fast query responses (30-65 µs/response) and can be used as an authoritative name server with several storage techniques for zone data. Erl-DNS lends itself nicely to being extended via Erlang's module system and is also quite fault tolerant due to Erlang's \"let it crash\" philosophy.\n",
    "\n",
    "Joseph Caudle"
   ]
  },
  {
   "cell_type": "markdown",
   "id": "476a675f-17aa-4f87-8759-3a25ba145f87",
   "metadata": {},
   "source": [
    "## Managing System Services"
   ]
  },
  {
   "cell_type": "markdown",
   "id": "8eb5254c-efce-43ff-b748-939fe8ae55f1",
   "metadata": {},
   "source": [
    "|Description|Bash|\n",
    "|-|-|\n",
    "|**Managing**||\n",
    "|utility to work with services in Debian 12|`systemctl <option> <service_name>`|\n",
    "||`status`|\n",
    "||`stop`|\n",
    "||`start`|\n",
    "||`restart`|\n",
    "|**Configuring**|`etc/`|\n",
    "|re-read configuration file|`reload`|"
   ]
  },
  {
   "cell_type": "markdown",
   "id": "744d6a99-306b-4918-8999-4f96817d0f83",
   "metadata": {},
   "source": [
    "# 4.3 The Software and the Platform Services"
   ]
  },
  {
   "cell_type": "markdown",
   "id": "93f4dd27-89c6-48a6-908c-a027328b77b6",
   "metadata": {},
   "source": [
    "**Software services** are the services that employees use that allow them to do their daily job functions, applications like Word processors, Internet browsers, email clients, chat clients, and so on.\n",
    "\n",
    "**Platform services** provide a platform for developers to code, build and manage software applications. This way, developers don't have to deal with operating system maintenance and other services that are needed to use for the platform tools."
   ]
  },
  {
   "cell_type": "markdown",
   "id": "f8041aa3-95d4-4dfc-813d-617428a6ccfe",
   "metadata": {},
   "source": [
    "## Communication Services"
   ]
  },
  {
   "cell_type": "markdown",
   "id": "fcd677c2-fcba-43fe-99cd-a791c9163e4e",
   "metadata": {},
   "source": [
    "## File Services"
   ]
  },
  {
   "cell_type": "markdown",
   "id": "6b7d939d-b456-4238-a3e4-e03156641e49",
   "metadata": {},
   "source": [
    "<center>\n",
    "    <img src=\"data/images/Screenshot_20231101_144057.png\" alt=\"File Services\" style=\"width: 600px\">\n",
    "    <p style=\"text-align: center\"><i>File Services</i></p>"
   ]
  },
  {
   "cell_type": "markdown",
   "id": "a1bbc923-d232-4c33-a36c-19ab1560b7f3",
   "metadata": {},
   "source": [
    "## Platform Services"
   ]
  },
  {
   "cell_type": "markdown",
   "id": "5c5151bf-c454-4eb1-97aa-d15429f947ec",
   "metadata": {},
   "source": [
    "### Load Balancers"
   ]
  },
  {
   "cell_type": "markdown",
   "id": "1060fa72-4642-419e-9de6-d3ccafbe5cda",
   "metadata": {},
   "source": [
    "In this reading, you will learn about **load balancers** and their importance in cloud computing. You will become familiar with load balancing components and the benefits of utilizing load balancers.\n",
    "\n",
    "IT Support professionals who manage cloud environments and/or physical servers in enterprise networks will likely need to configure, manage, or troubleshoot load balancers. Load balancers monitor and route network traffic flowing to and from a pool of physical or virtual servers. Load balancers can be hardware (e.g., load balancing routers) or software (e.g., Citrix ADC Virtual Platform). Load balancers distribute the traffic evenly, or by customized rules, across multiple servers. This function maximizes server performance and prevents the flow of traffic from overwhelming any one server and its resources. Basic server resources normally include CPUs, RAM, and network bandwidth. Servers can also offer other resources, like applications, file servers, database services, and more. \n",
    "\n",
    "Load balancers can also detect when a server has failed and can reroute and balance network traffic across the remaining servers. This important business continuity and reliability function is often referred to as high availability. Additionally, load balancers provide IT Support professionals with the ability to add and remove servers to the pool as needed. "
   ]
  },
  {
   "cell_type": "markdown",
   "id": "7ce47075-83e3-4e9d-9979-e0aba33cc4a4",
   "metadata": {},
   "source": [
    "#### Load balancing terminology"
   ]
  },
  {
   "cell_type": "markdown",
   "id": "9091df8e-9ac7-4c58-8e23-556bde7fe31d",
   "metadata": {},
   "source": [
    "The following short glossary includes some common terminology for several concepts related to load balancers: \n",
    "\n",
    "- **Client**: A computer or program that sends requests to a server. For example, a client could be a browser that requests a web page from a web server. It could also be a workstation requesting a file from a file server.\n",
    "\n",
    "- **Host/node**: A physical or virtual server that receives network traffic from an Application Delivery Controller (ADC). The server is identified by its IP address. Whether the server is called a “host” or a “node” depends on the terminology used by the vendor of the load balancing solution.\n",
    "\n",
    "- **Member**: A host/node that receives network traffic on a specified TCP port. The host/node is identified by its IP address plus the TCP port of the app that should receive network traffic. \n",
    "\n",
    "- **Pool/cluster/farm**: A grouping of hosts/nodes or members that offer similar services, such as application or web services.\n",
    "\n",
    "- **Application Delivery Controllers (ADC)**: Physical appliances, virtual appliances, or software that provide load balancing services by managing traffic between clients and host/node or member pools. ADCs can also provide other important services such as security and encryption. \n",
    "\n",
    "- **Path-based routing**: Routes network traffic based on URL paths.\n",
    "\n",
    "- **Listener**: A software process that checks network traffic for client requests and forwards them to target groups.\n",
    "\n",
    "- **Open Systems Interconnection (OSI) model**: Model that depicts the seven layers of computer data communications: 7-application, 6-presentation, 5-session, 4-transport, 3-network, 2-data, and 1-physical.\n",
    "\n",
    "- **Front end**: In load balancing environments, the front end can include the ADC system and any virtual servers that act as proxies for client communications with the ADC system and the back end servers.\n",
    "\n",
    "- **Back end**: In load balancing environments, the back end normally includes the pool/cluster/farm systems. The back end can also include disk storage systems. \n",
    "\n",
    "- **Distributed applications**: Software stored on cloud platforms or physical servers that can run on multiple networked computers at the same time. \n",
    "\n",
    "- **Containerization**: Isolated runtime environments that can deploy and run distributed applications through application virtualization. This method is faster and is more scalable than older load balancing solutions.\n",
    "\n",
    "- **Availability Zones (AZs)**: Regional data centers that host cloud platforms and are configured for high availability.\n",
    "\n",
    "- **Elastic Load Balancer (ELB)**: Enables the use of more than one Availability Zone. \n",
    "\n",
    "- **SSL/TLS**: Network protocols for encrypted communication."
   ]
  },
  {
   "cell_type": "markdown",
   "id": "a6e6bbd8-6cbf-4985-9cbc-17eb205b57e9",
   "metadata": {},
   "source": [
    "#### Example ADC process for load balancing "
   ]
  },
  {
   "cell_type": "markdown",
   "id": "e885ee94-8bb1-40bb-b9d7-61fd914916d7",
   "metadata": {},
   "source": [
    "<center>\n",
    "    <img src=\"data/images/GwB6SYiQSXaAekmIkIl2Ow_2c68610b990d4e92b26b6a4dc0c4edf1_LoadBalancingTransaction-high-res.png\" alt=\"Image illustrating steps 1 through 4 for an example load balancing configuration.\" style=\"width: 800px\">\n",
    "    <p style=\"text-align: center\"><i>File Services</i></p>"
   ]
  },
  {
   "cell_type": "markdown",
   "id": "8dcb35bb-6ce1-47af-96cc-bd99509088ac",
   "metadata": {},
   "source": [
    "The following steps are an example of one possible load balancing configuration using an ADC solution:\n",
    "\n",
    "- **[Blue arrows]** The client sends a connection and an information request to the ADC service.\n",
    "\n",
    "- **[Blue arrows]** The ADC listener detects and accepts the connection. Then the ADC load balancing service analyzes the best host (or member) routing path for the client request. The ADC changes the destination IP to the address (and possibly the TCP port) of the selected host (or member).\n",
    "\n",
    "- **[Green arrows]** The host or member approves the client connection and routes a response to the client through the ADC.\n",
    "\n",
    "- **[Orange arrows]** The ADC changes the source IP (and TCP port, if applicable) to a virtual server IP (and port) before forwarding the response to the client. The clients will continue to use the IP address of the virtual server for further communications."
   ]
  },
  {
   "cell_type": "markdown",
   "id": "1abcf7b9-a36c-4fac-a968-ba85aa0ccad9",
   "metadata": {},
   "source": [
    "#### Load balancing types"
   ]
  },
  {
   "cell_type": "markdown",
   "id": "905ab4da-89d1-4dc2-91a5-c3653088738e",
   "metadata": {},
   "source": [
    "- **Application Load Balancer**: Operates at the application layer (HTTP and HTTPS) of the OSI model. Application load balancers also scan traffic for HTTP errors and coding bugs, as well as guard applications against distributed denial-of-service (DDoS) attacks. \n",
    "\n",
    "- **Network Load Balancer**: Operates at the transport layer (TCP/UDP) of the OSI model. Network load balancers can route millions of client requests per second and handle volatile workloads. Network load balancers also support static IP addressing and containerization, among other services. \n",
    "\n",
    "- **Classic Load Balancer**: Can operate at either the application layer (HTTP/HTTPS) or the transport layer (TCP/SSL). Classic load balancers use fixed ports for communication.\n",
    "\n",
    "- **Gateway Load Balancers**: Operates at the network layer (IP) of the OSI model. Gateway load balancers have listeners on all ports that scan every IP packet in the network traffic and route each request to the target pools, as defined by the listener configuration. A gateway load balancer is the only point of entry and exit for network traffic."
   ]
  },
  {
   "cell_type": "markdown",
   "id": "b399afbc-33a3-4312-8af0-a2009008a28b",
   "metadata": {},
   "source": [
    "#### Load balancers in cloud environments"
   ]
  },
  {
   "cell_type": "markdown",
   "id": "e6d18405-cc9f-473c-ade3-1a79a0a7bd04",
   "metadata": {},
   "source": [
    "In cloud environments, load balancing across virtual servers is configured through the cloud platform. A few of the load balancing options offered by several top cloud platforms include:\n",
    "\n",
    "- **Google Cloud**: Google offers an array of options for load balancers, such as application and network level load balancing, software-defined load balancing, multi-region failover, and seamless autoscaling. Google Cloud also offers external, internal, global, and regional load balancing. For security measures, the load balancers are integrated with Google Cloud Armor, which protects against distributed denial-of-service (DDoS) attacks.  \n",
    "\n",
    "- **Amazon Web Services (AWS)**: AWS offers three ELB solutions: an Application Load Balancer, a Gateway Load Balancer, and a Network Load Balancer. AWS ELBs provide security through user authentication, certificate management, and SSL/TLS decryption. \n",
    "\n",
    "- **Microsoft Azure**: Operates at the transport layer of the OSI model. Azure load balancer is the only front end point for accepting client requests to route to the back end server pools. The backend pool may consist of Azure Virtual Machines (VMs) or instances running in [Azure virtual machine scale sets](https://docs.microsoft.com/en-us/azure/virtual-machine-scale-sets/overview). Azure offers public load balancers for internet traffic and private/internal load balancers for private virtual networks. Azure’s Standard load balancer uses the zero trust security model. "
   ]
  },
  {
   "cell_type": "markdown",
   "id": "ec4184f3-0abd-4445-97dd-e41d5156d3e2",
   "metadata": {},
   "source": [
    "#### Load balancers in physical environments"
   ]
  },
  {
   "cell_type": "markdown",
   "id": "c9db395b-4628-402d-98eb-affdfe663a4b",
   "metadata": {},
   "source": [
    "In physical environments, such as server rooms and data centers, load balancing can be configured across multiple servers with operating systems like VMware. Network traffic loads can also be configured for smaller environments across two servers in a physical active-active cluster. In active-active clusters, both servers actively handle network traffic simultaneously.   "
   ]
  },
  {
   "cell_type": "markdown",
   "id": "05fe8592-8091-4b99-8493-3bfb1a2227c6",
   "metadata": {},
   "source": [
    "# 4.4 Backups"
   ]
  },
  {
   "cell_type": "markdown",
   "id": "2c88e473-8311-43ee-aabf-60b4fe3ecaef",
   "metadata": {},
   "source": [
    "## Disaster Recovery Plan"
   ]
  },
  {
   "cell_type": "markdown",
   "id": "b6facd9f-6b8b-4e84-872d-8a07d186c01a",
   "metadata": {},
   "source": [
    "- Risk assessment\n",
    "- Determine Backup and Recovery Systems\n",
    "- Operational Documentation\n",
    "- Determine Detection and Alert Measures\n",
    "- Determine Recovery Measures\n",
    "- Testing backups (Test Systems) and update recovery procedures documentation at least once a year"
   ]
  },
  {
   "cell_type": "markdown",
   "id": "850fe972-d043-4038-a34b-7074ae683186",
   "metadata": {},
   "source": [
    "## Post-Mortems "
   ]
  },
  {
   "cell_type": "markdown",
   "id": "5c8e7abd-9bd4-46c8-b882-3d3edd9c91fd",
   "metadata": {},
   "source": [
    "- documenting all the measures that were taken after disaster\n",
    "    - brief summary,\n",
    "    - detailed timeline,\n",
    "    - root cause,\n",
    "    - resolution and recovery efforts,\n",
    "    - actions to avoid the same scenario.\n",
    "- Dates, times, timezones.\n",
    "- What went wrong and what went well"
   ]
  },
  {
   "cell_type": "code",
   "execution_count": null,
   "id": "6d9166a5-833d-4611-bf19-ef411f8ef8c7",
   "metadata": {},
   "outputs": [],
   "source": []
  },
  {
   "cell_type": "code",
   "execution_count": null,
   "id": "854ac904-b803-4b87-9119-ab578a1e7247",
   "metadata": {},
   "outputs": [],
   "source": []
  },
  {
   "cell_type": "code",
   "execution_count": null,
   "id": "6ee89c38-9842-4699-a83e-f8cc8945d39b",
   "metadata": {},
   "outputs": [],
   "source": []
  },
  {
   "cell_type": "code",
   "execution_count": null,
   "id": "eeb65f10-b058-482a-b1f9-bceaff961278",
   "metadata": {},
   "outputs": [],
   "source": []
  },
  {
   "cell_type": "code",
   "execution_count": null,
   "id": "652d2857-2f59-43ae-90bd-87dda27a49f4",
   "metadata": {},
   "outputs": [],
   "source": []
  },
  {
   "cell_type": "code",
   "execution_count": null,
   "id": "09d39ef6-5ca7-4d39-b280-b900480c41d2",
   "metadata": {},
   "outputs": [],
   "source": []
  },
  {
   "cell_type": "code",
   "execution_count": null,
   "id": "c755edb1-1fa6-4aa4-953a-56741928907b",
   "metadata": {},
   "outputs": [],
   "source": []
  },
  {
   "cell_type": "markdown",
   "id": "5b78949a-03a4-41ee-9f7f-7315df4e2846",
   "metadata": {},
   "source": [
    "|Purpose|PowerShell|Bash|\n",
    "|-|-|-|\n",
    "||||\n",
    "||||\n",
    "||||\n",
    "||||\n",
    "||||\n",
    "||||\n",
    "||||\n",
    "||||\n",
    "||||\n",
    "||||\n",
    "||||\n",
    "||||\n",
    "||||\n",
    "||||\n",
    "||||\n",
    "||||\n",
    "||||\n",
    "||||\n",
    "||||\n",
    "||||"
   ]
  },
  {
   "cell_type": "code",
   "execution_count": null,
   "id": "9685bf6d-842f-447c-9234-970f40bd5890",
   "metadata": {},
   "outputs": [],
   "source": []
  },
  {
   "cell_type": "code",
   "execution_count": null,
   "id": "159547af-25a0-4106-93e8-996541c2a1b9",
   "metadata": {},
   "outputs": [],
   "source": []
  },
  {
   "cell_type": "code",
   "execution_count": null,
   "id": "4b4604fe-ce46-45f0-bd3e-5c8186a22d36",
   "metadata": {},
   "outputs": [],
   "source": []
  },
  {
   "cell_type": "code",
   "execution_count": null,
   "id": "f8bdbf37-3260-4bfd-bbcd-bf85854bcb9e",
   "metadata": {},
   "outputs": [],
   "source": []
  },
  {
   "cell_type": "code",
   "execution_count": null,
   "id": "c16176cf-5093-40af-a8d8-0d81f8e70eb9",
   "metadata": {},
   "outputs": [],
   "source": []
  },
  {
   "cell_type": "code",
   "execution_count": null,
   "id": "cd5334d6-93e3-4260-8aaa-3417c2bceebd",
   "metadata": {},
   "outputs": [],
   "source": []
  },
  {
   "cell_type": "code",
   "execution_count": null,
   "id": "249f26c5-f180-40de-a5d4-fa40385695b5",
   "metadata": {},
   "outputs": [],
   "source": []
  },
  {
   "cell_type": "code",
   "execution_count": null,
   "id": "49150eb8-dd01-4b08-894a-08729ff2ad90",
   "metadata": {},
   "outputs": [],
   "source": []
  },
  {
   "cell_type": "code",
   "execution_count": null,
   "id": "8393bfea-9e7a-4916-b97e-f0d7cc9b8dea",
   "metadata": {},
   "outputs": [],
   "source": []
  },
  {
   "cell_type": "code",
   "execution_count": null,
   "id": "57b60613-0a9f-4023-b29d-5efd52c03610",
   "metadata": {},
   "outputs": [],
   "source": []
  },
  {
   "cell_type": "code",
   "execution_count": null,
   "id": "05e271a4-ae25-4d2f-958e-1f9d47303cc3",
   "metadata": {},
   "outputs": [],
   "source": []
  },
  {
   "cell_type": "code",
   "execution_count": null,
   "id": "35f2fae2-f72c-4f7f-9f1d-a325cf9c1674",
   "metadata": {},
   "outputs": [],
   "source": []
  },
  {
   "cell_type": "code",
   "execution_count": null,
   "id": "aaad30f6-34ad-472b-82ef-2046e8d67ac6",
   "metadata": {},
   "outputs": [],
   "source": []
  },
  {
   "cell_type": "code",
   "execution_count": null,
   "id": "9959da3d-73ff-4dfd-b65a-acddf2b3f4d1",
   "metadata": {},
   "outputs": [],
   "source": []
  },
  {
   "cell_type": "code",
   "execution_count": null,
   "id": "4735d141-9af9-476c-99f9-082d7e09dabf",
   "metadata": {},
   "outputs": [],
   "source": []
  },
  {
   "cell_type": "code",
   "execution_count": null,
   "id": "562d6070-0306-433e-955e-182c217c78fb",
   "metadata": {},
   "outputs": [],
   "source": []
  },
  {
   "cell_type": "code",
   "execution_count": null,
   "id": "4d3b95fe-aa1b-4526-8e44-e6c301a1e483",
   "metadata": {},
   "outputs": [],
   "source": []
  },
  {
   "cell_type": "code",
   "execution_count": null,
   "id": "7efa1727-bee3-4557-a669-1a59731f277b",
   "metadata": {},
   "outputs": [],
   "source": []
  },
  {
   "cell_type": "code",
   "execution_count": null,
   "id": "d95a90c7-3149-4e29-ba65-b72f80b6aca6",
   "metadata": {},
   "outputs": [],
   "source": []
  },
  {
   "cell_type": "code",
   "execution_count": null,
   "id": "ca1f789c-5954-472a-8559-fb9f63fcf1f6",
   "metadata": {},
   "outputs": [],
   "source": []
  },
  {
   "cell_type": "code",
   "execution_count": null,
   "id": "c916d414-1fc8-4b8b-abc1-c389c4e6f87c",
   "metadata": {},
   "outputs": [],
   "source": []
  },
  {
   "cell_type": "code",
   "execution_count": null,
   "id": "6082918d-b3af-46d5-998f-f807b6b87f4a",
   "metadata": {},
   "outputs": [],
   "source": []
  },
  {
   "cell_type": "code",
   "execution_count": null,
   "id": "43cefe76-6b82-46fd-8dcc-6634c575e052",
   "metadata": {},
   "outputs": [],
   "source": []
  },
  {
   "cell_type": "code",
   "execution_count": null,
   "id": "6071c7de-4672-4f96-8ce7-f10a3a1486b9",
   "metadata": {},
   "outputs": [],
   "source": []
  },
  {
   "cell_type": "code",
   "execution_count": null,
   "id": "93082be7-a5c8-4df1-9ba9-ecaa489e2e6b",
   "metadata": {},
   "outputs": [],
   "source": []
  },
  {
   "cell_type": "code",
   "execution_count": null,
   "id": "1eaa7e6e-9d86-4fc8-9112-97507911b61e",
   "metadata": {},
   "outputs": [],
   "source": []
  },
  {
   "cell_type": "code",
   "execution_count": null,
   "id": "4002b1c2-43a1-416e-9c93-e6ecbb7324cd",
   "metadata": {},
   "outputs": [],
   "source": []
  },
  {
   "cell_type": "code",
   "execution_count": null,
   "id": "dcf40025-bd8f-4a99-ac53-9d7624a534a2",
   "metadata": {},
   "outputs": [],
   "source": []
  },
  {
   "cell_type": "code",
   "execution_count": null,
   "id": "2638a659-853c-43b3-9b50-d37f12c9bdb6",
   "metadata": {},
   "outputs": [],
   "source": []
  },
  {
   "cell_type": "code",
   "execution_count": null,
   "id": "30f32591-a095-4e0c-b00f-30ca45a7bb3f",
   "metadata": {},
   "outputs": [],
   "source": []
  },
  {
   "cell_type": "code",
   "execution_count": null,
   "id": "8ce11f94-5b1e-463f-9749-ccfe6a7e7023",
   "metadata": {},
   "outputs": [],
   "source": []
  },
  {
   "cell_type": "code",
   "execution_count": null,
   "id": "1ebd91c4-5692-4c1a-827c-fe4a8fafe6a7",
   "metadata": {},
   "outputs": [],
   "source": []
  },
  {
   "cell_type": "code",
   "execution_count": null,
   "id": "23e91af4-cd92-4881-b509-f154554d2eef",
   "metadata": {},
   "outputs": [],
   "source": []
  },
  {
   "cell_type": "code",
   "execution_count": null,
   "id": "8abccd54-6450-4a35-80d5-d30be69580b6",
   "metadata": {},
   "outputs": [],
   "source": []
  },
  {
   "cell_type": "code",
   "execution_count": null,
   "id": "ae61d36c-f6e9-4b58-8ae7-87421b4af22e",
   "metadata": {},
   "outputs": [],
   "source": []
  },
  {
   "cell_type": "code",
   "execution_count": null,
   "id": "a86354ac-8a40-40c1-b6a4-a75ee82456c4",
   "metadata": {},
   "outputs": [],
   "source": []
  },
  {
   "cell_type": "code",
   "execution_count": null,
   "id": "ceb5e0a4-f477-4865-a378-c7027ffa6bcf",
   "metadata": {},
   "outputs": [],
   "source": []
  },
  {
   "cell_type": "code",
   "execution_count": null,
   "id": "6f059853-e1ef-413d-bade-445a449dd5ec",
   "metadata": {},
   "outputs": [],
   "source": []
  },
  {
   "cell_type": "code",
   "execution_count": null,
   "id": "95c4b0ef-fa6a-4e2d-87f2-2279ed535682",
   "metadata": {},
   "outputs": [],
   "source": []
  },
  {
   "cell_type": "code",
   "execution_count": null,
   "id": "2b09be01-79a2-48c4-954b-0e52992a1cfd",
   "metadata": {},
   "outputs": [],
   "source": []
  },
  {
   "cell_type": "code",
   "execution_count": null,
   "id": "f7fe7ae8-af7a-4464-ad9d-09ce9b20c7be",
   "metadata": {},
   "outputs": [],
   "source": []
  },
  {
   "cell_type": "code",
   "execution_count": null,
   "id": "44140b5e-5144-457d-93ef-320cc99c2304",
   "metadata": {},
   "outputs": [],
   "source": []
  },
  {
   "cell_type": "code",
   "execution_count": null,
   "id": "9e20bc55-1aa4-446b-8a54-f713e187483b",
   "metadata": {},
   "outputs": [],
   "source": []
  },
  {
   "cell_type": "code",
   "execution_count": null,
   "id": "926375fb-d464-40be-8bfa-8348d42f5407",
   "metadata": {},
   "outputs": [],
   "source": []
  },
  {
   "cell_type": "code",
   "execution_count": null,
   "id": "f04c76e5-65c0-43e0-bbca-1a3c6aecb42c",
   "metadata": {},
   "outputs": [],
   "source": []
  },
  {
   "cell_type": "code",
   "execution_count": null,
   "id": "ecbb908f-81d5-4d71-ac6c-708da2fee95b",
   "metadata": {},
   "outputs": [],
   "source": []
  },
  {
   "cell_type": "code",
   "execution_count": null,
   "id": "9628a6d2-36e9-4ef9-974f-17176af1efd5",
   "metadata": {},
   "outputs": [],
   "source": []
  },
  {
   "cell_type": "code",
   "execution_count": null,
   "id": "3be29b62-4beb-4c5a-9691-df390007a43b",
   "metadata": {},
   "outputs": [],
   "source": []
  },
  {
   "cell_type": "code",
   "execution_count": null,
   "id": "98e53852-afe7-4b64-8826-d0e649e5da7f",
   "metadata": {},
   "outputs": [],
   "source": []
  },
  {
   "cell_type": "code",
   "execution_count": null,
   "id": "b5b838d9-9197-4c6a-8d4d-73c3cfe79207",
   "metadata": {},
   "outputs": [],
   "source": []
  },
  {
   "cell_type": "code",
   "execution_count": null,
   "id": "0f1387ce-2d3d-43e1-aa94-eacdf67b551a",
   "metadata": {},
   "outputs": [],
   "source": []
  },
  {
   "cell_type": "code",
   "execution_count": null,
   "id": "ee12e095-8baf-4f0c-8188-858d93d1ef49",
   "metadata": {},
   "outputs": [],
   "source": []
  },
  {
   "cell_type": "code",
   "execution_count": null,
   "id": "7d70f73b-bc7e-4684-bc75-1a27c18c3abb",
   "metadata": {},
   "outputs": [],
   "source": []
  },
  {
   "cell_type": "code",
   "execution_count": null,
   "id": "19c4c37d-3e3f-4bb6-ae19-56496e60abfd",
   "metadata": {},
   "outputs": [],
   "source": []
  },
  {
   "cell_type": "code",
   "execution_count": null,
   "id": "d3712bb2-2506-4ff5-acf6-396579b0cb2e",
   "metadata": {},
   "outputs": [],
   "source": []
  },
  {
   "cell_type": "code",
   "execution_count": null,
   "id": "211e6413-a5f3-4c30-9c9f-25903878af1e",
   "metadata": {},
   "outputs": [],
   "source": []
  },
  {
   "cell_type": "code",
   "execution_count": null,
   "id": "6ee80056-acf5-4973-bad6-8189d8ac332d",
   "metadata": {},
   "outputs": [],
   "source": []
  },
  {
   "cell_type": "code",
   "execution_count": null,
   "id": "c44ca883-f865-4cf7-93ac-369dc79e2fac",
   "metadata": {},
   "outputs": [],
   "source": []
  },
  {
   "cell_type": "code",
   "execution_count": null,
   "id": "4bdf1df6-65d8-4c47-9258-915f58fb19ac",
   "metadata": {},
   "outputs": [],
   "source": []
  },
  {
   "cell_type": "code",
   "execution_count": null,
   "id": "2a9eeef5-dfa5-4f8b-b36a-141e6d5f220f",
   "metadata": {},
   "outputs": [],
   "source": []
  },
  {
   "cell_type": "code",
   "execution_count": null,
   "id": "3b069a45-10c8-4539-847c-a9260156813c",
   "metadata": {},
   "outputs": [],
   "source": []
  },
  {
   "cell_type": "code",
   "execution_count": null,
   "id": "6d03e302-0cbb-437d-bf4e-bb578ff1530b",
   "metadata": {},
   "outputs": [],
   "source": []
  },
  {
   "cell_type": "code",
   "execution_count": null,
   "id": "7c9d28e8-af88-4f9c-a299-99cb972bdc7e",
   "metadata": {},
   "outputs": [],
   "source": []
  },
  {
   "cell_type": "code",
   "execution_count": null,
   "id": "7bfc9d28-e0ef-4f28-b279-d2d23548fab9",
   "metadata": {},
   "outputs": [],
   "source": []
  },
  {
   "cell_type": "code",
   "execution_count": null,
   "id": "736f1aea-27d3-4d25-b429-74c0c1f57fa1",
   "metadata": {},
   "outputs": [],
   "source": []
  },
  {
   "cell_type": "code",
   "execution_count": null,
   "id": "a4836c2b-7e9d-4c51-8ca5-18866525d260",
   "metadata": {},
   "outputs": [],
   "source": []
  },
  {
   "cell_type": "code",
   "execution_count": null,
   "id": "04e130bc-9bdf-4917-9c26-dc00ed50d486",
   "metadata": {},
   "outputs": [],
   "source": []
  },
  {
   "cell_type": "code",
   "execution_count": null,
   "id": "ff1cccb5-b699-40d2-9f4e-c173248bcb96",
   "metadata": {},
   "outputs": [],
   "source": []
  },
  {
   "cell_type": "code",
   "execution_count": null,
   "id": "22a56af4-241c-4759-8788-9ee8ec5299dc",
   "metadata": {},
   "outputs": [],
   "source": []
  },
  {
   "cell_type": "code",
   "execution_count": null,
   "id": "54a6b795-32ae-46a5-bf18-7453de8b2e45",
   "metadata": {},
   "outputs": [],
   "source": []
  },
  {
   "cell_type": "code",
   "execution_count": null,
   "id": "e052f1d9-dc72-45f2-8190-b44bf47eb6c0",
   "metadata": {},
   "outputs": [],
   "source": []
  },
  {
   "cell_type": "code",
   "execution_count": null,
   "id": "74280891-0c26-442f-ba8d-ddc7fcefce40",
   "metadata": {},
   "outputs": [],
   "source": []
  },
  {
   "cell_type": "code",
   "execution_count": null,
   "id": "2e5b866f-82f7-43e8-97c7-e486a141b16e",
   "metadata": {},
   "outputs": [],
   "source": []
  },
  {
   "cell_type": "code",
   "execution_count": null,
   "id": "59281cbd-8781-439d-a1b4-e4bd510f1de5",
   "metadata": {},
   "outputs": [],
   "source": []
  }
 ],
 "metadata": {
  "kernelspec": {
   "display_name": "Bash",
   "language": "bash",
   "name": "bash"
  },
  "language_info": {
   "codemirror_mode": "shell",
   "file_extension": ".sh",
   "mimetype": "text/x-sh",
   "name": "bash"
  }
 },
 "nbformat": 4,
 "nbformat_minor": 5
}
