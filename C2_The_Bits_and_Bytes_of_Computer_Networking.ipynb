{
 "cells": [
  {
   "cell_type": "markdown",
   "id": "08b2ebeb-c9a7-4a76-98b0-d86f57b89556",
   "metadata": {},
   "source": [
    "# GOOGLE IT SUPPORT PROFESSIONAL CERTIFICATE from [Google](https://www.coursera.org/google-certificates/it-support-certificate)"
   ]
  },
  {
   "cell_type": "markdown",
   "id": "0c10c04a-3e87-4d6e-9f24-0e52fdb067d0",
   "metadata": {
    "jp-MarkdownHeadingCollapsed": true
   },
   "source": [
    "# <b>C2 [The Bits and Bytes of Computer Networking](https://www.coursera.org/learn/computer-networking)</b>"
   ]
  },
  {
   "cell_type": "markdown",
   "id": "00315b7c-65f3-459f-8c37-817d97b4e9ed",
   "metadata": {
    "tags": []
   },
   "source": [
    "# 2.1 The TCP/IP Five-Layer Network Model"
   ]
  },
  {
   "cell_type": "markdown",
   "id": "c5c0928f-4d46-4f0d-877a-3958dce59949",
   "metadata": {},
   "source": [
    "<center>\n",
    "    <a name=\"five layers\"><img src=\"data/images/Screenshot from 2023-06-28 19-40-22.png\" style=\"width: 700px\"></a>\n",
    "    <p style=\"text-align: center\"><i>Five layers</i></p>"
   ]
  },
  {
   "cell_type": "markdown",
   "id": "4dc377e6-7c4b-4e91-a8a4-647eaf2290f6",
   "metadata": {
    "tags": []
   },
   "source": [
    "|\\#|Layer Name|Protocol|Protocol Data Unit|Addressing|\n",
    "|-|-|-|-|-|\n",
    "|5|<div style=\"background: blue; color: white;\">Application</div>|HTTP, SMTP, etc...|Messages|n/a|\n",
    "|4|<div style=\"background: red; color: white;\">Transport</div>|TCP/UDP|Segment|Port \\#'s|\n",
    "|3|<div style=\"background: yellow; color: black;\">Network</div>|IP|Packet, Datagram|IP Address|\n",
    "|2|<div style=\"background: green; color: white;\">Data Link</div>|Ethernet, Wi-Fi|Frames|MAC Address|\n",
    "|1|<div style=\"background: purple; color: white;\">Physical</div>|n/a|Bits|n/a|"
   ]
  },
  {
   "cell_type": "markdown",
   "id": "55c325f5-f088-496e-9705-9c120b937343",
   "metadata": {},
   "source": [
    "## Complementing Reading: <a name=\"osi\">Open Systems Interconnection model (OSI model)</a>"
   ]
  },
  {
   "cell_type": "markdown",
   "id": "10afef05-d9bb-4652-89ad-24e45fbc12d8",
   "metadata": {},
   "source": [
    "In addition to the five layer model we are working with, it’s important to note that other models exist. The traditional **TCP/IP Model** only has four layers, as it doesn’t differentiate between the physical layer and the data link layer, but is otherwise very similar to the one we’ll be working with. \n",
    "\n",
    "The most well known other model is the **OSI model**. It’s the model taught by many other networking certificate programs, like _Net+_ and _Cisco_’s many networking certifications. The primary difference between our five layer model and the seven layer OSI model is that the OSI model abstracts the application layer into three layers total."
   ]
  },
  {
   "cell_type": "markdown",
   "id": "394a7187-ec09-4f05-9b9a-63ea3dbde8ec",
   "metadata": {},
   "source": [
    "<table class=\"wikitable\" style=\"margin: 1em auto 1em auto;\">\n",
    "<caption><b>OSI model</b>\n",
    "</caption>\n",
    "<tbody><tr>\n",
    "<th colspan=\"3\">Layer\n",
    "</th>\n",
    "<th><a href=\"/wiki/Protocol_data_unit\" title=\"Protocol data unit\">Protocol data unit</a> (PDU)\n",
    "</th>\n",
    "<th>Function<sup id=\"cite_ref-27\" class=\"reference\"><a href=\"#cite_note-27\">[27]</a></sup>\n",
    "</th></tr>\n",
    "<tr>\n",
    "<th rowspan=\"4\">Host<br>layers\n",
    "</th>\n",
    "<td style=\"background:#d8ec9b;\">7\n",
    "</td>\n",
    "<td style=\"background:#d8ec9b;\"><a href=\"/wiki/Application_layer\" title=\"Application layer\">Application</a>\n",
    "</td>\n",
    "<td style=\"background:#d8ec9c;\" rowspan=\"3\"><a href=\"/wiki/Data_(computing)\" class=\"mw-redirect\" title=\"Data (computing)\">Data</a>\n",
    "</td>\n",
    "<td style=\"background:#d8ec9c;\">High-level protocols such as for resource sharing or remote file access, e.g. <a href=\"/wiki/Hypertext_Transfer_Protocol\" class=\"mw-redirect\" title=\"Hypertext Transfer Protocol\">HTTP</a>.\n",
    "</td></tr>\n",
    "<tr>\n",
    "<td style=\"background:#d8ec9b;\">6\n",
    "</td>\n",
    "<td style=\"background:#d8ec9b;\"><a href=\"/wiki/Presentation_layer\" title=\"Presentation layer\">Presentation</a>\n",
    "</td>\n",
    "<td style=\"background:#d8ec9b;\">Translation of data between a networking service and an application; including <a href=\"/wiki/Character_encoding\" title=\"Character encoding\">character encoding</a>, <a href=\"/wiki/Data_compression\" title=\"Data compression\">data compression</a> and <a href=\"/wiki/Encryption\" title=\"Encryption\">encryption/decryption</a>\n",
    "</td></tr>\n",
    "<tr>\n",
    "<td style=\"background:#d8ec9b;\">5\n",
    "</td>\n",
    "<td style=\"background:#d8ec9b;\"><a href=\"/wiki/Session_layer\" title=\"Session layer\">Session</a>\n",
    "</td>\n",
    "<td style=\"background:#d8ec9b;\">Managing communication <a href=\"/wiki/Session_(computer_science)\" title=\"Session (computer science)\">sessions</a>, i.e., continuous exchange of information in the form of multiple back-and-forth transmissions between two nodes\n",
    "</td></tr>\n",
    "<tr>\n",
    "<td style=\"background:#e7ed9c;\">4\n",
    "</td>\n",
    "<td style=\"background:#e7ed9c;\"><a href=\"/wiki/Transport_layer\" title=\"Transport layer\">Transport</a>\n",
    "</td>\n",
    "<td style=\"background:#e7ed9c;\"><a href=\"/wiki/Packet_segmentation\" title=\"Packet segmentation\">Segment</a>, <a href=\"/wiki/Datagram\" title=\"Datagram\">Datagram</a>\n",
    "</td>\n",
    "<td style=\"background:#e7ed9c;\">Reliable transmission of data segments between points on a network, including <a href=\"/wiki/Packet_segmentation\" title=\"Packet segmentation\">segmentation</a>, <a href=\"/wiki/Acknowledgement_(data_networks)\" title=\"Acknowledgement (data networks)\">acknowledgement</a> and <a href=\"/wiki/Multiplexing\" title=\"Multiplexing\">multiplexing</a>\n",
    "</td></tr>\n",
    "<tr>\n",
    "<th rowspan=\"3\">Media<br>layers\n",
    "</th>\n",
    "<td style=\"background:#eddc9c;\">3\n",
    "</td>\n",
    "<td style=\"background:#eddc9c;\"><a href=\"/wiki/Network_layer\" title=\"Network layer\">Network</a>\n",
    "</td>\n",
    "<td style=\"background:#eddc9c;\"><a href=\"/wiki/Network_packet\" title=\"Network packet\">Packet</a>\n",
    "</td>\n",
    "<td style=\"background:#eddc9c;\">Structuring and managing a multi-node network, including <a href=\"/wiki/Address_space\" title=\"Address space\">addressing</a>, <a href=\"/wiki/Routing\" title=\"Routing\">routing</a> and <a href=\"/wiki/Network_traffic_control\" title=\"Network traffic control\">traffic control</a>\n",
    "</td></tr>\n",
    "<tr>\n",
    "<td style=\"background:#e9c189;\">2\n",
    "</td>\n",
    "<td style=\"background:#e9c189;\"><a href=\"/wiki/Data_link_layer\" title=\"Data link layer\">Data link</a>\n",
    "</td>\n",
    "<td style=\"background:#e9c189;\"><a href=\"/wiki/Frame_(networking)\" title=\"Frame (networking)\">Frame</a>\n",
    "</td>\n",
    "<td style=\"background:#e9c189;\">Transmission of data frames between two nodes connected by a physical layer\n",
    "</td></tr>\n",
    "<tr>\n",
    "<td style=\"background:#e9988a;\">1\n",
    "</td>\n",
    "<td style=\"background:#e9988a;\"><a href=\"/wiki/Physical_layer\" title=\"Physical layer\">Physical</a>\n",
    "</td>\n",
    "<td style=\"background:#e9988a;\"><a href=\"/wiki/Bit\" title=\"Bit\">Bit</a>, <a href=\"/wiki/Symbol_rate#Symbols\" title=\"Symbol rate\">Symbol</a>\n",
    "</td>\n",
    "<td style=\"background:#e9988a;\">Transmission and reception of raw bit streams over a physical medium\n",
    "</td></tr></tbody></table>\n",
    "\n",
    "[Source](https://en.wikipedia.org/wiki/OSI_model)"
   ]
  },
  {
   "cell_type": "markdown",
   "id": "73da81d0-6d6e-4667-bfe1-6cdd8fbf5bd7",
   "metadata": {},
   "source": [
    "## <b><i>Physical Layer</i></b>"
   ]
  },
  {
   "cell_type": "markdown",
   "id": "739ebd9e-1908-4205-bc18-81a1aa54ca31",
   "metadata": {},
   "source": [
    "Physical devices that interconnect computers:\n",
    "\n",
    "- specifications for networking **cables**,\n",
    "- **connectors** and specifications describing how **signals** are sent over these connections."
   ]
  },
  {
   "cell_type": "markdown",
   "id": "12f445af-6f6d-4b48-9d45-6443c8f5d869",
   "metadata": {},
   "source": [
    "### Hubs"
   ]
  },
  {
   "cell_type": "markdown",
   "id": "da5243e1-e861-4508-84c1-ef9a157d4eb8",
   "metadata": {},
   "source": [
    "**Hubs** - a physical layer device that allows for connections from many computers at once."
   ]
  },
  {
   "cell_type": "markdown",
   "id": "377fa7a4-04c8-4ced-8433-ea5808dc7943",
   "metadata": {},
   "source": [
    "<center>\n",
    "    <a name=\"Hub\"><img src=\"data/images/Screenshot from 2023-06-28 20-08-34.png\" style=\"width: 600px\"></a>\n",
    "    <p style=\"text-align: center\"><i>Hub</i></p>"
   ]
  },
  {
   "cell_type": "markdown",
   "id": "7e5ef8a6-9cbf-4961-af16-ad1df2946dfc",
   "metadata": {},
   "source": [
    "> **<a name=\"collision_domain\">Collision Domain</a>** - a network segment where only one device can communicate at a time. If multiple systems try sending data at the same time, the electrical pulses sent across the cable can interfere with each other."
   ]
  },
  {
   "cell_type": "markdown",
   "id": "88612837-fb4c-4b05-9770-bd37e33048d0",
   "metadata": {},
   "source": [
    "<center>\n",
    "    <a name=\"Data collision\"><img src=\"data/images/Screenshot from 2023-06-28 20-12-43.png\" style=\"width: 600px\"></a>\n",
    "    <p style=\"text-align: center\"><i>Data collision</i></p>"
   ]
  },
  {
   "cell_type": "markdown",
   "id": "e494187f-093d-4d66-86e2-2de7b559f4b5",
   "metadata": {},
   "source": [
    "### Cables"
   ]
  },
  {
   "cell_type": "markdown",
   "id": "637ad5de-1261-4667-a694-07e06dad8628",
   "metadata": {},
   "source": [
    "|copper twisted-pair cables|fiber cables|\n",
    "|-|-|\n",
    "|voltage changes|transport beams of light|\n",
    "|Cat5, Cat5e, Cat6||"
   ]
  },
  {
   "cell_type": "markdown",
   "id": "d3d62416-6701-44c4-ad8a-fa67c7034c59",
   "metadata": {},
   "source": [
    "<center>\n",
    "    <a name=\"five layers\"><img src=\"data/images/Screenshot from 2023-06-28 19-54-01.png\" style=\"width: 600px\"></a>\n",
    "    <p style=\"text-align: center\"><i>Copper cables</i></p>"
   ]
  },
  {
   "cell_type": "markdown",
   "id": "3c68b427-a825-4ec9-aa77-361b9fc65b38",
   "metadata": {},
   "source": [
    "**Crosstalk** - an electrical pulse on one wire accidentally detected on another wire. Fiber cables do not have this problem and prevents data loss, because it is light."
   ]
  },
  {
   "cell_type": "markdown",
   "id": "64a1893b-8046-4896-b5a3-54bbfb83e47f",
   "metadata": {},
   "source": [
    "<center>\n",
    "    <a name=\"fCopper vs fiber cables\"><img src=\"data/images/Screenshot from 2023-06-28 20-02-40.png\" style=\"width: 400px\"></a>\n",
    "    <p style=\"text-align: center\"><i>Copper vs fiber cables</i></p>"
   ]
  },
  {
   "cell_type": "markdown",
   "id": "cfe6fbac-9acc-44ba-a8ca-80a6f1bb0834",
   "metadata": {},
   "source": [
    "Copper cables carry a constant electrical charge sending bits through a **modulation** process (**line coding**) - a way of varying the voltage of this charge moving across the cable."
   ]
  },
  {
   "cell_type": "markdown",
   "id": "b690c1b2-db66-409d-9fbe-5e2b9e22f77f",
   "metadata": {},
   "source": [
    "<center>\n",
    "    <a name=\"Line coding\"><img src=\"data/images/Screenshot from 2023-06-28 20-45-45.png\" style=\"width: 600px\"></a>\n",
    "    <p style=\"text-align: center\"><i>Line coding</i></p>"
   ]
  },
  {
   "cell_type": "markdown",
   "id": "a75cf1aa-c5b8-482d-9d11-4092bad701f7",
   "metadata": {},
   "source": [
    "**Duplex communication** - the concept that information can flow in both directions across the cable.\n",
    "\n",
    "**Simplex communication** - the process is unidirectional."
   ]
  },
  {
   "cell_type": "markdown",
   "id": "1a238450-831b-4831-8424-baa4b101afa1",
   "metadata": {},
   "source": [
    "<center>\n",
    "    <a name=\"Duplex communication\"><img src=\"data/images/Screenshot from 2023-06-28 20-50-27.png\" style=\"width: 500px\"></a>\n",
    "    <p style=\"text-align: center\"><i>Duplex communication</i></p>"
   ]
  },
  {
   "cell_type": "markdown",
   "id": "55258cac-afc1-43ab-aba0-eab182a832bd",
   "metadata": {},
   "source": [
    "### Ethernet Over Twisted Pair Technologies"
   ]
  },
  {
   "cell_type": "markdown",
   "id": "a3425e40-775f-4984-ac2e-a497d5661bc6",
   "metadata": {},
   "source": [
    "Twisted pair Ethernet cable is the most commonly used Ethernet cable in business and home networks. An internet connection to a building or home is normally delivered through a coaxial cable and/or fiber-optic cable from an **internet service provider** (ISP). This connection is fed into a gateway modem located inside the building or home (for home internet customers, this hardware is often provided by the ISP). The modem then passes the internet connection through a twisted pair Ethernet cable to a router or a single computer. \n",
    "\n",
    "The router uses twisted pair Ethernet cables to distribute wired network connections internally to the business or home. These network cables are also called **CAT cables**. It is possible that you have purchased an Ethernet CAT5 or CAT6 cable for your home internet connection. Some routers also have the capability to provide wireless network connections to the internal network. In addition, Ethernet over twisted pair technologies can also supply telephone and television services to businesses and homes."
   ]
  },
  {
   "cell_type": "markdown",
   "id": "e5991206-1e65-410f-a52f-fb13f44ae6ce",
   "metadata": {},
   "source": [
    "#### Twisted pair cables"
   ]
  },
  {
   "cell_type": "markdown",
   "id": "0cbe56c5-6954-4338-ba7b-10b82b60450a",
   "metadata": {},
   "source": [
    "Originally, telephone and early data cables included two copper wires, one for transmitting data and one for receiving data. The two wires laid parallel to one another. This configuration was affected by \n",
    "- **electromagnetic interference** (EMI), \n",
    "- **radio frequency interference** (RFI), and \n",
    "- **crosstalk** \n",
    "\n",
    "between the two copper wires. One of the initial engineering steps to resolve these issues involved twisting the wire pair together, which reduced some of the extra noise on the lines.\n",
    "\n",
    "Twisted pair Ethernet cables are commonly used in LANs because: \n",
    "- They offer multiple levels of protection against EMI, RFI, and crosstalk.\n",
    "- The lower levels of interference protection provide low-cost options, which are generally more accessible to home users and small businesses. \n",
    "- The cables are thin, light weight, and malleable enough to install and move easily.\n",
    "- The transmission range of the cable is suitable for short distance connections inside of buildings and homes. \n",
    "- The cable’s frequency range is able to transmit both data and telephone/voice communications."
   ]
  },
  {
   "cell_type": "markdown",
   "id": "e62cba46-4c94-4021-8e55-f584e00bcb65",
   "metadata": {},
   "source": [
    "#### UTP,  STP, and FTP Ethernet cables"
   ]
  },
  {
   "cell_type": "markdown",
   "id": "7683999c-97ca-4b19-b96d-87ef1212c25b",
   "metadata": {},
   "source": [
    "Twisted pair Ethernet cable uses four pairs of color-coded copper wires. Each colored pair, one solid and one striped, are twisted together. There are multiple types of twisted pair Ethernet cables available on the market. These types fall into three main categories: \n",
    "\n",
    "- **Unshielded twisted pair** (UTP) - The most common and least expensive type of Ethernet cable found in business and home networks. UTP cables offer very basic protection against EMI, RFI, and crosstalk interference. \n",
    "\n",
    "- **Shielded twisted pair** (STP) - Used in environments where electromagnetic interference (EMI), radio frequency interference (RFI), and crosstalk with nearby cables have been identified as a problem for network communications. An STP cable uses a braided aluminum and/or copper shielding to encase the four twisted pairs underneath the outer jacket. \n",
    "\n",
    "- **Foiled twisted pair** (FTP) - Also used in environments where EMI, RFI, and crosstalk are a problem. An FTP cable uses a thin foil shield that wraps around the bundle of twisted pair wires underneath the outer jacket. \n",
    "\n",
    "The STP and FTP labels are often used interchangeably to reference shielded and/or foiled cables. STP and FTP braided and foiled shields can also exist together in the same cable for extra protection against interference. It is important to check the manufacturer’s description of the Ethernet cable to determine which interference-reducing method was used in the manufacturing of the cable. UTP, STP, and FTP Ethernet cables can also be manufactured to have braided and/or foil shields around each of the four twisted pairs. This configuration further reduces crosstalk amongst the twisted pairs, but is the most expensive of the Ethernet cable options. A shielded with foiled twisted pair (SF/FTP) would most likely be used in an industrial environment where EMI and/or RFI is much higher than normal."
   ]
  },
  {
   "cell_type": "markdown",
   "id": "92824e70-f4a7-467d-883b-2de6998464b2",
   "metadata": {},
   "source": [
    "#### Straight-through cable"
   ]
  },
  {
   "cell_type": "markdown",
   "id": "bc2a8f87-a6ed-4fe5-9211-f9f7489700aa",
   "metadata": {},
   "source": [
    "**Straight-through cables** are also known as **patch cables**. They are the primary type of Ethernet cable used in computer networks. Straight-through cables normally connect computers and routers to hubs and Ethernet switches. Ethernet cable can also connect servers to Ethernet switches. \n",
    "\n",
    "Straight-through cables can be identified by comparing both ends of the cable with one another. The cable is a straight-through cable if the color and stripe order of the twisted pairs are in the same position on both ends of the cable. In a typical straight-through cable set-up, an orange-striped wire that appears in pin position 1 should also appear at that same position on the other end. This one-to-one pattern is continued for each color in pin positions 2-8. Ethernet cables that use 100Base-T standards (common for home networks) do not use blue and brown cables. Networks using gigabit Ethernet have the option to use blue and brown cables for **Power over Ethernet (PoE)**.\n",
    "\n",
    "Straight-through cable key:\n",
    "\n",
    "- Computers and routers use:\n",
    "    - Pins 1 & 2 - Orange wires for sending data\n",
    "    - Pins 3 & 6 - Green wires for receiving data  \n",
    "- Hubs and switches use:\n",
    "    - Pins 1 & 2 - Green wires for sending data\n",
    "    - Pins 3 & 6 - Orange wires for receiving data "
   ]
  },
  {
   "cell_type": "markdown",
   "id": "0b4fe5ed-7453-40ad-ac28-03be7e25319d",
   "metadata": {},
   "source": [
    "<center>\n",
    "    <a name=\"Straight through cable\"><img src=\"data/images/s-l500.jpg\" style=\"width: 350px\"></a>\n",
    "    <p style=\"text-align: center\"><i>Straight through cable</i></p>"
   ]
  },
  {
   "cell_type": "markdown",
   "id": "63b925b2-f3e3-4c8f-96c6-ee87a6b28921",
   "metadata": {},
   "source": [
    "<center>\n",
    "    <a name=\"RJ45\"><img src=\"data/images/Screenshot from 2023-06-28 21-23-09.png\" style=\"width: 200px\"></a>"
   ]
  },
  {
   "cell_type": "markdown",
   "id": "58c611e6-86cd-480c-88ab-34349421bcbd",
   "metadata": {},
   "source": [
    "#### Crossover cables"
   ]
  },
  {
   "cell_type": "markdown",
   "id": "f8d3f5db-ce7b-42eb-99e6-b0e1e6602c80",
   "metadata": {},
   "source": [
    "Crossover cables may still be in use in older network environments. Note that most new Enterprise devices have the ability to detect Ethernet connection types and select the correct wires for sending and receiving data using **Auto Medium Dependent Interface Crossover** (Auto-MDI/MDIX) technology. The Auto-MDI/MDIX ports replace the crossover cable’s function for connecting two devices that use the same sending and receiving wires for data communications.   \n",
    "\n",
    "Crossover cables are used to connect two computing devices directly to one another. As an IT Support specialist, you might use a short crossover cable to connect an IT administrator laptop directly to an Enterprise machine (e.g., server, switch, router, hub, etc.). This type of connection is normally used to update, repair, and perform other administrative tasks on the Enterprise machine. A crossover cable should be connected between the Ethernet port/Network Interface Card (NIC) on the IT administrative system and the management port of the Enterprise machine. This connection is then used to access the operating system and/or the management interface of the Enterprise machine. Additionally, crossover cables can connect two switches, two hubs, or a switch to a hub, as well as two routers, two PCs, or a router to a PC.  \n",
    "\n",
    "Like straight-through cables, crossover cables can also be identified by comparing both ends of the cable to one another. Crossover cable ends will have different patterns in the color order of the twisted pairs.  The crossover cable key below describes a typical setup for a T-568-A. If the green wires appear in pin positions 1 and 2 on one side of the cable, on the opposite end of the cable, the green wires will appear in the pin positions 3 and 6. The orange wires will appear in positions 3 and 6 at one end of the cable, crossing over to the 1 and 2 positions at the opposite end. \n",
    "\n",
    "For the T-568-B scheme, if you see orange wires start at pin positions 3 and 6, they should cross over to pin positions 1 and 2 at the opposite end of the cable. Green wires should start at pin positions 1 and 2, crossing over to 3 and 6 at the opposite end. This wiring crossover is needed to connect two computers that transmit and receive data on the same wires. Blue and brown wires do not cross over to different positions in this set-up.\n",
    "\n",
    "Straight-through cables use the T568B wiring scheme, while crossover cables use both schemes.\n",
    "\n",
    "\n",
    "Crossover cable key:\n",
    "- Endpoint 1 of the Ethernet cable:\n",
    "    - Pins 1 & 2 - Green wires for sending data\n",
    "    - Pins 3 & 6 - Orange wires for receiving data \n",
    "- Endpoint 2 of the Ethernet cable:\n",
    "    - Pins 1 & 2 - Orange wires for sending data\n",
    "    - Pins 3 & 6 - Green wires for receiving data"
   ]
  },
  {
   "cell_type": "markdown",
   "id": "498c737e-b284-4310-978e-154e5992e6bd",
   "metadata": {},
   "source": [
    "<center>\n",
    "    <img alt=\"Cross over cable\" src=\"data/images/main-qimg-40b4518f3748ba4a4cdf9259feaf95bc.jpeg\" style=\"width: 350px\">\n",
    "    <p style=\"text-align: center\"><i>Cross over cable</i></p>"
   ]
  },
  {
   "cell_type": "markdown",
   "id": "11fef62e-8a16-4d34-97c2-b040b2a53657",
   "metadata": {},
   "source": [
    "## <a name=\"data_link\"><b><i>Data Link Layer</i></b></a>"
   ]
  },
  {
   "cell_type": "markdown",
   "id": "54e09d5f-9b7d-4037-856e-520d424c5a41",
   "metadata": {},
   "source": [
    "also known as: Network Interface / Network Access Layer\n",
    "\n",
    "Defines a common way of interpreting signals so networks can communicate.\n",
    "\n",
    "The **Ethernet** standards define a protocol responsible for getting data to nodes on **the same network** or link."
   ]
  },
  {
   "cell_type": "markdown",
   "id": "91ae55c7-2da8-40d8-b280-6af258eee94f",
   "metadata": {},
   "source": [
    "### **Network switches** (Switching hubs)\n",
    "\n",
    "Resolves a problem of a [collision domain](#collision_domain) - data sends to an indiviual computer.\n",
    "\n",
    "<center>\n",
    "    <a name=\"Switch\"><img src=\"data/images/Screenshot from 2023-06-28 20-16-14.png\" style=\"width: 500px\"></a>\n",
    "    <p style=\"text-align: center\"><i>Switch</i></p>"
   ]
  },
  {
   "cell_type": "markdown",
   "id": "56284fc7-4184-4e2a-bfd5-f236e4d299e9",
   "metadata": {},
   "source": [
    "### Ethernet and MAC Addresses\n",
    "\n",
    "One of the primary purposes of this layer is to essentially abstract away the need for any other layers to care about the physical layer and what hardware is in use.\n",
    "\n",
    "**CSMA/CD** - Carrier sense multiple access with collision detection; used to determine when the communications channels are clear and when a device is free to transmit data.\n",
    "\n",
    "**MAC Address** - Media access control address; a globally unique identifier attached to an individual network interface.\n",
    "\n",
    "MAC Address is a 48-bit number represented by 6 groupings of two hexadecimal (16 digits) numbers.\n",
    "\n",
    "**Octet** - any number that can be represented by 8 bits."
   ]
  },
  {
   "cell_type": "code",
   "execution_count": 2,
   "id": "e71238ac-6e03-4d4b-992b-0a1a65e918b0",
   "metadata": {
    "execution": {
     "iopub.execute_input": "2023-07-18T13:20:30.195369Z",
     "iopub.status.busy": "2023-07-18T13:20:30.194915Z",
     "iopub.status.idle": "2023-07-18T13:20:30.210336Z",
     "shell.execute_reply": "2023-07-18T13:20:30.209116Z",
     "shell.execute_reply.started": "2023-07-18T13:20:30.195326Z"
    },
    "tags": []
   },
   "outputs": [
    {
     "data": {
      "text/plain": [
       "281474976710656"
      ]
     },
     "execution_count": 2,
     "metadata": {},
     "output_type": "execute_result"
    }
   ],
   "source": [
    "# number of unique MAC Addresses\n",
    "2**48"
   ]
  },
  {
   "cell_type": "code",
   "execution_count": 4,
   "id": "303fba47-771d-472b-ae5e-9586fe775bfe",
   "metadata": {
    "execution": {
     "iopub.execute_input": "2023-07-18T13:22:35.836332Z",
     "iopub.status.busy": "2023-07-18T13:22:35.835171Z",
     "iopub.status.idle": "2023-07-18T13:22:35.844589Z",
     "shell.execute_reply": "2023-07-18T13:22:35.843735Z",
     "shell.execute_reply.started": "2023-07-18T13:22:35.836281Z"
    },
    "tags": []
   },
   "outputs": [
    {
     "data": {
      "text/plain": [
       "281474976710656"
      ]
     },
     "execution_count": 4,
     "metadata": {},
     "output_type": "execute_result"
    }
   ],
   "source": [
    "16**12"
   ]
  },
  {
   "cell_type": "code",
   "execution_count": 10,
   "id": "62f4c843-bf4e-4a39-9ab5-d1589dfa68be",
   "metadata": {
    "execution": {
     "iopub.execute_input": "2023-07-18T13:23:58.641957Z",
     "iopub.status.busy": "2023-07-18T13:23:58.641248Z",
     "iopub.status.idle": "2023-07-18T13:23:58.648429Z",
     "shell.execute_reply": "2023-07-18T13:23:58.646954Z",
     "shell.execute_reply.started": "2023-07-18T13:23:58.641924Z"
    },
    "tags": []
   },
   "outputs": [
    {
     "data": {
      "text/plain": [
       "281474976710656"
      ]
     },
     "execution_count": 10,
     "metadata": {},
     "output_type": "execute_result"
    }
   ],
   "source": [
    "(2**4)**12"
   ]
  },
  {
   "cell_type": "markdown",
   "id": "801f50ed-2142-4c6c-b681-258997d35554",
   "metadata": {},
   "source": [
    "**OUI** - Organizationally Unique Identifier; the first three octets of a MAC Address"
   ]
  },
  {
   "cell_type": "markdown",
   "id": "a2501e18-6656-483a-84f7-263ee84e11c7",
   "metadata": {},
   "source": [
    "<center>\n",
    "    <a name=\"OUI\"><img src=\"data/images/Screenshot from 2023-07-02 13-45-28.png\" style=\"width: 600px\"></a>\n",
    "    <p style=\"text-align: center\"><i>OUI</i></p>"
   ]
  },
  {
   "cell_type": "code",
   "execution_count": 2,
   "id": "0491ab03-ee83-4ce0-a5f9-d2d02b98d7d7",
   "metadata": {
    "execution": {
     "iopub.execute_input": "2023-07-31T16:16:40.360128Z",
     "iopub.status.busy": "2023-07-31T16:16:40.359398Z",
     "iopub.status.idle": "2023-07-31T16:16:40.366398Z",
     "shell.execute_reply": "2023-07-31T16:16:40.365285Z",
     "shell.execute_reply.started": "2023-07-31T16:16:40.360100Z"
    },
    "tags": []
   },
   "outputs": [
    {
     "data": {
      "text/plain": [
       "16777216"
      ]
     },
     "execution_count": 2,
     "metadata": {},
     "output_type": "execute_result"
    }
   ],
   "source": [
    "2 ** (3*8)"
   ]
  },
  {
   "cell_type": "markdown",
   "id": "28265708-0af5-43b5-89f9-69fcc09926b0",
   "metadata": {},
   "source": [
    "Three last octets can be assigned to any numbers manufacturer would like."
   ]
  },
  {
   "cell_type": "markdown",
   "id": "a98c3c7f-4710-4697-ad6a-385a5a03527f",
   "metadata": {},
   "source": [
    "### Unicast, Multicast, Broadcast"
   ]
  },
  {
   "cell_type": "markdown",
   "id": "b6aa9721-2613-4d72-a21f-ecda89743f11",
   "metadata": {},
   "source": [
    "A **unicast transmission** is always meant for just one receiving address. At the ethernet level this is done by looking at a special bit in the destination MAC address. If the least significant bit in the first octet of a destination address is set to **zero**, it means that ethernet frame is intended for **only the destination address**. This means it would be sent to all devices on the collision domain, but only actually received and processed by the intended destination. \n",
    "\n",
    "If the least significant bit in the first octet of a destination address is set to **one**, it means you're dealing with a **multicast frame**. A multicast frame is similarly set to all devices on the local network segment. What's different is that it will be accepted or discarded by each device depending on criteria aside from their own hardware MAC address. "
   ]
  },
  {
   "cell_type": "markdown",
   "id": "aa26641b-9f72-4d22-9082-d00e524a6a6d",
   "metadata": {},
   "source": [
    "<center>\n",
    "    <a name=\"multicast\"><img src=\"data/images/Screenshot from 2023-07-02 14-17-56.png\" style=\"width: 200px\"></a>\n",
    "    <p style=\"text-align: center\"><i></i></p>"
   ]
  },
  {
   "cell_type": "markdown",
   "id": "ddaeec29-b185-40b5-80bb-569f8fc202b6",
   "metadata": {},
   "source": [
    "In ethernet **broadcast** is sent to every single device on a LAN. This is accomplished by using a special destination known as a broadcast address. The ethernet broadcast address is all F's (`FF:FF:FF:FF:FF:FF`). Ethernet broadcasts are used so that devices can learn more about each other."
   ]
  },
  {
   "cell_type": "markdown",
   "id": "a27b8749-d6a1-4dfa-a8ba-d51d02a88e66",
   "metadata": {},
   "source": [
    "### Ethernet Frame"
   ]
  },
  {
   "cell_type": "markdown",
   "id": "6d222982-6462-45d7-8540-b00d8d3e92b4",
   "metadata": {},
   "source": [
    "**Data packet** is an all-encompassing term that represents any single set of binary data being sent across a network link. \n",
    "\n",
    "**Ethernet Frame** - data packets at the Ethernet level; a highly structured collection of information presented in a specific order."
   ]
  },
  {
   "cell_type": "markdown",
   "id": "fc225794-6be1-4fcb-abf7-73114f0cb0b1",
   "metadata": {},
   "source": [
    "<center>\n",
    "    <a name=\"Ethernet Frame\"><img src=\"data/images/Screenshot from 2023-07-02 14-25-40.png\" style=\"width: 800px\"></a>\n",
    "    <p style=\"text-align: center\"><i>Ethernet Frame</i></p>"
   ]
  },
  {
   "cell_type": "markdown",
   "id": "3dc4eb92-fe20-4e81-960e-b17d6f8400b1",
   "metadata": {},
   "source": [
    "**Preamble** - 8 bytes (`64 bits`) long, can itself be split into two sections:\n",
    "- The first seven bytes are a series of alternating ones and zeros. These act partially as a buffer between frames and can also be used by the network interfaces to synchronize internal clocks they use to regulate the speed at which they send data. \n",
    "- The last byte is known as the SFD, or **start frame delimiter**. This signals to a receiving device that the preamble is over and that the actual frame contents will now follow.\n",
    "\n",
    "**Destination MAC address** is the hardware address of the intended recipient, which is then followed by the source MAC address or where the frame originated from.\n",
    "\n",
    "**Ether-type field** is `6 bytes` long and used to describe the protocol of the contents of the frame. \n",
    "\n",
    "Instead of the Ether-type field, you can also find what's known as a **VLAN (virtual LAN) header**. It indicates that the frame itself is what's called a **VLAN frame**. If a VLAN header is present, the Ether-type field follows it. It's a technique that lets you have multiple logical LANs operating on the same physical equipment. Any frame with a VLAN tag will only be delivered out of a switch interface configured to relay that specific tag. This way, you can have a single physical network that operates like its multiple LANs. VLANs are usually used to segregate different forms of traffic. You might see a company's IP phones operating on one VLAN while all desktops operate on another. "
   ]
  },
  {
   "cell_type": "markdown",
   "id": "f54b657d-a2c8-4a19-ab43-f448693e84ab",
   "metadata": {},
   "source": [
    "<center>\n",
    "    <a name=\"VLAN\"><img src=\"data/images/Screenshot from 2023-07-02 14-45-02.png\" style=\"width: 400px\"></a>\n",
    "    <p style=\"text-align: center\"><i>VLAN</i></p>"
   ]
  },
  {
   "cell_type": "markdown",
   "id": "59163d2c-bda7-4afc-8b31-f2f8fed32b2d",
   "metadata": {},
   "source": [
    "Data **payload** is the _actual data_ being transported, which is everything that isn't a header. The data payload of a traditional Ethernet frame can be anywhere from `46-1500 bytes` long. This contains all of the data from higher layers, such as the IP, transport, and application layers that actually being transmitted. \n",
    "\n",
    "**Frame check sequence (FCS)** is a four-byte `(32-bit`) number that represents a **checksum value** for the entire frame. \n",
    "\n",
    "This checksum value is calculated by performing what's known as a **cyclical redundancy check (CRC)** against the frame. A CRC is an important concept for data integrity and is used all over computing, not just network transmissions. A CRC is basically a mathematical transformation that uses polynomial division to create a number that represents a larger set of data. Anytime you perform a CRC against a set of data, you should end up with the same checksum number. The reason it's included in an Ethernet frame is so that the receiving network interface can infer if it received uncorrupted data. \n",
    "\n",
    "When a device gets ready to send an Ethernet frame, it collects all the information we just covered, like the destination and originating MAC addresses, the data payload, and so on. Then it performs a CRC against that data and attaches the resulting checksum number as the frame check sequence at the end of the frame. This data is then sent across a link and received at the other end. Here, all the various fields of the Ethernet frame are collected, and now the receiving side performs a CRC against that data. If the checksum computed by the receiving end doesn't match the checksum in the frame check sequence field, the data is thrown out. This is because some amount of data must have been lost or corrupted during transmission. It's then up to a protocol at a higher layer to decide if that data should be retransmitted. Ethernet itself only reports on data integrity, it doesn't perform data recovery."
   ]
  },
  {
   "cell_type": "markdown",
   "id": "02a5f212-3aa8-401d-b5a0-99738d0a5d9f",
   "metadata": {
    "tags": []
   },
   "source": [
    "## <b><i>Network Layer</i></b>"
   ]
  },
  {
   "cell_type": "markdown",
   "id": "f9d8ce6a-62a2-4a41-8444-cf1769a9bf92",
   "metadata": {},
   "source": [
    "Allows **different networks** (i.e. **nodes**) to communicate with each other through **routers**.\n",
    "\n",
    "**Internetwork** - a collection of networks connected together through routers, like **Internet**.\n",
    "\n",
    "**IP** - Internet Protocol"
   ]
  },
  {
   "cell_type": "markdown",
   "id": "8ffa69dc-aa3e-44ac-b42c-652096472f6f",
   "metadata": {},
   "source": [
    "**LAN** - Local Area Network"
   ]
  },
  {
   "cell_type": "markdown",
   "id": "e3aeebce-5a76-4716-bec4-561be03f6ea7",
   "metadata": {},
   "source": [
    "### Routers"
   ]
  },
  {
   "cell_type": "markdown",
   "id": "a9cb7ef1-3df3-4e29-8560-bfd02c6ccc38",
   "metadata": {},
   "source": [
    "Hubs and switches are used to connect computers on a single network, LAN. Routers forwards data between independent networks."
   ]
  },
  {
   "cell_type": "markdown",
   "id": "df3075e3-cd3d-4625-9148-be3c97e1af8e",
   "metadata": {},
   "source": [
    "<center>\n",
    "    <a name=\"Core routers\"><img src=\"data/images/Screenshot from 2023-06-28 20-23-50.png\" style=\"width: 600px\"></a>\n",
    "    <p style=\"text-align: center\"><i>Core routers</i></p>"
   ]
  },
  {
   "cell_type": "markdown",
   "id": "f8c472ad-9c27-4594-b16f-43ab69b3a67f",
   "metadata": {},
   "source": [
    "**Border Gateway Protocol** (BGP) - lets routers learn about the most optimal paths to forward traffic. "
   ]
  },
  {
   "cell_type": "markdown",
   "id": "05eb4e85-41cb-4bba-9ac8-d1f1141be0bc",
   "metadata": {},
   "source": [
    "### Clients and servers"
   ]
  },
  {
   "cell_type": "markdown",
   "id": "ed9ea9da-f779-44a1-abc4-23b1067596e9",
   "metadata": {},
   "source": [
    "**Node** - a device connected to the network."
   ]
  },
  {
   "cell_type": "markdown",
   "id": "19c10e73-b943-4e42-b366-2f4d660a0191",
   "metadata": {},
   "source": [
    "A **client** application initiates a request for data, and a **server** software answers the request across the network. Most nodes a clients and servers and the same time."
   ]
  },
  {
   "cell_type": "markdown",
   "id": "31f544de-a2f5-419c-8e31-bf7bb762afa3",
   "metadata": {},
   "source": [
    "<center>\n",
    "    <a name=\"Clientserver relations\"><img src=\"data/images/Screenshot from 2023-06-28 20-28-01.png\" style=\"width: 500px\"></a>\n",
    "\n",
    "<center>\n",
    "    <a name=\"Client/server relations\"><img src=\"data/images/Screenshot from 2023-06-28 20-30-03.png\" style=\"width: 400px\"></a>\n",
    "    <p style=\"text-align: center\"><i>Client/server relations</i></p>"
   ]
  },
  {
   "cell_type": "markdown",
   "id": "7ec082f6-4b2f-47b1-9939-7cbe80ab9af6",
   "metadata": {},
   "source": [
    "### IP Addressses"
   ]
  },
  {
   "cell_type": "markdown",
   "id": "01a5e7c2-8348-4d30-a45d-53f475b2f5a4",
   "metadata": {},
   "source": [
    "**IP (Internet Protocol)** addresses are a `32-bit` long numbers made up of four octets and each octet is normally described in _decimal_ numbers. \n",
    "\n",
    "**Dotted decimal notation** - eight bits of data (a single octet) can represent all decimal numbers from `0-255`. For example, `12.34.56.78 `is a valid IP address, but 1`23.456.789.100` would not be because it has numbers larger than could be represented by eight bits. \n",
    "\n",
    "$$\n",
    "12.34.56.78\n",
    "$$\n",
    "$$\n",
    "00001100.00100010.00111000.01001110\n",
    "$$"
   ]
  },
  {
   "cell_type": "code",
   "execution_count": 11,
   "id": "552444fe-e89d-4e84-a2ac-61e04c564d4f",
   "metadata": {
    "execution": {
     "iopub.execute_input": "2023-07-18T13:27:22.115947Z",
     "iopub.status.busy": "2023-07-18T13:27:22.115232Z",
     "iopub.status.idle": "2023-07-18T13:27:22.122722Z",
     "shell.execute_reply": "2023-07-18T13:27:22.121382Z",
     "shell.execute_reply.started": "2023-07-18T13:27:22.115900Z"
    },
    "tags": []
   },
   "outputs": [
    {
     "data": {
      "text/plain": [
       "4294967296"
      ]
     },
     "execution_count": 11,
     "metadata": {},
     "output_type": "execute_result"
    }
   ],
   "source": [
    "2**32"
   ]
  },
  {
   "cell_type": "markdown",
   "id": "ef5dff3c-1fb5-4750-bced-33b7198090df",
   "metadata": {},
   "source": [
    "IP addresses are distributed in large sections to various organizations and companies instead of being determined by hardware vendors. This means that IP addresses are more hierarchical and easier to store data about than physical addresses are. Think of IBM, which owns every single IP that has the Number 9 as the first octet. At a very high level, this means that if an Internet router needs to figure out where to send a data packet intended for the IP address `9.0.0.1`, that router only has to know to get it to one of IBM's routers. That router can handle the rest of the delivery process from there. \n",
    "\n",
    "IP addresses belong to the _networks_, not to the devices attached to those networks. Your laptop will always have the same MAC address no matter where you use it, but it'll have a different IP address assigned to it at an Internet cafe than it would when you're at home. The LAN at the Internet cafe or the LAN at your house would each be individually responsible for handing out an IP address to your laptop if you power it on there. \n",
    "\n",
    "On a day-to-day basis, getting an IP address is usually a pretty invisible process. On many modern networks, you can connect a new device and an IP address will be assigned to it automatically through a technology known as **[Dynamic Host Configuration Protocol (DHCP)](#dhcp)**. An IP address assigned this way is known as a **dynamic** IP address. The opposite of this is known as a **static** IP address, which must be configured on a node manually. In most cases, static IP addresses are reserved for servers and network devices while dynamic IP addresses are reserved for clients. But there are certainly situations where this might not be true."
   ]
  },
  {
   "cell_type": "markdown",
   "id": "55a1b64b-e8ea-4bba-87d1-8d77c7c9f6f2",
   "metadata": {},
   "source": [
    "#### IPv4 Datagram and Encapsulation"
   ]
  },
  {
   "cell_type": "markdown",
   "id": "d37a148a-7772-48c9-985e-b260483aab1e",
   "metadata": {},
   "source": [
    "Just like all the data packets at the ethernet layer have a specific name, so do packets at the network layer. Under the IP protocol, a packet is usually referred to as an **IP datagram**. Just like any ethernet frame, IP datagram is a highly structured series of fields that are strictly defined. \n",
    "\n",
    "The two primary sections of an IP datagram are the **header** and the **payload**. You'll notice that an IP datagram header contains a lot more data than an ethernet frame header does. "
   ]
  },
  {
   "cell_type": "markdown",
   "id": "6251744c-08a7-4547-ba1e-0ac81ba45c0d",
   "metadata": {},
   "source": [
    "<center>\n",
    "    <a name=\"IP_Datagram_Header\"><img src=\"data/images/Screenshot from 2023-07-02 15-46-35.png\" style=\"width: 450px\"></a>\n",
    "    <p style=\"text-align: center\"><i>IP Datagram Header</i></p>"
   ]
  },
  {
   "cell_type": "code",
   "execution_count": 5,
   "id": "7596426b-cd16-4821-b80e-8fc90005da71",
   "metadata": {
    "execution": {
     "iopub.execute_input": "2023-07-02T09:48:37.377543Z",
     "iopub.status.busy": "2023-07-02T09:48:37.376619Z",
     "iopub.status.idle": "2023-07-02T09:48:37.384318Z",
     "shell.execute_reply": "2023-07-02T09:48:37.383191Z",
     "shell.execute_reply.started": "2023-07-02T09:48:37.377506Z"
    },
    "tags": []
   },
   "outputs": [
    {
     "data": {
      "text/plain": [
       "160"
      ]
     },
     "execution_count": 5,
     "metadata": {},
     "output_type": "execute_result"
    }
   ],
   "source": [
    "6*32 - 32"
   ]
  },
  {
   "cell_type": "markdown",
   "id": "1b1da92d-3ebb-4aad-8c3a-6db5a780fca0",
   "metadata": {},
   "source": [
    "#### IP Datagram Header\n",
    "\n",
    "The very first field is `4-bits` and indicates what **version** of Internet Protocol is being used. The most common version of IP is version 4 or **IPv4**. Version 6 or **IPv6** is rapidly seeing more widespread adoption. \n",
    "\n",
    "After the version field we have the **header length field**. This is also a `4-bit` field that declares how long the entire **header** is. This is almost always 20 bytes in length, when dealing with IPv4. In fact 20 bytes is the minimum length of an IP header. You couldn't fit all the data you need for a properly formatted IP header in any less space. \n",
    "\n",
    "Next we have the **service type** field. These `8 bits` can be used to specify details about **quality of service (QoS)** technologies. The important takeaway about QoS is that there are services that allow routers to make decisions about which IP datagram maybe more important than others. \n",
    "\n",
    "The next field is a `16 bit` field known as the **total length** field. It's used for exactly what it sounds like to indicate the total length of the IP datagram it's attached to. \n",
    "\n",
    "The **identification** field is a `16 bit` number that's used to group messages together. IP datagrams have a maximum size and you might already be able to figure out what that is since the total length field is 16 bits and this field indicates the size of an individual datagram. The maximum size of a single datagram is the largest number you can represent with `16 bits` - 65,535. If the total amount of data that needs to be sent is larger than what can fit in a single data gram the IP layer needs to split this data up into many individual packets. When this happens, the identification field is used so that the receiving end understands that every packet with the same value in that field is part of the same transmission. "
   ]
  },
  {
   "cell_type": "code",
   "execution_count": 6,
   "id": "a6d752d4-fe3b-4396-ab86-df6e16da725c",
   "metadata": {
    "execution": {
     "iopub.execute_input": "2023-07-02T09:50:19.243188Z",
     "iopub.status.busy": "2023-07-02T09:50:19.242632Z",
     "iopub.status.idle": "2023-07-02T09:50:19.250398Z",
     "shell.execute_reply": "2023-07-02T09:50:19.248932Z",
     "shell.execute_reply.started": "2023-07-02T09:50:19.243153Z"
    },
    "tags": []
   },
   "outputs": [
    {
     "data": {
      "text/plain": [
       "65536"
      ]
     },
     "execution_count": 6,
     "metadata": {},
     "output_type": "execute_result"
    }
   ],
   "source": [
    "2**16"
   ]
  },
  {
   "cell_type": "markdown",
   "id": "7b041d9b-1592-4940-80ed-1d79d8108449",
   "metadata": {},
   "source": [
    "Next up we have two closely related fields - the flag field and the fragmentation offset field. \n",
    "\n",
    "The **flag** field is used to indicate if a datagram is allowed to be fragmented or to indicate that the datagram has already been fragmented. \n",
    "\n",
    "**Fragmentation** is the process of taking a single IP datagram and splitting it up into several smaller datagrams. While most networks operate with similar settings in terms of what size and IP datagram is allowed to be sometimes this could be configured differently. If a datagram has to cross from a network allowing a larger datagram size to one with a smaller datagram size, the datagram would have to be fragmented into smaller ones. \n",
    "\n",
    "The **fragmentation offset** field contains values used by the receiving end to take all the parts of a fragmented packet and put them back together in the correct order. \n",
    "\n",
    "Let's move along to the **time to live (TTL)** field. This field is an `8 bit` field that indicates how many router hops a datagram can traverse before it's thrown away. Every time a datagram reaches a new router, that router deck remains the TTL field by one. Once this value reaches zero, a router knows it doesn't have to forward the datagram any further. The main purpose of this field is to make sure that when there's a miss configuration in routing that causes an endless loop datagrams don't spend all eternity trying to reach their destination. And endless loop could be when router `A` thinks router `B` is the next hop and router `B` thinks router `A` is the next hop. \n",
    "\n",
    "The **protocol field**. This is another `8 bit` field that contains data about what transport layer protocol is being used. The most common transport layer protocols are TCP and UDP. \n",
    "\n",
    "The **header checksum** field is a check sum of the contents of the entire IP datagram header. It functions very much like the ethernet checksum field. Since the TTL field has to be recomputed at every router that a datagram touches the check sum field necessarily changes too.\n",
    "\n",
    "Two very important fields are the **source** and **destination** IP address fields. Remember that an IP address is a `32 bit` number so it should come as no surprise that these fields are each 32 bits long up. \n",
    "\n",
    "The IP **options** field. This is an optional field and is used to set special characteristics for datagrams primarily used for testing purposes. \n",
    "\n",
    "The IP options field is usually followed by a **padding** field since the IP options field is both optional and variable in length. The padding field is just a series of zeroes used to ensure the header is the correct total size. \n",
    "\n",
    "The IP datagram is a data payload and this process is known as **encapsulation**. The entire contents of an IP datagram are encapsulated as the payload of an ethernet frame. You might have picked up on the fact that our IP datagram also has a payload section. The contents of this payload are the entirety of a TCP or UDP packet. Hopefully this helps you better understand why we talk about networking in terms of layers, each layer is needed for the one above it."
   ]
  },
  {
   "cell_type": "markdown",
   "id": "54869de9-4665-494e-bdee-d1224354f936",
   "metadata": {},
   "source": [
    "<center>\n",
    "    <a name=\"Encapsulation\"><img src=\"data/images/Screenshot from 2023-07-02 16-21-06.png\" style=\"width: 450px\"></a>\n",
    "    <p style=\"text-align: center\"><i>Encapsulation</i></p>"
   ]
  },
  {
   "cell_type": "markdown",
   "id": "27ce0424-ed65-4559-a91e-234cd6cb8d98",
   "metadata": {},
   "source": [
    "#### IPv4 Address Classes"
   ]
  },
  {
   "cell_type": "markdown",
   "id": "4c501c0d-cea9-4a3c-89b7-88d3c23af9ff",
   "metadata": {},
   "source": [
    "IP addresses can be split into two sections:\n",
    "- the network ID and \n",
    "- the host ID. \n",
    "\n",
    "Earlier, we mentioned that IBM owns all IP addresses that have a `9` as the value of the first octet in IP address. If we take an example IP address of `9.100.100.100`:\n",
    "- the **network ID** will be the first octet and \n",
    "- the **host ID** would be the second, third, and fourth octets. "
   ]
  },
  {
   "cell_type": "markdown",
   "id": "3148e297-b015-48a2-9e75-c7449b6cda78",
   "metadata": {},
   "source": [
    "<center>\n",
    "    <a name=\"IP\"><img src=\"data/images/Screenshot from 2023-07-02 19-46-20.png\" style=\"width: 250px\"></a>\n",
    "    <p style=\"text-align: center\"><i>IP</i></p>"
   ]
  },
  {
   "cell_type": "markdown",
   "id": "2dacbd67-2425-4566-a5f0-bf9b64a70f30",
   "metadata": {},
   "source": [
    "The **address class system** is a way of defining how the global IP address space is split up. There are three primary types of address classes: \n",
    "- Class A, \n",
    "- class B, and \n",
    "- class C. \n",
    "\n",
    "Class A addresses are those where the first octet is used for the network ID and the last three are used for the host ID. Class B addresses are where the first two octets are used for the network ID and the second two are used for the host ID. And class C addresses are those where the first three octets are used for the network ID and only the final octet is used for the host ID."
   ]
  },
  {
   "cell_type": "markdown",
   "id": "19d6af7b-c8e0-4f0e-9633-523d3ce39658",
   "metadata": {},
   "source": [
    "<center>\n",
    "    <a name=\"IPv4 Address Classes\"><img src=\"data/images/Screenshot from 2023-07-02 19-48-36.png\" style=\"width: 600px\"></a>\n",
    "    <p style=\"text-align: center\"><i>IPv4 Address Classes</i></p>"
   ]
  },
  {
   "cell_type": "markdown",
   "id": "a3000a21-a3c7-43f8-b0a8-e1b5eae9101e",
   "metadata": {},
   "source": [
    "Each address class represents a network of vastly different size. For example, since a class A network has a total of 24 bits of host ID space, this comes out to 2^24th or 16,777,216 individual addresses. Compare this with a Class C network which only has eight bits of host ID space. For a Class C network, this comes out to 2^8 or 256 addresses."
   ]
  },
  {
   "cell_type": "code",
   "execution_count": 8,
   "id": "73e855aa-67ce-4cc1-bb11-ccddfc0856f6",
   "metadata": {
    "execution": {
     "iopub.execute_input": "2023-07-02T13:55:26.380119Z",
     "iopub.status.busy": "2023-07-02T13:55:26.379308Z",
     "iopub.status.idle": "2023-07-02T13:55:26.386226Z",
     "shell.execute_reply": "2023-07-02T13:55:26.384665Z",
     "shell.execute_reply.started": "2023-07-02T13:55:26.380083Z"
    },
    "tags": []
   },
   "outputs": [
    {
     "name": "stdout",
     "output_type": "stream",
     "text": [
      "Class A network can have 16777216 addresses\n",
      "Class C network can have 256 addresses\n"
     ]
    }
   ],
   "source": [
    "A = 2**24\n",
    "C = 2**8\n",
    "\n",
    "print(f\"Class A network can have {A} addresses\")\n",
    "print(f\"Class C network can have {C} addresses\")"
   ]
  },
  {
   "cell_type": "markdown",
   "id": "5d0b7030-a077-4d15-9668-a2bdeaecc7b6",
   "metadata": {},
   "source": [
    "You can also tell exactly what address class an IP address belongs to just by looking at it. If the very first bit of an IP address is zero, it belongs to a Class A network. If the first bits are 10, it belongs to a Class B network. Finally, if the first bits are 110, it belongs to a Class C network. \n",
    "\n",
    "Since humans aren't great at thinking in binary, it's good to know that this also translates nicely to how these addresses are represented in dotted decimal notation. \n",
    "\n",
    "Each octet in an IP address is eight bits, which means each octet can take a value between zero and 255. If the first bit has to be a zero, as it is with the Class A address, the possible values for the first octet are `0-127`. This means that any IP address with a first octet with one of those values is a Class A address. Similarly, Class B addresses are restricted to those that begin with the first octet value of `128` through `191` and Class C addresses begin with the first octet value of `192` through `223`. \n",
    "\n",
    "This doesn't cover every possible IP address. That's because there are two other IP address classes, but they're not quite as important to understand. Class D addresses always begin with the bits 1110 and are used for multicasting, which is how a single IP datagram can be send to an entire network at once. These addresses begin with decimal values between `224` and `239`. Lastly, Class E addresses makeup all of the remaining IP addresses, but they are unassigned and only used for testing purposes. \n",
    "\n",
    "In practical terms, this class system has mostly been replaced by a system known as **Classless Inter-Domain Routing (CIDR)**. But the address class system is still in place in many ways and is important to understand for anyone looking for a well-rounded networking education."
   ]
  },
  {
   "cell_type": "code",
   "execution_count": null,
   "id": "ebe3045c-c82e-4b29-b8f9-64be55f6bb73",
   "metadata": {},
   "outputs": [],
   "source": [
    "1011_1111"
   ]
  },
  {
   "cell_type": "code",
   "execution_count": 17,
   "id": "15cf4e41-1ab4-431a-b7d9-3ca1842656cc",
   "metadata": {
    "execution": {
     "iopub.execute_input": "2023-07-02T14:10:52.994737Z",
     "iopub.status.busy": "2023-07-02T14:10:52.994319Z",
     "iopub.status.idle": "2023-07-02T14:10:53.004415Z",
     "shell.execute_reply": "2023-07-02T14:10:53.003490Z",
     "shell.execute_reply.started": "2023-07-02T14:10:52.994703Z"
    },
    "tags": []
   },
   "outputs": [
    {
     "data": {
      "text/plain": [
       "191"
      ]
     },
     "execution_count": 17,
     "metadata": {},
     "output_type": "execute_result"
    }
   ],
   "source": [
    "2**6 + 128 - 1"
   ]
  },
  {
   "cell_type": "markdown",
   "id": "143ce3f7-e8d7-4577-b828-10677dba4897",
   "metadata": {},
   "source": [
    "#### Address Resolution Protocol"
   ]
  },
  {
   "cell_type": "markdown",
   "id": "f022b93a-6e8d-4e47-9877-6dbe5d0402b9",
   "metadata": {},
   "source": [
    "**Address resolution protocol (ARP)** is a protocol used to discover the hardware address of a node (MAC Address) with a certain IP address. \n",
    "\n",
    "Once an IP datagram has been fully formed, it needs to be encapsulated inside an Ethernet frame. This means that the transmitting device needs a destination MAC address to complete the Ethernet frame header. Almost all network connected devices will retain a local ARP table. \n",
    "\n",
    "An **ARP table** is just a list of IP addresses and the MAC address is associated with them. Let's say we want to send some data to the IP address `10.20.30.40`. It might be the case that this destination doesn't have an entry in the ARP table. When this happens, the node that wants to send data sends a broadcast ARP message to the MAC Broadcast address, which is all `F`s. These kinds of broadcast ARP messages are delivered to all computers on the local network. When the network interface that's been assigned an IP of `10.20.30.40` receives this ARP broadcast, it sends back what's known as an **ARP response**. This response message will contain the MAC address for the network interface in question. Now the transmitting computer knows what MAC address to put in the destination hardware address field and the Ethernet frame is ready for delivery. It will also likely store this IP address in its local ARP table so that it won't have to send an ARP broadcast the next time it needs to communicate with this IP. \n",
    "\n",
    "ARP table entries generally expire after a short amount of time to ensure changes in the network are accounted for."
   ]
  },
  {
   "cell_type": "markdown",
   "id": "c1ee023a-ad59-4e4b-8417-eba7ca6fe6df",
   "metadata": {},
   "source": [
    "### Subnetting"
   ]
  },
  {
   "cell_type": "markdown",
   "id": "3a73d761-7836-4f8e-9a91-1969e119095f",
   "metadata": {},
   "source": [
    "In the most basic of terms, **subnetting** is the process of taking a large network and splitting it up into many individual smaller subnetworks or **subnets**. \n",
    "\n",
    "Address classes give us a way to break the total global IP space into discrete networks. If you want to communicate with the IP address `9.100.100.100`, **core routers** on the Internet know that this IP belongs to the 9.O.O.O Class A network. They then route the message to the **gateway router** responsible for the network by looking at the network ID. A gateway router specifically serves as the entry and exit path to a certain network. \n",
    "\n",
    "You can contrast this with core Internet routers, which might only speak to other core routers. Once your packet gets to the gateway router for the `9.O.O.O` Class A network, that router is now responsible for getting that data to the proper system by looking at the host ID. "
   ]
  },
  {
   "cell_type": "markdown",
   "id": "0d29ec4d-67d6-45fd-a206-6f16058019e4",
   "metadata": {},
   "source": [
    "<center>\n",
    "    <a name=\"Core and Gateway routers\"><img src=\"data/images/Screenshot from 2023-07-02 21-14-06.png\" style=\"width: 700px\"></a>\n",
    "    <p style=\"text-align: center\"><i>Core and Gateway routers</i></p>"
   ]
  },
  {
   "cell_type": "markdown",
   "id": "3cd499e8-b7ed-43dd-8c69-2d2b5b13a2a8",
   "metadata": {},
   "source": [
    "This all makes sense until you remember that a single Class A network contains `16,777,216` individual IPs. That's just way too many devices to connect to the same router. This is where subnetting comes in. With subnets, you can split your large network up into many smaller ones. These individual subnets will all have their own gateway router's serving as the ingress and egress point for each subnet."
   ]
  },
  {
   "cell_type": "markdown",
   "id": "aedf79fa-30e6-42b3-8ce7-6d868e9b4320",
   "metadata": {},
   "source": [
    "<div style=\"display: flex; flex-direction: row; align-items: center;\">\n",
    "    <div style=\"margin-left: 5%\">\n",
    "        <img src=\"data/images/Screenshot from 2023-07-02 21-16-16.png\" alt=\"IPv4 Address Classes\" style=\"width: 300px\">\n",
    "        <p style=\"text-align: center\"><i>IPv4 Address Classes</i></p>\n",
    "    </div>\n",
    "    <div style=\"margin-left: 10%; margin-top: 1.7%\">\n",
    "        <img src=\"data/images/Screenshot from 2023-07-02 21-18-48.png\" alt=\"IPv4 Address Classes\" style=\"width: 300px\">\n",
    "        <p style=\"text-align: center\"><i>IPv4 Address Classes</i></p>\n",
    "    </div>    \n",
    "</div>   "
   ]
  },
  {
   "cell_type": "markdown",
   "id": "64b8b7a7-f7ce-4d15-a37e-6a8748406387",
   "metadata": {},
   "source": [
    "#### Subnet Masks"
   ]
  },
  {
   "cell_type": "markdown",
   "id": "6ba205f3-b35b-4c8a-b076-b732823771da",
   "metadata": {},
   "source": [
    "An IP address is just a `32-bit` number. In a world without subnets, a certain number of these bits are used for the network ID and a certain number of the bits are used for the host ID."
   ]
  },
  {
   "cell_type": "markdown",
   "id": "716d38ad-90e6-401c-a060-beece64908bb",
   "metadata": {},
   "source": [
    "<center>\n",
    "    <img src=\"data/images/Screenshot from 2023-07-02 22-18-23.png\" alt=\"Network ID and Host ID\" style=\"width: 200px\">\n",
    "    <p style=\"text-align: center\"><i>Network ID and Host ID</i></p>"
   ]
  },
  {
   "cell_type": "markdown",
   "id": "f490a55d-0256-49c7-808c-ca6988a38634",
   "metadata": {},
   "source": [
    "In a world _with_ subnetting, some bits that would normally comprise the host ID are actually used for the **subnet ID**. With all three of these IDs representable by a single IP address, we now have a single 32-bit number that can be accurately delivered across many different networks. \n",
    "\n",
    "At the Internet level, core routers only care about the network ID and use this to send the datagram along to the appropriate gateway router to that network. That gateway router then has some additional information that it can use to send the datagram along to the destination machine or the next router in the path to get there. Finally, the host ID is used by that last router to deliver the datagram to the intended recipient machine. "
   ]
  },
  {
   "cell_type": "markdown",
   "id": "8320569d-6320-467c-99de-be10ab6a58a0",
   "metadata": {},
   "source": [
    "<center>\n",
    "    <img src=\"data/images/Screenshot from 2023-07-02 22-21-14.png\" alt=\"Network ID, Subnet ID and Host ID\" style=\"width: 200px\">\n",
    "    <p style=\"text-align: center\"><i>Network ID, Subnet ID and Host ID</i></p>"
   ]
  },
  {
   "cell_type": "markdown",
   "id": "827bdb44-a80a-4366-8da8-8a48cdfd11b7",
   "metadata": {},
   "source": [
    "Subnet IDs are calculated via what's known as a **subnet mask**. Just like an IP address, subnet masks are `32-bit` numbers that are normally written out as four octets in decimal. The easiest way to understand how subnet masks work is to compare one to an IP address. \n",
    "\n",
    "Let's work with the IP address `9.100.100.100` again. Each part of an IP address is an octet, which means that it consists of eight bits. The number `9` in binary is just `1001`. But since each octet needs eight bits, we need to pad it with some zeros in front. As far as an IP address is concerned, having a number `9` as the first octet is actually represented as `0000 1001`. "
   ]
  },
  {
   "cell_type": "code",
   "execution_count": 36,
   "id": "d5c43f76-3f4c-4262-b3db-e6f379fd80d7",
   "metadata": {
    "execution": {
     "iopub.execute_input": "2023-07-02T17:12:36.654452Z",
     "iopub.status.busy": "2023-07-02T17:12:36.653933Z",
     "iopub.status.idle": "2023-07-02T17:12:36.661273Z",
     "shell.execute_reply": "2023-07-02T17:12:36.659775Z",
     "shell.execute_reply.started": "2023-07-02T17:12:36.654422Z"
    },
    "tags": []
   },
   "outputs": [
    {
     "data": {
      "text/plain": [
       "'0b1001'"
      ]
     },
     "execution_count": 36,
     "metadata": {},
     "output_type": "execute_result"
    }
   ],
   "source": [
    "bin(9)"
   ]
  },
  {
   "cell_type": "code",
   "execution_count": 39,
   "id": "3486d933-4a59-4a34-a79a-11b64923df00",
   "metadata": {
    "execution": {
     "iopub.execute_input": "2023-07-02T17:14:24.995254Z",
     "iopub.status.busy": "2023-07-02T17:14:24.994819Z",
     "iopub.status.idle": "2023-07-02T17:14:25.003722Z",
     "shell.execute_reply": "2023-07-02T17:14:25.002060Z",
     "shell.execute_reply.started": "2023-07-02T17:14:24.995215Z"
    },
    "tags": []
   },
   "outputs": [
    {
     "data": {
      "text/plain": [
       "9"
      ]
     },
     "execution_count": 39,
     "metadata": {},
     "output_type": "execute_result"
    }
   ],
   "source": [
    "8 + 1\n",
    "2**3 + 2**0"
   ]
  },
  {
   "cell_type": "markdown",
   "id": "62d01a21-501e-4037-9b52-28366a390abe",
   "metadata": {},
   "source": [
    "Similarly, the numeral `100` as an eight-bit number is 0110 0100."
   ]
  },
  {
   "cell_type": "code",
   "execution_count": 24,
   "id": "a28e4e64-3417-483c-9e1c-6152fa261312",
   "metadata": {
    "execution": {
     "iopub.execute_input": "2023-07-02T17:00:57.987234Z",
     "iopub.status.busy": "2023-07-02T17:00:57.986832Z",
     "iopub.status.idle": "2023-07-02T17:00:57.993683Z",
     "shell.execute_reply": "2023-07-02T17:00:57.992463Z",
     "shell.execute_reply.started": "2023-07-02T17:00:57.987206Z"
    },
    "tags": []
   },
   "outputs": [
    {
     "data": {
      "text/plain": [
       "'0b1100100'"
      ]
     },
     "execution_count": 24,
     "metadata": {},
     "output_type": "execute_result"
    }
   ],
   "source": [
    "bin(100)"
   ]
  },
  {
   "cell_type": "code",
   "execution_count": 27,
   "id": "aca8b15d-e365-47c2-9750-cb920a5f3abf",
   "metadata": {
    "execution": {
     "iopub.execute_input": "2023-07-02T17:02:12.275706Z",
     "iopub.status.busy": "2023-07-02T17:02:12.274836Z",
     "iopub.status.idle": "2023-07-02T17:02:12.284893Z",
     "shell.execute_reply": "2023-07-02T17:02:12.283420Z",
     "shell.execute_reply.started": "2023-07-02T17:02:12.275644Z"
    },
    "tags": []
   },
   "outputs": [
    {
     "data": {
      "text/plain": [
       "100"
      ]
     },
     "execution_count": 27,
     "metadata": {},
     "output_type": "execute_result"
    }
   ],
   "source": [
    "64 + 32 + 4\n",
    "2**6 + 2**5 + 2**2"
   ]
  },
  {
   "cell_type": "markdown",
   "id": "4ebaa6f9-63cd-4761-844c-0ec87b2f149e",
   "metadata": {},
   "source": [
    "The entire binary representation of the IP address `9.100.100.100` is a lot of ones and zeros. "
   ]
  },
  {
   "cell_type": "markdown",
   "id": "44186e37-06e2-4d73-baef-28f080b38a44",
   "metadata": {},
   "source": [
    "<center>\n",
    "    <img src=\"data/images/Screenshot from 2023-07-02 23-17-31.png\" alt=\"IP address in binary\" style=\"width: 600px\">\n",
    "    <p style=\"text-align: center\"><i>IP address in binary</i></p>"
   ]
  },
  {
   "cell_type": "markdown",
   "id": "3b4bae3d-d727-4c1e-b461-b97e71b2b25f",
   "metadata": {},
   "source": [
    "A subnet mask is a binary number that has two sections. \n",
    "\n",
    "The beginning part, which is the mask itself, is a string of ones and just zeros come after this. The subnet mask, which is the part of the number with all the ones, tells us what we can ignore when computing a host ID. The part with all the zeros tells us what to keep. \n",
    "\n",
    "Let's use the common subnet mask of `255.255.255.0.` This would translate to 24 ones followed by eight zeros. The purpose of the mask or the part that's all ones, is to tell a router what part of an IP address is the subnet ID. \n",
    "\n",
    "For `9.100.100.100 `a class A network. We know that this is just the first octet. This leaves us with the last three octets. Let's take those remaining octets and imagine them next to the subnet mask in binary form. The numbers in the remaining octets that have a corresponding one in the subnet mask are the subnet ID. The numbers in the remaining octets that have a corresponding zero are the host ID. \n",
    "\n",
    "The size of a subnet is entirely defined by its subnet mask. For example, with a subnet mask of `255.255.255.0`, we know that only the last octet is available for host IDs regardless of what size the network and subnet IDs are. A single eight-bit number can represent 256 different numbers, or more specifically, the numbers 0-255. "
   ]
  },
  {
   "cell_type": "markdown",
   "id": "074c110e-e1d0-4f9f-924a-6d5d569abdbf",
   "metadata": {},
   "source": [
    "<center>\n",
    "    <img src=\"data/images/Screenshot from 2023-07-02 23-32-43.png\" alt=\"Subnet mask\" style=\"width: 600px\">\n",
    "    <p style=\"text-align: center\"><i>Subnet mask</i></p>"
   ]
  },
  {
   "cell_type": "markdown",
   "id": "2882d0f0-e369-457b-8b84-f0cf66ca5c14",
   "metadata": {},
   "source": [
    "This is a good time to point out that in general, a subnet can usually only contain two less than the total number of host IDs available. Again, using a subnet mask of 255.255.255.0, we know that the octet available for host IDs can contain the numbers 0-255, but zero is generally not used, and 255 is normally reserved as a broadcast address for the subnet. This means that really only the numbers `1-254` are available for assignment to a host. \n",
    "\n",
    "While this total number less than two approach is almost always true, generally speaking, you'll refer to the number of hosts available in a subnet as the entire number. Even if it's understood that two addresses aren't available for assignment, you'd still say that eight-bits of host ID space have 256 addresses available, not 254. This is because those other IPs are still IP addresses, even if they aren't assigned directly to a node on that subnet. \n",
    "\n",
    "Now, let's look at a subnet mask that doesn't draw its boundaries at an entire octet or eight-bits of address. The subnet mask `255.255.255.224` would translate to `27` ones followed by five zeros. This means that we have five bits of host ID space or a total of 32 addresses. This brings up a shorthand way of writing subnet masks. \n",
    "\n",
    "Let's say we're dealing with our old friend, `9.100.100.100` with a subnet mask of `255.255.255.224`. Since that subnet mask represents `27` ones followed by five zeros, a quicker way of referencing this is with the notation `/27`. The entire IP and subnet mask could be written out as \n",
    "\n",
    "$$\n",
    "9.100.100.100/27\n",
    "$$\n",
    "\n",
    "Neither notation is necessarily more common than the other, so it's important to understand both."
   ]
  },
  {
   "cell_type": "code",
   "execution_count": 42,
   "id": "eb992d11-f4b3-4011-af1d-8f019f48b16a",
   "metadata": {
    "execution": {
     "iopub.execute_input": "2023-07-02T17:29:38.321184Z",
     "iopub.status.busy": "2023-07-02T17:29:38.320545Z",
     "iopub.status.idle": "2023-07-02T17:29:38.327965Z",
     "shell.execute_reply": "2023-07-02T17:29:38.326494Z",
     "shell.execute_reply.started": "2023-07-02T17:29:38.321144Z"
    },
    "tags": []
   },
   "outputs": [
    {
     "data": {
      "text/plain": [
       "5"
      ]
     },
     "execution_count": 42,
     "metadata": {},
     "output_type": "execute_result"
    }
   ],
   "source": [
    "(255-224).bit_length()"
   ]
  },
  {
   "cell_type": "code",
   "execution_count": 43,
   "id": "70974a65-4b4a-4849-a9f0-69731bf3a9ac",
   "metadata": {
    "execution": {
     "iopub.execute_input": "2023-07-02T17:30:10.705214Z",
     "iopub.status.busy": "2023-07-02T17:30:10.704238Z",
     "iopub.status.idle": "2023-07-02T17:30:10.725391Z",
     "shell.execute_reply": "2023-07-02T17:30:10.719318Z",
     "shell.execute_reply.started": "2023-07-02T17:30:10.705159Z"
    },
    "tags": []
   },
   "outputs": [
    {
     "data": {
      "text/plain": [
       "32"
      ]
     },
     "execution_count": 43,
     "metadata": {},
     "output_type": "execute_result"
    }
   ],
   "source": [
    "2**5"
   ]
  },
  {
   "cell_type": "markdown",
   "id": "8e0e501e-85f9-49fb-a318-8fad3545389f",
   "metadata": {},
   "source": [
    "<center>\n",
    "    <img src=\"data/images/Screenshot from 2023-07-02 23-37-41.png\" alt=\"CIDR notation\" style=\"width: 400px\">\n",
    "    <p style=\"text-align: center\"><i>CIDR notation</i></p>"
   ]
  },
  {
   "cell_type": "markdown",
   "id": "944587f0-4d54-4a83-af68-11122b31c003",
   "metadata": {},
   "source": [
    "#### Basic Binary Math"
   ]
  },
  {
   "cell_type": "markdown",
   "id": "b26cef6e-eb5c-43ef-84bd-b2534dcbe1e1",
   "metadata": {},
   "source": [
    "A subnet mask is a way for a computer to use `and` operators to determine if an IP address exists on the same network. This means that the host ID portion is also known since it'll be anything left out. \n",
    "\n",
    "Let's use the binary representation of IP address `9.100.100.100` and subnet mask `255.255.255.0.` Once you put one on top of the other and perform a binary and operator on each column you'll notice that the result is the network ID and subnet ID portion of our IP address, or `9.100.100`. The computer that just perform this operation can now compare the results with its own network ID to determine if the address is on the same network or a different one."
   ]
  },
  {
   "cell_type": "markdown",
   "id": "0068ad1c-30dd-441d-ad41-567a8ee3eb69",
   "metadata": {},
   "source": [
    "<center>\n",
    "    <img src=\"data/images/Screenshot from 2023-07-02 23-45-16.png\" alt=\"Subnet mask\" style=\"width: 400px\">\n",
    "    <p style=\"text-align: center\"><i>Subnet mask</i></p>"
   ]
  },
  {
   "cell_type": "markdown",
   "id": "ee5c1c1a-5bc9-44cd-a1bb-01b7c15815e3",
   "metadata": {},
   "source": [
    "#### CIDR"
   ]
  },
  {
   "cell_type": "markdown",
   "id": "32cb0c6c-0c65-43c8-bf4d-5b8006e76a12",
   "metadata": {},
   "source": [
    "Address classes were the first attempt that splitting up the global Internet IP space. Subnetting was introduced when it became clear that address classes themselves weren't a sufficient way of keeping everything organized. But as the Internet continued to grow, traditional subnetting just couldn't keep up. \n",
    "\n",
    "With traditional subnetting and the address classes, the network ID is always either eight bit for class A networks, 16 bit for Class B networks, or 24 bits for class C networks. This means that there might only be 254 classing networks in existence. But it also means there are 2,097,152 potential class C networks. That's a lot of entries in a routing table. \n",
    "\n",
    "To top it all off, the sizing of these networks aren't always appropriate for the needs of most businesses. 254 hosts in a class C network is too small for many use cases. But the 65,534 hosts available for use in a class B network is often way too large. \n",
    "\n",
    "Many companies ended up with various adjoining class C networks to meet their needs. That meant that routing tables ended up with a bunch of entries for a bunch of class C networks that were all actually being routed to the same place. This is where **classless inter-domain routing (CIDR)** comes into play. \n",
    "\n",
    "CIDR is even more flexible approach to describing blocks of IP addresses. It expands on the concept of subnetting by using subnet masks to demarcate networks. To demarcate something means to set something off. When discussing computer networking, you will often hear the term **demarcation point** to describe where one network or system ends and another one begins. \n",
    "\n",
    "In our previous model, we relied on a network ID, subnet ID, and host ID to deliver an IP datagram to the correct location. With CIDR, the network ID and subnet ID are combined into one. CIDR is where we get this shorthand slash notation that we discussed in the earlier video on subnetting. This slash notation is also known as **CIDR notation**. CIDR basically just abandons the concept of address classes entirely, allowing an address to be defined by only two individual IDs. \n",
    "\n",
    "Let's take `9.100.100.100` with a net mask of `255.255.255.0`. Remember, this can also be written as `9.100.100.100/24`. In a world where we no longer care about the address class of this IP, all we need is what the network mask tells us to determine the network ID. In this case, that would be `9.100.100`. The host ID remains the same. \n",
    "\n",
    "This practice not only simplifies how routers and other network devices need to think about parts of an IP address, but it also allows for more arbitrary network sizes. Before, network sizes were static, think only class A, class B, or class C, and only subnets could be of different sizes. CIDR allows for networks themselves to be differing sizes. Before this, if a company needed more addresses than a single class C could provide, they need an entire second class C. With CIDR they could combine that address space into one contiguous chunk with a net mask of slash 23 or `255.255.254.0`.\n",
    "\n",
    "This means that routers now only need to know one entry in the routing table to deliver traffic to these addresses instead of two. It's also important to call out that you get additional available host IDs out of this practice. \n",
    "\n",
    "Remember that you always lose two host IDs per network. If a slash 24 network has 2^8 or 256 potential hosts, you really only have 256 - 2 or 254 available IPs to assign. If you need two networks of this size, you have a total of 254 + 254 or 508 hosts. A single slash 23 network, on the other hand, is 2^9 or 512, 512 - 2, 510 hosts."
   ]
  },
  {
   "cell_type": "markdown",
   "id": "15b023c5-74c2-4d4a-8591-8b2b4c67a616",
   "metadata": {},
   "source": [
    "### Basic Routing Concepts"
   ]
  },
  {
   "cell_type": "markdown",
   "id": "fb25ccc0-719a-4c35-bd68-412ca8c1ac83",
   "metadata": {},
   "source": [
    "#### Basics"
   ]
  },
  {
   "cell_type": "markdown",
   "id": "f7bc1e87-26e2-43dd-a7b9-e4f04d477199",
   "metadata": {},
   "source": [
    "From a very basic standpoint, a router is a network device that forwards traffic depending on the destination address of that traffic. \n",
    "\n",
    "A router is a device that has at least two network interfaces since it has to be connected to two networks to do its job. \n",
    "\n",
    "> **Interface**: For a router, the port where a router connects to a network. A router gives and receives data through its interfaces. These are also used as part of the routing table.\n",
    "\n",
    "Basic routing has just a few steps. \n",
    "- One, a router receives a packet of data on one of its interfaces. \n",
    "- Two, the router examines the destination IP of this packet. \n",
    "- Three, the router then looks up the destination network of this IP in its routing table. \n",
    "- Four, the router forwards that out through the interface that's closest to the remote network as determined by additional info within the routing table. \n",
    "\n",
    "These steps are repeated as often as needed until the traffic reaches its destination. "
   ]
  },
  {
   "cell_type": "markdown",
   "id": "0a899ec9-32e5-42b4-8dea-d015df403665",
   "metadata": {},
   "source": [
    "<center>\n",
    "    <img src=\"data/images/Screenshot from 2023-07-03 01-00-19.png\" alt=\"Basic Routing\" style=\"width: 600px\">\n",
    "    <p style=\"text-align: center\"><i>Basic Routing</i></p>"
   ]
  },
  {
   "cell_type": "markdown",
   "id": "fef24067-002f-4275-8eab-171dc17b2744",
   "metadata": {},
   "source": [
    "Let's imagine a router connected to two networks. We'll call the first network \"network A\" and give it an address space of `192.168.1.0/24`. We'll call the second network \"network B\" and give it an address space of `10.0.0.0/24`. The router has an interface on each network. \n",
    "\n",
    "On network A, it has an IP of `192.168.1.1 `and on network B it has an IP of `10.0.0.254`. Remember IP addresses belong to networks, not individual nodes on a network. A computer on network A with an IP address of `192.168.1.100` sends a packet to the address `10.0.0.10`. This computer knows that `10.0.0.10` isn't on its local subnets. So it sends this packet to the MAC address of its gateway, the router. The router's interface on network A receives the packet because it sees that destination MAC address belongs to it. The router then strips away the data link layer encapsulation, leaving the network layer content, the IP datagram. Now, the router can directly inspect the IP datagram header for the destination IP field. \n",
    "\n",
    "It finds the destination IP of `10.0.0.10`. The router looks at its routing table and sees that network B or the `10.0.0.0/24`, network is the correct network for the destination IP. It also sees that this network is only one hop away in fact, since it's directly connected, the router even has the MAC address for this IP in its ARP table. \n",
    "\n",
    "Next, the router needs to form a new packet to forward along to network B, it takes all of the data from the first IP datagram and duplicates it, but it detriments the TTL field by one and calculates a new checksum. Then, it encapsulates this new IP datagram inside of a new Ethernet frame. This time it sets its own MAC address of the interface on network B as the source MAC address. Since it has the MAC address of `10.0.0.10` in its ARP table, it sets that as the destination MAC address. Lastly, the packet is sent out of its interface on network B and the data finally gets delivered to the node living at `10.0.0.10`. "
   ]
  },
  {
   "cell_type": "markdown",
   "id": "d3652a36-7c5c-415e-8fa0-8fd26310aba9",
   "metadata": {},
   "source": [
    "<center>\n",
    "    <img src=\"data/images/Screenshot from 2023-07-03 01-02-55.png\" alt=\"Basic Routing\" style=\"width: 600px\">\n",
    "    <p style=\"text-align: center\"><i>Basic Routing</i></p>"
   ]
  },
  {
   "cell_type": "markdown",
   "id": "f245cf40-4fdb-45c8-83fd-11ca09eabfa0",
   "metadata": {},
   "source": [
    "That's a pretty basic example of how routing works, but let's make it a little more complicated and introduce a third network. Everything else is still the same. \n",
    "\n",
    "We have network A whose address space is `192.168.1.0/24`, we have network B whose address space is `10.0.0.0/24`. The router that bridges these two networks still has the IPs of `192.168.1.1` on network A and `10.0.0.254` on network B. But let's introduce a third network, \"network C\" it has an address space of `172.16.1.0/23`. There's a second router connecting network B and network C, its interface on network B has an IP of `10.0.0.1` and its interface on network C has an IP of `172.16.1.1`. \n",
    "\n",
    "This time around our computer at `192.168.1.100` wants to send some data to the computer that has an IP of `172.16.1.100`. We'll skip the data link layer stuff, but remember that it's still happening of course. The computer at `192.168.1.100 `knows that `172.16.1.100` is not on its local network. So it sends the packet to its gateway, the router between network A network B. Again, the router inspects the content of this packet, it sees a destination address of `172.16.1.100`. And through a look up of its routing table, it knows that the quickest way to get to the `172.16.1.0 /23` network is via another router with an IP of `10.0.0.1`. \n",
    "\n",
    "The router detriments the TTL field and sends it along to the router of `10.0.0.1`. This router then goes through the motions, knows that the destination IP of `172.16.1.100` is directly connected and forwards the packet to its final destination."
   ]
  },
  {
   "cell_type": "markdown",
   "id": "bcce28de-67fb-49c5-87ee-879f488dd969",
   "metadata": {},
   "source": [
    "<center>\n",
    "    <img src=\"data/images/Screenshot from 2023-07-03 01-06-15.png\" alt=\"BMore complicated example of Routing\" style=\"width: 700px\">\n",
    "    <p style=\"text-align: center\"><i>More complicated example of Routing</i></p>"
   ]
  },
  {
   "cell_type": "markdown",
   "id": "3f0a5247-90ed-43de-bd57-40228764b1c1",
   "metadata": {},
   "source": [
    "That's the basics of routing. The only difference between our examples and how things work on the internet is scale. Routers are usually connected to many more than just two networks. Very often your traffic may have to cross a dozen routers before it reaches its final destination. And finally, in order to protect against breakages, core internet routers are typically connected in a mesh, meaning that there might be many different paths for a packet to take. Still, the concepts are all the same: Routers inspect the destination IP, look at their routing table to determine which path is the quickest and forward the packet along the path. This happens over and over every single packet, making up every single bit of traffic all over the internet at all times."
   ]
  },
  {
   "cell_type": "markdown",
   "id": "b8575c53-ad53-4fdc-a234-557fdb7b6dca",
   "metadata": {},
   "source": [
    "#### Routing Tables"
   ]
  },
  {
   "cell_type": "markdown",
   "id": "485e0532-8c12-4cbc-88f9-3381337e906f",
   "metadata": {},
   "source": [
    "The earliest routers were just regular computers of the era. They had two network interfaces, bridged two networks and had a routing table that was manually updated. In fact, all major operating systems today still have a routing table that they consult before transmitting data. You can still build your own router today if you have a computer with two network interfaces and a manually updated routing table. \n",
    "\n",
    "Routing tables can vary a ton depending on the make and class of the router, but they all share a few things in common. \n",
    "\n",
    "The most basic routing table will have four columns. "
   ]
  },
  {
   "cell_type": "markdown",
   "id": "66f44beb-8ac0-40c6-8022-4160796521de",
   "metadata": {},
   "source": [
    "<center>\n",
    "    <img src=\"data/images/Screenshot from 2023-07-03 01-13-42.png\" alt=\"Basic routing table\" style=\"width: 600px\">\n",
    "    <p style=\"text-align: center\"><i>Basic routing table</i></p>"
   ]
  },
  {
   "cell_type": "markdown",
   "id": "a033318b-fcd3-46a6-b738-2e8a7461f6e1",
   "metadata": {},
   "source": [
    "**Destination network**. This column would contain a row for each network that the router knows about. This is just the definition of the remote network: a network ID and the net mask. These can be stored in one column inside a notation, or the network ID and net mask might be in a separate column. Either way, it's the same concept. The router has a definition for a network and therefore knows what IP addresses might live on that network. When the router receives an incoming packet, it examines the destination IP address and determines which network it belongs to. A routing table will generally have a catch-all entry that matches any IP address that it doesn't have an explicit network listing for. \n",
    "\n",
    "**Next hop**. This is the IP address of the next router that should receive data intended for the destination networking question, or this could just state the network is directly connected and that there aren't any additional hops needed. \n",
    "\n",
    "**Total hops**. This is the crucial part to understand routing and how routing tables work. On any complex network like the Internet, there will be lots of different paths to get from point A to point B. Routers try to pick the shortest possible path at all times to ensure timely delivery of data. But the shortest possible path to a destination network is something that could change over time, sometimes rapidly:\n",
    "- Intermediary routers could go down. L\n",
    "- inks could become disconnected and new routers could be introduced. \n",
    "- Traffic congestion could cause certain routes to become too slow to use. \n",
    "\n",
    "For each next hop and each destination network, the router will have to keep track of how far away that destination currently is. That way, when it receives updated information from neighboring routers, it will know if it currently knows about the best path, or if they know better path with available interface. The router also has to know which of its interfaces it should forward traffic, matching the destination network out of. \n",
    "\n",
    "In most cases, routing tables are pretty simple. The really impressive part is that many core Internet routers have millions of rows in the routing tables. These must be consulted for every single packet that flows through a router on its way to its final destination."
   ]
  },
  {
   "cell_type": "markdown",
   "id": "f7390f0c-ab99-4bc8-8379-4f22e6b21900",
   "metadata": {},
   "source": [
    "#### Interior Gateway Protocols"
   ]
  },
  {
   "cell_type": "markdown",
   "id": "85485147-78a2-48c4-9317-d3eaa09e12b4",
   "metadata": {},
   "source": [
    "The real magic of routing is in the way that routing tables are always updated with new information about the quickest path to destination networks. In order to learn about the world around them, routers use what are known as **routing protocols**. These are special protocols, the routers use to speak to each other in order to share what information they might have. This is how a router on one side of the planet can eventually learn about the best path to a network on the other side of the planet. \n",
    "\n",
    "Routing protocols fall into two main categories. Interior gateway protocols and exterior gateway protocols. \n",
    "\n",
    "**Interior gateway protocols** are used by routers to share information within a single autonomous system. In networking terms, \n",
    "\n",
    "> an **autonomous system** is a collection of networks that all fall under the control of a single network operator. \n",
    "\n",
    "The best example of this would be a large corporation that needs to route data between their many offices and each of which might have their own local area network. Another example is the many routers employed by an internet service provider whose reaches are usually national in scale. \n",
    "\n",
    "You can contrast this with **exterior gateway protocols** which are used for the exchange of information between independent autonomous systems. "
   ]
  },
  {
   "cell_type": "markdown",
   "id": "933f4ce5-8581-4f75-bc84-c05290688986",
   "metadata": {},
   "source": [
    "<center>\n",
    "    <img src=\"data/images/Screenshot from 2023-07-03 01-36-59.png\" alt=\"autonomous system\" style=\"width: 600px\">\n",
    "    <p style=\"text-align: center\"><i>Autonomous system</i></p>"
   ]
  },
  {
   "cell_type": "markdown",
   "id": "7cdf3a13-9bf6-410c-bd9a-a72e7e9f2f37",
   "metadata": {},
   "source": [
    "The two main types of interior gateway protocols are \n",
    "- **distance vector protocols** and \n",
    "- **link state routing protocols**. \n",
    "\n",
    "Their goals are super similar, but the routers that employ them share different kinds of data to get the job done. \n",
    "\n",
    "**Distance vector protocols** are an older standard. A router using a distance vector protocol basically just takes its routing table, which is a list of every network known to it and how far away these networks are in terms of hops. Then the router sends this list to every neighboring router which is basically every router directly connected to it.\n",
    "\n",
    "In computer science, a list is known as a **vector**. This is why a protocol that just sends a list of distances to networks is known as a distance vector protocol. With a distance vector protocol, routers don't really know that much about the total state of an autonomous system. They just have some information about their immediate neighbors. \n",
    "\n",
    "For a basic glimpse into how distance vector protocols work let's look at how two routers might influence each other's routing tables. Router A has a routing table with a bunch of entries. One of these entries is for `10.1.1.0/24` network which we refer to as network X. Router A believes that the quickest path to network X is through its own interface to which is where router C is connected. Router A knows that sending data intended for network X through interface to Router C means it'll take four hops to get to the destination. Meanwhile, Router B is only two hops removed from network X and this is reflected in its routing table. Router B using a distance vector protocol sends the basic contents of its routing table to Router A. Router A sees that network X is only two hops away from Router B. Even with the extra hop to get from Router A to Router B, this means that Network X is only three hops away from router A. If it forwards data to Router B instead of router C, armed with this new information, Router A updates its routing table to reflect this. In order to reach network X in the fastest way it should forward traffic through its own interface one to router B. "
   ]
  },
  {
   "cell_type": "markdown",
   "id": "10dd31eb-f56c-40f8-bd0c-fcbee3c4a30a",
   "metadata": {},
   "source": [
    "<center>\n",
    "    <img src=\"data/images/Screenshot from 2023-07-03 01-39-44.png\" alt=\"distance vector protocols\" style=\"width: 500px\">\n",
    "    <p style=\"text-align: center\"><i>distance vector protocols</i></p>"
   ]
  },
  {
   "cell_type": "markdown",
   "id": "a90d6e04-31f5-4fe3-b81e-558458e3c6b7",
   "metadata": {},
   "source": [
    "Distance vector protocols are pretty simple, but they don't allow for a router to have much information about the state of the world outside of their own direct neighbors. Because of this, a router might be slow to react to a change in the network far away from it. This is why link state protocols were eventually invented. \n",
    "\n",
    "Routers using a link state protocol take more sophisticated approach to determining the best path to a network. Link state protocols get their name because each router advertises the state of the link of each of its interfaces. These interfaces could be connected to other routers or they could be direct connections to networks. The information about each router is propagated to every other router on the autonomous system. This means that every router on the system knows every detail about every other router in the system. Each router then uses this much larger set of information and runs complicated algorithms against it to determine what the best path to any destination network might be. \n",
    "\n",
    "**Link state protocols** require both more memory in order to hold all of this data and also much more processing power. This is because it has to run algorithms against this data in order to determine the quickest path to update the routing tables. As computer hardware has become more powerful and cheaper, over the years, link state protocols have mostly made distance vector protocols outdated."
   ]
  },
  {
   "cell_type": "markdown",
   "id": "e0d59e54-f8a1-4a9a-8dd5-81c63473e933",
   "metadata": {},
   "source": [
    "<center>\n",
    "    <img src=\"data/images/Screenshot from 2023-07-03 01-42-40.png\" alt=\"Link state protocols\" style=\"width: 400px\">\n",
    "    <p style=\"text-align: center\"><i>Link state protocols</i></p>"
   ]
  },
  {
   "cell_type": "markdown",
   "id": "0714b77e-53d1-45a2-83ea-7d919d9ecf6f",
   "metadata": {},
   "source": [
    "#### Exterior Gateways, Autonomous Systems, and the IANA"
   ]
  },
  {
   "cell_type": "markdown",
   "id": "d832a9c4-8e27-4234-8765-4579a24934b4",
   "metadata": {},
   "source": [
    "<center>\n",
    "    <img src=\"data/images/Screenshot from 2023-07-03 01-51-30.png\" alt=\"Exterior gateway\" style=\"width: 700px\">\n",
    "    <p style=\"text-align: center\"><i>Exterior gateway</i></p>"
   ]
  },
  {
   "cell_type": "markdown",
   "id": "cf9213d5-b8ac-4e28-b98d-7cf966295773",
   "metadata": {},
   "source": [
    "Exterior gateway protocols are used to communicate data between routers representing the edges of an autonomous system. \n",
    "\n",
    "Since routers sharing data using interior gateway protocols are all under control of the same organization routers use exterior gateway protocols when they need to share information across different organizations. Exterior gateway protocols are really key to the Internet operating how it does today. \n",
    "\n",
    "The Internet is an enormous mesh of autonomous systems. At the highest levels, core Internet routers need to know about autonomous systems in order to properly forward traffic. Since autonomous systems are known and defined collections of networks, getting data to the edge router of an autonomous system is the number 1 goal of core Internet routers. \n",
    "\n",
    "The **Internet Assigned Numbers Authority (IANA)** is a nonprofit organization that helps manage things like IP address allocation. The Internet couldn't function without a single authority for these sorts of issues. Otherwise anyone could try and use any IP space they wanted, which would cause total chaos online. \n",
    "\n",
    "Along with managing IP address allocation, the IANA is also responsible for **Autonomous System Number (ASN)** allocation. \n",
    "\n",
    "> ASNs are numbers assigned to individual autonomous systems. \n",
    "\n",
    "Just like IP addresses ASNs are 32 bit numbers, but unlike IP addresses they're normally referred to as just a single decimal number instead of being split out into readable bits. There are two reasons for this, first, IP addresses need to be able to represent a network ID portion and a host ID portion for each number. This is more easily accomplished by splitting the number in four sections of eight bits, especially back in the day when address classes ruled the world. An ASN never needs to change in order for it to represent more networks or hosts, it's just the core Internet routing tables that need to be updated to know what the ASN represents. \n",
    "\n",
    "Second, ASNs are looked at by humans far less often than IP addresses are. So, because it can be useful to be able to look at the IP `9.100.100.100` and know that `9.0.0.0/8` address space is owned by IBM, ASNs represent entire autonomous systems. Just being able to look up the fact that `AS19604` belongs to IBM is enough. Unless you one day end up working at an Internet service provider, understanding more details about how exterior gateway protocols work is out of scope for most people in IT. But grasping the basics of autonomous systems, ASNs, and how core Internet routers route traffic between them is important to understand some of the basic building blocks of the Internet."
   ]
  },
  {
   "cell_type": "markdown",
   "id": "cd84fbb6-fab7-410c-b0c4-44fec9554730",
   "metadata": {},
   "source": [
    "#### Supplemental Reading for Routing Protocol Examples"
   ]
  },
  {
   "cell_type": "markdown",
   "id": "8e188c95-838a-4a6f-9c74-14fa6c695d40",
   "metadata": {},
   "source": [
    "Many network protocols are implemented based on specifications published by the Internet Engineering Task Force ([IETF](https://www.ietf.org/)).\n",
    "\n",
    "The most common distance vector protocols are [RIP](https://en.wikipedia.org/wiki/Routing_Information_Protocol), or Routing Information Protocol ([IETF RFC2453](https://tools.ietf.org/html/rfc2453)), and [EIGRP](https://en.wikipedia.org/wiki/Enhanced_Interior_Gateway_Routing_Protocol), or Enhanced Interior Gateway Routing Protocol ([Cisco documentation](https://www.cisco.com/c/en/us/support/docs/ip/enhanced-interior-gateway-routing-protocol-eigrp/16406-eigrp-toc.html)). The most common link state protocol is [OSPF](https://en.wikipedia.org/wiki/Open_Shortest_Path_First), or Open Shortest Path First ([IETF RFC2328](https://tools.ietf.org/html/rfc2328)).\n",
    "\n",
    "In terms of exterior gateway protocols, there is only one in use today. The entire Internet needs to agree on how to exchange this sort of information, so a single standard has emerged. This standard is known as [BGP](https://en.wikipedia.org/wiki/Border_Gateway_Protocol), or Border Gateway Protocol ([IETF RFC4271](https://tools.ietf.org/html/rfc4271))."
   ]
  },
  {
   "cell_type": "markdown",
   "id": "377b5dac-9694-4a18-a44f-db73b85d1f4b",
   "metadata": {},
   "source": [
    "#### <b>Non-Routable Address Space<b>"
   ]
  },
  {
   "cell_type": "markdown",
   "id": "bb302f15-0e0e-4842-89e9-a025ad7924c0",
   "metadata": {},
   "source": [
    "Even as far back as 1996, it was obvious that the Internet was growing at a rate that couldn't be sustained. \n",
    "\n",
    "When IP was first defined, it defined an IP address as a single 32-bit number. A single 32-bit number can represent 4,294,967,295 unique numbers, which definitely sounds like a lot. But as of 2017, there are an estimated 7.5 billion humans on Earth. This means that the IPv4 standard doesn't even have enough IP addresses available for every person on the planet. It also can't account for entire data centers filled with thousands and thousands of computers required for large-scale technology companies to operate. So in 1996, RFC 1918 was published. \n",
    "\n",
    "RFC stands for **request for comments** and is a longstanding way for those responsible for keeping the Internet running to agree upon the standard requirements to do so. RFC 1918 outlined a number of networks that would be defined as non-routable address space. \n",
    "\n",
    "**Non-routable address space** is basically exactly what it sounds like. They are ranges of IPs set aside for use by anyone that cannot be routed to. Not every computer connected to the Internet needs to be able to communicate with every other computer connected to the Internet. Non-routable address space allows for nodes on such a network to communicate with each other, but no gateway router will attempt to forward traffic to this type of network. \n",
    "\n",
    "This might sound super limiting, and in some ways it is. In a future module, we'll cover a technology known as NAT or **[network address translation](#nat)**. It allows for computers on non-routable address space to communicate with other devices on the Internet. But for now, let's just discuss non-routable address space in a vacuum. \n",
    "\n",
    "RFC 1918 defined three ranges of IP addresses that will never be routed anywhere by core routers. That means that they belong to no one and that anyone can use them. In fact, since they're separated from the way traffic moves across the Internet, there's no limiting to how many people might use these addresses for their internal networks. The primary three ranges of non-routable address space are \n",
    "\n",
    "|range|number of addresses|\n",
    "|-|-|\n",
    "|10.0.0.0/8|$2^{24}$, or 16 777 216 adresses|\n",
    "|172.16.0.0/12|$2^{20}$, or 1 048 576 adresses|\n",
    "|192.168.0.0/16|$2^{16}$, or 65 536 adresses|\n",
    "\n",
    "These ranges are free for anyone to use for their internal networks. It should be called out that interior gateway protocols will route these address spaces so they're are appropriate for use within an autonomous system, but exterior gateway protocols will not."
   ]
  },
  {
   "cell_type": "markdown",
   "id": "a78769a6-f607-430c-88cb-987461cb23aa",
   "metadata": {},
   "source": [
    "#### Supplemental Reading for RFCs and Standards"
   ]
  },
  {
   "cell_type": "markdown",
   "id": "7725f112-6db6-45c5-9606-f07cab93a8ee",
   "metadata": {},
   "source": [
    "RFCs started as a way for academics to discuss how their computers might talk to each other.\n",
    "\n",
    "An RFC would be published, people would leave comments, eventually a consensus would be formed, and a new standard would be developed.\n",
    "\n",
    "Over many decades, RFCs have come to belong to the [IETF](https://www.ietf.org/), or Internet Engineering Task Force, which is an open community charged with developing and maintaining the standards required for the Internet to continue to operate.\n",
    "\n",
    "You can browse the impressively large collections of RFCs [here](https://www.ietf.org/standards/rfcs/).\n",
    "\n",
    "By the way, RFCs have [a long history of April Fool’s Day jokes](https://en.wikipedia.org/wiki/April_Fools%27_Day_Request_for_Comments), like [RFC 1149](https://tools.ietf.org/html/rfc1149) and [RFC 3514](https://www.ietf.org/rfc/rfc3514.txt), both of which might be funnier once we’ve tackled the next module."
   ]
  },
  {
   "cell_type": "markdown",
   "id": "5debc7a7-70d2-478c-8e0f-491785f8ed13",
   "metadata": {
    "tags": []
   },
   "source": [
    "## <b><i>Transport Layer</i></b>"
   ]
  },
  {
   "cell_type": "markdown",
   "id": "ae7daa29-b568-4964-90c6-d73deaf5cb4b",
   "metadata": {},
   "source": [
    "Sorts out which client and server programs (i.e. **applications**) are supposed to get the data.\n",
    "\n",
    "**TCP** - Transmission Control Protocol; provides mechanisms to ensure that the data is reliably delivered. \n",
    "\n",
    "**UDP** - User Datagram Protocol; does not ensure about data delivery.\n",
    "\n",
    "The transport layer is responsible for lots of important functions of reliable computer networking. These include \n",
    "\n",
    "- multiplexing and demultiplexing traffic, \n",
    "- establishing long running connections, and\n",
    "- ensuring data integrity through error checking and data verification. "
   ]
  },
  {
   "cell_type": "markdown",
   "id": "2aae0177-bb96-41eb-95e0-c91ca86f250b",
   "metadata": {},
   "source": [
    "### Multiplexing and demultiplexing"
   ]
  },
  {
   "cell_type": "markdown",
   "id": "7f20c9fc-563b-44dd-bfb1-eb1e68d9108c",
   "metadata": {},
   "source": [
    "The transport layer has the ability to multiplex and demultiplex, which sets this layer apart from all others. \n",
    "\n",
    "**Multiplexing** in the transport layer means that nodes on a network have the ability to direct traffic toward many different receiving services. \n",
    "\n",
    "**Demultiplexing** is the same concept just at the receiving end, it's taking traffic that's all aimed at the same node and delivering it to the proper receiving service. "
   ]
  },
  {
   "cell_type": "markdown",
   "id": "ad4c7c22-0df1-4390-b8b2-ca3d5068b349",
   "metadata": {},
   "source": [
    "<center>\n",
    "    <img src=\"data/images/Screenshot from 2023-07-05 15-25-45.png\" alt=\"multiplexing and demultiplexing\" style=\"width: 500px\">\n",
    "    <p style=\"text-align: center\"><i>Multiplexing and demultiplexing</i></p>"
   ]
  },
  {
   "cell_type": "markdown",
   "id": "d4cf0148-e546-4db3-8a4d-d2ba2eb65263",
   "metadata": {},
   "source": [
    "The transport layer handles multiplexing and demultiplexing through ports. A **ports** is a 16-bit number that's used to direct traffic to specific services running on a networked computer. \n",
    "\n",
    "Remember the concept of server and clients. A server or **service** is a program running on a computer waiting to be asked for data. A **client** is another program that is requesting this data. \n",
    "\n",
    "Different network services run while listening on specific ports for incoming requests. For example, the traditional ports for `http` or unencrypted web traffic is **ports 80**. If we want to request a web page from a web server running on a computer listening on IP `10.1.1.100`, the traffic would be directed to ports `80` on that computer. Ports are normally denoted with a colon after the IP address. So the full IP and ports in this scenario could be described as `10.1.1.100:80`. When written this way, it's known as a **socket address** or socket number. \n",
    "\n",
    "The same device might also be running an `FTP` or **file transfer protocol server**. FTP is an older method used for transferring files from one computer to another, but you still see it in use today. FTP traditionally listens on port `21`. So, if you wanted to establish a connection to an FTP server running on the same IP that our example web server was running on you direct traffic to `10.1.1.100` ports `21`. \n",
    "\n",
    "You might find yourself working in IT support at a small business. In these environments, a single server could host almost all of the applications needed to run a business. The same computer might host an internal website, the mail server for the company, file server for sharing files, a print server for sharing network printers, pretty much anything. This is all possible because of multiplexing and demultiplexing and the addition of ports to our addressing scheme."
   ]
  },
  {
   "cell_type": "markdown",
   "id": "1f98684d-0a4c-472c-bf04-4d22e9ee0210",
   "metadata": {},
   "source": [
    "<center>\n",
    "    <img src=\"data/images/Screenshot from 2023-07-05 15-30-02.png\" alt=\"One server\" style=\"width: 500px\">\n",
    "    <p style=\"text-align: center\"><i>One server</i></p>"
   ]
  },
  {
   "cell_type": "markdown",
   "id": "924657ac-e902-4341-b473-9772ff18d420",
   "metadata": {},
   "source": [
    "### Dissection of a TCP Segment"
   ]
  },
  {
   "cell_type": "markdown",
   "id": "5ad57666-2eba-411c-8fee-887b17185707",
   "metadata": {},
   "source": [
    "In IT support, if network traffic isn't behaving as users expect it to, you might have to analyze it closely to troubleshoot. Get ready to take a peek at all the inner workings. \n",
    "\n",
    "Just like how an Ethernet frame encapsulates an IP datagram, an IP datagram encapsulates a **TCP segment**. Remember that an Ethernet frame has a payload section, which is really just the entire contents of an IP datagram. Remember also that an IP datagram has a payload section, and this is made up of what's known as a TCP segment. \n",
    "\n",
    "A TCP segment is made up of a **TCP header** and a **data section**. This data section as you might guess, is just another payload area for where the application layer places it's data. A TCP header itself is split into lots of fields containing lots of information. "
   ]
  },
  {
   "cell_type": "markdown",
   "id": "96ef8f49-60f5-4e71-bc8d-e30509864593",
   "metadata": {},
   "source": [
    "<center>\n",
    "    <img src=\"data/images/Screenshot from 2023-07-05 16-26-22.png\" alt=\"TCP Segment\" style=\"width: 500px\">\n",
    "    <p style=\"text-align: center\"><i>TCP Segment</i></p>"
   ]
  },
  {
   "cell_type": "markdown",
   "id": "bbe835f1-49d8-4f46-95a9-78ab45a90fad",
   "metadata": {},
   "source": [
    "First, we have the **source port** and the **destination port** fields. The destination port is the port of the service the traffic is intended for. A source port is a high numbered port chosen from a special section of ports known as **ephemeral ports**. We'll cover ephemeral ports in more detail [in a little bit](#three_categories_of_ports). For now, it's enough to know that a source port is required to keep lots of outgoing connections separate. You know how a destination port, say port 80, is needed to make sure traffic reaches a web server running on a certain IP? Similarly, a source port is needed so that when the web server replies, the computer making the original request can send this data to the program that was actually requesting it. It is in this way that when a web server responds to your request to view a web page, that this response gets received by your web browser and not your word processor."
   ]
  },
  {
   "cell_type": "markdown",
   "id": "08ef031f-e376-46a8-a8db-df0b584d9376",
   "metadata": {},
   "source": [
    "<center>\n",
    "    <img src=\"data/images/Screenshot from 2023-07-05 16-23-56.png\" alt=\"source port\" style=\"width: 400px\">\n",
    "    <p style=\"text-align: center\"><i>Source port</i></p>"
   ]
  },
  {
   "cell_type": "markdown",
   "id": "501b90e0-54cc-44b4-b1f5-9834ddb8e142",
   "metadata": {},
   "source": [
    "Next up is a field known as the **sequence number**. This is a 32-bit number that's used to keep track of where in a sequence of TCP segments this one is expected to be. You might remember that lower on our protocol stack, there are limits to the total size of what we send across the wire. An Ethernet frame is usually limited in size to 1,518 bytes, but we usually need to send way more data than that. At the transport layer, TCP splits all of this data up into many segments. The sequence number in a header is used to keep track of which segment out of many, this particular segment might be. \n",
    "\n",
    "The next field, the **acknowledgment number** is a lot like the sequence number. The acknowledgment number is the number of the next expected segment. In very simple language, a sequence number of one and an acknowledgment number of two could be read as this is \"Segment 1, expect Segment 2 next\". \n",
    "\n",
    "The **data offset** field comes next. This field is a four-bit number that communicates how long the TCP header for this segment is. This is so that the receiving network device understands where the actual data payload begins. \n",
    "\n",
    "Then, we have six bits that are reserved for the six TCP **control flags**. \n",
    "\n",
    "The next field is a 16-bit number known as the TCP **window**. A TCP window specifies the range of sequence numbers that might be sent before an acknowledgment is required. TCP is a protocol that's super reliant on acknowledgments. This is done in order to make sure that all expected data is actually being received, and that the sending device doesn't waste time sending data that isn't being received. \n",
    "\n",
    "The next field is a 16-bit **checksum**. It operates just like the checksum fields at the IP and Ethernet level. Once all of a segment has been ingested by recipient, the checksum is calculated across the entire segment and is compared with the checksum in the header to make sure that there was no data lost or corrupted along the way. \n",
    "\n",
    "The **urgent pointer** field is used in conjunction with one of the TCP control flags to point out particular segments that might be more important than others. This is a feature of TCP that hasn't really ever seen adoption, and you'll probably never find it in modern networking. Even so, it's important to know what all sections of the TCP header are. \n",
    "\n",
    "Next up, we have the **options** field. Like the urgent pointer field, this is rarely used in real world. But it's sometimes used for more complicated flow control protocols. \n",
    "\n",
    "Finally, we have some **padding**, which is just a sequence of zeros to ensure that the data payload section begins at the expected location."
   ]
  },
  {
   "cell_type": "markdown",
   "id": "cbef28ff-ff1b-4efa-9c59-110c57a34a30",
   "metadata": {},
   "source": [
    "### TCP Control Flags and the Three-way Handshake"
   ]
  },
  {
   "cell_type": "markdown",
   "id": "a725bc48-4f0d-441f-b30a-cea818eb56a6",
   "metadata": {},
   "source": [
    "As a protocol TCP establishes connections used to send long chains of segments of data. You can contrast this with the protocols that are lower in the networking model. These include IP and ethernet which just send individual packets of data. As an IT Support Specialist, you need to understand exactly how that works, so you can troubleshoot issues where network traffic may not be behaving in the expected manner. \n",
    "\n",
    "The way TCP establishes a connection is through the use of different TCP control flags used in a very specific order. Before we cover how connections are established and closed, let's first define the six TCP control flags. We'll look at them in the order that they appear in a TCP header. \n",
    "\n",
    "The first flag is known as `URG`. This is short for urgent. A value of `1` here indicates that the segment is considered urgent and that the urgent pointer field has more data about this. This feature of TCP has never really had widespread adoption and isn't normally seen.\n",
    "\n",
    "The second flag is `ACK`, short for acknowledged. A value of `1` in this field means that the acknowledgement number field should be examined. \n",
    "\n",
    "The third flag is `PSH`, which is short for push. This means that the transmitting device wants the receiving device to push currently-buffered data to the application on the receiving end as soon as possible. A **buffer** is a computing technique where a certain amount of data is held somewhere before being sent somewhere else. This has lots of practical applications. In terms of TCP, it's used to send large chunks of data more efficiently. By keeping some amount of data in a buffer, TCP can deliver more meaningful chunks of data to the program waiting for it. But in some cases you might be sending a very small amount of information that you need the listening program to respond to immediately. This is what the push flag does.\n",
    "\n",
    "The fourth flag is `RST`, short for reset. This means that one of the sides in a TCP connection hasn't been able to properly recover from a series of missing or malformed segments. It's a way for one of the partners in a TCP connection to basically say, \"_wait, I can't put together what you mean, let's start over from scratch_\". \n",
    "\n",
    "The fifth flag is `SYN`, which stands for synchronize. It's used when first establishing a TCP connection and make sure the receiving end knows to examine the sequence number field. \n",
    "\n",
    "And finally our sixth flag is `FIN`, which is short for finish. When this flag is sent to `1`, it means the transmitting computer doesn't have any more data to send and the connection can be closed."
   ]
  },
  {
   "cell_type": "markdown",
   "id": "78100b1a-35dd-4f79-8ddf-d9f36072d2be",
   "metadata": {},
   "source": [
    "<center>\n",
    "    <img src=\"data/images/Screenshot from 2023-07-05 16-45-26.png\" alt=\"Three-way Handshake\" style=\"width: 600px\">\n",
    "    <p style=\"text-align: center\"><i></i></p>"
   ]
  },
  {
   "cell_type": "markdown",
   "id": "2a86ab30-138d-4543-81b8-0b94c895a827",
   "metadata": {},
   "source": [
    "For a good example of how TCP control flags are used, let's check out how a TCP connection is established. Computer A will be our transmitting computer and computer B will be our receiving computer. To start the process off computer A sends a TCP segment to Computer B, with a `SYN` flag sent. This is computer A's way of saying, let's establish a connection and look at my sequence number field so we know where this conversation starts. Computer B then responds with a TCP segment where both the `SYN` and `ACK` flags are sent. This is Computer B's way of saying, sure, let's establish a connection and I acknowledge your sequence number. Then Computer A responds again with just the `ACK` flag sent, which is just saying \"I acknowledge your acknowledgement, let's start sending data\". \n",
    "\n",
    "This exchange involving segments that have `SYN`, `SYN/ACK` and `ACK` sent happens every single time a TCP connection is established anywhere and is so famous that it has a nickname. _The three-way handshake_. A handshake is a way for two devices to ensure that they're speaking the same protocol and will be able to understand each other. Once the three-way handshake is complete, the TCP connection is established. Now, Computer A is free to send whatever data it wants to Computer B and vice versa. \n",
    "\n",
    "Since both sides have now sent `SYN/ACK` pairs to each other, a TCP connection in this state is operating in full duplex. Each segment sent in either direction should be responded to by a TCP segment with the `ACK` field sent. This way the other side always knows what has been received. "
   ]
  },
  {
   "cell_type": "markdown",
   "id": "84ba2705-b58d-449f-ab41-5219abfb5845",
   "metadata": {},
   "source": [
    "<center>\n",
    "    <img src=\"data/images/Screenshot from 2023-07-05 16-47-41.png\" alt=\"Three-way Handshake\" style=\"width: 300px\">\n",
    "    <p style=\"text-align: center\"><i></i></p>"
   ]
  },
  {
   "cell_type": "markdown",
   "id": "dd55111a-10de-4ed4-9787-92f3b64c33ae",
   "metadata": {},
   "source": [
    "Once one of the devices involved with the TCP connection is ready to close the connection, something known as a _four-way handshake_ happens. The computer ready to close the connection sends a `FIN` flag, which the other computer acknowledges with an `ACK` flag. Then if this computer is also ready to close the connection, which will almost always be the case, it will send a `FIN` flag. This is again responded to by an ACK flag. "
   ]
  },
  {
   "cell_type": "markdown",
   "id": "a5dba1db-a797-4f62-8a20-5c0731e2cda5",
   "metadata": {},
   "source": [
    "<center>\n",
    "    <img src=\"data/images/Screenshot from 2023-07-05 16-49-04.png\" alt=\"Three-way Handshake\" style=\"width: 500px\">\n",
    "    <p style=\"text-align: center\"><i></i></p>"
   ]
  },
  {
   "cell_type": "markdown",
   "id": "bfd7440e-7763-4f26-aff5-29c5537aee9f",
   "metadata": {},
   "source": [
    "Hypothetically, a TCP connection can stay open in simplex mode with only one side closing the connection, but this isn't something you'll run into very often."
   ]
  },
  {
   "cell_type": "markdown",
   "id": "0b2225cf-1af0-4e57-9bc4-af2d15ef924e",
   "metadata": {},
   "source": [
    "### TCP Socket States"
   ]
  },
  {
   "cell_type": "markdown",
   "id": "421a4c5c-6fc1-4628-b237-549c6718a342",
   "metadata": {},
   "source": [
    "A **socket** is the instantiation of an endpoint in a potential TCP connection. \n",
    "\n",
    "> An **instantiation** is the actual implementation of something defined elsewhere. \n",
    "\n",
    "***\n",
    "_ChatGPT:_  \n",
    "- A **TCP (Transmission Control Protocol) socket** is a combination of an IP address and a port number. It is used to establish a connection between two endpoints on a network. The socket consists of the IP address of the target machine and a port number which represents a specific process or service running on that machine.\n",
    "\n",
    "- A **port**, on the other hand, is a communication endpoint in a computer's operating system. It is used to identify specific applications or services that are running on a networked device. Ports are identified by unique numbers, ranging from 0 to 65535, with certain well-known port numbers reserved for specific services such as HTTP (port 80) and SSH (port 22).\n",
    "***\n",
    "\n",
    "TCP sockets require actual programs to instantiate them. You can contrast this with a port which is more of a virtual descriptive thing. In other words, you can send traffic to any ports you want, but you're only going to get a response if a program has opened a socket on that port. \n",
    "\n",
    "TCP sockets can exist in lots of states. And being able to understand what those mean will help you troubleshoot network connectivity issues as an IT support specialist. We'll cover the most common ones here. \n",
    "\n",
    "`LISTEN` means that a TCP socket is ready and listening for incoming connections. You'd see this on the server side only. \n",
    "\n",
    "`SYN_SENT` means that a synchronization request has been sent, but the connection hasn't been established yet. You'd see this on the client side only. \n",
    "\n",
    "`SYN_RECEIVED` means that a socket previously in a `LISTEN` state has received a synchronization request and sent a `SYN/ACK` back, but it hasn't received the final `ACK` from the client yet. You'd see this on the server side only. \n",
    "\n",
    "`ESTABLISHED` means that the TCP connection is in working order and both sides are free to send each other data. You'd see this state on both the client and server side of a connection. This will be true of all the following socket states too. So keep that in mind. \n",
    "\n",
    "`FIN_WAIT` means that a `FIN` has been sent but the corresponding `ACK` from the other end hasn't been received yet. \n",
    "\n",
    "`CLOSE_WAIT` means that the connection has been closed at the TCP layer, but that the application that opened the socket hasn't released its hold on the socket yet. \n",
    "\n",
    "`CLOSED` means that the connection has been fully terminated and that no further communication is possible. \n",
    "\n",
    "There are other TCP socket states that exists. Additionally, socket states and their names can vary from operating system to operating system. That's because they exist outside of the scope of the definition of TCP itself. TCP, as a protocol, is universal in how it's used since every device speaking the TCP protocol has to do this in the exact same way for communications to be successful. Choosing how to describe the state of a socket at the operating system level isn't quite as universal. When troubleshooting issues at the TCP layer, make sure you check out the exact socket state definitions for the systems you're working with."
   ]
  },
  {
   "cell_type": "markdown",
   "id": "d994a72e-5ab1-4a25-b290-b3e28a32703f",
   "metadata": {},
   "source": [
    "### Connection-oriented and Connectionless Protocols"
   ]
  },
  {
   "cell_type": "markdown",
   "id": "4fb82d5b-afb0-4188-a1e9-7e123de4109e",
   "metadata": {},
   "source": [
    "So far, we've mostly focused on TCP which is a connection-oriented protocol. A **connection-oriented protocol** is one that establishes a connection, and uses this to ensure that all data has been properly transmitted. \n",
    "\n",
    "A connection at the transport layer implies that every segment of data sent is acknowledged, this way both ends of the connection always know which bits of data have definitely been delivered to the other side and which haven't. \n",
    "\n",
    "Connection-oriented protocols are important because the internet is a vast and busy place and lots of things could go wrong while trying to get data from point a to point b. If even a single bit doesn't get transmitted properly, the resulting data is often incomprehensible by the receiving end. And remember that at the lowest level, a bit is just an electrical signal within a certain voltage range. \n",
    "\n",
    "But there are plenty of other reasons why traffic might not reach its destination beyond lineaires. It could be anything, pure congestion might cause a router to drop your traffic in favor of forwarding more important traffic. Or a construction company could cut a fiber cable connecting to ISPs, anything's possible. \n",
    "\n",
    "Connection-oriented protocols like TCP, protect against this by forming connections and through the constant stream of acknowledgments. Our protocols at lower levels of our network model like IP and Ethernet, do use check sums to ensure that all the data they received was correct. But did you notice that we never discussed any attempts at resending data that doesn't pass this check? That's because that's entirely up to the transport layer protocol. \n",
    "\n",
    "At the IP or Ethernet level, if a checksum doesn't compute all of that data is just discarded, it's up to TCP to determine when to resend this data. Since TCP expects an `ACK` for every bit of data it sends, it's in the best position to know what data successfully got delivered and can make the decision to resend a segment if needed. This is another reason why sequence numbers are so important. While TCP will generally send all segments in sequential order, they may not always arrive in that order. If some of the segments had to be resent due to errors at lower layers, it doesn't matter if they arrive slightly out of order. This is because sequence numbers allow for all of the data to be put back together in the right order. \n",
    "\n",
    "Now, as you might have picked up on, there's a lot of overhead with connection-oriented protocols like TCP. You have to establish the connection, you have to send a stream of constant streams of acknowledgments. You have to tear the connection down at the end, that all accounts for a lot of extra traffic. Well this is important traffic, it's really only useful if you absolutely, positively have to be sure your data reaches its destination. \n",
    "\n",
    "You can contrast this with **connectionless protocols**, the most common of these is known as **User Datagram Protocol (UDP)**. Unlike TCP, UDP doesn't rely on connections and it doesn't even support the concept of an acknowledgement. With UDP, you just set a destination port and send the packet. This is useful for messages that aren't super important, a great example of UDP is streaming video. Let's imagine that each UDP Datagram is a single frame of a video, for the best viewing experience, you might hope that every single frame makes it to the viewer, but it doesn't really matter if a few get lost along the way. A video will still be pretty watchable unless it's missing a lot of its frames. By getting rid of all the overhead of TCP, you might actually be able to send higher quality video with UDP. That's because you'll be saving more of the available bandwidth for actual data transfer instead of the overhead of establishing connections and acknowledging delivered data segments."
   ]
  },
  {
   "cell_type": "markdown",
   "id": "879301ca-b2be-4855-83c2-e6f4747fc88e",
   "metadata": {},
   "source": [
    "### System Ports versus Ephemeral Ports"
   ]
  },
  {
   "cell_type": "markdown",
   "id": "c96ed60d-3414-483f-b77f-7af3c9c90cd5",
   "metadata": {},
   "source": [
    "#### System Ports versus Ephemeral Ports"
   ]
  },
  {
   "cell_type": "markdown",
   "id": "1b77410f-f860-4b20-9e51-a14558e9f6a7",
   "metadata": {},
   "source": [
    "Network services are run by listening to specific ports for incoming data requests. \n",
    "\n",
    "> A **port** is a 16-bit number used to direct traffic to a service running on a networked computer. \n",
    "\n",
    "> A **\"service\"** (or \"server\") is a program waiting to be asked for data. \n",
    "\n",
    "> A **\"client\"** is another program that requests this data from the other end of a network connection. \n",
    "\n",
    "This reading explains how the Transmission Control Protocol (TCP) uses ports and sockets to establish a network connection and deliver data between services and clients."
   ]
  },
  {
   "cell_type": "markdown",
   "id": "80a3da2e-d505-4de9-9af1-ad1034f3eb97",
   "metadata": {},
   "source": [
    "#### TCP ports and sockets"
   ]
  },
  {
   "cell_type": "markdown",
   "id": "a5915b77-d061-4b72-a14d-d222553535f2",
   "metadata": {},
   "source": [
    "Ports are used in the Transport Layer of the TCP/IP Five-Layer Network Model. At this layer, the TCP is used to establish a network connection and deliver data. \n",
    "\n",
    "> A TCP \"segment\" is the code that specifies ports used to establish a network connection.\n",
    "\n",
    "It does this on the service side of the connection by telling a specific service to listen for data requests coming into a specific port. Once a TCP segment tells a service to listen for requests through a port, that listening port becomes a \"socket.\" In other words,\n",
    "\n",
    "> a socket is an active port used by a service. \n",
    "\n",
    "Once a socket is activated, a client can send and receive data through it. \n",
    "\n",
    "***\n",
    "_ChatGPT:_  \n",
    "In the TCP/IP Five-Layer Network Model, the server side is responsible for listening for incoming data requests on a specific port. When a client sends a request to the server, the client does not need to specify the port because the server is already listening for incoming requests on a specific port.\n",
    "\n",
    "When the server receives a request on the specified port, it knows which service the request is intended for and can then process the request accordingly. This allows for multiple services to run on the same server, each listening on a different port, and the server can direct incoming requests to the appropriate service based on the port on which the request was received.\n",
    "\n",
    "So, the client does not need to know the port beforehand, as long as the server is listening on a specific port and the client sends the request to the correct server address, the server will be able to receive and process the request.\n",
    "***"
   ]
  },
  {
   "cell_type": "markdown",
   "id": "49334c81-ab9c-4b2f-ba4c-fb57124b6cee",
   "metadata": {
    "tags": []
   },
   "source": [
    "#### <a name=\"three_categories_of_ports\">Three categories of ports</a>"
   ]
  },
  {
   "cell_type": "markdown",
   "id": "5c01d35b-29c4-4020-84be-a658bd621283",
   "metadata": {},
   "source": [
    "Since a 16-bit number identifies ports, there can be 65,535 of them. Given the number of ports available, they have been divided into three categories by the Internet Assigned Numbers Authority ([IANA](https://www.iana.org/assignments/service-names-port-numbers/service-names-port-numbers.xhtml)): System Ports, User Ports, and Ephemeral Ports.\n",
    "\n",
    "- **System Ports** are identified as ports 1 through 1023. System ports are reserved for common applications like FTP (port 21) and Telnet over TLS/SSL (port 992). Many still are not assigned. \n",
    "\n",
    "> _**Note:** Modern operating systems do not use system ports for outbound traffic._\n",
    "\n",
    "- **User Ports** are identified as ports 1024 through 49151. Vendors register user ports for their specific server applications. The IANA has officially registered some but not all of them.\n",
    "\n",
    "- **Ephemeral Ports** (Dynamic or Private Ports) are identified as ports 49152 through 65535. Ephemeral ports are used as temporary ports for private transfers. Only clients use ephemeral ports.\n",
    "\n",
    "Not all operating systems follow the port recommendations of the IANA, but the IANA registry of assigned port numbers is the most reliable for determining how a specific port is being used. You can access the \n",
    "IANA Service Name and Transport Protocol Port Number Registry [here](https://www.iana.org/assignments/service-names-port-numbers/service-names-port-numbers.xhtml) or check out this helpful [list](https://packetlife.net/media/library/23/common_ports.pdf) of commonly used ports.\n",
    "\n",
    "_ChatGPT_:  \n",
    "Debian generally follows the port recommendations of the IANA, but there may be exceptions or deviations in certain cases."
   ]
  },
  {
   "cell_type": "markdown",
   "id": "855a86dc-707a-47c1-81bc-9fd4d2e5cfe7",
   "metadata": {},
   "source": [
    "#### How TCP is used to ensure data integrity"
   ]
  },
  {
   "cell_type": "markdown",
   "id": "3287fec5-2b4f-4fe7-9a3e-7ac2c39c9726",
   "metadata": {},
   "source": [
    "The TCP segment that specifies which ports are connected for a network data transfer also carries other information about the data being transferred (along with the requested data). Specifically, the TCP protocol sends acknowledgments between the service and client to show that sent data was received. Then, it uses checksum verification to confirm that the received data matches what was sent. "
   ]
  },
  {
   "cell_type": "markdown",
   "id": "fff665df-57f3-47a2-96ef-fd24601289bd",
   "metadata": {},
   "source": [
    "#### Port security"
   ]
  },
  {
   "cell_type": "markdown",
   "id": "b767a39a-cd56-4701-98e9-0dfde050f468",
   "metadata": {},
   "source": [
    "Ports allow services to send data to your computer but can also send malware into a client program.  Malicious actors might also use port scanning to search for open and unsecured ports or to find weak points in your network security. To protect your network, you should use a firewall to secure your ports and only open sockets as needed."
   ]
  },
  {
   "cell_type": "markdown",
   "id": "64f5db6a-e1a6-4fe0-a4bd-b82bb573b733",
   "metadata": {},
   "source": [
    "#### Key takeaways"
   ]
  },
  {
   "cell_type": "markdown",
   "id": "e97c8eff-51ce-4bf1-9b75-3e772d9cbf99",
   "metadata": {},
   "source": [
    "- Network services are run by listening to specific ports for incoming data requests. \n",
    "\n",
    "- Ports are represented by a single 16-bit number (65 535 different port ids)\n",
    "\n",
    "- Ports are split up by the IANA (Internet Assigned Numbers Authority) into three categories: \n",
    "    - System Ports (ports 1-1023), \n",
    "    - User Ports (ports 1024-49151), and \n",
    "    - Ephemeral (Dynamic) Ports (ports 59152-65535).<br>\n",
    "<br>\n",
    "- A socket is a port that a TCP segment has activated to listen for data requests.\n",
    "\n",
    "- Ports allow services to send data to your computer but can also send malware into a client program. It's important to secure your ports."
   ]
  },
  {
   "cell_type": "markdown",
   "id": "99009da3-80f9-4f5d-aa4d-345acfffea68",
   "metadata": {},
   "source": [
    "### Firewalls"
   ]
  },
  {
   "cell_type": "markdown",
   "id": "262c8484-6e95-4b25-8098-6dd9f9424757",
   "metadata": {},
   "source": [
    "You know what network device we haven't mentioned that you're probably super familiar with? A firewall. A **firewall** is just a device that blocks traffic that meets certain criteria. \n",
    "\n",
    "Firewalls are a critical concept to keeping a network secure since they're the primary way you can stop traffic, you don't want from entering the network. \n",
    "\n",
    "Firewalls can actually operate at lots of different layers of the network. There are firewalls that can perform inspection of application layer traffic and firewalls that primarily deal with blocking ranges of IP addresses. The reason we cover firewalls here is that they're most commonly used at the transportation layer. \n",
    "\n",
    "Firewalls that operate at the transportation layer will generally have a configuration that enables them to block traffic to certain ports while allowing traffic to other ports. Let's imagine a simple small business network. The small business might have one server which hosts multiple network services. The server might have a web server that hosts the company's website while also serving as the file server for a confidential internal document. A firewall placed at the perimeter of the network could be configured to allow anyone to send traffic to port 80 in order to view the web page. At the same time, it could block all access for external IPs to any other port so that no one outside of the local area network could access the file server. "
   ]
  },
  {
   "cell_type": "markdown",
   "id": "e043edf0-50eb-444e-a764-fbe1a1df2d2f",
   "metadata": {},
   "source": [
    "<center>\n",
    "    <img src=\"data/images/Screenshot from 2023-07-05 18-32-52.png\" alt=\"Firewall\" style=\"width: 600px\">\n",
    "    <p style=\"text-align: center\"><i>Firewall</i></p>"
   ]
  },
  {
   "cell_type": "markdown",
   "id": "ccfeb4d8-6b59-4cd5-af9e-bec6fd64cab0",
   "metadata": {},
   "source": [
    "Firewalls are sometimes independent network devices but it's really better to think of them as a program that can run anywhere. For many companies and almost all home users, the functionality of a router and a firewall is performed by the same device. Firewalls can run on individual hosts instead of being a network device. All major modern operating systems have firewall functionality built in. That way, blocking or allowing traffic to various ports and therefore to specific services can be performed at the host level as well."
   ]
  },
  {
   "cell_type": "markdown",
   "id": "88521c58-e787-4314-977b-4ea33a645848",
   "metadata": {},
   "source": [
    "## <b><i>Application Layer</i></b>"
   ]
  },
  {
   "cell_type": "markdown",
   "id": "19b26712-d87f-493a-b67c-72288f5fe5e6",
   "metadata": {},
   "source": [
    "Now, we can finally talk about how those actual applications send and receive data using the application layer. Just like with every other layer, TCP segments have a generic data section to them. As you might have guessed, this payload section is actually the entire contents of whatever data applications wants to send to each other. It can be contents of a webpage. If a web browser is connecting to a web server, this could be the streaming video content of your Netflix app on your PlayStation connecting to the Netflix servers. It could be the contents of a document your word processor is sending to a printer, and many more things. \n",
    "\n",
    "There are a lot of protocols used at the application layer, and they are numerous and diverse. At the data link layer, the most common protocol is Ethernet. I should call out that wireless technologies do use other protocols at this layer. At the network layer, use of IP is everywhere you look. At the transport layer, TCP and UDP cover most of the use cases. But at the application layer, there are just so many different protocols in use, it wouldn't make sense for us to cover them. \n",
    "\n",
    "Even so, one concept you can take away about application layer protocols is that there's still standardized across application types. Let's dive a little deeper into web servers and web browsers for an example. \n",
    "\n",
    "There are lots of different web browsers. You can be using Chrome, Safari, you name it. They'll need to speak the protocol. The same thing is true for web servers. In this case, the web browser would be the client and the web server would be the server. The most popular web servers are Microsoft IIS, Apache, NGINX, but they also need to all speak the same protocol. This way, you ensure that no matter which browser you're using, you'd still be able to speak to any server. For web traffic, the application layer protocol is known as **HTTP**. All of these different web browsers and web servers have to communicate using the same HTTP protocol specification in order to ensure interoperability. The same is true for most other classes of application. You might have dozens of choices for an FTP client, but they all need to speak the FTP protocol in the same way."
   ]
  },
  {
   "cell_type": "markdown",
   "id": "652a8cf3-6c67-4030-bae7-d130dfe40803",
   "metadata": {},
   "source": [
    "### The Application Layer and the OSI Model"
   ]
  },
  {
   "cell_type": "markdown",
   "id": "9d6d5387-7e48-4ff4-9b88-6b4145cd8279",
   "metadata": {},
   "source": [
    "We've been working from a five layer model, but you'll probably run into various other models during your career as an IT support specialist. Some models might combine the physical and data link layers into one and only talk about four layers. But you might remember a certain model we called out specifically in a reading section back in the first module. This is the OSI or [**Open Systems Interconnection model**](#osi). \n",
    "\n",
    "This model is important to understand with our five layer model because it's the most rigorously defined. That means it's often used in academic settings or by various network certification organizations. "
   ]
  },
  {
   "cell_type": "markdown",
   "id": "cc5eacd0-c7bb-4cc9-8b2e-de2a24c003ab",
   "metadata": {},
   "source": [
    "<center>\n",
    "    <img src=\"data/images/Screenshot from 2023-07-08 19-48-13.png\" alt=\"OSI Model\" style=\"width: 200px\">\n",
    "    <p style=\"text-align: center\"><i>OSI Model</i></p>"
   ]
  },
  {
   "cell_type": "markdown",
   "id": "a98ea8e7-453f-4b12-b8cf-c7942aeb24c1",
   "metadata": {},
   "source": [
    "The OSI model has seven layers and introduces two additional layers between our transport layer and our application layer. The fifth layer in the OSI model is the **session layer**. The concept of the session layer is that it's responsible for things like facilitating the communication between actual applications and the transport layer. It's the part of the operating system that takes the application layer data that's been unencapsulated from all the layers below it and hands it off to the next layer in the OSI model, the presentation layer. \n",
    "\n",
    "The **presentation layer** is responsible for making sure that the unencapsulated application layer data is actually able to be understood by the application in question. This is the part of an operating system that might handle encryption or compression of data. \n",
    "\n",
    "While these are important concepts to keep in mind, you'll notice that there isn't any encapsulation going on. That's why in our model, we lump all of these functions into the application layer. We believe a five layer model is the most useful when it comes to the day-to-day business of understanding networking, but the seven-layer OSI model is also prevalent. No networking education would be complete without understanding its basics."
   ]
  },
  {
   "cell_type": "markdown",
   "id": "628574a7-a1b5-4fab-86fd-ba10b609cd4f",
   "metadata": {},
   "source": [
    "<center>\n",
    "    <img src=\"data/images/Screenshot from 2023-07-08 19-50-51.png\" alt=\"OSI and 5-layer Models\" style=\"width: 400px\">\n",
    "    <p style=\"text-align: center\"><i></i></p>"
   ]
  },
  {
   "cell_type": "markdown",
   "id": "cccec018-0aaa-4ae1-8036-6d6b64a81b27",
   "metadata": {},
   "source": [
    "## All the Layers Working in Unison"
   ]
  },
  {
   "cell_type": "markdown",
   "id": "3a9822db-74e3-47ee-b24b-6d8a50925660",
   "metadata": {},
   "source": [
    "Now that you know the basics of how every layer of our network model works, let's go through an exercise to look at how everything works at every step of the way. \n",
    "\n",
    "Imagine three networks. Network A will contain address space `10.1.1.0/24`, network B will contain address space `192.168.1.0/24`, and network C will be `172.16.1.0/24`.\n",
    "\n",
    "Router A sits between network A and network B, with an interface configured with an IP of `10.1.1.1` on network A and an interface at `192.168.1.254` on network B. There's a second router, router B, which connects networks B and C. It has an interface on network B with an IP address of `192.168.1.1` and an interface on network C with an IP address of `172.16.1.1`. "
   ]
  },
  {
   "attachments": {
    "bc6e01ef-96ed-48db-8f82-5d656015e584.png": {
     "image/png": "[encoded data removed]"
    }
   },
   "cell_type": "markdown",
   "id": "a4a3a46d-9378-4d29-8c32-2bc8b9ecd122",
   "metadata": {},
   "source": [
    "<center>\n",
    "    <img src=\"data/images/Screenshot from 2023-07-08 20-09-22.png\" alt=\"example\" style=\"width: 6![Screenshot from 2023-07-08 20-09-22.png](attachment:bc6e01ef-96ed-48db-8f82-5d656015e584.png)00px\">\n",
    "    <p style=\"text-align: center\"><i></i></p>"
   ]
  },
  {
   "cell_type": "markdown",
   "id": "ec965803-e7be-46ec-8499-b7e5ace3fe79",
   "metadata": {},
   "source": [
    "Now, let's put a computer on one of the networks. Imagine it's a desktop sitting on someone's desk at their workplace. It'll be our client in this scenario, and we'll refer to it as Computer 1. It's part of network A and has been assigned an IP address of `10.1.1.100`. \n",
    "\n",
    "Now, let's put another computer on one of our other networks. This one is a server in a data center. It will act as our server in this scenario and we'll refer to it as Computer 2. Its part of network C and has been assigned an IP address of `172.16.100` and has a web server listening on Port `80`. \n",
    "\n",
    "In end-user sitting at Computer 1, opens up a web browser and enters `172.16.1.100` into the address bar. Let's see what happens. The web browser running on Computer 1 knows it's been ordered to retrieve a webpage from `172.16.1.100`. The web browser communicates with the local networking stack, which is the part of the operating system responsible for handling networking functions. The web browser explains that it's going to want to establish a TCP connection to `172.16.1.100` Port `80`. \n",
    "\n",
    "The networking stack will now examine its own subnet. It sees that it lives on the network `10.1.1.0/24`, which means that the destination `172.16.1.100` is on another network. At this point, Computer 1 knows that it will have to send any data to its gateway for routing to a remote network and it's been configured with a gateway of `10.1.1.1`. \n",
    "\n",
    "Next, Computer 1 looks at its ARP table to determine what MAC address of `10.1.1.1` is, but it doesn't find any corresponding entry. Oh, it's okay. Computer A crafts in ARP request for an IP address of `10.1.1.1`, which it sends to the hardware broadcast address of all S. This ARP discovery request is sent to every node on the local network. When router A receives this ARP message, it sees that it's the computer currently assigned the IP address of `10.1.1.1`. It responds to Computer 1 to let it know about its own MAC address of `00: 11:22:33:44:55`.\n",
    "\n",
    "Computer 1 receives this response and now knows the hardware address of its gateway. This means that it's ready to start constructing the outbound packet. Computer 1 knows that it's being asked by the web browser to form an outbound TCP connection, which means it will need an outbound TCP port. The operating system identifies the ephemeral port of `50,000` as being available and opens a socket connecting the web browser to this port. Since this is a TCP connection, the networking stack knows that before it can actually transmit any of the data the web browser wants it to, it'll need to establish a connection. \n",
    "\n",
    "The networking stack starts to build a TCP segment. It fills in all the appropriate fields in the header, including a source port of `50,000` and a destination port of `80`. A sequence number is chosen and is used to fill in the sequence number field. Finally, the `SYN` flag is set and a checksum for the segment is calculated and written to the checksum field. Our newly constructed TCP segment is now passed along to the IP layer of the networking stack. This layer constructs an IP header. This header is filled in with the source IP, the destination IP, and a TTL of `64`, which is a pretty standard value for this field. \n",
    "\n",
    "Next, the TCP segment is inserted as the data payload for the IP datagram and a checksum is calculated for the whole thing. Now that the IP datagram has been constructed, Computer 1 needs to get this to its gateway, which it now knows has a MAC address of `00:11:22:33:44:55`. An Ethernet frame is constructed. All the relevant fields are filled in with the appropriate data, most notably the source and destination MAC addresses. \n",
    "\n",
    "Finally, the IP datagram is inserted as the data payload of the Ethernet frame and another checksum is calculated. Now we have an entire Ethernet frame ready to be sent across the physical layer. The network interface connected to Computer 1 sends this binary data as modulations of the voltage of an electrical current running across a CAT6 cable that's connected between it and a network switch. This switch receives the frame and inspects the destination MAC address. The switch knows which of its interfaces this MAC address is attached to and forwards the frame across only the cable connected to this interface. At the other end of this link is Router A, which receives the frame and recognizes its own hardware address as the destination. \n",
    "\n",
    "Router A knows that this frame is intended for itself, so it now takes the entirety of the frame and calculates a checksum against it. Router A compares this checksum with the one in the Ethernet frame header and sees that they match, meaning all of the data has made it in one piece. \n",
    "\n",
    "Next, Router A strips away the Ethernet frame, leaving it with just the IP datagram. Again, it performs a checksum calculation against the entire datagram and again, it finds that it matches, meaning all the data is correct. It inspects the destination IP address and performs a lookup of this destination in its routing table. Router A sees that in order to get data to the `172.16.1.0/24` network. The quickest path is one hop away via Router B, which has an IP of `192.168.1.1`. Router A looks at all the data in the IP datagram, decrements the TTL by one, calculates a new checksum reflecting the new TTL value and makes a new IP datagram with this data. \n",
    "\n",
    "Router A knows that it needs to get this datagram to Router B, which has an IP address of `192.168.1.1`. It looks at its ARP table and sees that it has an entry for `192.168.1.1`. Now Router A can begin to construct an Ethernet frame with the MAC address of its interface on Network B as the source and the MAC address of Router B's interface on Network B as the destination. Once the values for all fields in this frame have been filled out, Router A places the newly constructed IP datagram into the data payload field, calculates a checksum and places this checksum into place and sends the frame out to Network B. \n",
    "\n",
    "Just like before, this frame makes it across Network B and is received by Router B. Router B performs all the same checks, removes the Ethernet frame encapsulation and performs a checksum against the IP datagram. It then examines the destination IP address. Looking at its routing table, Router B sees that the destination address of Computer 2, or `172.16.1.100` is on a locally connected network, so it decrements the TTL by one again, calculates a new checksum and creates a new IP datagram. This new IP datagram is again encapsulated by a new Ethernet frame. This one with the source and destination MAC address of Router B and Computer 2. \n",
    "\n",
    "The whole process is repeated one last time. The frame is sent out onto Network C, a switch ensures it gets sent out of the interface that Computer 2 is connected to. Computer 2 receives the frame, identifies its own MAC address as the destination and knows that it's intended for itself. Computer 2 then strips away the Ethernet frame, leaving it with the IP datagram. It performs a CRC and recognizes that the data has been delivered intact. It then examines the destination IP address and recognizes that as its own. \n",
    "\n",
    "Next, Computer 2 strips away the IP datagram, leaving it with just the TCP segment. Again, the checksum for this layer is examined and everything checks out. Next, Computer 2 examines the destination port, which is `80`. The networking stack on Computer 2 checks to ensure that there's an open socket on Port `80`, which there is. It's in the listening state and held open by running Apache web server. Computer 2 then sees that this packet has the `SYN` flag set. It examines the sequence number and stores that since it'll need to put this sequence number in the acknowledgment field once it crafts the response. \n",
    "\n",
    "After all of that, all we've done is get a single TCP segment containing a `SYN` flag from one computer to a second one. Everything would have to happen all over again for Computer 2 to send a `SYN/ACK` response to Computer 1. Then everything would have to happen all over again for Computer 1 to send an `ACK` back to Computer 2, and so on and so on. \n",
    "\n",
    "Looking at all of this end-to-end hopefully helps show how all the different layers of our networking model have to work together to get the job done. I hope it also gives you some perspective in understanding how remarkable computer networking truly is."
   ]
  },
  {
   "cell_type": "markdown",
   "id": "5b0853be-be36-4298-ad6c-dfe624ccf9e5",
   "metadata": {
    "jp-MarkdownHeadingCollapsed": true,
    "tags": []
   },
   "source": [
    "# 2.2 Network Services"
   ]
  },
  {
   "cell_type": "markdown",
   "id": "e3c88ae0-a997-4cf5-aa21-3b226befff42",
   "metadata": {},
   "source": [
    "## Introduction to Network Services"
   ]
  },
  {
   "cell_type": "markdown",
   "id": "dc53c94c-f69a-41d6-b6d5-126148bcff08",
   "metadata": {},
   "source": [
    "There's no denying it, computer networking is a complicated business that involves many technologies, layers, and protocols. At the end of the day, the main purpose of computer networking is so network services can be available to answer requests for the data from clients. \n",
    "\n",
    "The sheer number and variety of things that might comprise a network service makes it impossible to cover all of them. But there are a lot of network services and technologies that are used to help make computer networking more user-friendly and secure. These network services and technologies are ones that directly relate to the business of networking itself, and it's important to understand how those work. \n",
    "\n",
    "> If something on the network isn't working as expected, the first place you should look at are the services we'll be covering here. "
   ]
  },
  {
   "cell_type": "markdown",
   "id": "553ea743-d126-4f80-867c-ee596601e0f6",
   "metadata": {
    "jp-MarkdownHeadingCollapsed": true
   },
   "source": [
    "## Name Resolution - DNS"
   ]
  },
  {
   "cell_type": "markdown",
   "id": "555f0770-1cf1-40dd-a217-6aa3f2d63a08",
   "metadata": {},
   "source": [
    "### Why do we need DNS?"
   ]
  },
  {
   "cell_type": "markdown",
   "id": "77d7f3d0-4adb-4b1c-8daf-b4ff25b64167",
   "metadata": {},
   "source": [
    "At the very lowest levels, all computers really understand are one and zero. Reading binary numbers isn't the easiest for humans, so most binary numbers are represented in lots of different forms. This is especially true in the realm of networking. \n",
    "\n",
    "Imagine having to remember the four octets of an IP address for every website you visit. It's just not a thing that the human brain is normally good at. Humans are much better at remembering words. That's where **Domain Name System (DNS)** comes into play. \n",
    "\n",
    "**DNS** is a global and highly distributed network service that resolves strings of letters into IP addresses for you. Let's say you wanted to check a weather website to see what the temperature is going to be like. It's much easier to type `www.weather.com` into a web browser than it is to remember that one of the IP addresses for this site is `184.29.131.121`. \n",
    "\n",
    "The IP address for a domain name can also change all the time for a lot of different reasons. A **domain name** is just the term we use for something that can be resolved by DNS. In the example we just used, `www.weather.com` would be the domain name and the IP it resolves to could change depending on a variety of factors. Let's say that \"weather.com\" was moving their web server to a new data center, maybe they've signed a new contract or the old data center was shutting down. By using DNS, an organization can just change what IP domain name resolves to and the end user would never even know. \n",
    "\n",
    "Not only does DNS make it easier for humans to remember how to get to a website, it also lets administrative changes happen behind the scenes without an end-user having to change their behavior. Try to imagine a world where you'd have to remember every IP for every website you visit while also having to memorize new ones if something changed. \n",
    "\n",
    "The importance of DNS for how the Internet operates today can't be overstated. IP addresses might resolve to different things depending on where in the world you are. While most Internet communications travel at the speed of light, the further you have to route data, the slower things will become. In almost all situations, it's going to be quicker to transmit a certain amount of data between places that are geographically close to each other. If you're a global web company, you'd want people from all over the world to have a great experience accessing your website. Instead of keeping all of your web servers in one place, you could distribute them across data centers across the globe. This way, someone in New York visiting a website might get served by a web server close to New York, while someone in New Delhi might get served by a web server close to New Delhi. Again, DNS helps provide this functionality. \n",
    "\n",
    "Because of its global structure, DNS let's organizations decide if you're in the region, resolve the domain name to this IP. If you're in this other region, resolve this domain to this other IP. DNS serves lots of purposes and might be one of the most important technologies to understand as an IT support specialist so you can effectively troubleshoot networking issues."
   ]
  },
  {
   "cell_type": "markdown",
   "id": "8bfe543f-77b3-4321-a53b-0ad2b8dd0126",
   "metadata": {},
   "source": [
    "### The Many Steps of Name Resolution"
   ]
  },
  {
   "cell_type": "markdown",
   "id": "7b49fa31-a6e4-41d7-b633-92e337980ab5",
   "metadata": {},
   "source": [
    "At its most basic, DNS is a system that converts domain names into IP addresses. It's the way humans are likely to remember and categorize things resolved into the way computers prefer to think of things. This process of using DNS to turn a domain name into an IP address is known as **name resolution**. \n",
    "\n",
    "Let's take a closer look at exactly how this works. The first thing that's important to know is that DNS servers are one of the things that need to be specifically configured at a node on a network. For a computer to operate on a modern network, they need to have certain number of things configured. Remember that MAC addresses are hard-coded and tied to specific pieces of hardware, but we've also covered that the \n",
    "- IP address, \n",
    "- subnet mask and \n",
    "- gateway for a host \n",
    "\n",
    "must be specifically configured. A \n",
    "\n",
    "- DNS server \n",
    "\n",
    "is the fourth and final part of the standard modern network configuration. \n",
    "\n",
    "These are almost always the four things that must be configured for a host to operate on a network in an unexpected way. I should call out that a computer can operate just fine without DNS or without a DNS server being configured, but this makes things difficult for any human that might be using that computer. \n",
    "\n",
    "There are five primary types of DNS servers:\n",
    "- caching name servers, \n",
    "- recursive name servers, \n",
    "- root name servers, \n",
    "- TLD name servers and \n",
    "- authoritative name servers. \n",
    "\n",
    "As we dive deeper into these, it's important to note that any given DNS server can fulfill many of these roles at once. **Caching and recursive name servers** are generally provided by an ISP or your local network. Their purpose is \n",
    "\n",
    "> to store domain name lookups for a certain amount of time. \n",
    "\n",
    "As you'll see in a moment, there are lots of steps in order to perform a fully qualified resolution of a domain name. In order to prevent this from happening every single time a new TCP connection is established, your ISP or local network will generally have a caching name server available. Most caching name servers are also recursive name servers. \n",
    "\n",
    "**Recursive name servers** are ones that perform full DNS resolution requests. In most cases, your local name server will perform the duties of both, but it's definitely possible for a name server to be either just caching or just recursive. \n",
    "\n",
    "Let's introduce an example to better explain how this works. You and your friend are both connected to the same network and you both want to check out \"facebook.com\". Your friend enters `www.facebook.com` into a web browser, which means that their computer now needs to know the IP of `www.facebook.com` in order to establish a connection. Both of your computers are on the same network, which usually means that they've both been configured with the same name server. \n",
    "\n",
    "Your friend's computer asks the name server for the IP of `www.facebook.com`, which it doesn't know. This name server now performs a fully recursive resolution to discover the correct IP for `www.facebook.com`. This IP is then both delivered to your friend's computer and stored locally in a cache. A few minutes later, you enter `www.facebook.com` into a web browser. Again, your computer needs to know the IP for this domain, so your computer asks the local name server it's been configured with, which is the same one your friend's computer was just talking to. Since the domain name `www.facebook.com` had just been looked up, the local name server still has the IP that it results to stored and is able to deliver that back to your computer without having to perform a full lookup. \n",
    "\n",
    "This is how the same servers act as a caching server. All domain names in the global DNS system have a **time to live (TTL)**. This is a value, in seconds that can be configured by the owner of a domain name for how long a name server is allowed to cache an entry before it should discard it and perform a full resolution again. Several years ago, it was normal for these TTLs to be really long, sometimes a full day or more. This is because the general bandwidth available on the Internet was just much less, so network administrators didn't want to waste what bandwidth was available to them by constantly performing full DNS lookups. As the Internet has grown and gotten faster, these TTLs for most domains have dropped to anywhere from a few minutes to a few hours, but it's important to know that sometimes you still run into a domain names with very lengthy TTLs. It means that it can take up to the length of a total TTL for a change in DNS record to be known to the entire Internet. \n",
    "\n",
    "Now let's look at what happens when your local recursive server needs to perform a full recursive resolution. The first step is always to contact a **root name server**. There are 13 total root name servers and they're responsible for directing queries toward the appropriate **TLD name server**. In the past, these 13 root servers were distributed to very specific geographic regions, but today they're mostly distributed across the globe via Anycast. \n",
    "\n",
    "> **Anycast** is a technique that's used to route traffic to different destinations depending on factors like location, congestion or link health. \n",
    "\n",
    "Using Anycast, a computer can send a datagram to a specific IP, but could see it routed to one of many different actual destinations depending on a few factors. \n",
    "\n",
    "This should also make it clear that there aren't really only 13 physical root name servers anymore. It's better to think of them as 13 authorities that provide root name lookups as a service. The root servers will respond to a DNS lookup with the TLD name server that should be queried. \n",
    "\n",
    "> TLD stands for **top-level domain** and represents the top of the hierarchical DNS name resolution system. \n",
    "\n",
    "A TLD is the last part of any domain name using `www.facebook.com` as an example again, the `.com` portion should be thought of as the TLD. For each TLD in existence, there is a TLD name server. But just like with root servers, this doesn't mean there's only physically one server in question. It's most likely a global distribution of Anycast accessible servers responsible for each TLD. \n",
    "\n",
    "The TLD name servers will respond again with a redirect, this time informing the computer performing the name lookup with what authoritative name server to contact. **Authoritative name servers** are responsible for the last two parts of any domain name, which is the resolution at which a single organization may be responsible for DNS lookups. \n",
    "\n",
    "Using `www.weather.com` as an example, the TLD name server will point a lookup at the authoritative server for \"weather.com\", which would likely be controlled by the \"weather\" channel, the organization itself that runs the site. Finally, the DNS lookup could be redirected at the authoritative server for \"weather.com\", which would finally provide the actual IP of the server in question. "
   ]
  },
  {
   "cell_type": "markdown",
   "id": "ca813f15-12c7-47ad-9a71-f986345694e6",
   "metadata": {},
   "source": [
    "<center>\n",
    "    <img src=\"data/images/Screenshot from 2023-07-08 23-51-16.png\" alt=\"example\" style=\"width: 600px\">\n",
    "    <p style=\"text-align: center\"><i></i></p>"
   ]
  },
  {
   "cell_type": "markdown",
   "id": "9a3ba2a9-d392-4bce-82d3-d9d4b17b991e",
   "metadata": {},
   "source": [
    "This strict hierarchy is very important to the stability of the Internet. Making sure that all full DNS resolutions go through a strictly regulated and controlled series of lookups to get the correct responses is the best way to protect against malicious parties redirecting traffic. Your computer will blindly send traffic to whatever IP it's told to, so by using a hierarchical system controlled by trusted entities in the way DNS does, we can better ensure that the responses to DNS lookups are accurate. \n",
    "\n",
    "Now that you see how many steps are involved, it should make sense why we trust our local name servers to cache DNS lookups. It's so that full lookup path doesn't have to happen for every single TCP connection. In fact, your local computer from your phone to a desktop will generally have its own temporary DNS cache as well. That way, it doesn't have to bother its local name server for every TCP connection either."
   ]
  },
  {
   "cell_type": "markdown",
   "id": "f17d897e-f50c-49b1-886b-65811708564a",
   "metadata": {},
   "source": [
    "### DNS and UDP"
   ]
  },
  {
   "cell_type": "markdown",
   "id": "13039b57-a376-454f-95b9-4544920a4578",
   "metadata": {},
   "source": [
    "DNS is a great example of an application layer service that uses UDP for the transport layer instead of TCP, this can be broken down into a few simple reasons. Remember that the biggest difference between TCP and UDP is that UDP is connectionless this means there's no set up or tear down of a connection. So much less traffic needs to be transmitted overall. \n",
    "\n",
    "A single DNS request and its response can usually fit inside of a single UDP datagram, making it an ideal candidate for a connectionless protocol, it's also worth calling out that DNS can generate a lot of traffic. It's true that caches of DNS entries are stored both on local machines and cashing name servers, but it's also true that if the full resolution needs to be processed, we're talking about a lot more traffic. Let's see what it would look like for a full DNS look up to take place via TCP. \n",
    "\n",
    "First, the host that's making the DNS resolution request would send a `SYN` packet to the local name server on port `53` which is the port that DNS listens on. This name server would then need to respond with a `SYN- ACK` packet. That means the original host would have to respond with an `ACK` in order to complete the three way handshake, that's three packets. Now that the connection has been established, the original host would have to send the actual request: \"_I'd like the IP address for food.com please_\". When it receives this request, the name server would have to respond with another `ACK`: \"_I got your request for food.com_\", we're up to five packets sent now. \n",
    "\n",
    "In our scenario, the first cashing name server doesn't have anything cached for \"food.com\". So it needs to talk to a root name server, to find out who's responsible for the \".com\" TLD. This would require a three way handshake: the actual request, the `ACK` or the request, the response and then the `ACK` of the response. Finally, the connection would have to be closed via a four way handshake. That's 11 more packets or 16 total. \n",
    "\n",
    "Now that the recursive name server has the correct TLD name server, it needs to repeat that entire process to discover the proper authority of name server. That's 11 more packets bringing us up to 27 so far. Finally, the recursive name server would have to repeat the entire process one more time while talking to the authoritative name server in order to actually get the IP of \"food.com\". This is 11 more packets for a running total of 38. \n",
    "\n",
    "Now that the local name server finally has the IP address of \"food.com\", it can finally respond to the initial request. It responds to the DNS resolver that originally made the request and then this computer sends an `ACK` back to confirm that it received the response. That's two more packets, putting us at 40. Finally, the TCP connection needs to be closed via a four way handshake. This brings us to a grand total of 44 packets at the minimum in order for a fully recursive DNS request to be fulfilled via TCP. \n",
    "\n",
    "44 packets isn't really a huge number in terms of how fast modern networks operate, but it heads up fast as you can see, remember that DNS traffic is just a precursor to actual traffic. A computer almost always performs a DNS look up because it needs to know the IP of a domain name in order to send it additional data, not just because it's curious. \n",
    "\n",
    "Now, let's check out how this would look with UDP, spoiler alert, it doesn't take as many packets. The original computer sends a UDP packet to its local name server on port `53` asking for the IP for \"food.com\", that's one packet. The local name server acts as a recursive server and sends up a UDP packet to the root server which sends a response containing the proper TLD name server, that's three packets. The recursive name server sends a packet to the TLD server and receives back a response containing the correct authority server, we're now at five packets. Next, the recursive name server sends its final request to the authority of name server which sends a response containing the IP for food.com, that's seven packets. Finally, the local name server responds to the DNS resolver that made the request in the first place with the IP for \"food.com\". That brings us to a grand total of eight packets. "
   ]
  },
  {
   "cell_type": "markdown",
   "id": "988b2673-bf9d-4fdd-8c1a-c135d4a13348",
   "metadata": {},
   "source": [
    "<center>\n",
    "    <img src=\"data/images/Screenshot from 2023-07-08 23-59-06.png\" alt=\"example\" style=\"width: 700px\">\n",
    "    <p style=\"text-align: center\"><i></i></p>"
   ]
  },
  {
   "cell_type": "markdown",
   "id": "b355d996-ed41-4924-93f1-d238e80afb06",
   "metadata": {},
   "source": [
    "See, way less packets, you can see now how much overhead TCP really requires and for something as simple as DNS, it's just not needed. It's the perfect example for why protocols like UDP exist in addition to the more robust TCP.\n",
    "\n",
    "You might be wondering how error recovery plays into this since UDP doesn't have any. The answer is pretty simple. The DNS resolver just asks again if it doesn't get a response, basically the same functionality that TCP provides at the transport layer is provided by DNS at the application layer, in the most simple manner. A DNS server never needs to care about doing anything but responding to incoming lookups and a DNS resolver simply needs to perform lookups and repeat them if they don't succeed. A real showcase of the simplicity of both DNS and UDP.\n",
    "\n",
    "I should call out that DNS over TCP does in fact exist and is also in use all over. As the web has gotten more complex, it's no longer the case that all DNS lookup responses can fit in a single UDP datagram. In these situations, a DNS name server would respond with a packet explaining that the response is too large. The DNS client would then establish a TCP connection in order to perform the lookup."
   ]
  },
  {
   "cell_type": "markdown",
   "id": "61ce6018-a638-4474-9498-e634f902e159",
   "metadata": {},
   "source": [
    "### Resource Record Types"
   ]
  },
  {
   "cell_type": "markdown",
   "id": "9d97f392-ed46-49fb-b56e-64b364048505",
   "metadata": {},
   "source": [
    "DNS in practice, operates with a set of defined resource record types. These allow for different kinds of DNS resolutions to take place. There are dozens of different resource record types to find, but a lot of them only serve very specialized purposes. We'll cover the most basic ones here. \n",
    "\n",
    "The most common resource record is known as an A record. \n",
    "\n",
    "> An **A record** is used to point a certain domain name at a certain IPv4 IP address. \n",
    "\n",
    "In our earlier discussions of DNS, we made the assumption that the DNS resolver was asking for the A record for a domain name. In its most basic use, a single A record is configured for a single domain name, but a single domain name can have multiple A records too. This allows for a technique known as DNS round robin to be used to balance traffic across multiple IPs. \n",
    "\n",
    "> **Round robin** is a concept that involves iterating over a list of items one by one in an orderly fashion. \n",
    "\n",
    "The hope is that this ensures a fairly equal balance of each entry on the list that's selected. Let's say we're in charge of a domain name `www.microsoft.com`. Microsoft is a large company, and their website likely sees a lot of traffic. To help balance this traffic across multiple servers, we configure four A records for `www.microsoft.com` at the authoritative name server for the `microsoft.com `domain. We'll use the IPs `10.1.1.1`, `10.1.1.2`, `10.1.1.3`, and `10.1.1.4`. When a DNS resolver performs a look up of `www.microsoft.com,` all four IPs would be returned in the order, first configured: `10.1.1.1` followed by `10.1.1.2`, followed by `10.1.1.3`, and finally `10.1.1.4`. The DNS resolving computer would know that it should try to use the first entry, `10.1.1.1`. But it knows about all four just in case a connection to `10.1.1.1` fails. The next computer to perform a look up for `www.microsoft.com,` would also receive all four IPs in the response, but the ordering will have changed. The first entry would be `10.1.1.2`, followed by `10.1.1.3`, followed by `10.1.1.4`, and finally `10.1.1.1` would be last on that list. This pattern would continue for every DNS resolution attempt, cycling through all of the A records configured, and balancing the traffic across these IPs. That's the basics of how DNS round robin logic works. \n",
    "\n",
    "Another resource record type that's becoming more and more popular is the quad A record. \n",
    "\n",
    "> A **quad A record** is very similar to an A record, except that it returns an IPv6 address instead of an IPv4 address. \n",
    "\n",
    "The CNAME record is also super common. \n",
    "\n",
    "> A **CNAME record** is used to redirect traffic from one domain to another. \n",
    "\n",
    "Let's say that Microsoft runs their web servers at `www.microsoft.com`. They also want to make sure that anyone that enters just `microsoft.com` into their web browser, will get properly redirected. By configuring a `CNAME` record for `microsoft.com` that resolves to `www.microsoft.com`, the resolving client would then know to perform another resolution attempt, this time, for `www.microsoft.com`, and then use the IP returned by that second attempt. `CNAME`s are really useful because they ensure you only have to change the canonical IP address of a server in one place. In fact, `CNAME` it's just shorthand for canonical name. \n",
    "\n",
    "If we look again at our original example of making sure that visitors to both `microsoft.com `and `www.microsoft.com`, get to the same place, we could do this in two ways. We could set up identical A records for both `microsoft.com` and `www.microsoft.com` domain names. And this would work just fine. But if the underlying IP address ever changes, we need to change it in two places, the A records for both `microsoft.com` and `www.microsoft.com`. By setting up a `CNAME` that points `microsoft.com` at `www.microsoft.com`, you'd only have to change the A record for `www.microsoft.com.` And you know the clients pointing at either domain would get the new IP address. \n",
    "\n",
    "This might not seem like a huge deal with just two records to worry about, but large companies with complex presences on the web might have dozens of these kinds of redirections. It's always easier to only have one source of truth. \n",
    "\n",
    "Another important resource record type is the MX record. \n",
    "\n",
    "> **Mail exchange (MX) record** is used in order to deliver email to the correct server. \n",
    "\n",
    "Many companies run their web and mail servers on different machines with different IPs. So the MX record makes it easy to ensure that email gets delivered to a company's mail server, while other traffic like web traffic, would get delivered to their web server. \n",
    "\n",
    "Record type very similar to the MX record, is the SRV record. \n",
    "\n",
    "> Service record (**SRV**) is used to define the location of various specific services. \n",
    "\n",
    "It serves the exact same purpose as the MX resource record type except for one thing: while MX is only for mail services, an SRV record can be defined to return the specifics of many different service types. For example, SRV records are often used to return the records of services like Cal Dave, which is a calendar and scheduling service. \n",
    "\n",
    "The text record type is an interesting one. \n",
    "\n",
    "> **TXT** (text) was originally intended to be used only for associating some descriptive text with a domain name for human consumption. \n",
    "\n",
    "The idea was that you could leave notes or messages that humans could discover and read to learn more about arbitrary specifics of your network. But over the years as the internet and services that run on it have become more and more complex, the text record has been increasingly used to convey additional data intended for other computers to process. Since the text record has a field that's entirely free form, clever engineers have figured it out ways to use it to communicate data not originally intended to be communicated by a system like DNS. This text record is often used to communicate configuration preferences about network services that you've entrusted other organizations to handle for your domain. For example, it's common for the text record to be used to convey additional info to an email as a service provider, which is a company that handles your email delivery for you. \n",
    "\n",
    "There are lots of other DNS resource record types in common use, like the NS or SOA records which are used to define authoritative information about DNS zones."
   ]
  },
  {
   "cell_type": "markdown",
   "id": "117d1dcc-ea8a-467c-a9ef-7c3576e7f236",
   "metadata": {},
   "source": [
    "### Anatomy of a Domain Name"
   ]
  },
  {
   "cell_type": "markdown",
   "id": "379324a6-6c3f-4bce-8d8a-7f20a00df27e",
   "metadata": {},
   "source": [
    "Any given domain name has three primary parts, and they all serve specific purposes. \n",
    "\n",
    "Let's take the domain name `www.google.com`. The three parts here should be pretty easy to spot, since they're each set off from each other by a period there \n",
    "- www \n",
    "- google, and \n",
    "- com. \n",
    "\n",
    "The last part of a domain name, is known as the TLD or **top level domain**. In this case it's the \".com\" portion of the domain name. There are only a certain restricted number of defined TLDs available, although that number has been growing a lot in recent years. \n",
    "\n",
    "The most common TLDs are ones you've probably already familiar with, \".com\", \".net\", \".edu\" and so on. You've probably also seen some country specific TLDs, such as \".de\" for Germany or \".cn\" for China. Due to the growth of the internet, many of the TLDs originally defined have become very crowded. So today, a number of vanity TLDs are available, everything from \".museum\" to \".pizza\". \n",
    "\n",
    "Administration and definition of TLDs is handled by a non profit organization, known as the **Internet Corporation for Assigned Names and Numbers (ICANN)**. ICANN is a sister organization to the IANA, and together they helped define and control both the global IP spaces along with the global DNS system. \n",
    "\n",
    "A **domain** is the name commonly used to refer to the second part of a domain name, which would be \"google\" in our example. \n",
    "\n",
    "> Domains are used to demarcate where control moves from a TLD name server to an authoritative name server.\n",
    "\n",
    "This is typically under the control of an independent organization or someone outside of ICANN. Domains can be registered and chosen by any individual or company, but they must all end in one of the predefined TLDs. \n",
    "\n",
    "The `www` portion of this is known as the **sub domain**, sometimes referred to as a **host name** if it's been assigned to only one host. \n",
    "\n",
    "When you combine all these parts together, you have what's known as a **fully qualified domain name (FQDN)**. While it costs money to officially register a domain with a registrar, sub domains can be freely chosen and assigned by anyone who controls such a registered domain. \n",
    "\n",
    "> A **registrar** is just a company that has an agreement with ICANN to sell unregistered domain names.\n",
    "\n",
    "Technically you can have lots of sub domain names. For example, `hosts.sub.sub.domain.domain.com` could be completely valid, although you rarely see fully qualified domain names with that many levels. DNS can technically support up to `127` levels of domain in total for a single fully qualified domain name. There are some other restrictions in place, for how a domain name can be specified. Each individual section can only be `63` characters long, and a complete FQDN is limited to a total of `255` characters."
   ]
  },
  {
   "cell_type": "markdown",
   "id": "e7c649f4-fa42-447a-bacb-2c0a3ff14780",
   "metadata": {},
   "source": [
    "### DNS Zones"
   ]
  },
  {
   "cell_type": "markdown",
   "id": "acdbd3c9-ed5a-4b95-8ae6-f90989209af5",
   "metadata": {},
   "source": [
    "We've covered how authoritative name servers are responsible for responding to name resolution requests for a specific domains, but they do more than that. An authoritative name server is actually responsible for a specific DNS zone. **DNS zones** are a hierarchical concept. \n",
    "\n",
    "The root name servers we covered earlier are responsible for the root zone. Each TLD name server is responsible for the zone covering its specific TLD. What we referred to as authoritative name servers are responsible for some even finer grained zones underneath that. The root and TLD name servers are actually just authoritative name servers too. It's just that the zones at their authority for the special cases. \n",
    "\n",
    "The zones don't overlap. For example the administrative authority of the TLD name server for the `.com` TLD doesn't encompass the `google.com` domain. Instead, it ends at the authoritative server responsible for `google.com`. \n",
    "\n",
    "> The purpose of DNS zones is to allow for easier control over multiple levels of a domain. \n",
    "\n",
    "As the number of resource records in a single domain increases, it becomes more of a headache to manage them all. Network administrators can ease this pain by splitting up their configurations into multiple zones. \n",
    "\n",
    "Let's imagine a large company that owns the domain `largecompany.com`. This company has offices in Los Angeles, Paris, and Shanghai. Let's say each office has around 200 people with their own uniquely named desktop computer. This would be 600A records to keep track of if it was all configured as a single zone. What the company could do instead is split up each office into their own zone. Now we can have `la.largecompany.com`, `pa.largecompany.com`, and `sh.largecompany.com` as subdomains, each with their own DNS zone. A total of four authoritative name servers would now be required for the setup. One for `largecompany.com` and one for each of the sub domains. \n",
    "\n",
    "Zones are configured through what are known as \n",
    "\n",
    "> **zone files**, simple configuration files that declare all resource records for a particular zone. \n",
    "\n",
    "A zone file has to contain an a **Start of Authority (SOA)** resource record declaration. \n",
    "\n",
    "> This SOA record declares the zone and the name of the name server that is authoritative for it. \n",
    "\n",
    "Along with the SOA record, you'll usually find \n",
    "\n",
    "> `NS` records which indicate other name servers that might also be responsible for this zone. \n",
    "\n",
    "For simplicity sake, we've been referring to server in the singular when discussing what's responsible for a zone wether at the root, TLD or domain level. \n",
    "\n",
    "But there are often going to be multiple physical servers with their own FQDNs and IP addresses involved. Having multiple servers in place for something as important as DNS is pretty common. Why? Well, if one server were to have a problem or suffer a harbor failure, you can always rely on one of the other ones to serve DNS traffic. \n",
    "\n",
    "Besides SOA and NS records, you'll also find some or all of the other resource record types we've already covered, like A, Quad A and CNAME records, along with configurations such as default TTL values for the record served by this zone. Just like how subdomains can go many layers deep, zones can be configured to do this too. But just like with subdomains, it's rare to see zones deeper than just a few levels. \n",
    "\n",
    "Sometimes you will also see what are known as **reverse lookup zone files**. \n",
    "\n",
    "> These let DNS resolvers ask for an IP and get the FQDN associated with it returned. \n",
    "\n",
    "These files are the same as zone files, except instead of A and Quad A records which resolve names to IPs, you'll find mostly pointer resource record declarations. As you might have guessed, \n",
    "\n",
    "> a **Pointer Record (PTR)** resolves an IP to a name."
   ]
  },
  {
   "cell_type": "markdown",
   "id": "b13799a0-be91-48a5-a3a2-31876dd683c5",
   "metadata": {
    "jp-MarkdownHeadingCollapsed": true
   },
   "source": [
    "## <a name=\"dhcp\">Dynamic Host Configuration Protocol (DHCP)</a>"
   ]
  },
  {
   "cell_type": "markdown",
   "id": "e88bcded-8889-48cc-b5f0-233de5b8768a",
   "metadata": {},
   "source": [
    "### Overview of DHCP"
   ]
  },
  {
   "cell_type": "markdown",
   "id": "a1c6f339-1ec7-476c-ae66-6c9b0ea3360b",
   "metadata": {},
   "source": [
    "Managing hosts on a network can be a daunting and time-consuming task. Every single computer on a modern TCP/IP-based network needs to have at least four things specifically configured: \n",
    "- an IP address, \n",
    "- the subnet mask for the local network, \n",
    "- a primary gateway, and \n",
    "- a name server. \n",
    "\n",
    "On their own, these four things don't seem like much, but when you have to configure them on hundreds of machines, it becomes super tedious. Out of these four things, three are likely the same on just about every node on the network: \n",
    "- the subnet mask, \n",
    "- the primary gateway, and \n",
    "- DNS server \n",
    "\n",
    "but the last item, an IP address needs to be different on every single node on the network. That could require a lot of tricky configuration work and this is where **Dynamic Host Configuration Protocol(DHCP)** comes into play. \n",
    "\n",
    "> DHCP is an application layer protocol that automates the configuration process of hosts on a network.\n",
    "\n",
    "With DHCP, a machine can query a DHCP server when the computer connects to the network and receive all the networking configuration in one go. \n",
    "\n",
    "Not only does DHCP reduce the administrative overhead of having to configure lots of network devices on a single network, it also helps address the problem of having to choose what IP to assign to what machine. \n",
    "\n",
    "Every computer on a network requires an IP for communications, but very few of them require an IP that would be commonly known. For servers or network equipment on your network, like your gateway router, a static and known IP address is pretty important. For example, the devices on a network need to know the IP of their gateway at all times. If the local DNS server was malfunctioning, network administrators would still need a way to connect to some of these devices through their IP. \n",
    "\n",
    "Without aesthetic IP configured for a DNS server, it would be hard to connect to it, to diagnose any problems if it was malfunctioning. But for a bunch of client devices, like desktops or laptops, or even mobile phones, it's really only important that they have an IP on the right network. It's much less important exactly which IP that is. \n",
    "\n",
    "Using DHCP, you can configure a range of IP addresses that's set aside for these client devices. This ensures that any of these devices can obtain an IP address when they need one but solves the problem of having to maintain a list of every node on the network and its corresponding IP. \n",
    "\n",
    "There are a few standard ways that DHCP can operate. DHCP, **dynamic allocation** is the most common, and it works how we described it just now: \n",
    "\n",
    "> a range of IP addresses is set aside for client devices and one of these IPs is issued to these devices when they request one. \n",
    "\n",
    "Under a dynamic allocation, the IP of a computer could be different almost every time it connects to the network. \n",
    "\n",
    "**Automatic allocation** is very similar to dynamic allocation in that a range of IP addresses is set aside for assignment purposes. The main difference here is that \n",
    "\n",
    "> the DHCP server is asked to keep track of which IPs it's assigned to certain devices in the past. \n",
    "\n",
    "Using this information, the DHCP server will assign the same IP to the same machine each time if possible. \n",
    "\n",
    "Finally, there's what's known as fixed allocation. \n",
    "\n",
    "> **Fixed allocation** requires a manually specified list of MAC address and their corresponding IPs. \n",
    "\n",
    "When a computer requests an IP, the DHCP server looks for its MAC address in a table and assigns the IP that corresponds to that MAC address. If the MAC address isn't found, the DHCP server might fall back to automatic or dynamic allocation, or it might refuse to assign an IP altogether. This can be used as a security measure to ensure that only devices that have had their MAC address specifically configured at the DHCP server will ever be able to obtain an IP and communicate on the network. \n",
    "\n",
    "It's worth calling out that DHCP discovery can be used to configure lots of things beyond what we've touched on here. Along with things like IP address and primary gateway, you can also use DHCP to assign things like NTP servers. NTP stands for **Network Time Protocol** and is used to keep all computers on a network synchronized in time."
   ]
  },
  {
   "cell_type": "markdown",
   "id": "b99e0a50-838a-4a4f-9448-11e6885d1373",
   "metadata": {},
   "source": [
    "### DHCP in Action"
   ]
  },
  {
   "cell_type": "markdown",
   "id": "f90de64e-5a93-4942-ab87-a3e8732e20f9",
   "metadata": {},
   "source": [
    "DHCP is an application layer protocol, which means it relies on the transport, network, data link, and physical layers to operate. But you might have noticed that the entire point of DHCP is to help configure the network layer itself. \n",
    "\n",
    "Let's take a look at exactly how DHCP works and how it accomplishes communications without a network layer configuration in place. \n",
    "\n",
    "> The process by which a client configured to use DHCP attempts to get network configuration information is known as **DHCP discovery**. \n",
    "\n",
    "The DHCP discovery process has four steps. \n",
    "\n",
    "First, we have the **server discovery step**. The DHCP client sends what's known as a **DHCP discover message** out onto the network. Since the machine doesn't have an IP and it doesn't know the IP of the DHCP server, a specially crafted broadcast message is formed instead. DHCP listens on UDP port `67` and DHCP discovery messages are always sent from UDP port `68`. The DHCP discover message encapsulated in a UDP datagram with a destination port of `67` and a source port of `68`. This is then encapsulated inside of an IP datagram with a destination IP of `255.255.255.255` and a source IP of `0.0.0.0`. This broadcast message would get delivered to every node on the local area network, and if a DHCP server is present, it would receive this message. "
   ]
  },
  {
   "cell_type": "markdown",
   "id": "6e2328f4-4b97-4618-b768-84941aa54a74",
   "metadata": {},
   "source": [
    "<center>\n",
    "    <img src=\"data/images/Screenshot from 2023-07-09 18-58-41.png\" alt=\"example\" style=\"width: 500px\">\n",
    "    <p style=\"text-align: center\"><i></i></p>"
   ]
  },
  {
   "cell_type": "markdown",
   "id": "5e52e7fa-855a-43da-abef-75e3fc48594a",
   "metadata": {},
   "source": [
    "Next, the DHCP server would examine its own configuration and would make a decision on what, if any, IP address to offer to the client. This will depend on if it's configured to run with dynamic, automatic or fixed address allocation. The response would be sent as a **DHCP offer message** with a destination port of `68`, a source port of `67`, a destination broadcast IP of `255.255.255.255`, and its actual IP as the source. Since the DHCP Offer is also a broadcast, it would reach every machine on the network. The original client would recognize that this message was intended for itself. This is because the DHCP offer has the field that specifies the MAC address of the client that sent the DHCP discover message. "
   ]
  },
  {
   "cell_type": "markdown",
   "id": "4214de2d-db63-4e67-9133-f4554604ad4e",
   "metadata": {},
   "source": [
    "<center>\n",
    "    <img src=\"data/images/Screenshot from 2023-07-09 19-00-36.png\" alt=\"example\" style=\"width: 500px\">\n",
    "    <p style=\"text-align: center\"><i></i></p>"
   ]
  },
  {
   "cell_type": "markdown",
   "id": "f9f10a3f-eadd-440c-acb3-2e25ab77e015",
   "metadata": {},
   "source": [
    "The client machine would now process this DHCP offer to see what IP is being offered to it. Technically, a DHCP client could reject this offer. It's totally possible for multiple DHCP servers to be running on the same network and for a DHCP client to be configured to only respond to an offer of an IP within a certain range. But this is rare. More often, the DHCP client would respond to the DHCP offer message with a **DHCP request message**. This message essentially says, \"_Yes, I would like to have an IP that you offered to me_\". Since the IP hasn't been assigned yet, this is again sent from an IP of `0.0.0.0` and to the broadcast IP of `255.255.255.255`. "
   ]
  },
  {
   "cell_type": "markdown",
   "id": "489b4cd7-339b-40a4-b9c5-3361241bd9a1",
   "metadata": {},
   "source": [
    "<center>\n",
    "    <img src=\"data/images/Screenshot from 2023-07-09 19-02-27.png\" alt=\"example\" style=\"width: 500px\">\n",
    "    <p style=\"text-align: center\"><i></i></p>"
   ]
  },
  {
   "cell_type": "markdown",
   "id": "6d3e3a10-d70f-44c5-b237-fa234793c2a3",
   "metadata": {},
   "source": [
    "Finally, the DHCP server receives the DHCP request message and respond with a `DHCPACK` or **DHCP Acknowledgement message**. This message is again sent to a broadcast IP of `255.255.255.255`, and with a source IP corresponding to the actual IP of the DHCP server. Again, the DHCP client would recognize that this message was intended for itself by inclusion of its MAC address in one of the message fields. The networking stack on the client computer can now use the configuration information presented to it by the DHCP server to set up its own network layer configuration. At this stage, the computer that's acting as the DHCP client should have all the information it needs to operate in a full-fledged manner on the network it's connected to. "
   ]
  },
  {
   "cell_type": "markdown",
   "id": "d6c71f91-ddab-4707-a986-d773d8d7c47c",
   "metadata": {},
   "source": [
    "<center>\n",
    "    <img src=\"data/images/Screenshot from 2023-07-09 19-05-03.png\" alt=\"example\" style=\"width: 500px\">\n",
    "    <p style=\"text-align: center\"><i></i></p>"
   ]
  },
  {
   "cell_type": "markdown",
   "id": "480bbeed-bc55-4b26-ad39-03f23673ade8",
   "metadata": {},
   "source": [
    "> All of this configuration is known as **DHCP lease**, as it includes an expiration time. \n",
    "\n",
    "A DHCP lease might last for days or only for a short amount of time. Once a lease has expired, the DHCP client would need to negotiate a new lease by performing the entire DHCP discovery process all over again. \n",
    "\n",
    "A client can also release its lease to the DHCP server, which it would do when it disconnects from the network. This would allow the DHCP server to return the IP address that was assigned to its pool of available IPs."
   ]
  },
  {
   "cell_type": "markdown",
   "id": "b93eeaa8-e99c-4332-8618-f4a9a459e4d3",
   "metadata": {
    "jp-MarkdownHeadingCollapsed": true
   },
   "source": [
    "## <a name=\"nat\">Network Address Translation</a> - NAT"
   ]
  },
  {
   "cell_type": "markdown",
   "id": "bac33bd5-5f4e-4aa7-ba35-18fa170a23a8",
   "metadata": {},
   "source": [
    "### Basics of NAT"
   ]
  },
  {
   "cell_type": "markdown",
   "id": "1c31478d-c5d3-4256-b3f0-e9c67ad38ecd",
   "metadata": {},
   "source": [
    "Unlike protocols like DNS and DHCP, **Network Address Translation (NAT)**, is a technique instead of a defined standard. This means that some of what we'll discuss in this lesson might be more high level than some of our other topics. \n",
    "\n",
    "Different operating systems and different network hardware vendors have implemented the details of NAT in different ways, but the concepts of what it accomplishes are pretty constant. \n",
    "\n",
    "Network Address Translation does pretty much what it sounds like. It takes one IP address and translates it into another. There are lots of reasons why you would want to do this. They range from security safeguards to preserving the limited amount of available IPV4 space. We'll discuss the implications of NAT and the IPV4 address space later in this lesson, but for now, let's just focus on how NAT itself works and how it can provide additional security measures to a network. \n",
    "\n",
    "At its most basic level, \n",
    "\n",
    "> NAT is a technology that allows a gateway, usually a router or a firewall to rewrite the source IP of an outgoing IP datagram while retaining the original IP in order to rewrite it into the response. \n",
    "\n",
    "To explain this better, let's look at a simple NAT example. \n",
    "\n",
    "Let's say we have two networks. Network A consists of the `10.1.1.0/24` address space, and Network B consists of the `192.168.1.0/24` address space. Sitting between these networks is a router that has an interface on Network A with an IP of `10.1.1.1 `and an interface on Network B of `192.168.1.1`. Now, let's put two computers on these networks. Computer 1 is on Network A and has an IP of `10.1.1.100` and Computer 2 is on Network B and has an IP of `192.168.1.100`. Computer 1 wants to communicate with a web server on Computer 2. It crafts the appropriate packet at all layers and sends this to its primary gateway, the router sitting between the two networks. So far, this is a lot like many of our earlier examples, but in this instance, the router is configured to perform NAT for any outbound packets. \n",
    "\n",
    "Normally, a router will inspect the contents of an IP datagram, decrement the TTL by one, recalculate the checksum and forward the rest of the data at the network layer without touching it, but with NAT, the router will also rewrite the source IP address, which in this instance becomes the router's IP on Network B or `192.168.1.1`. When the datagram gets to Computer 2, it will look like it originated from the router, not from Computer 1. Now, Computer 2 crafts its response and sends it back to the router. The router, knowing that this traffic is actually intended for Computer 1, rewrites the destination IP field before forwarding it along. What NAT is doing in this example is hiding the IP of Computer 1 from Computer 2. This is known as **IP masquerading**. "
   ]
  },
  {
   "cell_type": "markdown",
   "id": "6b1f0b63-cdad-4424-a02c-e7039a173636",
   "metadata": {},
   "source": [
    "<center>\n",
    "    <img src=\"data/images/Screenshot from 2023-07-09 23-55-32.png\" alt=\"example\" style=\"width: 600px\">\n",
    "    <p style=\"text-align: center\"><i></i></p>"
   ]
  },
  {
   "cell_type": "markdown",
   "id": "10db576f-5b29-4d09-8f2e-950a06875e43",
   "metadata": {},
   "source": [
    "IP masquerading is an important security concept. The most basic concept at play here is that no one can establish a connection to your computer if they don't know what IP address it has. By using NAT in the way we've just described we could actually have hundreds of computers on Network A, all of their IPs being translated by the router to its own. To the outside world, the entire address space of Network A is protected and invisible. This is known as **one-to-many NAT**, and you'll see it in use on lots of LANs today."
   ]
  },
  {
   "cell_type": "markdown",
   "id": "2d8fdfb8-eed0-40c5-8c35-d8587c683db1",
   "metadata": {},
   "source": [
    "### NAT and the Transport Layer"
   ]
  },
  {
   "cell_type": "markdown",
   "id": "4da8b60c-276d-40a8-8c47-3b1927e5abd7",
   "metadata": {},
   "source": [
    "NAT at the network layer is pretty easy to follow. One IP address is translated to another by a device, usually a router. But at the transport layer, things get a little bit more complicated and several additional techniques come into play to make sure everything works properly. \n",
    "\n",
    "With one-to-many NAT, we've talked about how hundreds, even thousands of computers can all have their outbound traffic translated via NAT to a single IP. This is pretty easy to understand when the traffic is outbound, but a little more complicated once return traffic is involved. We now have potentially hundreds of responses all directed at the same IP and the router at this IP needs to figure out which responses go to which computer. \n",
    "\n",
    "The simplest way to do this is through port preservation. \n",
    "\n",
    "> **Port preservation** is a technique where the source port chosen by a client is the same port used by the router. \n",
    "\n",
    "Remember that outbound connections choose a source port at random from the ephemeral ports or the ports in the range 49,152 through 65,535. In the simplest setup, a router setup to NAT outbound traffic will just keep track of what the source port is and use that to direct traffic back to the right computer. \n",
    "\n",
    "Let's imagine a device with an IP of `10.1.1.100`. It wants to establish an outbound connection and the networking stack of the operating system chooses port `51,300` for this connection. Once this outbound connection gets to the router, it performs network address translation and places its own IP in the source address field of the IP datagram, but it leaves the source port in the TCP datagram the same, and stores this data internally in a table. Now, when traffic returns to the router on port `51,300`, it knows that this traffic needs to be forwarded back to the IP `10.1.1.100`. Even with how large the set of ephemeral ports is, it's still possible for two different computers on a network to both choose the same source port around the same time. When this happens, the router normally selects an unused port at random to use instead. "
   ]
  },
  {
   "cell_type": "markdown",
   "id": "e66f63ba-b591-42fe-aac6-763f4270b1f1",
   "metadata": {},
   "source": [
    "<center>\n",
    "    <img src=\"data/images/Screenshot from 2023-07-09 23-59-27.png\" alt=\"example\" style=\"width: 600px\">\n",
    "    <p style=\"text-align: center\"><i></i></p>"
   ]
  },
  {
   "cell_type": "markdown",
   "id": "1c8864b2-497f-448e-ba62-838ed9283d90",
   "metadata": {},
   "source": [
    "Another important concept about NAT and the transport layer is port forwarding. \n",
    "\n",
    "> **Port forwarding** is a technique where specific destination ports can be configured to always be delivered to specific nodes. \n",
    "\n",
    "This technique allows for complete IP masquerading while still having services that can respond to incoming traffic. Let's use our network `10.1.1.0/24`, again, to demonstrate this. \n",
    "\n",
    "Let's say there's a web server configured with an IP of `10.1.1.5`. With port forwarding, no one would even have to know this IP. Prospective web clients would only have to know about the external IP of the router, let's say it's `192.168.1.1`. Any traffic directed at port `80` on `192.168.1.1` would get automatically forwarded to `10.1.1.5`. Response traffic would have the source IP rewritten to look like the external IP of the router. "
   ]
  },
  {
   "cell_type": "markdown",
   "id": "96bdc431-6dda-4424-90ec-943599fbf1fe",
   "metadata": {},
   "source": [
    "<center>\n",
    "    <img src=\"data/images/Screenshot from 2023-07-10 00-03-12.png\" alt=\"example\" style=\"width: 600px\">\n",
    "    <p style=\"text-align: center\"><i></i></p>"
   ]
  },
  {
   "cell_type": "markdown",
   "id": "18b6807b-9b04-46ee-85b6-76cda451eba1",
   "metadata": {},
   "source": [
    "This technique not only allows for IP masquerading, it also simplifies how external users might interact with lots of services all run by the same organization. \n",
    "\n",
    "Let's imagine a company with both a web server and a mail server. Both need to be accessible to the outside world but they run on different servers with different IPs. Again, let's say the web server has an IP of `10.1.1.5` and the mail server has an IP of `10.1.1.6`, with port forwarding, traffic for either of these services could be aimed at the same external IP and therefore the same DNS name, but it would get delivered to entirely different internal servers due to their different destination ports."
   ]
  },
  {
   "cell_type": "markdown",
   "id": "0c867723-a475-4a18-94ed-e3688a8ba6b4",
   "metadata": {},
   "source": [
    "<center>\n",
    "    <img src=\"data/images/Screenshot from 2023-07-10 00-04-39.png\" alt=\"example\" style=\"width: 600px\">\n",
    "    <p style=\"text-align: center\"><i></i></p>"
   ]
  },
  {
   "cell_type": "markdown",
   "id": "8a2ea1e2-0f34-409e-a1a3-2ea956fd8b6f",
   "metadata": {},
   "source": [
    "### Addition ([MikroTik](https://www.youtube.com/watch?v=lAf-jEpNQyc&ab_channel=MikrotikTraining))"
   ]
  },
  {
   "cell_type": "markdown",
   "id": "2f72087b-59ef-40a5-a187-01e6b5c52478",
   "metadata": {},
   "source": [
    "<center>\n",
    "    <img src=\"data/images/Screenshot from 2023-07-21 18-13-50.png\" alt=\"example\" style=\"width: 400px\">\n",
    "    <p style=\"text-align: center\"><i></i></p>"
   ]
  },
  {
   "cell_type": "markdown",
   "id": "6f87a2d6-8ae4-45cd-83a9-2ba57bd41e35",
   "metadata": {},
   "source": [
    "Заменяется либо адрес источника, либо адрес назначения в зависимости от направления движения информации."
   ]
  },
  {
   "cell_type": "markdown",
   "id": "c5c42455-50b7-4a5e-86c5-5d63f8cbf572",
   "metadata": {},
   "source": [
    "## Supplemental Reading for IPv4 Address Exhaustion"
   ]
  },
  {
   "cell_type": "markdown",
   "id": "7f1d3e2d-9f1a-40fc-bb54-f1aeedf255a4",
   "metadata": {},
   "source": [
    "**IPv4 Address Exhaustion**\n",
    "\n",
    "IT professionals are responsible for troubleshooting network connections. If a device cannot connect to the network, the IP address is used as a part of a command line to test if the device is the issue. The Internet Assigned Numbers Authority ([IANA](https://www.iana.org/)) distributes IP addresses, so unique addresses are used when connecting to the internet. Since 1988 IANA has assigned IP addresses, but the internet has expanded drastically, requiring billions of IP addresses. The possible combinations of numbers (4.2 billion) have almost run out. This reading will explain the structure for the distribution of IP addresses and how IPv6 is being used to solve the limited number of IP addresses available.\n",
    "\n",
    "**Regional internet registries (RIRs)**\n",
    "\n",
    "IANA assigns IP address blocks to the five **regional internet registries (RIRs)**. An RIR is an organization that manages internet number resources within a geographical region. IANA is responsible for assigning address blocks to five Regional Internet Registries (RIRs):\n",
    "\n",
    "- AFRINIC - Africa\n",
    "- ARIN - USA, Canada, and parts of the Caribbean\n",
    "- APNIC - Most of Asia, Australia, New Zealand, and Pacific Island nations\n",
    "- LACNIC - Central America, South America, and the remaining parts of the Caribbean not covered by ARIN\n",
    "- RIPE - Europe, Russia, Middle East, and portions of Central Asia\n",
    "\n",
    "Your computer gets its IP address directly from an RIR, not the IANA. \n",
    "\n",
    "<center>\n",
    "    <img src=\"data/images/PctLazF7SY2LS2sxe-mNkg_0ae37b45f9da4560b3c2ed720f431bf1_IPv4-Address-Exhaustion--C2M4-.png\" alt=\"example\" style=\"width: 800px\">\n",
    "    <p style=\"text-align: center\"><i>Geographical map showing the regions covered by each of the Regional Internet Registries.</i></p>\n",
    "\n",
    "**Timeline for IPv4 address exhaustion**\n",
    "\n",
    "On February 3, 2011, IATA assigned the last unallocated /8 of the 4.2 billion possible combinations of IPv4 addresses. In some regions, you use a recycled number as a new IP address due to reaching IP exhaustion. The RIRs exhausted the following blocks by date:\n",
    "\n",
    "- APNIC reached its final /8 addresses in April 2011.\n",
    "\n",
    "- RIPE reached its final /8 addresses in September 2012. \n",
    "\n",
    "- LACNIC reached its final /10 addresses in June 2014.\n",
    "\n",
    "- ARIN exhausted its list of free IPv4 addresses in September 2015.\n",
    "\n",
    "- AFRINIC entered IPv4 Exhaustion Phase 2 in January 2020.\n",
    "\n",
    "**IPv6**\n",
    "\n",
    "IPv6 will replace IPv4, using 128-bit addresses. IPv6 provides an identification and location system for computers on networks and routes traffic across the internet. The 128-bit addresses used by IPv6 provide a practically inexhaustible number of addresses. While IPv6 will solve many IPv4 address exhaustion issues, 99% of the devices in use today still use IPv4. IT professionals should be aware of IPv6 as it begins to take effect over the coming years and the structure of IP addresses changes. \n",
    "\n",
    "**Key takeaways**\n",
    "\n",
    "- The current system used for IP addresses, IPv4, has exhausted the combinations of numbers possible.\n",
    "\n",
    "- IPv4 has nearly exhausted the 4.2 billion IP addresses.\n",
    "\n",
    "- Regional Internet Registries assign IP addresses to devices in their physical area. \n",
    "\n",
    "- IPv6 provides infinitely more IP addresses and will solve the IPv4 address exhaustion issues over time. However, 99% of devices as of today use IPv4 addresses. "
   ]
  },
  {
   "cell_type": "markdown",
   "id": "5da39cd3-adc0-4aab-bb27-0d96b39037a5",
   "metadata": {
    "jp-MarkdownHeadingCollapsed": true,
    "tags": []
   },
   "source": [
    "## VPNs and Proxies"
   ]
  },
  {
   "cell_type": "markdown",
   "id": "fca88cf4-bb25-4791-88af-0ebc8431bf22",
   "metadata": {},
   "source": [
    "### Virtual Private Networks"
   ]
  },
  {
   "cell_type": "markdown",
   "id": "22001abe-8466-478b-bf1f-cacd0293a455",
   "metadata": {},
   "source": [
    "Businesses have lots of reasons to want to keep their network secure. They do this by using some of the technologies we've already discussed: firewalls, NAT, the use of non-routable address space, things like that. Organizations often have proprietary information that needs to remain secure, network services that are only intended for employees to access and other things. \n",
    "\n",
    "One of the easiest ways to keep network secure is to use various securing technologies. Only devices physically connected to their local area network can access these resources. But employees aren't always in the office. They might be working from home or on a business trip, and they might still need access to these resources in order to get their work done. That's where VPNs come in. \n",
    "\n",
    "> **Virtual private networks**, or VPNs, or a technology that allows for the extension of a private or local network to hosts that might not work on that same local network. \n",
    "\n",
    "VPNs come in many flavors and accomplish lots of different things. But the most common example of how VPNs are used is for employees to access their businesses network when they're not in the office. VPNs are a **tunneling protocol**, which means they provision access to something not locally available. When establishing a VPN connection, you might also say that a VPN tunnel has been established. \n",
    "\n",
    "Let's go back to the example of an employee who needs to access company resources while not in the office. The employee could use a VPN client to establish a VPN tunnel to their company network. This would provision their computer with what's known as a **virtual interface** with an IP that matches the address space of the network they've established a VPN connection to. By sending data out of this virtual interface, the computer could access internal resources, just like if it was physically connected to the private network. "
   ]
  },
  {
   "cell_type": "markdown",
   "id": "5c5c4804-15a0-47ea-836c-2353bfba091b",
   "metadata": {},
   "source": [
    "<center>\n",
    "    <img src=\"data/images/Screenshot from 2023-07-10 00-37-34.png\" alt=\"example\" style=\"width: 600px\">\n",
    "    <p style=\"text-align: center\"><i></i></p>"
   ]
  },
  {
   "cell_type": "markdown",
   "id": "efd9432b-1d75-4f3f-9122-4c69a39df02b",
   "metadata": {},
   "source": [
    "Most VPNs work by using the payload section of the transport layer to carry an encrypted payload that actually contains an entire second set of packets, the network, the transport, and the application layers of a packet intended to traverse the remote network. Basically, this payload is carried to the VPN's endpoint where all the other layers are stripped away and discarded. Then the payload is unencrypted, leaving the VPN server with the top three layers of a new packet. This gets encapsulated with the proper data link layer information and sent out across the network. This process is completed in the inverse in the opposite direction. "
   ]
  },
  {
   "cell_type": "markdown",
   "id": "9310ef73-f468-4abd-95cd-657a979bcb26",
   "metadata": {},
   "source": [
    "<center>\n",
    "    <img src=\"data/images/Screenshot from 2023-07-10 00-40-13.png\" alt=\"example\" style=\"width: 600px\">\n",
    "    <p style=\"text-align: center\"><i></i></p>"
   ]
  },
  {
   "cell_type": "markdown",
   "id": "56dbc0d1-cc90-4201-80cb-6dbd0d8a7c3e",
   "metadata": {},
   "source": [
    "VPNs usually require strict authentication procedures in order to ensure that they can only be connected to the computers and users authorized to do so. In fact, VPNs were one of the first technologies where two-factor authentication became common. \n",
    "\n",
    "> **Two-factor authentication** is a technique where more than just a username and password are required to authenticate. \n",
    "\n",
    "Usually, a short-lived numerical token is generated by the user through a specialized piece of hardware or software. \n",
    "\n",
    "VPNs can also be used to establish site-to-site connectivity. Conceptually, there isn't much difference between how this works compared to our remote employees situation. It's just that the router, or sometimes a specialized VPN device on one network, establishes the VPN tunnel to the router or VPN device on another network. This way, two physically separated offices might be able to act as one network and access network resources across the tunnel. "
   ]
  },
  {
   "cell_type": "markdown",
   "id": "10098f97-5cb6-4cfd-9d0d-b725ab4a41ca",
   "metadata": {},
   "source": [
    "<center>\n",
    "    <img src=\"data/images/Screenshot from 2023-07-10 00-42-10.png\" alt=\"example\" style=\"width: 600px\">\n",
    "    <p style=\"text-align: center\"><i></i></p>"
   ]
  },
  {
   "cell_type": "markdown",
   "id": "5689b53f-3d74-44f6-94c6-c4d5cff0630a",
   "metadata": {},
   "source": [
    "It's important to call out that just like NAT, VPN or a general technology concept, not a strictly defined protocol. There are lots of unique implementations of VPNs and the details of how they all work can differ a ton. The most important takeaway is that VPNs are a technology that use encrypted tunnels to allow for a remote computer or network to act as if it's connected to a network that it's not actually physically connected to."
   ]
  },
  {
   "cell_type": "markdown",
   "id": "12647885-acae-472e-9b69-f9ced503f8ec",
   "metadata": {},
   "source": [
    "### Proxy Services"
   ]
  },
  {
   "cell_type": "markdown",
   "id": "e7a39d75-e867-4d17-ad53-1bc4fe1efe78",
   "metadata": {},
   "source": [
    "> A **proxy service** is a server that acts on behalf of a client in order to access another service. \n",
    "\n",
    "Proxies sit between clients and other servers, providing some additional benefit:\n",
    "\n",
    "- anonymity, \n",
    "- security, \n",
    "- content filtering, \n",
    "- increased performance, \n",
    "\n",
    "a couple of other things. \n",
    "\n",
    "If any part of this sounds familiar, that's good. We've already covered some specific examples of proxies like gateway routers. You don't hear them referred to this way, but a gateway definitely meets the definition of what a proxy is and how it works. \n",
    "\n",
    "The concept of a proxy is just that, a concept or an abstraction. It doesn't refer to any specific implementation. Proxies exist at almost every layer of our networking model. There are dozens and dozens of examples of proxies you might run into during your career. But we'll cover just a few of the most common ones here. \n",
    "\n",
    "Most often you'll hear the term proxy used to refer to web proxies. As you might guess, these are proxies specifically built for web traffic. A web proxy can serve lots of purposes. Many years ago, when most Internet connections were much slower than they are today, lots of organizations used web proxies for increased performance. Using a web proxy in organization would direct all web traffic through it, allowing the proxy server itself to actually retrieve the webpage data from the Internet. It would then cache this data. This way, if someone else requested the same webpage, it could just return the cache data instead of having to retrieve the fresh copy every time. "
   ]
  },
  {
   "cell_type": "markdown",
   "id": "e3f4fa59-12ee-4607-a07c-a39eb992b5c9",
   "metadata": {},
   "source": [
    "<center>\n",
    "    <img src=\"data/images/Screenshot from 2023-07-10 00-45-26.png\" alt=\"example\" style=\"width: 600px\">\n",
    "    <p style=\"text-align: center\"><i></i></p>"
   ]
  },
  {
   "cell_type": "markdown",
   "id": "99e6ee45-e969-4d4d-9056-fb4d22444c70",
   "metadata": {},
   "source": [
    "This proxy is pretty old and you won't often find them in use today. Why? Well, for one thing, most organizations now have connections fast enough that caching individual webpages doesn't provide much benefit. Also, the web has become much more dynamic. Going to `www.twitter.com` is going to look different to every person with their own Twitter account. Caching this data wouldn't do much good. A more common use of a web proxy today might be to prevent someone from accessing sites like Twitter entirely. A company might decide that accessing Twitter during work hours reduces productivity. By using a web proxy, they can direct all web traffic to it, allow the proxy to inspect what data is being requested and then allow or deny this request depending on what site is being accessed. \n",
    "\n",
    "Another example of a proxy is a **reverse proxy**. \n",
    "\n",
    "> A reverse proxy is a service that might appear to be a single server to external clients, but actually represents many servers living behind it. \n",
    "\n",
    "A good example of this is how lots of popular websites are architected today. Very popular websites like Twitter receives so much traffic that there's no way single web server could possibly handle all of it. A website that popular might need many web servers in order to keep up with processing all incoming requests. A reverse proxy in this situation could act as a single front end for many web servers living behind it. From the client's perspective, it looks like they're all connected to the same server. But behind the scenes, this reverse proxy server is actually distributing these incoming requests to lots of different physical servers. Much like the concept of DNS round robin, this is a form of **load balancing**. "
   ]
  },
  {
   "cell_type": "markdown",
   "id": "d3332de9-fa6f-4a13-93e2-8ef85a345251",
   "metadata": {},
   "source": [
    "<center>\n",
    "    <img src=\"data/images/Screenshot from 2023-07-10 00-47-42.png\" alt=\"example\" style=\"width: 600px\">\n",
    "    <p style=\"text-align: center\"><i></i></p>"
   ]
  },
  {
   "cell_type": "markdown",
   "id": "8ad25d0f-26d5-4fa2-8413-f37237e30dde",
   "metadata": {},
   "source": [
    "Another way that reverse proxies are commonly used by popular websites is to deal with **decryption**. More than half of all traffic on the web is now encrypted. Encrypting and decrypting data is a process that can take a lot of processing power. Reverse proxies are now implemented in order to use hardware built specifically for cryptography to perform the encryption and decryption work so that the web servers are free to just serve content. "
   ]
  },
  {
   "cell_type": "markdown",
   "id": "a3bb1d6f-585c-48b0-a123-88035c636994",
   "metadata": {},
   "source": [
    "<center>\n",
    "    <img src=\"data/images/Screenshot from 2023-07-10 00-49-01.png\" alt=\"example\" style=\"width: 600px\">\n",
    "    <p style=\"text-align: center\"><i></i></p>"
   ]
  },
  {
   "cell_type": "markdown",
   "id": "85aa8465-fcdc-4e94-8bde-b85c7d0299ad",
   "metadata": {},
   "source": [
    "Proxies come in many other flavors, way too many for us to cover them all here. But the most important takeaway is that proxies are any server that act as an intermediary between a client and another server."
   ]
  },
  {
   "cell_type": "markdown",
   "id": "bfe516d1-60bc-4954-a1f2-c8c10981e1f2",
   "metadata": {
    "jp-MarkdownHeadingCollapsed": true,
    "tags": []
   },
   "source": [
    "# 2.3 Connecting to the Internet"
   ]
  },
  {
   "cell_type": "markdown",
   "id": "7347d786-b647-465b-9663-501a26a709fe",
   "metadata": {},
   "source": [
    "## Introduction to Connecting to the Internet"
   ]
  },
  {
   "cell_type": "markdown",
   "id": "018697d8-af6f-453f-994b-873e4edd5715",
   "metadata": {},
   "source": [
    "The internet is a vast and diverse place. Not only is it huge, the number of different devices connected to it, can be just as staggering. And if we were to actually describe all these devices, they'd have an almost endless number of functions. \n",
    "\n",
    "The devices that connect to the internet fall into familiar silos:\n",
    "\n",
    "- desktop and laptop computers, \n",
    "- servers and data centers, \n",
    "- routers and switches that direct network traffic, etc. \n",
    "\n",
    "But this list also includes things like tablets and cell phones, ATM's, industrial equipment, medical devices, and even some cars are now connected to the internet. The list could go on and on. \n",
    "\n",
    "It's nice and simple to discuss everything in terms of a basic physical layer made up of Cat5, or Cat6 cables, and a data link layer made entirely of Ethernet. But that's not exactly how things work when they actually connect to the internet. \n",
    "\n",
    "The technologies used to get people and devices connected are as different as the people and devices themselves. By the end of this module, you'll be able to describe various internet connectivity technologies. You'll also be able to define the components of what and outline the basics of wireless and cellular networking. These are the skills important as an IT support specialist, because a big part of your job will be making sure people can get online."
   ]
  },
  {
   "cell_type": "markdown",
   "id": "4d8058e9-8f61-49ee-a655-13c54149ea2b",
   "metadata": {},
   "source": [
    "## Dial-up and Modems"
   ]
  },
  {
   "cell_type": "markdown",
   "id": "352b33cb-6850-467f-a613-429dbe5184d1",
   "metadata": {},
   "source": [
    "As computer use grew over the course of the 20th century, it became obvious that there was a big need to connect computers to each other so that they could share data. \n",
    "\n",
    "For years before Ethernet, TCP, or IP, were ever invented, there were computer networks made up of technologies way more primitive than the model we've been discussing. These early networking technologies mostly focused on connecting devices within close physical proximity to each other. \n",
    "\n",
    "In the late 1970s, two graduate students at Duke University were trying to come up with a better way to connect computers at further distances. They wanted to share what was essentially bulletin board material, then a light bulb moment went off: they realized the basic infrastructure for this already existed - the public telephone network. \n",
    "\n",
    "> **The Public Switched Telephone Network (PSTN)** is also sometimes referred to as the **Plain Old Telephone Service(POTS)**. \n",
    "\n",
    "It was already a pretty global and powerful system by the late 1970s, more than 100 years after the invention of the telephone. These Duke grad students weren't the first ones to think about using a phone line to transmit data. But they were the first to do it in a way that became somewhat permanent precursor to the dial-up networks to follow. The system they built is known as **Usenet** and a form of it is still in use today. \n",
    "\n",
    "At the time, different locations like colleges and universities used a very primitive form of a dial-up connection to exchange a series of messages with each other. A dial-up connection uses POTS for data transfer and gets its name because the connection is established by actually dialing a phone number. If you used dial-up back in the day, this noise might sound familiar to you. For some of us, it was like nails on a chalkboard as we waited to get connected to the Internet."
   ]
  },
  {
   "cell_type": "markdown",
   "id": "1de8d5ce-a12c-4420-996f-6c2a84697fcb",
   "metadata": {},
   "source": [
    "<center>\n",
    "    <img src=\"data/images/Screenshot from 2023-07-11 16-15-38.png\" alt=\"example\" style=\"width: 600px\">\n",
    "    <p style=\"text-align: center\"><i></i></p>"
   ]
  },
  {
   "cell_type": "markdown",
   "id": "1760bbee-5b4a-431c-95fc-f28c65e08d93",
   "metadata": {},
   "source": [
    "Transferring data across a dial-up connection is done through devices called modems. \n",
    "\n",
    "> **Modem** stands for **modulator demodulator** and they take data that computers can understand and turn them into audible wavelengths that can be transmitted over POTS. "
   ]
  },
  {
   "cell_type": "markdown",
   "id": "8613dc2f-999f-45d3-8e1c-98482fc444fc",
   "metadata": {},
   "source": [
    "<center>\n",
    "    <img src=\"data/images/Screenshot from 2023-07-11 16-17-25.png\" alt=\"example\" style=\"width: 600px\">\n",
    "    <p style=\"text-align: center\"><i></i></p>"
   ]
  },
  {
   "cell_type": "markdown",
   "id": "a4559e1a-8ed1-4894-b2ce-dfe1beb5459c",
   "metadata": {},
   "source": [
    "After all, the telephone system was developed to transmit voice messages or sounds from one place to another. This is conceptually similar to how line coding is used to turn ones and zeros into modulating electrical charges across Ethernet cables. \n",
    "\n",
    "Early modems had very low baud rates. \n",
    "\n",
    "> A **baud rate** is a measurement of how many bits could be passed across a phone line in a second. \n",
    "\n",
    "By the late 1950s, computers could generally only send each other data across a phone line at about 110 bits per second. By the time Usenet was being developed, this rate had increased to around 300 bits per second. By the time dial-up access to the Internet became a household commodity in the early 1990s, this rate had increased to 14.4 kilobits per second. \n",
    "\n",
    "Improvements continued to be made, but widespread adoption of broadband technologies, dial-up Internet connectivity is pretty rare today, but it hasn't completely gone away. In some rural areas, it might be the only option still available. You might never run into a dial-up Internet connection during your IT career, but it's still important to know that for several decades, this technology represented the main way computers communicated with each other over long distances. "
   ]
  },
  {
   "cell_type": "markdown",
   "id": "9a47083c-d718-4976-81c1-97bf1effdccf",
   "metadata": {
    "jp-MarkdownHeadingCollapsed": true,
    "tags": []
   },
   "source": [
    "## Broadband Connections"
   ]
  },
  {
   "cell_type": "markdown",
   "id": "d743ace7-b152-40dc-80d1-e2910252a8ca",
   "metadata": {},
   "source": [
    "### What is broadband?"
   ]
  },
  {
   "cell_type": "markdown",
   "id": "0976ef24-e392-4124-ab04-bdd602a5c766",
   "metadata": {},
   "source": [
    "The term **broadband** has a few definitions. In terms of internet connectivity, it's used to refer to \n",
    "\n",
    "> any connectivity technology that isn't dial-up internet. \n",
    "\n",
    "Broadband internet is almost always much faster than even the fastest dial-up connections, and refers to connections that are always on. This means that there are long lasting connections that don't need to be established with each use, they're essentially links that are always present. \n",
    "\n",
    "Broadband shaped today's world. While the internet itself is a totally amazing invention, it wasn't until the advent of broadband technologies, that its true potential for business and home users was realized. \n",
    "\n",
    "Long before people had broadband connections at home, businesses spent a lot of resources on them. Usually out of necessity. If you had an office with more than a few employees, the bandwidth available by a single dialogue connection would quickly be over saturated by just a few users. By the mid 1990s, it had become pretty common for businesses that needed internet access for their employees to use various T-carrier technologies. \n",
    "\n",
    "> **T-carrier technologies** were originally invented by AT&T in order to transmit multiple phone calls over a single link. \n",
    "\n",
    "Eventually, they also became common transmission systems to transfer data much faster than any dial-up connection could handle. After businesses got into the broadband game, home use became more prevalent. As different aspects of the internet, like the World Wide Web, became more complex, they also required ever increasing data transfer rates. In the days of dial-up, even a single image on a web page could take many seconds to download and display. High resolution photos that you can now take on a cellphone, would have required a long time to download, and a lot of your patience. A single picture taken on a smartphone today can easily be several megabytes in size. Two megabytes would translate to 16,777,216 bits at a baud rate of 14.4 kilobits per second. That many bits would take nearly 20 minutes to download. No one would have had time to download all the hilarious cat images on the Internet back then. What a travesty! \n",
    "\n",
    "Without broadband Internet connection technologies, the Internet as we know it today, wouldn't exist. We wouldn't be able to stream music or movies, or easily share photos. You definitely couldn't be taking an online course like this. T-carrier technologies require dedicated lines which makes them more expensive. For this reason you usually only see them in use by businesses. But other broadband solutions also exist for both businesses and consumers."
   ]
  },
  {
   "cell_type": "markdown",
   "id": "0ffe7237-47a5-458b-ab17-faa0da7bf470",
   "metadata": {},
   "source": [
    "### T-Carrier Technologies"
   ]
  },
  {
   "cell_type": "markdown",
   "id": "8df9b59c-ee03-4972-97eb-9777defbc213",
   "metadata": {},
   "source": [
    "T-carrier technologies were first invented by AT&T, in order to provision a system that allowed lots of phone calls to travel across a single cable. \n",
    "\n",
    "Every individual phone call was made over individual pairs of copper wire before **Transmission System 1**, the first T-carrier specification called **T1** for short. With the T1 specification, AT&T invented a way to carry up to 24 simultaneous phone calls across a single piece of twisted pair copper. Years later, the same technology was repurposed for data transfers. Each of the 24 phone channels was capable of transmitting data at `64` kilobits per second, making a single T1 line capable of transmitting data at `1.544` megabits per second. \n",
    "\n",
    "Over the years, the phrase T1 has come to mean any twisted pair copper connection capable of speeds of 1.544 megabits per second. Even if it doesn't strictly follow the original Transmission System 1 specification. \n",
    "\n",
    "Originally, T1 technology was only used to connect different telecom company sites to each other and to connect these companies to other telecom companies. But with the rise of the internet as a useful business tool in the 1990s, more and more businesses started to pay to have T1 lines installed at their offices to have faster Internet connectivity. \n",
    "\n",
    "More improvements to the T1 line were made by developing a way of multiple T1s to act as a single link. \n",
    "\n",
    "> **AT3** line is `28` T1s all multiplexed, achieving a total throughput speed of 44.736 megabits per second. \n",
    "\n",
    "You'll still find T-carrier technologies in use today, but they've usually been surpassed by other broadband technologies. For small business offices, cable broadband or fiber connections are now way more common, since they're much cheaper to operate. For inner ISP communications, different fiber technologies have all replaced older copper based ones."
   ]
  },
  {
   "cell_type": "markdown",
   "id": "f008677e-6adb-4f13-9636-74cca039ce67",
   "metadata": {},
   "source": [
    "### Digital Subscriber Lines"
   ]
  },
  {
   "cell_type": "markdown",
   "id": "ce9948a5-6433-44ec-a298-ac3be236eb3c",
   "metadata": {},
   "source": [
    "The public telephone network was a great option for getting people connected to the Internet since it already had infrastructure everywhere. For a long time, dial-up connections were the main way that people connected to the Internet from home. \n",
    "\n",
    "As people wanted faster and faster Internet access, telephone companies began to wonder if they could use the same infrastructure, but in a different way. The research showed that twisted pair copper used by modern telephone lines was capable of transmitting way more data than what was needed for voice to voice calls. \n",
    "\n",
    "> By operating at a frequency range that didn't interfere with normal phone calls, a technology known as **digital subscriber line (DSL)** was able to send much more data across the wire than traditional dial-up technologies, and to top it all off. \n",
    "\n",
    "This allowed for normal voice phone calls and data transfer to occur at the same time on the same line. \n",
    "\n",
    "Like how dial-up uses modems, DSL technologies also use their own modems. But more accurately they're known as **digital subscriber line access multiplexers (DSLAMs)**. Just like dial-up modems, these devices establish data connections across phone lines, but unlike dial-up connections, they're usually long running. This means that the connection is generally established when the DSLAM is powered on and isn't torn down until the DSLAM is powered off. \n",
    "\n",
    "There are lots of different DSL available, but they all vary in a pretty minor way. For a long time, the two most common types of DSL were **ADSL** and **SDSL**. \n",
    "\n",
    "> ADSL stands for Asymmetric Digital Subscriber Line. \n",
    "\n",
    "ADSL connections feature different speeds for outbound and incoming data. Generally, this means faster download speeds and slower upload speeds. Home users rarely need to upload as much data as they download, since home users are mostly just clients. For example, when you open a web page in a web browser, the upload or outbound data is pretty small. You're just asking for a certain webpage from the web server. The download or inbound data tends to be much larger since it will contain the entire webpage, including all images and other media. For this reason, asymmetric lines often provide a similar user experience for a typical home user, but at a lower cost. \n",
    "\n",
    "> SDSL as you might be able to guess, stands for Symmetric Digital Subscriber Line. \n",
    "\n",
    "SDSL technology is basically the same as ADSL, except the upload and download speeds are the same. At one point, SDSL was mainly used by businesses that hosted servers that needed to send data to clients. As the general bandwidth available on the Internet has expanded and as the cost of operation have come down over the years, SDSL is now more common for both businesses and home users. Most SDSL technologies have an upper cap of 1.544 megabits a second or the same as a T1 line. \n",
    "\n",
    "Further developments in SDSL technology have yielded things like **High bit-rate Digital Subscriber Lines (HDSL)**. These are DSL technologies that provision speeds above 1.544 megabits per second. There are lots of other minor variations in DSL technology out in the wild offering different bandwidth options and operating distances. These variations can be so numerous and minor. It's not really practical to try to cover them here. If you ever need to know more about a specific DSL line, you should contact the ISP that provides it for more details."
   ]
  },
  {
   "cell_type": "markdown",
   "id": "7b6fac7a-e6c1-4bf7-97a9-8392486434d6",
   "metadata": {},
   "source": [
    "### Cable Broadband"
   ]
  },
  {
   "cell_type": "markdown",
   "id": "19f5798b-319e-4bda-a6e8-328bd76df0fd",
   "metadata": {},
   "source": [
    "The history of both the telephone and computer networking tells a story that started with all communications being wired. But the recent trend is moving towards more and more of this traffic becoming wireless. \n",
    "\n",
    "The history of television follows the opposite path. Originally, all television broadcasts were wireless transmissions sent out by giant television towers and received by smaller antennas in people's homes. This meant you had to be within a range of one of these television towers to watch TV, just like you have to be within range of a cell phone tower to use your cell phone today. \n",
    "\n",
    "Starting in the late 1940s in the United States, the first cable television technologies were developed. At the time, they mainly wanted to provide television access to remote towns and rural homes that were out of range of capabilities of television towers at the time. Cable television continued to expand slowly over the decades. But in 1984, the Cable Communications Policy Act was passed. This deregulated the cable television business in the United States and caused a massive boom in growth and adoption. Other countries all over the globe soon followed. By the early 1990s, cable television infrastructure in the United States was about the size of the public telephone system. \n",
    "\n",
    "Not too long after that, cable providers started trying to figure out if they could join in on the massive spike in Internet growth that was happening at the same time. Much like how DSL was developed cable companies quickly realized that the coaxial cables, generally used by cable television delivery into a person's home were capable of transmitting much more data than what was required for TV viewing. By using frequencies that don't interfere with television broadcast, cable-based internet access technologies were able to deliver high speed Internet access across these same cables. This is the technology we refer to when we say **cable broadband**. One of the main differences in how cable internet access works when compared to other broadband solutions is that \n",
    "\n",
    "> cable is generally what's known as a shared bandwidth technology. \n",
    "\n",
    "With technologies like DSL or even dial up, the connection from your home or business goes directly to what's known as a **central office (CO)**. A long time ago, the COs were actually offices staffed with telephone operators who used a switchboard to manually connect the caller with a callee. As technology improved, the COs became smaller pieces of automated hardware that handled these functions for the telephone companies, but the name stayed the same. \n",
    "\n",
    "Technologies that connect directly to a CO can guarantee a certain amount of bandwidth available over that connection since it's point to point. On the flip side of this are cable Internet technologies which employ a shared bandwidth model. With this model in place, many users share a certain amount of bandwidth until the transmissions reach the ISPs core network. This could be anywhere from a single city block to entire subdivisions in the suburbs. It just depends on how that area was originally wired for cable. \n",
    "\n",
    "Today most cable operators have tried to upgrade their networks to the point that end users might not always notice this shared bandwidth. But it's also still common to see cable internet connections slow down during periods of heavy use, like when lots of people in the same region are using their Internet connection at the same time. \n",
    "\n",
    "> Cable Internet connections are usually managed by what's known as a **cable modem**. \n",
    "\n",
    "This is a device that sits at the edge of a consumer's network and connects it to the **cable modem termination system (CMTS)**. The CMTS is what connects lots of different cable connections to an ISP's core network."
   ]
  },
  {
   "cell_type": "markdown",
   "id": "e098503d-5e8e-4845-ad77-c20686131a96",
   "metadata": {},
   "source": [
    "### Fiber Connections"
   ]
  },
  {
   "cell_type": "markdown",
   "id": "d8b2d46b-18ad-4676-be10-4f637584862a",
   "metadata": {},
   "source": [
    "The core of the Internet has long used fiber for its connections, both due to higher speeds and because fiber allows for transmission to travel much further without degradation of the signal. Remember that fiber connections use light for data transmission instead of electrical currents. The absolute maximum distance an electrical signal can travel across a copper cable before it degrades too much and requires a repeater is thousands of feet. But certain implementations of fiber connections can travel many miles before signal degrades. \n",
    "\n",
    "Producing and laying fiber is a lot more expensive than using copper cables. For a long time, it was a technology you only saw in use by ISPs within their core networks, or maybe for use within data centers. But in recent years, it's become popular to use fiber to deliver data closer and closer to the end-user. Exactly how close to the end-user can vary a ton across implementations, which is why the phrase `FTTX` was developed. \n",
    "\n",
    "> FTTX stands for **fiber to the x**, where the x can be one of many things. \n",
    "\n",
    "We'll cover a few of these possibilities. The first term you might hear is `FTTN`, which means **fiber to the neighborhood**. This means that fiber technologies are used to deliver data to a single physical cabinet that serves a certain amount of the population. From this cabinet, twisted pair copper or coax might be used for the last length of distance. \n",
    "\n",
    "The next version you might come across is `FTTB`. This stands for **fiber to the building**, **fiber to the business**, or even **fiber to the basement**, since this is generally where cables to buildings physically enter. `FTTB` is a setup where fiber technologies are used for data delivery to an individual building. After that, twisted pair copper is typically used to actually connect those inside of the building. \n",
    "\n",
    "A third version you might hear is `FTTH`, which stands for **fiber to the home**. This is used in instances where fiber is actually run to each individual residence in a neighborhood or apartment building. FTTH and FTTB may both also be referred to as `FTTP`, **fiber to the premises**. "
   ]
  },
  {
   "cell_type": "markdown",
   "id": "890a94b6-148d-4c6c-bd52-36feb9c7711b",
   "metadata": {},
   "source": [
    "<center>\n",
    "    <img src=\"data/images/Screenshot from 2023-07-11 18-30-00.png\" alt=\"example\" style=\"width: 600px\">\n",
    "    <p style=\"text-align: center\"><i></i></p>"
   ]
  },
  {
   "cell_type": "markdown",
   "id": "22f22ec6-bc00-4954-90f0-78196bdff63e",
   "metadata": {},
   "source": [
    "Instead of a modem, the demarcation point for fiber technologies is known as **optical network terminator (ONT)**. ONT converts data from protocols the fiber network can understand to those that more traditional twisted pair copper networks can understand."
   ]
  },
  {
   "cell_type": "markdown",
   "id": "89a8abfd-b606-4bff-be6e-0b7ad1dfe08e",
   "metadata": {},
   "source": [
    "### Supplemental Reading for Broadband Protocols"
   ]
  },
  {
   "cell_type": "markdown",
   "id": "1ada8f87-82b9-4509-a82c-631e967a709f",
   "metadata": {},
   "source": [
    "Broadband communications require a set of instructions, rules, and communication to various network layer protocols to support operation. \n",
    "\n",
    "> **Point to Point Protocol (PPP)** for broadband communications is a set of instructions used to transmit data between two directly connected devices. \n",
    "\n",
    "This reading will cover the definitions, structures, and details of Point to Point Protocol (PPP) and Point to Point Protocol over Ethernet (PPPoE)."
   ]
  },
  {
   "cell_type": "markdown",
   "id": "aec88b57-4336-49d1-b1b9-9d2b3d57f91b",
   "metadata": {},
   "source": [
    "#### Point to Point Protocol (PPP)"
   ]
  },
  {
   "cell_type": "markdown",
   "id": "a193a797-fc12-435b-9bf0-17f3fe3ae785",
   "metadata": {},
   "source": [
    "> **Point to Point Protocol (PPP)** is a byte-oriented protocol broadly used for high-traffic data transmissions. \n",
    "\n",
    "PPP functions at the _[data link layer](#data_link)_, which transmits data between two devices on the same network. PPP is designed to link devices, so the endpoints do not need to be the same vendor to work. \n",
    "\n",
    "**Configuring PPP**\n",
    "\n",
    "When configuring PPP for the devices on your network, you have the following options:\n",
    "\n",
    "- **Multilink** connection provides a method for spreading traffic across multiple distinct PPP connections. \n",
    "\n",
    "- **Compression** increases throughput by reducing the amount of data in the frame.\n",
    "\n",
    "- **Authentication** occurs when connected devices exchange authentication messages using one of two methods:\n",
    "\n",
    "    - **Password Authentication Protocol (PAP)** is a password authentication option that is hard to obtain plaintext from if passwords are compromised.\n",
    "\n",
    "    - **Challenge Handshake Authentication Protocol (CHAP)** is a three-way handshake authentication that periodically confirms the identity of the clients.\n",
    "\n",
    "- **Error detection** includes Frame Check Sequence (FCS) and looped link detection.\n",
    "\n",
    "    - **Frame Check Sequence (FCS)** is a number included in the frame calculated over the Address, Control, Protocol, Information, and Padding fields used to determine if there has been data loss during transmission.\n",
    "\n",
    "    - **Looped link detection** in PPP detects looped links using magic numbers. A **magic number** is generated randomly at each end of the connection, so when a looped message is received, the device checks the magic number against its own. If the line is looped, the number will match the sender's magic number, and the frame is discarded.\n",
    "\n",
    "**Sub-protocols for PPP**\n",
    "\n",
    "In addition, two sub-protocols for PPP occur on the network layer when the network decides what physical path the information will take. These protocols use the configuration options you set for the endpoints.\n",
    "\n",
    "- **Network Control Protocol (NCP)** will be used to negotiate optional configuration parameters and facilities for the network layer. There is an NCP for each higher layer protocol used by the PPP.\n",
    "\n",
    "- **Link Control Protocol (LCP)** initiates and terminates connections automatically for hosts. It automatically configures the interfaces at each end like magic numbers and selecting for optional authentication.\n",
    "\n",
    "Data is sent using PPP in a frame. \n",
    "\n",
    "> A **frame** is a collection of data sent to a receiving point."
   ]
  },
  {
   "cell_type": "markdown",
   "id": "02709cff-4a86-48cc-98ec-cc8d6dd9d853",
   "metadata": {},
   "source": [
    "<center>\n",
    "    <img src=\"data/images/n_9iML7pTs2_YjC-6b7NNg_ad5f3d20f8ed49b183fea5db96f49bf1_google_PPP-Frame.png\" alt=\"example\" style=\"width: 600px\">\n",
    "    <p style=\"text-align: center\"><i></i></p>"
   ]
  },
  {
   "cell_type": "markdown",
   "id": "901c5043-b208-4a26-8a55-b400b92255b4",
   "metadata": {},
   "source": [
    "PPP uses the following frame format:\n",
    "\n",
    "- **Flag** is a single byte and lets the receiver know this is the beginning of the frame. Depending on the encapsulation, there may or may not be a _start flag_ or an _end flag_.\n",
    "\n",
    "- **Address** is a single byte, and it contains the broadcast address.\n",
    "\n",
    "- **Control** is a single byte required for various purposes but also allows a connectionless data link.\n",
    "\n",
    "- **Protocol** varies from one to three bytes which identify the network protocol of the datagram.\n",
    "\n",
    "- **Data** is where the information you need to transmit is stored and has a limit of 1500 bytes per frame.\n",
    "\n",
    "- **Frame check sequence (FCS)** is 2 or 4 bytes and is used to verify data is intact upon receipt at the endpoint. \n",
    "\n",
    "When the data is packaged in a frame, it undergoes encapsulation.\n",
    "\n",
    "**Encapsulation**\n",
    "\n",
    "> **Encapsulation** is the process by which each layer takes data from the previous layer and adds headers and trailers for the next layer to interpret. "
   ]
  },
  {
   "cell_type": "markdown",
   "id": "bfe4e329-4396-489b-a804-32725eea9012",
   "metadata": {},
   "source": [
    "<center>\n",
    "    <img src=\"data/images/fSwMAVMbTASsDAFTG2wE5Q_f26a7edb4a794db4b72f5cc0d01579f1_google_Broadband-Protocols.png\" alt=\"example\" style=\"width: 700px\">\n",
    "    <p style=\"text-align: center\"><i></i></p>"
   ]
  },
  {
   "cell_type": "markdown",
   "id": "3faf5c13-2d8c-47bc-91ae-2c7b2b903768",
   "metadata": {},
   "source": [
    "These frames are sent to the other endpoint where the process is reversed, which is called **De-encapsulation**. "
   ]
  },
  {
   "cell_type": "markdown",
   "id": "eacd6efc-ded2-4f57-a17c-48aa8abf1dea",
   "metadata": {},
   "source": [
    "#### Point to Point Protocol over Ethernet (PPPoE)"
   ]
  },
  {
   "cell_type": "markdown",
   "id": "47619470-2e9a-4d5f-889d-8b5694bcef7f",
   "metadata": {},
   "source": [
    "PPP can get expensive and hard to manage due to all the direct cables and links required. In this case, you may want to switch to a multi-access Ethernet solution. \n",
    "\n",
    "> **Point to Point Protocol over Ethernet (PPPoE)** is a protocol made to bridge the gap between directly connected endpoints and other devices.\n",
    "\n",
    "PPPoE is a way of encapsulating PPP frames inside an ethernet frame. PPPoE is a solution for tunneling packets over the DSL connection service provider's IP network and from there to the rest of the Internet. Like PPP, PPPoE provides authentication, encryption, and compression, though it primarily uses Password Authentication Protocol (PAP) for authentication.\n",
    "\n",
    "A common use case is PPPoE using DSL services where a PPPoE modem-router connects to the DSL service or when a PPPoE DSL modem is connected to a PPPoE-only router using an Ethernet cable. \n",
    "\n",
    "PPP is strictly point-to-point, so frames can only go to the intended destination. PPPoE requires a new step because ethernet connections are multi-access enabled (every node connects to another). This requires an additional step called the **discovery stage**. The discovery stage establishes a session ID to identify the hardware address. This stage ensures data gets routed to the correct place.\n",
    "\n",
    "PPPoE is an encapsulation of PPP inside an ethernet frame. PPPoE retains the same architecture, configuration options, and frame data as PPP but with one extra layer of ethernet encapsulation.\n",
    "\n",
    "**Key takeaways**\n",
    "\n",
    "- Broadband internet requires several protocols to make sure different connected devices can communicate with each other. \n",
    "\n",
    "- Point to Point Protocol (PPP) encapsulates data, so any PPP configured devices can communicate without issue.\n",
    "\n",
    "- Point to Point over Ethernet (PPPoE) is an extra layer of encapsulation for standard PPP frames, to enable data to be sent over ethernet connections."
   ]
  },
  {
   "cell_type": "markdown",
   "id": "2eb53b98-b741-4c68-a467-27b43915f7d3",
   "metadata": {
    "jp-MarkdownHeadingCollapsed": true,
    "tags": []
   },
   "source": [
    "## WANs"
   ]
  },
  {
   "cell_type": "markdown",
   "id": "914e124c-8109-4c84-91a2-68ee571d32a2",
   "metadata": {},
   "source": [
    "### Wide Area Network Technologies"
   ]
  },
  {
   "cell_type": "markdown",
   "id": "f279a5af-a23c-41e0-b04e-d18e2b234cb8",
   "metadata": {},
   "source": [
    "Let's say that you're in charge of the network as the sole IT support specialist at a small company. At first, the business only has a few employees with a few computers in a single office. You decide to use non-routable address space for the internal IPS because IP addresses are scarce and expensive. You set up a router and configure it to perform NAT. You can figure a local DNS server and a DHCP server to make network configuration easier. And of course for all of this to really work, you sign a contract with an ISP to deliver a link to the Internet to this office, so your users can access the web. "
   ]
  },
  {
   "cell_type": "markdown",
   "id": "ff1fc99f-3c3b-4d4e-bd8b-e84e292aa7dd",
   "metadata": {},
   "source": [
    "<center>\n",
    "    <img src=\"data/images/Screenshot from 2023-07-19 15-07-23.png\" alt=\"example\" style=\"width: 600px\">\n",
    "    <p style=\"text-align: center\"><i></i></p>"
   ]
  },
  {
   "cell_type": "markdown",
   "id": "5905ae60-2650-4c01-996c-55abb215e262",
   "metadata": {},
   "source": [
    "Now imagine the company grows. You're using non-routable address space for your internal IPs, so you have plenty of space to grow there. Maybe some sales people need to connect to resources on the land you've set up while they're on the road. So you configure a VPN server and make sure the VPN server is accessible via port forwarding. Now, you can have employees from all over the world connect to the office LAN. \n",
    "\n",
    "Business is good and the company keeps growing. The CEO decides that it's time to open a new office in another city across the country. Suddenly, instead of a handful of salespeople requiring remote access to the resources on your network, you have an entire second office that needs it. This is where **Wide Area Networks (WAN)** when technologies come into play. \n",
    "\n",
    "Unlike a LAN or a Local Area Network, WAN stands for Wide Area Network. \n",
    "\n",
    "> A Wide Area Network acts like a single network, but spans across multiple physical locations. \n",
    "\n",
    "WAN technologies usually require that you contract a link across the Internet with your ISP. This ISP handle sending your data from one site to the other. So it could be like all of your computers are in the same physical location. \n",
    "\n",
    "A typical WAN setup has a few sections. Imagine one network of computers on one side of the country and another network of computers on the other. Each of those networks ends at a demarcation point which is where the ISP's Network takes over. \n",
    "\n",
    "> The area between each demarcation point and the ISP's actual core network is called a **local loop**. "
   ]
  },
  {
   "cell_type": "markdown",
   "id": "cf6aa431-a487-4d08-9908-f99c6919f670",
   "metadata": {},
   "source": [
    "<center>\n",
    "    <img src=\"data/images/Screenshot from 2023-07-19 15-09-39.png\" alt=\"example\" style=\"width: 600px\">\n",
    "    <p style=\"text-align: center\"><i></i></p>"
   ]
  },
  {
   "cell_type": "markdown",
   "id": "3e3d7a1f-b145-4739-8b8b-ccb40d9776f5",
   "metadata": {},
   "source": [
    "This local loop would be something like a T-carrier line or a high speed optical connection to the provider's local regional office. From there, it would connect out to the ISP's core network and the Internet at large. \n",
    "\n",
    "WANs work by using a number of different protocols at the data link layer to transport your data from one site to another. In fact, these same protocols are what are sometimes at work at the core of the Internet itself instead of our more familiar ethernet. Covering all the details of these protocols is out of the scope of this course."
   ]
  },
  {
   "cell_type": "markdown",
   "id": "28d521ef-f4e6-4db2-a12b-adb00ff2595f",
   "metadata": {},
   "source": [
    "### WAM Protocols V2 "
   ]
  },
  {
   "cell_type": "markdown",
   "id": "ccaaaaac-9945-4222-8d83-f028ad91a1a5",
   "metadata": {},
   "source": [
    "WAN configurations are important for IT Support professionals to understand when working with the geographically dispersed networks of large organizations. WANs can be connected through the Internet with connections provided by Internet Service Providers (ISPs) in each locale. Regional WANs can also be formed by connecting multiple Local Area Network (LAN) sites using equipment and cables leased from a regional ISP. Security for WANs across the public Internet can be configured through Virtual Private Networks (VPNs). "
   ]
  },
  {
   "cell_type": "markdown",
   "id": "af35e263-6bf3-4480-8510-b8646db7caa5",
   "metadata": {},
   "source": [
    "#### Physical versus software-based WANs "
   ]
  },
  {
   "cell_type": "markdown",
   "id": "72a0f3e3-0a0a-4cd9-aa7f-0557dc963c19",
   "metadata": {},
   "source": [
    "- **WAN router**: Hardware devices that act as intermediate systems to route data amongst the LAN member groups of a WAN (also called **WAN endpoints**) using a private connection. WAN routers may also be called **border routers** or **edge routers**. These routers facilitate an organization’s access to a carrier network. WAN routers have a digital modem interface for the WAN, which works at the OSI link layer, and an Ethernet interface for the LAN.\n",
    "\n",
    "- **Software-Defined WAN (SD-WAN)**: Software developed to address the unique needs of cloud-based WAN environments. SD-WANs can be used alone or in conjunction with a traditional WAN. SD-WANs simplify how WANs are implemented, managed, and maintained. An organization’s overall cost to operate a cloud-based SD-WAN is significantly less than the overall cost of equipping and maintaining a traditional WAN. One of the ways that SD-WANs help reduce operational costs is by replacing the need for expensive lines leased from an ISP by linking regional LANs together to build a WAN. "
   ]
  },
  {
   "cell_type": "markdown",
   "id": "fb743356-9797-441c-a40a-a335f5fd4e27",
   "metadata": {},
   "source": [
    "#### WAN optimization"
   ]
  },
  {
   "cell_type": "markdown",
   "id": "6bb9d195-dd94-4ac5-88f5-a02fc68ad60a",
   "metadata": {},
   "source": [
    "There are multiple techniques available to optimize network traffic and data storage on a WAN: \n",
    "\n",
    "- **Compression**: Reducing file sizes to improve network traffic efficiency. There are many compression algorithms available for text, image, video, etc. The sender and the receiver will need apps that offer the same compression/decompression algorithm to encode and decode the compressed files.\n",
    "\n",
    "- **Deduplication**: Prevents files from being stored multiple times within a network to avoid wasting expensive hard drive space. One copy of the file is kept in a central location. All other “copies” are actually file pointers to the single copy of the file. This saves valuable hard drive space, makes performing data backups more efficient, and reduces the amount of time needed to recover from data loss disasters. \n",
    "\n",
    "- **Protocol Optimization**: Improves the efficiency of networking protocols for applications that need higher bandwidth and low latency. \n",
    "\n",
    "- **Local Caching**: Storing local copies of network and internet files on a user’s computer to reduce the need to resend the same information across the network every time the file is accessed. Some WAN optimization products can cache shared files at one physical LAN location when groups of employees at the location tend to request the same set of files frequently. \n",
    "\n",
    "- **Traffic Shaping**: Optimizing network performance by controlling the flow of network traffic. Three techniques are commonly used in traffic shaping: \n",
    "\n",
    "    - **bandwidth throttling** - controlling network traffic volume during peak use times\n",
    "\n",
    "    - **rate limiting** - capping maximum data rates/speeds\n",
    "\n",
    "    - **use of complex algorithms** - classifying and prioritizing data to give preference to more important traffic (e.g., an organization might want to prioritize private LAN-to-LAN traffic within the organization’s WAN and give a lower priority to employees accessing the public Internet)."
   ]
  },
  {
   "cell_type": "markdown",
   "id": "512916cd-1d79-4495-b157-dd0d90fcf028",
   "metadata": {},
   "source": [
    "#### WAN Protocols"
   ]
  },
  {
   "cell_type": "markdown",
   "id": "9cce4539-73a8-4112-8c04-ac45c7c57da1",
   "metadata": {},
   "source": [
    "WAN Internet Protocols are used in conjunction with WAN routers to perform the task of  distinguishing between a private LAN and the related public WAN. Several WAN protocols have been developed over the decades for this task, as well as other purposes, including: \n",
    "\n",
    "- **Packet switching**: A method of data transmission. In packet switching, messages are broken into multiple packets. Each packet contains a header that includes information on how to reassemble the packets, as well as the intended destination of the packets. As a measure to prevent data corruption, the packets are triplicated. The triplicated packets are sent separately over optimal routes through the internet. Then, once the packets reach their destination, they are reassembled. The triplicate copies are compared with one another to detect and correct any data corruption that occurred during transmission (at least two of the three copies should match). If the data cannot be reassembled and/or data corruption is evident in all three copies, the destination will make a request to the origin to resend the packet.\n",
    "\n",
    "- **Frame relay**: Also a method of data transmission. Frame relay is an older technology originally designed for use on Integrated Services Digital Network (ISDN) lines. However, the technology is now used in other network interfaces. Frame relays are used to transmit data between endpoints of a WAN through a packet switching method that works at the OSI data link and physical layers. A fast data communications network, called a **Frame Relay Network**, is used to transport data packets in frames. The reliability of Frame Relay Networks minimizes the need for error checking. The frames include routing address information for the destination.\n",
    "\n",
    "    - **Permanent Virtual Circuits (PVCs)** - Used for long-term data connections. Stays open even when data is not being transmitted.\n",
    "\n",
    "    - **Switched Virtual Circuits (SVCs)** - Used in temporary session connections for sporadic communications.\n",
    "\n",
    "- **Asynchronous Transfer Mode (ATM)**: ATM is an older technology that encodes data using asynchronous time-division multiplexing. The encoded data is packaged into small, fixed-sized cells. ATM can send the cells over a long distance, which makes it useful for WAN communications. ATMs uses routers as end-points between ATM networks and other networks. ATM technology has been replaced for the most part by Internet Protocol (IP) technologies. \n",
    "\n",
    "- **High Level Data Control (HLDC)**: An encapsulation or data link protocol that delivers data frames through a network. The frames include multiple fields that can hold information about start and end flags, controls, Frame Check Sequence (FCS), and protocol used. HLDC was developed to use multiple protocols to replace Synchronous Data Link Control (SLDC), which used only one protocol. HLDC includes error correction, flow control, and data transmission through polling. HLDC has three modes to define the relationship between two devices, or nodes, during communications:\n",
    "\n",
    "    - **Normal Response Mode (NRM)** - Primary node must give permission to the secondary node to transmit.  \n",
    "\n",
    "    - **Asynchronous Response Mode (ARM)** - Primary node allows the secondary node to initiate communication.\n",
    "\n",
    "    - **Asynchronous Balanced Mode (ABM)** - Both nodes can act as either the primary or secondary nodes. They can each initiate communications without permission.\n",
    "\n",
    "- **Packet over Synchronous Optical Network (SONET) or Synchronous Digital Hierarchy (SDH)**: A communication protocol used for WAN transport. The SONET or SDH communication protocols define how point-to-point links communicate over fiber optics cables.\n",
    "\n",
    "- **Multiprotocol Label Switching (MPLS)**: A technique for optimizing network routing. MPLS replaces inefficient table lookups for long network addresses with short path labels. These labels direct data from node to node."
   ]
  },
  {
   "cell_type": "markdown",
   "id": "b549862c-2d0c-4c97-92cc-b930fb6f744d",
   "metadata": {},
   "source": [
    "### Point-to-Point VPNs"
   ]
  },
  {
   "cell_type": "markdown",
   "id": "bbf77f25-49cd-4f36-b122-9231300a406f",
   "metadata": {},
   "source": [
    "A popular alternative to WAN technologies are **point to point VPNs**. \n",
    "\n",
    "WAN technologies are great for when you need to transport large amounts of data across lots of sites because WAN technologies are built to be super fast. Business cable or DSL line might be way cheaper. But it just can't handle the load required in some of these situations. \n",
    "\n",
    "But over the last few years, companies have been moving more and more of their internal services into the cloud. We'll cover exactly what this means later. But for now it's enough to know that the cloud lets companies outsource all or part of their different pieces of infrastructure to other companies to manage. \n",
    "\n",
    "Let's take the concept of email. In the past, a company would have to run their own email server if they wanted an email presence at all. Today, you could just have a cloud hosting provider host your email server for you. You could even go a step further and use an email as a service provider, then you wouldn't have an email server at all anymore. You just have to pay another company to handle everything about your email service with these types of cloud solutions in place. \n",
    "\n",
    "Lots of businesses no longer require extreme, high speed connections between their sites. This makes the expense of a WAN technology totally unnecessary. Instead, companies can use point to point VPNs to make sure that they're different sites can still communicate with each other. A point to point VPN also called a **site to site VPN** establishes a VPN tunnel between two sites. This operates a lot like the way that a traditional VPN setup lets individual users act as if they're on the network they're connecting to. It's just that the VPN tunneling logic is handled by network devices at either side so that users don't all have to establish their own connections."
   ]
  },
  {
   "cell_type": "markdown",
   "id": "5310e46e-2a06-4623-b9df-c8483e14cd1f",
   "metadata": {
    "jp-MarkdownHeadingCollapsed": true
   },
   "source": [
    "## Wireless Networking"
   ]
  },
  {
   "cell_type": "markdown",
   "id": "02f8d692-372a-4fc3-a53d-00719b7d81c1",
   "metadata": {},
   "source": [
    "### Introduction to Wireless Networking Technologies"
   ]
  },
  {
   "cell_type": "markdown",
   "id": "e6516853-4dec-4284-9619-5f6687d17b93",
   "metadata": {},
   "source": [
    "In today's world, fewer and fewer devices are weighed down by physical cables in order to connect to computer networks. With so many portable computing devices in use, from laptops to tablets to smartphones. We've also seen the rise of wireless networking. \n",
    "\n",
    "> Wireless networking is exactly what it sounds like - a way to network without wires.\n",
    "\n",
    "The most common specifications for how wireless networking devices should communicate are defined by the **IEEE 802.11 standards**. This set of specifications, also called the **802.11 family** make-up the set of technologies we call **Wi-Fi**. \n",
    "\n",
    "Wireless networking devices communicate with each other through **radio waves**. Different 802.11 standards generally use the same basic protocol, but might operate at different frequency bands. \n",
    "\n",
    "> A **frequency band** is a certain section of the radio spectrum that's been agreed upon to be used for certain communications. \n",
    "\n",
    "In North America, FM radio transmissions operate between 88 and 108 megahertz. This specific frequency band is called the **FM broadcast band**. Wi-Fi networks operate on a few different frequency bands, most commonly the 2.4 gigahertz and 5 gigahertz bands. \n",
    "\n",
    "There are lots of 802.11 specifications, including some that exists just experimentally or for testing. The most common specifications you might run into are 802.11b, 802.11a, 802.11g, 802.11n and 802.11ac. We won't go into detail about each one here. For now, just know that we've listed these in the order they were adopted. Each newer version of the 802.11 specifications has generally seen some improvement, whether it's higher access speeds or the ability for more devices to use the network simultaneously. \n",
    "\n",
    "In terms of our networking model, you should think of 802.11 protocols as defining how we operate at both the physical and the data link layers. \n",
    "\n",
    "In 802.11 frame has a number of fields. "
   ]
  },
  {
   "cell_type": "markdown",
   "id": "e8a8749c-d7d2-44f8-9071-826632929b72",
   "metadata": {},
   "source": [
    "<center>\n",
    "    <img src=\"data/images/Screenshot from 2023-07-19 15-53-32.png\" alt=\"example\" style=\"width: 500px\">\n",
    "    <p style=\"text-align: center\"><i></i></p>"
   ]
  },
  {
   "cell_type": "markdown",
   "id": "588c686d-7972-456a-9807-619a0744f079",
   "metadata": {},
   "source": [
    "- The first is called the **frame control field**. This field is 16 bits long and contains a number of sub-fields that are used to describe how the frame itself should be processed. This includes things like what version of the 802.11 was used. \n",
    "\n",
    "- The next field is called a **duration field**. It specifies how long the total frame is. The receiver knows how long it should expect to have to listen to the transmission. \n",
    "\n",
    "- After this are **four address fields**. Let's take a moment to talk about why there are four instead of the normal two. We'll discuss different types of wireless network architectures in more detail later in this lesson. But the most common setup includes devices called **access points**. \n",
    "\n",
    "    > A **wireless access point** is a device that bridges the wireless and wired portions of a network. \n",
    "\n",
    "A single wireless network might have lots of different access points to cover a large area. Devices on a wireless network will associate with a certain access point. This is usually the one they're physically closest to. But it can also be determined by all sorts of other things like general signal strength and wireless interference. \n",
    "    \n",
    "Associations isn't just important for the wireless device to talk to a specific access point. It also allows for incoming transmissions to the wireless device to be sent by the right access point. \n",
    "    \n",
    "> There are four address fields, because there needs to be room to indicate which wireless access point should be processing the frame. "
   ]
  },
  {
   "cell_type": "markdown",
   "id": "69584a97-1bf4-4e83-92da-7d6411863997",
   "metadata": {},
   "source": [
    "<center>\n",
    "    <img src=\"data/images/Screenshot from 2023-07-19 15-56-03.png\" alt=\"example\" style=\"width: 600px\">\n",
    "    <p style=\"text-align: center\"><i></i></p>"
   ]
  },
  {
   "cell_type": "markdown",
   "id": "9dcb75e2-4707-4389-b038-d58379268818",
   "metadata": {},
   "source": [
    "So we'd have our normal **source address field**, which would represent the MAC address of the sending device. But we'd also have the **intended destination on the network**, along with a **receiving address** and a **transmitter address**. \n",
    "- The receiver address would be the MAC address of the access point that should receive the frame. \n",
    "- The transmitter address would be the MAC address of whatever has just transmitted the frame. \n",
    "    \n",
    "In lots of situations, the destination and receiver address might be the same. Usually the source and transmitter addresses are also the same, but depending on exactly how a specific wireless network has been architected, this won't always be the case. Sometimes wireless access points will relay these frames from one another. \n",
    "    \n",
    "Since all addresses in 802.11 frame are MAC addresses, each of those four fields is six bytes long. \n",
    "\n",
    "- In-between the third and fourth address fields, you'll find the **sequence control field**. The sequence control field is 16 bits long and mainly contains a sequence number used to keep track of ordering the frames. \n",
    "\n",
    "- After this is the **data payload section**, which has all of the data of the protocols further up the stack. \n",
    "\n",
    "- Finally, we have a **frame check sequence field**, which contains a checksum used for a cyclical redundancy check, just like how Ethernet does it."
   ]
  },
  {
   "cell_type": "markdown",
   "id": "6f59dda2-f11c-493e-b3c9-350956c4ad15",
   "metadata": {},
   "source": [
    "#### Wi-Fi 6"
   ]
  },
  {
   "cell_type": "markdown",
   "id": "7504b803-8686-436a-bf5d-86849797efbd",
   "metadata": {},
   "source": [
    "Wi-Fi 6, formerly known as 802.11ax, is one of the largest leaps in Wi-Fi technology since its introduction. This reading will introduce you to the benefits and technology used in Wi-Fi 6.\n",
    "\n",
    "**Benefits of Wi-Fi 6**\n",
    "\n",
    "The Wi-Fi 6 network protocol is faster and more efficient for networks with a larger number of connected devices.\n",
    "\n",
    "Key benefits of Wi-Fi 6 technology include:\n",
    "- **Higher data rates**: Band splitting or increased client group sizes allow for uploading and downloading greater amounts of data.\n",
    "- **Increased band capacity**: Band utilization increased from 80mHz to 160mHz, creating a faster connection from the router to connected devices.\n",
    "- **Better performance**: The input/output streams are doubled from the 4 by 4 allowed by Wi-Fi 5, to 8 by 8 in Wi-Fi 6, allowing more clients to be grouped. \n",
    "- **Improved power efficiency**: Devices only connect to the network when sending or receiving data, increasing battery life. \n",
    "\n",
    "**Capabilities of Wi-Fi 6**\n",
    "\n",
    "Wi-Fi 6 technology improves functionality and connectivity.\n",
    "- **Channel sharing** for better efficiency and shortens the time it takes to send data once a user gives the send command. \n",
    "- **Target Wake Time (TWT)** improves the network speed and increases battery life by allowing battery-powered devices to sleep when not in use. \n",
    "- **Multi-user MIMO (Multiple Input, Multiple Output)** wireless technology allows more data to be transferred simultaneously. This ability increases capacity and efficiency in high bandwidth applications like voice calls or video streaming.\n",
    "- **160 MHz channel utilization** gives more space for transmitting data and increases bandwidth capability.\n",
    "- **1024 Quadrature amplitude modulation** combines two signals into a single channel, so more data is encoded.\n",
    "- **Orthogonal Frequency Division Multiple Access (OFDMA)** allows for bandwidth splitting, which is assigned dynamically by the access point to separate devices. \n",
    "- **Transmit beamforming** is a technique that sends signals that allow for more efficient higher data rates by targeting each connected device.\n",
    "\n",
    "**Wi-Fi 6E extends Wi-Fi 6 into 6 GHz**\n",
    "\n",
    "Wi-Fi 6E is an additional certification for Wi-Fi 6 that has all of the features of Wi-Fi 6 but adds a third 6 GHz band. Wi-Fi 6E has more channels to use to broadcast, including 14 more 80MHz channels and seven more 160MHz channels. The additional channels allow networks with Wi-Fi 6E for better performance even when streaming high-definition video or using virtual reality devices. \n",
    "\n",
    "**Key takeaways**\n",
    "\n",
    "- Wi-Fi technology will continue to change as the needs of companies and users change. Wi-Fi 6 improves the quality of networks with faster speeds and energy-saving technology. \n",
    "\n",
    "- Wi-Fi 6 uses technologies like channel sharing, Target Wake Time, Multi-user MIMO, channel utilization, amplitude modulation, OFDMA, and transmit beamforming to increase the quality of a Wi-Fi network. \n",
    "\n",
    "- Wi-Fi 6E is an additional certification of Wi-Fi 6 that has even faster speeds and stronger performance. \n",
    "\n",
    "Resource for more information\n",
    "For more information about Wi-Fi 6, read this article by the Wi-Fi Alliance: [Wi-Fi CERTIFIED 6](https://www.wi-fi.org/discover-wi-fi/wi-fi-certified-6)."
   ]
  },
  {
   "cell_type": "markdown",
   "id": "2f908192-f372-494a-b879-94f128405fff",
   "metadata": {},
   "source": [
    "#### Supplemental Reading for Alphabet Soup"
   ]
  },
  {
   "cell_type": "markdown",
   "id": "5952bea2-44bf-4857-9672-cde6c839cadc",
   "metadata": {},
   "source": [
    "**Alphabet Soup: Wi-Fi Standards**\n",
    "\n",
    "As an IT Support specialist, you may be responsible for supporting wireless technologies. In this reading, you will learn about the 802.11 Wireless-Fidelity (Wi-Fi) standards, including the alphabet-coded updates: a, b, g, n, ac, ad, af, ah, ax, ay, and az. You will also learn about the differences between the 2.4 gigahertz (GHz) and 5 GHz Wi-Fi frequencies. \n",
    "\n",
    "You may already be familiar with selecting from the 2.4 GHz and 5 GHz frequency options on your home Wi-Fi router. Perhaps you also noticed the 802.11 specifications on the packaging for your Wi-Fi router when you purchased it. Have you wondered what these numbers and letters mean?\n",
    "\n",
    "**Wi-Fi 2.4 GHz and 5 GHz frequencies**\n",
    "\n",
    "There are multiple wireless technologies available today that use various frequencies ranging from radio to microwave bands. These wireless technologies include Wi-Fi, Z-Wave, ZigBee, Thread, Bluetooth, and Near Field Communication (NFC). Radio and microwave frequency bands each have specific ranges that are divided into channels. Wi-Fi uses the 2.4 GHz and 5 GHz microwave radio frequency band ranges for sending and receiving data. Some Wi-Fi routers use multiple channels within each range to avoid signal interference and to load-balance network traffic. Wi-Fi is commonly used for wireless local area networks (WLANs). \n",
    "\n",
    "The following is a comparison of the performance characteristics between the 2.4 GHz and 5 GHz frequency bands:\n",
    "\n",
    "**2.4 GHz**\n",
    "\n",
    "- Advantages:\n",
    "    - Has the longest signal range from 150 feet (45 meters) indoors to 300 feet (92 meters) outdoors.\n",
    "    - Can pass through walls and other solid objects.<br>\n",
    "<br>\n",
    "- Disadvantages:\n",
    "    - The long signal range also increases the chances of Wi-Fi traffic being intercepted by cybercriminals.\n",
    "    - Includes a limited number of channels. Can range from 11 to 14 channels, depending on regulations in the country of use. \n",
    "    - Can experience network traffic congestion and interference with other Wi-Fi networks and wireless technologies, such as BlueTooth, that overlap the 2.4 GHz frequency bands. \n",
    "    - Microwave ovens also work in the 2.4 GHz frequency band and can cause Wi-Fi interference.\n",
    "    - Under specific conditions, the maximum achievable data rate is 600 Mbps. \n",
    "\n",
    "**5 GHz**\n",
    "\n",
    "- Advantages:\n",
    "    - Includes significantly more channels than 2.4 GHz.\n",
    "    - Experiences fewer interference problems and less wireless network traffic congestion than 2.4 GHz.\n",
    "    - Can achieve over 2 Gbps data transfer speeds under specific conditions.<br>\n",
    "<br>\n",
    "- Disadvantages:\n",
    "    - The wireless range is limited to 50 feet (12 meters) indoors and 100 feet (30 meters) outdoors. \n",
    "    - Does not penetrate walls and other solid objects as well as 2.4 GHz. \n",
    "\n",
    "**IEEE 802.11 standards**\n",
    "\n",
    "In 1997, the Institute of Electrical and Electronics Engineers (IEEE) ratified the first 802.11 standard for wireless fidelity (later branded as Wi-Fi). The standard was first published for use by computer device manufacturers to use as a common protocol for wireless communications. The IEEE has amended the 802.11 specifications multiple times over the years with updates and additional enhancements to 802.11 Wi-Fi. The IEEE names each new amendment with one or two letters appended to 802.11 (e.g., 802.11n or  802.11ax). The IEEE plans to continue updating the 802.11 specifications until a new technology replaces Wi-Fi. \n",
    "\n",
    "The majority of wireless networks use the IEEE 802.11 standards for Wi-Fi. Wi-Fi networks include client devices (e.g., laptops, tablets, smartphones, IoT devices, etc.) that are configured to connect to wireless access points. This configuration is referred to as “infrastructure mode”. Access points can serve both wireless and wired network traffic. For wired traffic, the access point works as a bridge between wireless devices and a wired network. The access point connects to an Ethernet switch through a wired Ethernet cable. \n",
    "\n",
    "The various amended 802.11 specifications use the same fundamental data link protocol. However, some characteristics may vary at the OSI physical layer, including:\n",
    "- signal ranges\n",
    "- modulation techniques\n",
    "- transmission bit rates\n",
    "- frequency bands\n",
    "- channels\n",
    "\n",
    "Note that countries around the world may impose different regulations on channel usage, power limitations, and Wi-Fi ranges. A technology called **dynamic frequency selection (DFS)** is also required to prevent 5 GHz Wi-Fi signals from interfering with local radar and satellite communications. \n",
    "\n",
    "A comparison of the frequencies, maximum data rates, and maximum signal ranges for each 802.11 update over the years is detailed below:"
   ]
  },
  {
   "cell_type": "markdown",
   "id": "ba682259-4380-4243-9e4b-6e3ee7055490",
   "metadata": {},
   "source": [
    "<center>\n",
    "    <img src=\"data/images/97pk1UN0RZ26ZNVDdEWdLg_51241eff8903438f9370f8f3cce74ef1_Alphabet-Soup-table.png\" alt=\"Table displaying the frequencies, max data rates, and max signal ranges for each 802.11 update.\" style=\"width: 700px\">\n",
    "    <p style=\"text-align: center\"><i>Table displaying the frequencies, max data rates, and max signal ranges for each 802.11 update.</i></p>"
   ]
  },
  {
   "cell_type": "markdown",
   "id": "82c61f85-5cda-47e6-92da-feca5fabae4a",
   "metadata": {},
   "source": [
    "<center>\n",
    "    <b>IEEE 802.11 major updates list</b>\n",
    "\n",
    "\n",
    "|||\n",
    "|-|-|\n",
    "|**802.11a (1999) - Wi-Fi 2**|Designed for 5 GHz frequency band only|\n",
    "||Offered a maximum data rate of 54 Mbps\n",
    "||Offered a maximum signal range of 400 feet (120 m)\n",
    "||Defined 23 non-overlapping channels at 20 MHz wide|\n",
    "|**802.11b (1999) - Wi-Fi 1**|Designed for 2.4 GHz frequency band only|\n",
    "||Offered a maximum data rate of 11 Mbps|\n",
    "||Offered a maximum signal range of 450 feet (140 m)|\n",
    "||Defined 14 overlapping channels (frequent cause of interference)|\n",
    "|**802.11g (2003) update to 802.11b - Wi-Fi 3**|Improved 2.4 GHz frequency band only|\n",
    "||Increased the maximum data rate to 54 Mbps|\n",
    "|**802.11n (2009) bandwidth increase - Wi-Fi 4**|Improved both 2.4 GHz and 5 GHz frequency bands|\n",
    "||Access points could offer “dual-band” support with each band implemented by a separate radio.\n",
    "||Increased bandwidth and reliability with “multiple input multiple output\" (MIMO) technology.\n",
    "||Allowed “channel bonding” for 5 GHz (two adjacent channels could be combined).\n",
    "||Increased the maximum data rate to 72 Mbps per stream and 150 Mbps per stream for bonded channels. With specific configurations, the maximum data rate could be as high as 600 Mbps.\n",
    "||Increased maximum signal range of 825 feet (250 m)|\n",
    "|**802.11ac (2014) and Wave 2 (2015) bandwidth increases - Wi-Fi 5**|Improved the 5 GHz frequency band only, though access points could still offer dual band support for older 2.4 GHz specifications.|\n",
    "||Access points could offer triband support (one 2.4 GHz and two 5 GHz radios).|\n",
    "||Supported wider bonded channels at 80 and 160 MHz.|\n",
    "||Allowed up to eight streams with each 80 MHz channel.|\n",
    "||Increased maximum data rates to 1 Gbps and could be as high as 2.2 Gbps for specific configurations. Wave 2 increased the maximum data rate to 6.9 Gbps.|\n",
    "||Increased sent data transmissions to up to 4 clients at the same time. This was achieved by allowing access points to use multiple antennas through downlink multiuser MIMO (DL MU-MIMO) technology.|\n",
    "|**802.11ax (2019) bandwidth increases - Wi-Fi 6**|Improved data stream rates to 600 Mbps per 80 MHz channel, with combined data rates of over 1 Gbps for the 2.4 GHz frequency and 4.8 Gbps for the 5 GHz frequency.|\n",
    "||Increased sent data transmissions to up to 8 clients at the same time with downlink MU-MIMO.|\n",
    "||Added support for full-duplex MU-MIMO to receive uplink data from multiple client devices.|\n",
    "||Added support for “orthogonal frequency division multiple access” (OFDMA), which works with MU-MIMO to sustain high data rates during periods of high client device traffic.|\n",
    "||Requires all client devices to use WPA3 security protocols.|\n",
    "|**Wi-Fi 6e (2020) bandwidth increases**|Added support for a new 6 GHz frequency band, which has a combined maximum data rate speed of 10 Gbps (shared by multiple devices).|\n",
    "||Added new channels to reduce interference.|\n",
    "||Improved frequency space for 80 and 160 MHz channels.|"
   ]
  },
  {
   "cell_type": "markdown",
   "id": "48fb2e2d-3545-48e9-9a05-0330d8386e1b",
   "metadata": {},
   "source": [
    "**Resources for more information**\n",
    "\n",
    "For more information about Wi-Fi standards, please visit: \n",
    "- [Official IEEE 802.11 Working Group Project Timelines](https://grouper.ieee.org/groups/802/11/Reports/802.11_Timelines.htm) - An IEEE published table detailing each update to the 802.11 standards."
   ]
  },
  {
   "cell_type": "markdown",
   "id": "aea97865-0fcc-41aa-8bc9-d2012d13e715",
   "metadata": {},
   "source": [
    "#### Supplemental Reading for IoT Data Transfer Protocols"
   ]
  },
  {
   "cell_type": "markdown",
   "id": "d5e46ef8-25c9-4583-9e8a-ed3a9427f5cb",
   "metadata": {},
   "source": [
    "**IoT Data Transfer Protocols**\n",
    "\n",
    "In this reading, you will learn how **Internet of Things (IoT)** devices send and receive data across networks. As an IT Support specialist, you may need to support data collection from IoT devices. For example, you may work for a company that uses an array of IoT sensors in a manufacturing setting to help with the remote monitoring and proactive maintenance of industrial machines. You may need to manage the software applications and data transfer protocols that support automated and human interaction with the IoT devices and the data they collect. \n",
    "\n",
    "**Data protocol models used with IoT**\n",
    "\n",
    "There are two common data protocol models to illustrate how low-power IoT devices share data: \n",
    "\n",
    "- **Request/Response model**: Often used in distributed systems where the communication flow between servers and clients consists of requests and responses for data. Examples include HTTP and CoAP (described in the “IoT data protocols at the application layer” section below)\n",
    "\n",
    "- **Publish/Subscribe model**: A framework for message exchanges between publishers (hosts) and subscribers (clients) that are routed through a broker. Subscribers can sign up to a channel to receive notices through the broker when the publisher releases new messages. Examples: MQTT and AMQP (described in the “IoT data protocols at the application layer” section below).\n",
    "\n",
    "**IoT data protocols at the application layer**\n",
    "\n",
    "IoT devices can collect environmental data around their physical location (e.g., temperature),  equipment data (e.g., maintenance status), and metered data (e.g., electricity usage). Data protocols are needed to transfer and format the data for use by applications that interface with either humans or automated systems. IoT devices can be configured to use various data transfer and formatting protocols at the OSI application/software layer of communication. \n",
    "\n",
    "Most IoT devices can use at least one of the following data transfer protocols:\n",
    "\n",
    "- **HyperText Transfer Protocol / Secure (HTTP/HTTPS)**: HTTP and HTTPS are the most widely used information transfer protocols across the World Wide Web (WWW). The protocols define how information is formatted and transmitted. HTTP/HTTPS uses ASCII formatting, has a header size of 8 bytes, and is designed for transmitting documents. HTTP/HTTPS use either Transmission Control Protocol (TCP) or User Datagram Protocol (UDP) for sending information across the internet. HTTP/HTTPS uses the request/response model. When a website address is entered into a browser, HTTP/HTTPS sends a request to the site’s web server, which then returns an HTTP/HTTPS formatted response to the browser. The protocols use ports 80 or 8080 and data security is provided on the HTTPS version of the protocol. HTTP is supported by Google Cloud IoT Core for device-to-cloud communication.\n",
    "\n",
    "- **Machine-to-Machine (M2M) Communication Protocols**: A set of direct communication methods for low-power devices, machines, and systems. There are three primary architectural and protocol groups in M2M electronic communications:\n",
    "    - **Representational State Transfer (REST)**: An architectural style for communication amongst web accessible systems. \n",
    "    - **Service-oriented Architectures (SOA)**: An architecture for data exchanges in industrial automation systems. \n",
    "    - **Message Oriented Protocols**: A protocol for asynchronous data transfers for distributed systems.<br>\n",
    "<br>\n",
    "- **Message Queue Telemetry Transport (MQTT)**: An IoT data-centric interaction protocol for M2M that uses a simple publish-subscribe model. MQTT supports Quality of Service (QoS), uses TCP for sending information, and utilizes Secure Sockets Layer (SSL) and Transport Layer Security (TLS) for security. MQTT using binary format and 2-byte header sizes for efficient messaging. MQTT is supported by Google Cloud IoT Core for device to cloud communication.\n",
    "\n",
    "- **Constrained Application Protocol (CoAP)**: A web transfer protocol for IoT constrained nodes and networks designed for M2M applications. CoAP is used for IoT applications like building automation and smart energy management. CoAP is very similar to HTTP: both are based on the REST model and both place resources on a server that is accessible to clients via a URL. \n",
    "\n",
    "- **Advanced Message Queuing Protocol (AMQP)**: An open standard for messaging amongst applications in different organizations and/or platforms. Its purpose is to remove vendor lock-in for app communication. In addition to interoperability, AMQP also offers reliability and security.\n",
    "\n",
    "- **Extensible Messaging and Presence Protocol (XMPP)**: A decentralized, open standard for chat, messaging, video and voice calls, collaboration tools, and more. Built upon Jabber, XMPP offers a proven communication technology that is extensible, flexible, and diverse.\n",
    "\n",
    "- **Data Distribution Service (DDS)**: An API standard and middleware protocol from the Object Management Group. Middleware exists in the OSI applications layer, between software and the operating system. DDS uses the publish-subscribe communications model. DDS is also data-centric, provides low-latency data connectivity, and helps the devices in an IoT ecosystem share data more efficiently. DDS is reliable, scalable, and provides control of QoS parameters, including bandwidth and resource limits. "
   ]
  },
  {
   "cell_type": "markdown",
   "id": "d1ff15ca-13c1-4ba9-82a8-b0762ca8ed77",
   "metadata": {},
   "source": [
    "### Wireless Network Configurations"
   ]
  },
  {
   "cell_type": "markdown",
   "id": "f0e576ac-382c-491d-92cb-3b7f8a31095f",
   "metadata": {},
   "source": [
    "There are a few main ways that a wireless network can be configured. \n",
    "\n",
    "- **ad-hoc networks** where nodes all speak directly to each other. \n",
    "- **wireless LANS or WLANS**, where one or more access points act as a bridge between a wireless and a wired network, and \n",
    "- **mesh networks** which are a hybrid of the two. Ad-hoc networks are the simplest of the three. \n",
    "\n",
    "In an **ad-hoc network**, there isn't really any supporting network infrastructure. Every device involved with the network communicates with every other device within range, and all nodes help pass along messages. Even though they're the most simple, ad-hoc networks aren't the most common type of wireless network, but they do have some practical applications. Some smartphones can establish ad-hoc networks with other smartphones in the area so that people can exchange photos, video, or contact information. You'll also sometimes see ad-hoc networks used in industrial or warehouse settings where individual pieces of equipment might need to communicate with each other, but not with anything else. Finally, ad-hoc networks can be powerful tools during disaster situations. If a natural disaster like an earthquake or hurricane knocks out all of the existing infrastructure in an area, disaster relief professionals can use an ad-hoc network to communicate with each other while they perform search and rescue efforts. "
   ]
  },
  {
   "cell_type": "markdown",
   "id": "07044fd4-33b2-4521-8396-f41febc4af60",
   "metadata": {},
   "source": [
    "<center>\n",
    "    <img src=\"data/images/Screenshot from 2023-07-28 01-00-01.png\" alt=\"ad-hoc networks\" style=\"width: 500px\">\n",
    "    <p style=\"text-align: center\"><i>ad-hoc networks</i></p>"
   ]
  },
  {
   "cell_type": "markdown",
   "id": "be5634df-9c3a-4796-b1d2-95005581d885",
   "metadata": {},
   "source": [
    "The most common type of wireless network you'll run into in the business world is a **wireless LAN (WLAN)**. A wireless LAN consists of one or more access points which act as bridges between the wireless and wired networks. The wired network operates as a normal LAN, like the types we've already discussed. The wired LAN contains the outbound Internet link. In order to access resources outside of the WLAN, wireless devices would communicate with access points. They then forward traffic along to the gateway router where everything proceeds like normal. "
   ]
  },
  {
   "cell_type": "markdown",
   "id": "5e88be8f-a400-4b72-9e54-e73aac00ddca",
   "metadata": {},
   "source": [
    "<center>\n",
    "    <img src=\"data/images/Screenshot from 2023-07-28 01-04-35.png\" alt=\"WLAN\" style=\"width: 500px\">\n",
    "    <p style=\"text-align: center\"><i>WLAN</i></p>"
   ]
  },
  {
   "cell_type": "markdown",
   "id": "1339700b-8bc2-4055-a315-09133e687a39",
   "metadata": {},
   "source": [
    "Finally, we have what's known as **mesh networks**. Mesh networks are like ad-hoc networks, since lots of the devices communicate with each other wirelessly, forming a mesh if you were to draw lines for all the links between all the nodes. Most mesh networks you'll run into are made up of only wireless access points, and will still be connected to a wired network. This network lets you deploy more access points to the mesh without having to run a cable to each of them. With this setup, you can really increase the performance and range of a wireless network."
   ]
  },
  {
   "cell_type": "markdown",
   "id": "65288c2f-2b8e-48bb-8a3f-5c5b37c3c178",
   "metadata": {},
   "source": [
    "<center>\n",
    "    <img src=\"data/images/Screenshot from 2023-07-28 01-07-18.png\" alt=\"mesh network\" style=\"width: 500px\">\n",
    "    <p style=\"text-align: center\"><i>mesh network</i></p>"
   ]
  },
  {
   "cell_type": "markdown",
   "id": "f0f36639-6e55-4bce-b3b4-25f763a0560e",
   "metadata": {},
   "source": [
    "### Wireless Channels"
   ]
  },
  {
   "cell_type": "markdown",
   "id": "7290c4a7-efe4-4794-943d-028846a405f3",
   "metadata": {},
   "source": [
    "The concept of **channels** is one of the most important things to understand about wireless networking. \n",
    "\n",
    "> **Channels** are individual, smaller sections of the overall frequency band used by a wireless network. \n",
    "\n",
    "Channels are super important because they help address a very old networking concern, [collision domains](#collision_domain). You might remember that a \n",
    "\n",
    "> collision domain is any one network segment where one computer can interrupt another. \n",
    "\n",
    "Communications that overlap each other can't be properly understood by the receiving end. So when two or more transmissions occur at the same time, also called a collision, all devices in question have to stop their transmissions. They wait a random amount of time and try again when things quiet down. This really slows things down. \n",
    "\n",
    "The problem caused by collision domains has been mostly reduced on wired networks through devices called switches. Switches remember which computers live on which physical interfaces, so traffic is only sent to the node it's intended for. Wireless networking doesn't have cables. So there aren't physical interfaces for a wireless device to connect to. That means we can have something that works like a wireless switch. Wireless devices are doomed to talk over each other, channels help fix this problem to a certain extent. \n",
    "\n",
    "When we were talking about the concept of frequency bands, we mentioned that FM radio in North America operates between 88 megahertz and 188 megahertz. But when we discussed the frequency bands we used by wifi, we just mentioned 2.4 gigahertz and 5 gigahertz. This is because that's really just shorthand for where these frequency bands actually begin for wireless networks that operate on the 2.4 gigahertz band. What we really mean is that they operate on roughly the band from 2.4 gigahertz to 2.5 gigahertz, between these two frequencies are a number of channels, each with a width of a certain megahertz."
   ]
  },
  {
   "cell_type": "markdown",
   "id": "9e7b8915-eea2-454d-ac05-e08a94d3d90e",
   "metadata": {},
   "source": [
    "<center>\n",
    "    <img src=\"data/images/Screenshot from 2023-07-28 01-17-31.png\" alt=\"wi-fi radio band\" style=\"width: 500px\">\n",
    "    <p style=\"text-align: center\"><i>wi-fi radio band</i></p>"
   ]
  },
  {
   "cell_type": "markdown",
   "id": "5321d34b-358d-4a48-85e1-3ac231d00b2b",
   "metadata": {},
   "source": [
    "Since different countries and regions have different regulatory committees for what radio frequencies might be used for what. Exactly how many channels are available for use depends on where in the world you are. For example, dealing with an 802.11b network, channel 1 operates at 2.412 megahertz, but since the channel width is 22 megahertz, the signal really lives on the frequencies between 2.401 megahertz and 2.423 megahertz. This is because radio waves are imprecise things so you need some buffer around what exact frequencies a transmission might actually arrive on."
   ]
  },
  {
   "cell_type": "markdown",
   "id": "e90c8cdd-0d35-4a5b-a16f-2ee2450cc1de",
   "metadata": {},
   "source": [
    "<center>\n",
    "    <img src=\"data/images/Screenshot from 2023-07-28 01-33-29.png\" alt=\"wi-fi channels\" style=\"width: 500px\">\n",
    "    <p style=\"text-align: center\"><i>wi-fi channels</i></p>"
   ]
  },
  {
   "cell_type": "markdown",
   "id": "539db7d0-c364-4349-8a8f-bf86393012a2",
   "metadata": {},
   "source": [
    "Some channels overlap, but some are far enough apart so they won't interfere with each other at all. \n",
    "\n",
    "Let's look again at an 802.11b network running on the 2.4 gigahertz band because it's really the simplest and the concepts translate to all other 802.11 specifications. With a channel width of 22 megahertz, Channel 1 with its midpoint at 2.412 megahertz is always completely isolated from channel 6 with its midpoint at 2.437 megahertz."
   ]
  },
  {
   "cell_type": "markdown",
   "id": "6e29ab15-32a0-4335-a946-e6c18565c4be",
   "metadata": {},
   "source": [
    "<center>\n",
    "    <img src=\"data/images/Screenshot from 2023-07-28 01-36-02.png\" alt=\"wi-fi channels\" style=\"width: 500px\">\n",
    "    <p style=\"text-align: center\"><i>wi-fi channels</i></p>"
   ]
  },
  {
   "cell_type": "markdown",
   "id": "8f387560-dad8-4973-8550-dca5dc731aff",
   "metadata": {},
   "source": [
    "For an 802.11b network this means that channels 1 and 6 and 11 are the only ones that never overlap at all. "
   ]
  },
  {
   "cell_type": "markdown",
   "id": "d4dbf326-6496-419b-a1d8-4839ff6e6581",
   "metadata": {},
   "source": [
    "<center>\n",
    "    <img src=\"data/images/Screenshot from 2023-07-28 01-39-38.png\" alt=\"wi-fi channels\" style=\"width: 500px\">\n",
    "    <p style=\"text-align: center\"><i>wi-fi channels</i></p>"
   ]
  },
  {
   "cell_type": "markdown",
   "id": "ee93b39c-b70b-4750-82c1-1a5d35ffba15",
   "metadata": {},
   "source": [
    "That's not all that matters though. Today, most wireless networking equipment is built to auto sense what channels are most congested. Some access points will only perform this analysis when they start up. Others will dynamically change their channel as needed. Between those two scenarios and manually specified channels you can still run into situations where you experience heavy channel congestion. This is especially true in dense urban areas with lots of wireless networks in close proximity. \n",
    "\n",
    "So why is this important in the world of IT support? Well, understanding how these channels overlap for all of the 802.11 specifications is a way you can help troubleshoot bad wireless connectivity problems or slowdowns in the network. You want to \n",
    "\n",
    "> avoid collision domains wherever you can. \n",
    "\n",
    "I should call out that it's not important to memorize all of the individual numbers we've talked about. The point is to understand how collision domains are a necessary problem with all wireless networks and how you can use your knowledge in this space to optimize wireless network deployments. You want to make sure that both your own access points and those of neighboring businesses overlap channels as little as possible."
   ]
  },
  {
   "cell_type": "markdown",
   "id": "0015ad44-9b16-4af2-8507-4518723f7ab7",
   "metadata": {},
   "source": [
    "### Wireless Security"
   ]
  },
  {
   "cell_type": "markdown",
   "id": "fb184428-bb8c-48c2-a81b-663fa9cdd999",
   "metadata": {},
   "source": [
    "When you're sending data over a wired link, your communication has a certain amount of inherent privacy. The only devices that really know what data is being transmitted are the two nodes on either end of the link. Someone or some device that happens to be in close proximity can't just read the data. With wireless networking this isn't really the case since there aren't cables just radio transmissions being broadcast through the air. Anyone within range could hypothetically intercept any transmissions whether they were intended for them or not. \n",
    "\n",
    "To solve this problem, WEP was invented. \n",
    "\n",
    "> **WEP** stands for **Wired Equivalent Privacy** and it's an encryption technology that provides a very low level of privacy. \n",
    "\n",
    "Actually it's really right there in the name - Wired Equivalent Privacy. Using WEP protects your data a little, but it should really only be seen as being as safe as sending unencrypted data over a wired connection. The WEP standard is a really weak encryption algorithm. It doesn't take very long for a bad actor to be able to break through this encryption and read your data. You'll learn more about key lengths and encryption in a future course but for now it's important to know that the number of bits in an encryption key corresponds to how secure it is. The more bits in a key the longer it takes for someone to crack the encryption. WEP only uses `40` bits for its encryption keys and with the speed of modern computers this can usually be cracked in just a few minutes. "
   ]
  },
  {
   "cell_type": "code",
   "execution_count": 1,
   "id": "0b350ff9-798b-4fb1-bcbc-326bf63f5896",
   "metadata": {
    "execution": {
     "iopub.execute_input": "2023-07-31T17:19:10.937759Z",
     "iopub.status.busy": "2023-07-31T17:19:10.937340Z",
     "iopub.status.idle": "2023-07-31T17:19:10.956354Z",
     "shell.execute_reply": "2023-07-31T17:19:10.955077Z",
     "shell.execute_reply.started": "2023-07-31T17:19:10.937713Z"
    },
    "tags": []
   },
   "outputs": [
    {
     "data": {
      "text/plain": [
       "1099511627776"
      ]
     },
     "execution_count": 1,
     "metadata": {},
     "output_type": "execute_result"
    }
   ],
   "source": [
    "2**40"
   ]
  },
  {
   "cell_type": "markdown",
   "id": "28475d12-de3d-43f0-8500-4d058c39017e",
   "metadata": {},
   "source": [
    "WEP was quickly replaced in most places with **WPA** or **Wifi Protected Access**. WPA by default uses a `128`-bit key, making it a whole lot more difficult to crack than WEP. \n",
    "\n",
    "Today the most commonly used encryption algorithm for wireless networks is **WPA2**, an update to the original WPA. WPA2 uses a `256`-bit key, make it even harder to crack. \n",
    "\n",
    "Another common way to help secure wireless networks is through **MAC filtering**. With MAC filtering, you configure your access points to only allow for connections from a specific set of MAC addresses belonging to devices you trust. This doesn't do anything more to help encrypt wireless traffic being sent through the air, but it does provide an additional barrier preventing unauthorized devices from connecting to the wireless network itself."
   ]
  },
  {
   "cell_type": "markdown",
   "id": "f9c1a254-b0c3-4231-98fc-b5dd5833f0f1",
   "metadata": {},
   "source": [
    "### Protocols & Encryption"
   ]
  },
  {
   "cell_type": "markdown",
   "id": "170c0f4e-1a3b-428d-82f5-b92154d5f5ce",
   "metadata": {},
   "source": [
    "Protocols and encryption are vital components in cybersecurity. Network security continues to evolve along with technological innovations and ever-increasing computing power. You have learned about WPA2 and how it improved the security of the Wi-Fi Protected Access (WPA) protocol. In this reading, you will explore **WPA3**, the third iteration of WPA wireless security. You will also learn about various internet connectivity technologies, as well as the basics of wireless and cellular networking.\n",
    "\n",
    "WPA3 is built upon the WPA2 protocol and is intended to replace WPA2. The WPA3 protocol introduces new features and methods to repair the security weaknesses of WPA2. The benefits of this advancement in Wi-Fi security include:\n",
    "\n",
    "- Simplified wireless security\n",
    "- Stronger authentication \n",
    "- Powerful encryption \n",
    "- Stable business continuity\n",
    "- Enhanced security methods\n",
    "- Replacement for legacy protocols\n",
    "- Protected Management Frames (PMF) requirement for enterprise networks\n",
    "- WPA3 offers two versions, a personal and an enterprise version.\n",
    "\n",
    "**WPA3-Personal**\n",
    "\n",
    "WPA3-Personal is intended for individual users and personal/home Wi-Fi networks. This protocol addresses common cybersecurity weaknesses that affect consumers’ wireless devices. It also simplifies Wi-Fi security for users. The improvements to WPA3-Personal include:\n",
    "\n",
    "- **Natural password selection**: Gives users the ability to set passwords that are easier for the user to remember. \n",
    "\n",
    "- **Increased ease of use**: Users do not need to change the way they connect to Wi-Fi to benefit from WPA3’s improved security. \n",
    "\n",
    "- **Forward secrecy**: If a password is stolen, WPA3 can continue to protect data that is transmitted. \n",
    "\n",
    "- **Simultaneous Authentication of Equals (SAE)**: WPA3-Personal improves upon the WPA2-Personal **Pre-Shared Key (PSK)** handshake protocol. SAE uses PSK to generate a **Pairwise Master Key (PMK)**. The PMK uses password-based authentication and is shared between a Wi-Fi access point and a wireless device. The pair use a complex, multi-stage process for proving to one another that they each possess the PMK. This complex handshake makes it extremely difficult for cybercriminals to intercept packets in order to extract an identifiable authentication key. If the SAE transaction is successful, the wireless device will pass the authentication stage and gain access to the secured Wi-Fi network. \n",
    "\n",
    "The SAE authentication also reduces the probability of successful dictionary and brute force attacks, in which cybercriminals try to crack short, weak, and commonly used passwords. Additionally, SAE corrects a weakness exploited by cybercriminals who could perform **key reinstallation attacks (KRACKs)** when in close proximity to a Wi-Fi user. This type of attack could decrypt data and expose passwords, credit card information, photos, chats, emails, and more.  \n",
    "\n",
    "WPA3-Enterprise\n",
    "WPA3-Enterprise is intended for business networks with multiple users. This protocol addresses the WPA2-Enterprise weaknesses that cybercriminals have been able to exploit. In addition to the WPA3-Personal SAE improvements, the WPA3-Enterprise security improvements and options include: \n",
    "\n",
    "- **Galois/Counter Mode Protocol (GCMP-256)**: The **Advanced Encryption Standard (AES)** with GCMP-256-bit encryption replaces the WPA2 128-bit AES-Counter Mode Protocol **(CCMP)** Cipher Block Chaining Message Authentication Code **(CBC-MAC)**. GCMP provides data integrity and confidentiality. The GCMP-256-bit encryption strength takes significantly more computing power for cybercriminals to crack than 128-bit encryption. The average person would not have access to that level of computing power. GCMP-256-bit encryption provides a stronger security protocol and makes it harder for cybercriminals to perform Meddler-in-the-Middle attacks. \n",
    "\n",
    "- **Opportunistic Wireless Encryption (OWE)**: OWE improves upon the WPA2 wireless encryption standard of 802.1x Open Authentication and Extensible Authentication Protocol (**EAP**). In WPA2, EAP required additional support to help it encrypt and authenticate login credentials. In the WPA3 protocol, OWE replaces EAP with a solution that encrypts and authenticates all wireless traffic. It also replaces Wi-Fi passwords by assigning a unique key to each device that has permission to access the network. This technology repairs a weakness Wi-Fi users experience in open networks, which are often found in restaurants, coffee shops, hotels, airports, malls, and more. \n",
    "\n",
    "- **Wi-Fi Device Provisioning Protocol (DPP)**: DPP improves upon the WPA2 Wi-Fi Protected Setup (WPS) encryption technology between wireless devices and routers. WPA3’s DPP uses QR codes or NFC tags to grant passwordless Wi-Fi access to wireless devices.\n",
    "\n",
    "- **384-bit Hashed Message Authentication Mode (HMAC) with Secure Hash Algorithm (SHA)**: HMAC creates hash code from a secret key. This hash code is sent with each message passed between a Wi-Fi access point and a user’s device. The hash code from the origin of the message is compared to the hash code from the receiver of the message to determine if the hash codes match. A discrepancy between the two hashes would indicate that the message was compromised or corrupted during transmission.   \n",
    "\n",
    "- **Elliptic Curve Diffie-Hellman Exchange (ECDHE) and Elliptic Curve Digital Signature Algorithm (ECDSA)**: In WPA3, key management and authentication use the ECDHE protocol and ECDSA encryption for faster performance. The protocol is supported by most browsers. This key management technology replaces the WPA2 4-way handshake.\n",
    "\n",
    "**Key takeaways**\n",
    "\n",
    "As the tech industry develops more powerful computers, cybercriminals will use them to crack older encryption standards. The need to create more complex encryption algorithms will always be present in order to stay ahead of the evolving tools used by cybercriminals.\n",
    "\n",
    "For **WPA3-Personal**, some of the new features include:\n",
    "\n",
    "- Natural password selection\n",
    "- Increased ease of use\n",
    "- Forward secrecy\n",
    "- Simultaneous Authentication of Equals (SAE)\n",
    "\n",
    "For **WPA3-Enterprise**, some of the new features include:\n",
    "\n",
    "- Galois/Counter Mode Protocol (GCMP-256)\n",
    "- Opportunistic Wireless Encryption (OWE)\n",
    "- Wi-Fi Device Provisioning Protocol (DPP)\n",
    "- 384-bit Hashed Message Authentication Mode (HMAC) with Secure Hash Algorithm (SHA) \n",
    "- Elliptic Curve Diffie-Hellman Exchange (ECDHE) and Elliptic Curve Digital Signature Algorithm (ECDSA)"
   ]
  },
  {
   "cell_type": "markdown",
   "id": "70e06ab4-bec8-43f9-ab5d-8e56fd54e50c",
   "metadata": {},
   "source": [
    "### Cellular Networking"
   ]
  },
  {
   "cell_type": "markdown",
   "id": "2fc5e75a-2b0c-4267-ac93-694bc99c3fcd",
   "metadata": {},
   "source": [
    "Another super popular form of wireless networking is **cellular networking**, also called **mobile networking**. Cellular networks are now common all over the world. In some places, using a cellular network for Internet access is the most common way of connecting. \n",
    "\n",
    "At a high level, cellular networks have a lot in common with the 802.11 networks we've already talked about. Just like there are many different 802.11 specifications, there are lots of different cellular specifications. Just like Wi-Fi, cellular networking operates over radio waves and there are specific frequency bands specifically reserved for cellular transmissions. One of the biggest differences is that these frequencies can travel over longer distances more easily, usually over many kilometers or miles. "
   ]
  },
  {
   "cell_type": "markdown",
   "id": "fb813299-d136-4353-8a6d-b595b48710f6",
   "metadata": {},
   "source": [
    "<center>\n",
    "    <img src=\"data/images/Screenshot from 2023-07-31 22-45-46.png\" alt=\"wi-fi channels\" style=\"width: 400px\">\n",
    "    <p style=\"text-align: center\"><i></i></p>"
   ]
  },
  {
   "cell_type": "markdown",
   "id": "888fd983-1877-442f-90f8-2e54d0539390",
   "metadata": {},
   "source": [
    "Cellular networks are built around the concept of cells. Each cell is assigned a specific frequency band for use. Neighboring cells are set up to use bands that don't overlap. Just like how we discussed the optimal setup for a WLAN with multiple access points. In fact, the cell towers that broadcasts and receives cellular transmissions can be thought of like access points, just with a much larger range. Lots of devices today use cellular networks for communication, and not just phones, also tablets and some laptops also have cellular antennas. It's become more and more common for high-end automobiles to have built-in cellular access too."
   ]
  },
  {
   "cell_type": "markdown",
   "id": "1953a97a-add8-4204-94f4-65f03493cbb2",
   "metadata": {},
   "source": [
    "<center>\n",
    "    <img src=\"data/images/Screenshot from 2023-07-31 22-48-16.png\" alt=\"wi-fi channels\" style=\"width: 400px\">\n",
    "    <p style=\"text-align: center\"><i></i></p>"
   ]
  },
  {
   "cell_type": "markdown",
   "id": "eb9997d2-32b2-4527-a6ee-c0faa91441af",
   "metadata": {},
   "source": [
    "### Supplemental Reading for Mobile Device Networks"
   ]
  },
  {
   "cell_type": "markdown",
   "id": "e1937d53-34aa-43b2-b295-f1bc580ca39a",
   "metadata": {},
   "source": [
    "**Wireless Network Protocols for IoT**\n",
    "\n",
    "In this reading, you will learn how **Internet of Things (IoT)** devices connect to wireless networks. As an IT Support specialist, you may need to support wireless IoT devices in a networked environment. For example, you may have a client who needs to install a smart, wireless security system for their home or office. The client might need assistance with connecting the security system to a private network for onsite monitoring and/or to the internet for remote monitoring. Understanding the properties of wireless IoT networks will help you select appropriate network protocols for various IoT applications. \n",
    "\n",
    "**IoT wireless network protocols at the physical layer**\n",
    "\n",
    "IoT devices can use both wired and wireless methods to connect to the Internet. For wireless connections, there are multiple network protocols that manufacturers configure IoT devices to use. Some of these network protocols support global internet connectivity, while others are intended for short-distance **Personal Area Networks (PANs)**. Network protocols connect at the OSI physical layer. \n",
    "\n",
    "Most IoT devices can use at least one of the following network protocols:\n",
    "\n",
    "- **Wireless-Fidelity (Wi-Fi)**: Wi-Fi is the more familiar brand name for the IEEE 802.11 standard for wireless networks. Wi-Fi is the most common wireless protocol across the world, with billions of devices capable of using Wi-Fi, including many IoT devices. Wi-Fi is a great option when needing to integrate IoT devices into an existing IP network that is connected to the internet. Wi-Fi 6 can support up to 500 Mbps data transfer speeds, for fast performance with large amounts of data. IoT networks often include a hub or a control system that uses Wi-Fi to facilitate wireless networking. \n",
    "\n",
    "    As you have learned previously, Wi-Fi networks communicate on radio frequencies 2.4 GHz and 5 GHz. The 2.4 GHz frequency extends to 150 feet (45 meters) indoors and 300 feet (92 meters) outdoors. However, the 2.4 GHz frequency can experience congestion due to a limited number of channels. Plus, 2.4 GHz is more likely to experience interference from other nearby devices that use the same frequency, like microwaves. The 5 GHz frequency provides a stronger signal than 2.4 GHz and has more channels to handle more traffic. The 5 GHz drawback is that its range is limited to 50 feet (12 meters) indoors and 100 feet (30.6 meters) outdoors. \n",
    "\n",
    "- **IEEE 802.15.4**: An inexpensive, low-power wireless access technology intended for IoT devices that operate on battery power. IEEE 802.15.4 uses the 2.4 GHz or lower radio band frequencies. IEEE 802.15.4 is normally used for low-rate wireless personal area networks (LR-WPANs) and uses a 128-bit encryption. Examples of IoT technologies that use IEEE 802.15.4 network connections include:\n",
    "\n",
    "    - **ZigBee**: An LR-WPAN intended for smart home use. However, ZigBee has also been adopted globally for commercial IoT products. ZigBee includes a universal language that facilitates the interoperability of smart objects through a self-healing mesh network. ZigBee LR-WPAN networks can be accessed through Wi-Fi or Bluetooth. \n",
    "\n",
    "- **Thread**: A low-latency wireless mesh networking protocol based on IPv6 addressing and existing open standards and technologies. These characteristics make thread networks compatible with a broad spectrum of IoT ecosystems. Thread devices do not use proprietary gateways or translators, making them inexpensive and easier to implement and maintain than other wireless technologies. Thread is used by the Google Nest Hub Max.\n",
    "\n",
    "- **Z-Wave**: An interoperable, wireless mesh protocol (described below) that is based on low powered radio frequency (RF) communications. The Z-Wave protocol uses an RF signal on the 908.2MHz frequency band and extends 330 feet. Z-Wave allows users to control and monitor IoT smart devices. Z-Wave is inexpensive, reliable, and simple to use. The Z-wave protocol supports a closed network for security purposes. Over 3300 types and models of home and business IoT devices are certified to use Z-Wave technology, with more than 100 million devices in use worldwide.   \n",
    "\n",
    "- **Wireless mesh network (WMN)**: Mesh networks are used by many popular wireless IoT network protocols, like Zigbee and Z-Wave, for device communication. Wireless mesh networks use less power than other wireless connectivity options. Wireless mesh is a decentralized network of connected wireless access points (WAP), also called nodes. Each WAP node forwards data to the next node in the network until the data reaches its destination. This network design is “self-healing,” meaning the network can recover on its own when a node fails. The other nodes will reroute data to exclude the failed node. Wireless mesh is a good option for high reliability and low power consumption, which is better for battery powered IoT devices. Wireless mesh networks can be configured to be full or partial mesh:\n",
    "\n",
    "    - **Full mesh network**: Every node can communicate with all of the other nodes in the network. \n",
    "\n",
    "    - **Partial mesh network:** Nodes can only communicate with nearby nodes.\n",
    "\n",
    "- **Bluetooth**: Bluetooth is a widely used wireless network that operates at a 2.45 GHz frequency band and facilitates up to 3 Mbps connections among computing and IoT devices. Bluetooth has a range of up to 100 feet (30.6 meters) and can accommodate multiple paired connections. It is a good choice for creating a short distance wireless connection between Bluetooth enabled devices. Bluetooth is often used by computing devices to manage, configure, control, and/or collect small amounts of data from one or more close range IoT devices. For example, Bluetooth may be used to control smart home lighting or thermostat IoT devices from a smartphone. \n",
    "\n",
    "- **Near-Field Communication (NFC)**: NFC is a short-range, low data, wireless communication protocol that operates on the 13.56 MHz radio frequency. NFC technology requires a physical chip (or tag) to be embedded in the IoT device. NFC chips can be found in credit and debit cards, ID badges, passports, wallet apps on smartphones (like Google Pay), and more. A contactless NFC scanner, like a Point-of-Sale (PoS) device, is used to read the chip. This scanner communication connection often requires the IoT device to be within 2 inches (6 cm) of the scanner, but some NFC chips have an 8 inch (20 cm) range. This short-distance range helps to limit wireless network security threats. However, criminals can carry a portable NFC scanner into a crowded area to pick up NFC chip data from items like credit cards stored inside purses and wallets. To protect against this type of data theft, the cards should be placed inside special NFC/RFID sleeves that make the chips unreadable until they are removed from the sleeves. NFC technology may also be used in the pairing process for Bluetooth connections. \n",
    "\n",
    "- **Long Range Wide Area Network (LoRaWan)**: LoRaWan is an open source networking protocol designed to connect battery powered, wireless IoT devices to the Internet for widely dispersed networks."
   ]
  },
  {
   "cell_type": "markdown",
   "id": "d5eb8470-0b6f-4204-b42a-08f1d523be53",
   "metadata": {},
   "source": [
    "# 2.4 Troubleshooting Network Issues"
   ]
  },
  {
   "cell_type": "markdown",
   "id": "ba48444c-6fa5-4bd3-a260-f117dac384fa",
   "metadata": {},
   "source": [
    "See [Command Line Troubleshooting Tools Reference Guide](Command-Line-Troubleshooting-Tools-Reference-Guide.pdf) and [Testing-Port-Connectivity-Reference-Guide](Testing-Port-Connectivity-Reference-Guide.pdf)."
   ]
  }
 ],
 "metadata": {
  "kernelspec": {
   "display_name": "Python 3 (ipykernel)",
   "language": "python",
   "name": "python3"
  },
  "language_info": {
   "codemirror_mode": {
    "name": "ipython",
    "version": 3
   },
   "file_extension": ".py",
   "mimetype": "text/x-python",
   "name": "python",
   "nbconvert_exporter": "python",
   "pygments_lexer": "ipython3",
   "version": "3.11.2"
  }
 },
 "nbformat": 4,
 "nbformat_minor": 5
}
