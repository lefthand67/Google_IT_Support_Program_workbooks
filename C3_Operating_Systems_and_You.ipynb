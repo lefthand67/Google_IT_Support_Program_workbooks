{
 "cells": [
  {
   "cell_type": "markdown",
   "id": "aa0a46d9-87c0-4acd-8df4-92b8ca34c464",
   "metadata": {
    "execution": {
     "iopub.execute_input": "2023-08-18T13:51:17.410703Z",
     "iopub.status.busy": "2023-08-18T13:51:17.409436Z",
     "iopub.status.idle": "2023-08-18T13:51:17.515214Z",
     "shell.execute_reply": "2023-08-18T13:51:17.514261Z",
     "shell.execute_reply.started": "2023-08-18T13:51:17.410660Z"
    },
    "tags": []
   },
   "source": [
    "# GOOGLE IT SUPPORT PROFESSIONAL CERTIFICATE from [Google](https://www.coursera.org/google-certificates/it-support-certificate)"
   ]
  },
  {
   "cell_type": "markdown",
   "id": "568c040e-5a4b-4282-8e95-b1cde3293917",
   "metadata": {},
   "source": [
    "# <b>C3 [Operating Systems and You: Becoming a Power User](https://www.coursera.org/learn/os-power-user)</b>"
   ]
  },
  {
   "cell_type": "markdown",
   "id": "16b424de-3066-42e6-bd16-47629bfa12a0",
   "metadata": {},
   "source": [
    "[Bash kernel](https://github.com/takluyver/bash_kernel/tree/master) for Jupyter:"
   ]
  },
  {
   "cell_type": "code",
   "execution_count": 10,
   "id": "d096d6bb-4973-4a70-8584-42835bd2c2b2",
   "metadata": {
    "execution": {
     "iopub.execute_input": "2023-08-10T11:16:57.927701Z",
     "iopub.status.busy": "2023-08-10T11:16:57.926898Z",
     "iopub.status.idle": "2023-08-10T11:16:57.936813Z",
     "shell.execute_reply": "2023-08-10T11:16:57.933908Z",
     "shell.execute_reply.started": "2023-08-10T11:16:57.927620Z"
    },
    "tags": []
   },
   "outputs": [],
   "source": [
    "# !pip install --upgrade pip\n",
    "# !pip install bash_kernel\n",
    "# !python3 -m bash_kernel.install"
   ]
  },
  {
   "cell_type": "markdown",
   "id": "c75e8000-9637-4b2c-93a1-81748f748ea3",
   "metadata": {},
   "source": [
    "[Powershell kernel](https://github.com/vors/jupyter-powershell) for Jupyter:"
   ]
  },
  {
   "cell_type": "code",
   "execution_count": 1,
   "id": "d4a6b8a9-5a39-4fdc-9dd0-57db0f7e45ef",
   "metadata": {
    "execution": {
     "iopub.execute_input": "2023-08-10T11:21:25.733553Z",
     "iopub.status.busy": "2023-08-10T11:21:25.732252Z",
     "iopub.status.idle": "2023-08-10T11:21:26.541718Z",
     "shell.execute_reply": "2023-08-10T11:21:26.540870Z",
     "shell.execute_reply.started": "2023-08-10T11:21:25.733498Z"
    },
    "tags": []
   },
   "outputs": [
    {
     "name": "stdout",
     "output_type": "stream",
     "text": [
      "Using powershell_command='pwsh'\n",
      "Installing IPython kernel spec\n"
     ]
    }
   ],
   "source": [
    "# !pip3 install powershell_kernel\n",
    "# !python3 -m powershell_kernel.install\n",
    "# !python3 -m powershell_kernel.install --powershell-command pwsh"
   ]
  },
  {
   "cell_type": "markdown",
   "id": "81e6d26e-0b76-46b3-9cd2-5364421c9e2e",
   "metadata": {
    "jp-MarkdownHeadingCollapsed": true,
    "tags": []
   },
   "source": [
    "# <b>3.1 Basic commands</b>"
   ]
  },
  {
   "cell_type": "markdown",
   "id": "19e692ba-0d91-426d-96a5-f179b91572d0",
   "metadata": {},
   "source": [
    "<center>\n",
    "    <h2><b>Table 3.1 Basic Commands</b></h2>\n",
    "\n",
    "|Purpose|PowerShell|Bash|\n",
    "|-|-|-|\n",
    "|<b>Escape character</b>|backtick \\`|backslash \\\\|\n",
    "|<b>Clear the screen</b>|||\n",
    "||clear|clear|\n",
    "||ctrl + L|ctrl + L|\n",
    "||cls||\n",
    "|<b>Help</b>|||\n",
    "||Get-Help \\<command>|\\<command> --help|\n",
    "||Get-Help \\<command> -Full|man \\<command>|\n",
    "|<b>List Directories</b>|||\n",
    "||ls|ls|\n",
    "|list all|ls -Force|ls -a|\n",
    "|list more details||ls -l|\n",
    "|<b>Changing Directories</b>|||\n",
    "|print working directory|pwd|pwd|\n",
    "|change directory|cd \\<path>|cd\\<path>|\n",
    "|move a dir above|cd ..|cd ..|\n",
    "|move to a home dir|cd ~|cd ~|\n",
    "|<b>Make Directories</b>|||\n",
    "||mkdir new_folder|mkdir new_folder|\n",
    "|a name of a dir with spaces|mkdir 'new dir'|mkdir 'new dir'|\n",
    "||mkdir new\\` dir\\`|mkdir new\\\\ folder\\\\|\n",
    "|<b>Command History</b>|||\n",
    "||history|history|\n",
    "||arrows up and down|arrows up and down|\n",
    "||ctrl + R|ctrl + R|\n",
    "||#||\n",
    "|<b>Wildcards</b>|||\n",
    "|any number of characters|*|*|\n",
    "|<b>Copying Files & Directories<b/>|||\n",
    "||cp \\<src> \\<dst>|cp \\<src> \\<dst>|\n",
    "|copy multiple files at once|use * in \\<source>|the same|\n",
    "|copy a dir with the contents|cp \\<src> \\<dst> -Recurse|cp -r \\<src> \\<dst>|\n",
    "|output info on the screen|-Verbose||\n",
    "|<b>Moving and Renaming Files, Directories</b>|||\n",
    "|move|mv \\<src> \\<dst>|mv \\<src> \\<dst>|\n",
    "|rename|mv src_path == dst_path|mv src_path == dst_path|\n",
    "|<b>Removing Files & Directories</b>|||\n",
    "|remove a file|rm \\<src> \\<dst>|rm \\<src> \\<dst>|\n",
    "|remove a file forcibly|rm \\<src> \\<dst> -Force| rm -f \\<src> \\<dst>|\n",
    "|remove a dir|rm \\<src> \\<dst> -Recurse|rm -r \\<src> \\<dst>|"
   ]
  },
  {
   "cell_type": "markdown",
   "id": "ad6aafd4-44a6-4dab-b438-e1ba252e5f34",
   "metadata": {},
   "source": [
    "## Supplemental Reading for Windows CLI & Unix Bash"
   ]
  },
  {
   "cell_type": "markdown",
   "id": "e30af99d-57be-4bc1-9113-a37871c2f1d0",
   "metadata": {},
   "source": [
    "For more detailed information on the modern Windows CLI, PowerShell, see the \n",
    "[official PowerShell documentation](https://docs.microsoft.com/powershell/) and the [PowerShell 101 guide](https://docs.microsoft.com/powershell/scripting/learn/ps101/00-introduction). For more on the older Windows \"Command Prompt\" CLI (cmd.exe) please see the link [here](https://docs.microsoft.com/en-us/windows-server/administration/windows-commands/windows-commands).\n",
    "\n",
    "If you want to check out more information on Bash, then click the link [here](https://www.gnu.org/software/bash/manual/bash.html)."
   ]
  },
  {
   "cell_type": "markdown",
   "id": "60d528b6-8fba-4b5a-ba58-388528e4562f",
   "metadata": {},
   "source": [
    "## List Directories"
   ]
  },
  {
   "cell_type": "markdown",
   "id": "2397652b-d72a-4e92-b08d-8eeec715b6d0",
   "metadata": {},
   "source": [
    "### Windows"
   ]
  },
  {
   "cell_type": "markdown",
   "id": "7aacc447-67df-4b42-80ba-bda528f68f8c",
   "metadata": {},
   "source": [
    "CLI - Command Line Interface\n",
    "\n",
    "- Command Prompt: cmd.exe\n",
    "- **PowerShell**: powershell.exe"
   ]
  },
  {
   "cell_type": "markdown",
   "id": "d131c590-dd2c-4a60-875e-a305857b20f8",
   "metadata": {
    "tags": []
   },
   "source": [
    "Home directory is called **parent directory** (drive C) and it has **child directories**.\n",
    "\n",
    "```powershell\n",
    "ls C:\\\n",
    "\n",
    "# show all files including hidden ones\n",
    "ls -Force C:\\\n",
    "\n",
    "# get help on the command\n",
    "Get-Help ls\n",
    "\n",
    "# get help in more detail\n",
    "Get-Help ls -Full\n",
    "```"
   ]
  },
  {
   "cell_type": "markdown",
   "id": "d9627617-80d6-4f89-b1d3-6e6956b90f93",
   "metadata": {},
   "source": [
    "### Linux"
   ]
  },
  {
   "cell_type": "markdown",
   "id": "65ca7e39-8df9-403f-9375-19d98888c775",
   "metadata": {},
   "source": [
    "Home directory is called **root directory**:\n",
    "\n",
    "```\n",
    "/home/commi/Downloads\n",
    "```\n",
    "\n",
    "```bash\n",
    "# list the files from root directory\n",
    "ls /\n",
    "\n",
    "# list more info\n",
    "ls -l /\n",
    "\n",
    "# list all files, including hidden ones\n",
    "ls -a /\n",
    "\n",
    "# you can combine flags\n",
    "ls -la /\n",
    "\n",
    "# help information\n",
    "ls --help\n",
    "\n",
    "# manual\n",
    "man ls\n",
    "```"
   ]
  },
  {
   "cell_type": "markdown",
   "id": "ac4f686e-c6ad-4e9c-ba5b-40d4d48bc24d",
   "metadata": {},
   "source": [
    "## Changing Directories"
   ]
  },
  {
   "cell_type": "markdown",
   "id": "c25b7cf6-0dab-4d9a-be85-325558354a85",
   "metadata": {},
   "source": [
    "**Absolute path** - one that starts from the main directory.\n",
    "\n",
    "**Relative path** - the path from your current directory.\n",
    "\n",
    "**Tab completion** - using `tab` button to complete the unput."
   ]
  },
  {
   "cell_type": "markdown",
   "id": "9726f461-30d0-4d4f-8574-cae8ee9da5d7",
   "metadata": {},
   "source": [
    "## Supplemental Reading for 'Size' vs 'Size of Disk' in Windows"
   ]
  },
  {
   "cell_type": "markdown",
   "id": "c7c4031c-5481-4b10-9c3e-dd6a65849b0f",
   "metadata": {},
   "source": [
    "**Windows Confidential: Just What Is ‘Size on Disk’?**\n",
    "\n",
    "[Article](https://learn.microsoft.com/en-us/previous-versions/technet-magazine/hh148159(v=msdn.10)) 08/31/2016 Raymond Chen\n",
    "\n",
    "_When you get the stats for the size of a folder, where, exactly, do those measurements come from?_\n",
    "\n",
    "When you right-click to view the properties of a folder, the property sheet includes two values: Size and Size on disk. What exactly do these values mean? What are they measuring?\n",
    "\n",
    "The property sheet performs a naïve recursive directory search for all files. It doesn’t try to filter out file names referring to the same underlying file by means of a hard link. If you don’t have access to a subdirectory, the recursive directory search will skip that subdirectory, and those files won’t be counted in the total folder size.\n",
    "\n",
    "As it turns out, the recursive directory search has some smarts. Part of it is being smart on purpose: It detects reparse points and doesn’t recurse into them. Another part is being smart by accident: Symbolic links to files count as zero size. This isn’t because the directory search code is clever about the files. It’s because the directory entry for symbolic links reports them as having zero size. Now you know what files are counted, but where do those numbers come from?\n",
    "\n",
    "**Size Matters**\n",
    "\n",
    "The Size measurement is easy: It’s a running tally of the file sizes as reported by the FindFirstFile function in the WIN32_FIND_DATA.nFileSizeLow and nFileSizeHigh. Mind you, those values aren’t necessarily accurate either because of the way the NTFS file system updates directory entries. That’s a topic for another day, but the short version is that files still being written to may not report an accurate file size until the file handle is closed. Even then, it will only update the directory entry used to open the file.\n",
    "\n",
    "The Size on disk measurement is more complicated. If the drive supports compression (as reported by the FILE_FILE_COMPRESSION flag returned by the GetVolumeInformation function) and the file is compressed or sparse (FILE_ATTRIBUTE_COMPRESSED, FILE_ATTRIBUTE_SPARSE_FILE), then the Size on disk for a file is the value reported by the GetCompressedFileSize function. This reports the compressed size of the file (if compressed) or the size of the file minus the parts that were de-committed and logically treated as zero (if sparse). If the file is neither compressed nor sparse, then the Size on disk is the file size reported by the FindFirstFile function rounded up to the nearest cluster.\n",
    "\n",
    "The Windows 95 team originally developed the Size on disk algorithm. Their view of the file system world was biased by their MS-DOS background. There the only disk file system was FAT. There was no such thing as a hard link or alternate data stream. File contents were stored in units of clusters.\n",
    "\n",
    "Those assumptions don't hold true for NTFS—not even the “file contents are stored in units of clusters” part. In NTFS, a file can actually consume zero clusters for its data by stashing itself into slack space in the master file table (MFT). (For more details on this, see “[The Four Stages of NTFS File Growth](https://blogs.technet.com/b/askcore/archive/2009/10/16/the-four-stages-of-ntfs-file-growth.aspx)”).\n",
    "\n",
    "Naturally, the Size on disk algorithm doesn’t take into account other file system overhead, like the disk space occupied by the file name itself, directory entry information, file metadata and alternate data streams.\n",
    "\n",
    "The values reported by Size and Size on disk aren’t meant to be a byte-for-byte accounting of the total impact of a directory on your disk free space. They’re just a rough estimate based on the assumption that most files are of the boring variety. By that, I mean no hard links and negligible use of alternate data streams. If you have a directory with numerous hard links—such as the Windows directory itself, for example—the values will be way off.\n",
    "\n",
    "You can use Size on disk as a sniff-test to get a rough idea of the size of a directory, but remember that it’s a naïve calculation. If you need to keep careful tabs on disk consumption, you’d be better off using a feature like Disk Quotas, whose purpose is to more intelligently track disk consumption."
   ]
  },
  {
   "cell_type": "markdown",
   "id": "7fddfc28-8e69-46ee-8113-a93577672927",
   "metadata": {
    "tags": []
   },
   "source": [
    "# <b>3.2 File and Text Manipulation</b>"
   ]
  },
  {
   "cell_type": "markdown",
   "id": "cc3b9b51-d5a8-4ca4-8831-f69913693d1a",
   "metadata": {},
   "source": [
    "<center>\n",
    "    <h2><b>Table 3.2 File and Text Manipulation</b></h2>\n",
    "\n",
    "|Purpose|PowerShell|Bash|\n",
    "|-|-|-|\n",
    "|**Display File Contents**|||\n",
    "|show the doc one at a time|cat \\<filename>|cat \\<filename>|\n",
    "|show the first 10 lines of the doc|cat \\<filename> -Head 10|head \\<filename>|\n",
    "|show the last 10 lines of the doc|cat \\<filename> -Tail 10|tail \\<filename>|\n",
    "|show page by page|more \\<filename> + space|more \\<filename> + space/arrows|\n",
    "|show line by line|more \\<filename> + Enter|more \\<filename> + Enter|\n",
    "|||less \\<filename> + arrow keys|\n",
    "|go to the beginning of the file||less \\<filename> + g key|\n",
    "|go to the end of the file||less \\<filename> + G key|\n",
    "|search for a word||less \\<filename> + /word_search|\n",
    "|quit|q|q|\n",
    "|**Find in Files**|||\n",
    "|searching within files|`sls` (string ls) or `Select-String`|`grep`|\n",
    "|searching within directories|`ls 'path' -Recurse -Filter *.file_ext`|`grep -wr '*.file_ext' path`|\n",
    "|searching in a file|`cat fname \\| sls word`|`cat fname \\| grep word`|\n",
    "|**Input, Output, and the Pipeline**|||\n",
    "|**stdin**|||\n",
    "|||`cat < fname`|\n",
    "|**stdout**|||\n",
    "|write to a new file|`echo > fname`|`echo > fname`|\n",
    "|append to the file|`echo >> fname`|`echo >> fname`|\n",
    "|combine ops|`cat fname \\| sls word > fname2`|`ls -la /etc \\| grep bluetooth > test.txt`|\n",
    "|**stderr**|||\n",
    "|save error msg to a file|`rm secure_file 2> fname`|`rm secure_file 2> fname`|\n",
    "|ignore error message|`rm secure_file 2> $null`|`rm secure_file 2> /dev/null`|\n",
    "\n",
    "`1`: stdout - the output  \n",
    "`2`: stderr - the error  \n",
    "`$null`: nowhere in PS  \n",
    "`/dev/null`: nowhere in Bash\n",
    "    \n",
    "See: `Get-Help about_redirection` in PowerShell"
   ]
  },
  {
   "cell_type": "markdown",
   "id": "4f98e6f4-a641-4d8b-b1f8-cdda81a9387e",
   "metadata": {},
   "source": [
    "## Text editors"
   ]
  },
  {
   "cell_type": "markdown",
   "id": "7a74d724-d560-4e88-89bc-474d2a3fa9f5",
   "metadata": {},
   "source": [
    "- Windows:\n",
    "    - [notepad++](https://notepad-plus-plus.org/)\n",
    "- Linux:\n",
    "    - [nano](https://www.nano-editor.org/)\n",
    "    - [vim](https://www.vim.org/)\n",
    "    - [emacs](https://www.gnu.org/software/emacs/tour/)"
   ]
  },
  {
   "cell_type": "markdown",
   "id": "81be656a-64a1-47ee-872e-6727f01cc254",
   "metadata": {
    "jp-MarkdownHeadingCollapsed": true,
    "tags": []
   },
   "source": [
    "# <b>3.3 Users, Administrators, and Groups</b>"
   ]
  },
  {
   "cell_type": "markdown",
   "id": "1f001cd2-22d9-4dad-b7a2-b943f17465ad",
   "metadata": {},
   "source": [
    "|Purpose|PowerShell|Bash|\n",
    "|-|-|-|\n",
    "|show all users|`Get-LocalUser`|`cat /etc/passwd`|\n",
    "|show current users||`w` and `who`|\n",
    "|show number of current users and load||`uptime`|\n",
    "|show user's attributes||`id <username>`|\n",
    "|show groups|`Get-LocalGroup`|`cat /etc/group`|\n",
    "|check users with administrative rights|`Get-LocalGroupMember Administrators`|`sudo cat /etc/sudoers`|\n",
    "|work as a root user||`su -` substitute user (`exit`)|\n",
    "|give a user sudo rights||`sudo usermod -aG sudo <username>`|\n",
    "|**Passwords**|||\n",
    "|change user password|`net user <name> 'password'`|`passwd <username>` (stored in `/etc/shadow`)|\n",
    "||`net user <name> *` will hide password from screen||\n",
    "|change pwd on the next logon|`net user <name> * /logonpasswordchg:yes`|`sudo passwd -e <uname>` (expire flag)|\n",
    "|**Adding\\removing users**|||\n",
    "|add a new user|`net user <uname> * /add /logonpasswordchg:yes`|`sudo useradd <name>`|\n",
    "|delete a user's account|`net user <name> /del`|`sudo userdel <name>`|\n",
    "||`Remove-LocalUser <name>`||"
   ]
  },
  {
   "cell_type": "markdown",
   "id": "9294353a-f4cc-4c93-a081-a3a30a701a19",
   "metadata": {},
   "source": [
    "## Windows GUI"
   ]
  },
  {
   "cell_type": "markdown",
   "id": "92021e34-64ec-48fb-a105-05192e23d00e",
   "metadata": {
    "execution": {
     "iopub.execute_input": "2023-08-17T13:34:19.653758Z",
     "iopub.status.busy": "2023-08-17T13:34:19.652508Z",
     "iopub.status.idle": "2023-08-17T13:34:20.959833Z",
     "shell.execute_reply": "2023-08-17T13:34:20.957787Z",
     "shell.execute_reply.started": "2023-08-17T13:34:19.653705Z"
    },
    "tags": []
   },
   "source": [
    "- Computer Management: Control Panel -> Administrative Tools -> Local Users and Groups\n",
    "\n",
    "- Add a new user: Users + right click `New user`"
   ]
  },
  {
   "cell_type": "markdown",
   "id": "1ee1bbc9-c925-4184-a545-8a2f3c1c96fd",
   "metadata": {},
   "source": [
    "## Linux"
   ]
  },
  {
   "cell_type": "code",
   "execution_count": 1,
   "id": "a705bdd6-4829-4d9b-8fb5-3708881c8ba7",
   "metadata": {
    "tags": []
   },
   "outputs": [
    {
     "name": "stdout",
     "output_type": "stream",
     "text": [
      "root:x:0:0:root:/root:/bin/bash\n"
     ]
    }
   ],
   "source": [
    "cat /etc/passwd | grep root"
   ]
  },
  {
   "cell_type": "markdown",
   "id": "ce3a680e-cedf-4758-ae33-00a2f5bb95ea",
   "metadata": {},
   "source": [
    "User `root` with password `x` (stored in another file) with index `0:0`."
   ]
  },
  {
   "cell_type": "code",
   "execution_count": 3,
   "id": "57635634-5a66-4e5e-a350-f2bdb6a6613b",
   "metadata": {
    "tags": []
   },
   "outputs": [
    {
     "name": "stdout",
     "output_type": "stream",
     "text": [
      "sudo:x:27:\n"
     ]
    }
   ],
   "source": [
    "cat /etc/group | grep sudo"
   ]
  },
  {
   "cell_type": "markdown",
   "id": "a869c2a6-41d5-4705-a0cf-9447868fde4c",
   "metadata": {},
   "source": [
    "- `x` is the group password which is the root's password by default,\n",
    "- `27` is group id."
   ]
  },
  {
   "cell_type": "markdown",
   "id": "8b45a510-9888-451c-a54b-0c0a197dd3e4",
   "metadata": {
    "tags": []
   },
   "source": [
    "## Supplemental Reading: [Selecting Secure Passwords](https://learn.microsoft.com/en-us/previous-versions/tn-archive/cc875839(v=technet.10)?redirectedfrom=MSDN)"
   ]
  },
  {
   "cell_type": "markdown",
   "id": "fbbdb8d1-cf7a-4205-b572-85ef7cfca1c0",
   "metadata": {},
   "source": [
    "### Introduction"
   ]
  },
  {
   "cell_type": "markdown",
   "id": "8a340fe9-1aa5-4d16-a518-65d666501a15",
   "metadata": {},
   "source": [
    "Although many alternatives for user authentication are available today, most users log on to their computer and remote computers using a combination of their user name and a password typed at their keyboard. There are products that use more secure technologies such as biometrics, smart cards, and one-time passwords available for all popular operating systems; but the reality is that many organizations still rely on passwords and they will continue to do so for years to come. Users often have many different computer accounts at work, for their cell phone, at their bank, with insurance companies, and so on. To make it easier to remember their passwords, users often use the same or similar passwords on each system; and given a choice, most users will select a very simple and easy-to-remember password such as their birthday, their mother's maiden name, or the name of a relative. Short and simple passwords are relatively easy for attackers to determine. Some common methods that attackers use for discovering a victim's password include:\n",
    "\n",
    "- Guessing-The attacker attempts to log on using the user's account by repeatedly guessing likely words and phrases such as their children's names, their city of birth, and local sports teams.\n",
    "\n",
    "- Online Dictionary Attack-The attacker uses an automated program that includes a text file of words. The program repeatedly attempts to log on to the target system using a different word from the text file on each try.\n",
    "\n",
    "- Offline Dictionary Attack-Similar to the online dictionary attack, the attacker gets a copy of the file where the hashed or encrypted copy of user accounts and passwords are stored and uses an automated program to determine what the password is for each account. This type of attack can be completed very quickly once the attacker has managed to get a copy of the password file.\n",
    "\n",
    "- Offline Brute Force Attack-This is a variation of the dictionary attacks, but it is designed to determine passwords that may not be included in the text file used in those attacks. Although a brute force attack can be attempted online, due to network bandwidth and latency they are usually undertaken offline using a copy of the target system's password file. In a brute force attack the attacker uses an automated program that generates hashes or encrypted values for all possible passwords and compares them to the values in the password file.\n",
    "\n",
    "Each of these attack methods can be slowed down significantly or even defeated through the use of strong passwords. Therefore, whenever possible, computer users should use strong passwords for all of their computer accounts. Computers running versions of Windows based on Microsoft Windows NT, including Windows NT 4.0, Windows 2000, Windows XP, and Windows Server 2003, support strong passwords. In Windows, a strong password is a password that includes characters from at least three of the five groups in the following Character Classes table.\n",
    "\n",
    "<center>\n",
    "<b>Character Classes</b>\n",
    "\n",
    "<div class=\"has-inner-focus\"><table aria-label=\"Table 1\" class=\"table table-sm\">\n",
    "<colgroup>\n",
    "<col>\n",
    "<col>\n",
    "</colgroup>\n",
    "<thead>\n",
    "<tr class=\"header\">\n",
    "<th><p>Group</p></th>\n",
    "<th><p>Example</p></th>\n",
    "</tr>\n",
    "</thead>\n",
    "<tbody>\n",
    "<tr class=\"odd\">\n",
    "<td><p>Lowercase letters</p></td>\n",
    "<td><p>a, b, c, ...</p></td>\n",
    "</tr>\n",
    "<tr class=\"even\">\n",
    "<td><p>Uppercase letters</p></td>\n",
    "<td><p>A, B, C, ...</p></td>\n",
    "</tr>\n",
    "<tr class=\"odd\">\n",
    "<td><p>Numerals</p></td>\n",
    "<td><p>0, 1, 2, 3, 4, 5, 6, 7, 8, 9</p></td>\n",
    "</tr>\n",
    "<tr class=\"even\">\n",
    "<td><p>Non-alphanumeric (symbols)</p></td>\n",
    "<td><p>( ) ` ~ ! @ # $ % ^ &amp; * - + = | \\ { } [ ] : ; \" ' &lt; &gt; , . ? /</p></td>\n",
    "</tr>\n",
    "<tr class=\"odd\">\n",
    "<td><p>Unicode characters</p></td>\n",
    "<td><p>€, Γ, ƒ, and λ</p></td>\n",
    "</tr>\n",
    "</tbody>\n",
    "</table></div>\n",
    "\n",
    "**Note**: Space characters do not fall under any of these five groups and do not count towards the password complexity requirements.\n",
    "\n",
    "The passwords of particularly sensitive accounts such as those used by administrators or senior executives or for running critical network services should be composed from four or even all five of these groups. On the other hand, passwords that must be used by human beings must be easily remembered; the loss of an executive or critical administrator account password could be devastating. This document describes how passwords are stored in the Windows family of operating systems and gives guidance to Administrators on how to maximize the security of their passwords.\n",
    "\n",
    "These contradictory requirements can be overcome by thinking about pass phrases rather than passwords. Every version of Windows that supports strong passwords supports the use of spaces and punctuation symbols in account passwords. For example, \"I re@lly want to buy 11 Dogs!\" is a valid pass phrase. With more than twenty characters it is a very long pass phrase, and it includes characters from 4 of the 5 possible groups. It is also easy to remember! Most password cracking tools assume the password will never exceed 14 characters, which is the limit that DOS network boot disks, Microsoft Remote Installation Services (RIS) Pre eXecutable Environment (PXE) boot disks, and older LAN Manager clients (Win9x) must utilize. Even without complexity, a very long password (>14 characters, up to 128 characters) can be the best possible protection against having an especially sensitive password broken.\n",
    "\n",
    "Note: Do not use the example passwords within this document. Although the password discussed above, \"I re@lly want to buy 11 Dogs!\", is very long and complex, attackers may add it and other sample passwords in this document to their attack tools.\n",
    "\n",
    "If administrators have legacy systems, RIS, or similar requirements to adhere to, or if they simply dislike dealing with an especially lengthy password, using a shorter password with complex characters offers good protection. However, keep in mind the longer the password the more difficult it is to break. And \n",
    "\n",
    "> adding both complexity and length makes it the most difficult of all to break. \n",
    "\n",
    "Establishing password policies for your organization will help to protect your users from attackers who try to impersonate them, thereby protecting your organization from the loss, exposure, or corruption of sensitive information.\n",
    "\n",
    "This document explains how passwords are stored in the Windows family of operating systems, gives guidance to administrators on how to maximize the security of their passwords, and explains to users how to create new passwords that meet the complexity requirements and are still easy to remember.\n",
    "\n",
    "The document includes information and guidance on the following topics:\n",
    "\n",
    "- Additional details about password cracking.\n",
    "\n",
    "- How Windows stores passwords including information about LAN Manager (LM) hashes and NTLM hashes.\n",
    "\n",
    "- Description of Unicode characters and using Unicode characters by entering ALT key combinations.\n",
    "\n",
    "- Requirements for legacy systems such as Windows 98.\n",
    "\n",
    "- Establishing a password policy for your organization.\n",
    "\n",
    "- Communicating password complexity to end users, which includes text that is ready for you to customize and forward to the people who work in your organization.\n",
    "\n",
    "- Resources for additional information including links to Web sites with related information that may help you to establish strong password policies in your organization."
   ]
  },
  {
   "cell_type": "markdown",
   "id": "771c6864-2870-4676-abda-3ca530b0f5fb",
   "metadata": {},
   "source": [
    "### Before You Begin"
   ]
  },
  {
   "cell_type": "markdown",
   "id": "e3ea57dc-9413-48ed-aa85-a85bd59f548f",
   "metadata": {},
   "source": [
    "Before proceeding with the discussion of password policy creation it is important that you have a solid understanding of how password hashes are created and stored by the Windows operating system family. It will also be helpful for you to fully understand other concepts related to password complexity such as entropy, Unicode characters, and ALT characters."
   ]
  },
  {
   "cell_type": "markdown",
   "id": "8b09784d-31d4-4a1f-a8f7-7229eeb8cba4",
   "metadata": {},
   "source": [
    "### Password Storage in Windows"
   ]
  },
  {
   "cell_type": "markdown",
   "id": "7159c0fc-d439-4cf0-b480-620409ac0fcb",
   "metadata": {},
   "source": [
    "By default, Windows NT 4.0, Windows 2000, Windows XP, and Windows Server 2003 never store user passwords in plaintext. Instead, passwords are stored using two different password representations, commonly called \"**hashes**.\" The first, the **LAN Manager (LM) hash**, is much less secure than the second, the **NTLM hash**. The reason for storing both representations is for backward compatibility with older applications and operating systems such as Windows 98."
   ]
  },
  {
   "cell_type": "markdown",
   "id": "fa2242df-26ac-44b2-a61a-948fa9abfa8c",
   "metadata": {},
   "source": [
    "#### The LAN Manager (LM) Hash"
   ]
  },
  {
   "cell_type": "markdown",
   "id": "252529f8-621f-4ccd-9be9-8fcff7c6d85b",
   "metadata": {},
   "source": [
    "The LM hash is technically speaking not a hash at all. It is computed as follows:\n",
    "\n",
    "- Convert all lowercase characters in the password to uppercase\n",
    "\n",
    "- Pad the password with NULL characters until it is exactly 14 characters long\n",
    "\n",
    "- Split the password into two 7 character chunks\n",
    "\n",
    "- Use each chunk separately as a DES key to encrypt a specific string\n",
    "\n",
    "- Concatenate the two cipher texts into a 128-bit string and store the result\n",
    "\n",
    "As a result of the algorithm used to generate the LM hash, the hash is very easy to break. First, even a password longer than 8 characters can be attacked in two discrete chunks. Second, the entire lowercase character set can be ignored. This means that most password cracking tools will start by cracking the LM hashes and then simply vary the alpha characters in the cracked password to generate the case-sensitive passwords. Note that in order to log on to a computer running Windows 2000, whether remotely or locally, you will need to use the case-preserved password."
   ]
  },
  {
   "cell_type": "markdown",
   "id": "819f30ec-8d1a-4f4b-8dfb-75e048e090c7",
   "metadata": {},
   "source": [
    "#### The NTLM Hash"
   ]
  },
  {
   "cell_type": "markdown",
   "id": "744039c5-144b-4bd0-a5fc-d0f0e56fd72f",
   "metadata": {},
   "source": [
    "The NTLM hash is also known as the **Unicode hash** because it supports the full Unicode character set. The NTLM hash is calculated by taking the plain text password and generating a **Message Digest 4 (MD4) hash** of it. The MD4 hash is what is actually stored in either the **Active Directory database** or the local **Security Accounts Manager (SAM) database**. The NTLM hash is much more resistant to brute force attacks than the LM hash. Brute forcing an NTLM hash takes several orders of magnitude longer than brute forcing the NTLM hash of the same password."
   ]
  },
  {
   "cell_type": "markdown",
   "id": "66a6d64e-1e98-45d9-99b8-1c7b0695f5f0",
   "metadata": {},
   "source": [
    "### Entropy"
   ]
  },
  {
   "cell_type": "markdown",
   "id": "3ab161b8-8f70-4266-914c-2afa71f920ff",
   "metadata": {},
   "source": [
    "Entropy is a measure of disorder in a system. The level of entropy in a password is determined by how random it is in terms of the range and order of characters in it. When selecting a password that is resistant to cracking, it is important that you carefully pick your entropy and where it appears in the password. Most brute force password cracking tools start out by search for alphanumeric characters and symbols present on most keyboards such as ` ~ ! @ # $ % ^ & * ( ) _ - + = (sometimes called the \"upper row symbols\" because they appear on the top row of most U.S. keyboards). With that knowledge you can make a password more resistant to cracking by using different symbols such as these: [ ] { } < >. You increase their resistance to cracking even further by using ALT key combinations. \n",
    "\n",
    "> Note that due to the way LM hashes are created, putting a symbol as the only entropy in the eighth position of an eight character password only has a small impact on password complexity. For maximum entropy and complexity, non-alphanumeric characters need to be present throughout the password."
   ]
  },
  {
   "cell_type": "markdown",
   "id": "71b3101d-ae04-4e21-8020-ab56e6a6f880",
   "metadata": {},
   "source": [
    "### Using Unicode Characters in ALT Key Combinations"
   ]
  },
  {
   "cell_type": "markdown",
   "id": "f4613ff9-fbc0-4192-a559-1af980bf6f6a",
   "metadata": {},
   "source": [
    "Most users should have no problem finding pass phrases that they can easily remember, but for particularly sensitive accounts such as those with domain administrator privileges it is highly recommended that Unicode characters are included in the passwords using ALT key combinations. These are characters that do not appear on standard U.S. keyboards. You enter them by holding down the `ALT` key (or the `FN` and the `ALT` key on most laptop computers) and typing a three- or four-digit number on the numeric keypad (the numeric overlay keypad on a laptop computer).\n",
    "\n",
    "The use of these types of characters greatly strengthens passwords in two ways: \n",
    "\n",
    "- First, password cracking tools are often unable to test the vast majority of these types of characters. \n",
    "- Second, the use of these characters greatly increases the range of characters that may appear in your password, which strengthens the potential complexity of the password by many orders of magnitude. \n",
    "\n",
    "When using ALT key combinations it is very important that you remember the leading zero, if present, because leaving the zero off results in a different character. For example, `ALT+128` is `Ç`, while `ALT+0128` is `€`. The rest of this section focuses on four digit codes, which access the entire Unicode character set, and ignore the three digit codes, which only access the extended ASCII character set.\n",
    "\n",
    "The following table lists the numerical values that can be used as ALT key combinations. Recommended values are between 0128 and 1024. Each cell in the table below shows either a single value or a range of values. For example, the first cell shows \"0128-0159.\" This means that you could use any value between 0128 and 0159, such as ALT+0135, which corresponds to the Unicode character \"‡\".\n",
    "\n",
    "<center>\n",
    "<b>Recommended ALT Code to Use for ALT Key Combinations</b>\n",
    "\n",
    "<div class=\"has-inner-focus\"><table aria-label=\"Table 2\" class=\"table table-sm\">\n",
    "<colgroup>\n",
    "<col>\n",
    "<col>\n",
    "<col>\n",
    "<col>\n",
    "</colgroup>\n",
    "<tbody>\n",
    "<tr class=\"odd\">\n",
    "<td><p>0128-0159</p></td>\n",
    "<td><p>0306-0307</p></td>\n",
    "<td><p>0312</p></td>\n",
    "<td><p>0319-0320</p></td>\n",
    "</tr>\n",
    "<tr class=\"even\">\n",
    "<td><p>0329-0331</p></td>\n",
    "<td><p>0383</p></td>\n",
    "<td><p>0385-0406</p></td>\n",
    "<td><p>0408-0409</p></td>\n",
    "</tr>\n",
    "<tr class=\"odd\">\n",
    "<td><p>0411-0414</p></td>\n",
    "<td><p>0418-0424</p></td>\n",
    "<td><p>0426</p></td>\n",
    "<td><p>0428-0429</p></td>\n",
    "</tr>\n",
    "<tr class=\"even\">\n",
    "<td><p>0433-0437</p></td>\n",
    "<td><p>0439-0447</p></td>\n",
    "<td><p>0449-0450</p></td>\n",
    "<td><p>0452-0460</p></td>\n",
    "</tr>\n",
    "<tr class=\"odd\">\n",
    "<td><p>0477</p></td>\n",
    "<td><p>0480-0483</p></td>\n",
    "<td><p>0494-0495</p></td>\n",
    "<td><p>0497-0608</p></td>\n",
    "</tr>\n",
    "<tr class=\"even\">\n",
    "<td><p>0610-0631</p></td>\n",
    "<td><p>0633-0696</p></td>\n",
    "<td><p>0699</p></td>\n",
    "<td><p>0701-0707</p></td>\n",
    "</tr>\n",
    "<tr class=\"odd\">\n",
    "<td><p>0709</p></td>\n",
    "<td><p>0711</p></td>\n",
    "<td><p>0716</p></td>\n",
    "<td><p>0718-0729</p></td>\n",
    "</tr>\n",
    "<tr class=\"even\">\n",
    "<td><p>0731</p></td>\n",
    "<td><p>0733-0767</p></td>\n",
    "<td><p>0773-0775</p></td>\n",
    "<td><p>0777</p></td>\n",
    "</tr>\n",
    "<tr class=\"odd\">\n",
    "<td><p>0779-0781</p></td>\n",
    "<td><p>0783-0806</p></td>\n",
    "<td><p>0808-0816</p></td>\n",
    "<td><p>0819-0893</p></td>\n",
    "</tr>\n",
    "<tr class=\"even\">\n",
    "<td><p>0895-0912</p></td>\n",
    "<td><p>0914</p></td>\n",
    "<td><p>0918-0919</p></td>\n",
    "<td><p>0921-0927</p></td>\n",
    "</tr>\n",
    "<tr class=\"odd\">\n",
    "<td><p>0929-0930</p></td>\n",
    "<td><p>0933</p></td>\n",
    "<td><p>0935-0936</p></td>\n",
    "<td><p>0938-0944</p></td>\n",
    "</tr>\n",
    "<tr class=\"even\">\n",
    "<td><p>0947</p></td>\n",
    "<td><p>0950-0955</p></td>\n",
    "<td><p>0957-0959</p></td>\n",
    "<td><p>0961-0962</p></td>\n",
    "</tr>\n",
    "<tr class=\"odd\">\n",
    "<td><p>0965</p></td>\n",
    "<td><p>0967-1024</p></td>\n",
    "<td><p>&nbsp;</p></td>\n",
    "<td><p>&nbsp;</p></td>\n",
    "</tr>\n",
    "</tbody>\n",
    "</table></div> \n",
    "\n",
    "Not all Unicode characters increase password complexity because they are automatically converted to ASCII characters, resulting in a weakened password instead. The following table shows character codes that should not be used in a password and the ASCII character to which they are converted.\n",
    "\n",
    "<center>\n",
    "<b>ALT Code Not to Use for ALT Key Combinations</b>\n",
    "\n",
    "<div class=\"has-inner-focus\"><table aria-label=\"Table 3\" class=\"table table-sm\">\n",
    "<colgroup>\n",
    "<col>\n",
    "<col>\n",
    "<col>\n",
    "</colgroup>\n",
    "<thead>\n",
    "<tr class=\"header\">\n",
    "<th><p>ALT Code</p></th>\n",
    "<th><p>Unicode Character</p></th>\n",
    "<th><p>Resulting Character</p></th>\n",
    "</tr>\n",
    "</thead>\n",
    "<tbody>\n",
    "<tr class=\"odd\">\n",
    "<td><p>0175</p></td>\n",
    "<td><p>¯</p></td>\n",
    "<td><p>_</p></td>\n",
    "</tr>\n",
    "<tr class=\"even\">\n",
    "<td><p>0190</p></td>\n",
    "<td><p>¾</p></td>\n",
    "<td><p>_</p></td>\n",
    "</tr>\n",
    "<tr class=\"odd\">\n",
    "<td><p>0222</p></td>\n",
    "<td><p>Þ</p></td>\n",
    "<td><p>_</p></td>\n",
    "</tr>\n",
    "<tr class=\"even\">\n",
    "<td><p>0254</p></td>\n",
    "<td><p>þ</p></td>\n",
    "<td><p>_</p></td>\n",
    "</tr>\n",
    "<tr class=\"odd\">\n",
    "<td><p>0101</p></td>\n",
    "<td><p>e</p></td>\n",
    "<td><p>E</p></td>\n",
    "</tr>\n",
    "<tr class=\"even\">\n",
    "<td><p>0200</p></td>\n",
    "<td><p>È</p></td>\n",
    "<td><p>E</p></td>\n",
    "</tr>\n",
    "<tr class=\"odd\">\n",
    "<td><p>0202</p></td>\n",
    "<td><p>Ê</p></td>\n",
    "<td><p>E</p></td>\n",
    "</tr>\n",
    "<tr class=\"even\">\n",
    "<td><p>0203</p></td>\n",
    "<td><p>Ë</p></td>\n",
    "<td><p>E</p></td>\n",
    "</tr>\n",
    "<tr class=\"odd\">\n",
    "<td><p>0232</p></td>\n",
    "<td><p>è</p></td>\n",
    "<td><p>E</p></td>\n",
    "</tr>\n",
    "<tr class=\"even\">\n",
    "<td><p>0234</p></td>\n",
    "<td><p>ê</p></td>\n",
    "<td><p>E</p></td>\n",
    "</tr>\n",
    "<tr class=\"odd\">\n",
    "<td><p>0235</p></td>\n",
    "<td><p>ë</p></td>\n",
    "<td><p>E</p></td>\n",
    "</tr>\n",
    "<tr class=\"even\">\n",
    "<td><p>0100</p></td>\n",
    "<td><p>d</p></td>\n",
    "<td><p>D</p></td>\n",
    "</tr>\n",
    "<tr class=\"odd\">\n",
    "<td><p>0208</p></td>\n",
    "<td><p>Ð</p></td>\n",
    "<td><p>D</p></td>\n",
    "</tr>\n",
    "<tr class=\"even\">\n",
    "<td><p>0240</p></td>\n",
    "<td><p>ð</p></td>\n",
    "<td><p>D</p></td>\n",
    "</tr>\n",
    "<tr class=\"odd\">\n",
    "<td><p>0117</p></td>\n",
    "<td><p>u</p></td>\n",
    "<td><p>U</p></td>\n",
    "</tr>\n",
    "<tr class=\"even\">\n",
    "<td><p>0217</p></td>\n",
    "<td><p>Ù</p></td>\n",
    "<td><p>U</p></td>\n",
    "</tr>\n",
    "<tr class=\"odd\">\n",
    "<td><p>0218</p></td>\n",
    "<td><p>Ú</p></td>\n",
    "<td><p>U</p></td>\n",
    "</tr>\n",
    "<tr class=\"even\">\n",
    "<td><p>0219</p></td>\n",
    "<td><p>Û</p></td>\n",
    "<td><p>U</p></td>\n",
    "</tr>\n",
    "<tr class=\"odd\">\n",
    "<td><p>0249</p></td>\n",
    "<td><p>ù</p></td>\n",
    "<td><p>U</p></td>\n",
    "</tr>\n",
    "<tr class=\"even\">\n",
    "<td><p>0250</p></td>\n",
    "<td><p>ú</p></td>\n",
    "<td><p>U</p></td>\n",
    "</tr>\n",
    "<tr class=\"odd\">\n",
    "<td><p>0251</p></td>\n",
    "<td><p>û</p></td>\n",
    "<td><p>U</p></td>\n",
    "</tr>\n",
    "<tr class=\"even\">\n",
    "<td><p>0192</p></td>\n",
    "<td><p>À</p></td>\n",
    "<td><p>A</p></td>\n",
    "</tr>\n",
    "<tr class=\"odd\">\n",
    "<td><p>0193</p></td>\n",
    "<td><p>Á</p></td>\n",
    "<td><p>A</p></td>\n",
    "</tr>\n",
    "<tr class=\"even\">\n",
    "<td><p>0194</p></td>\n",
    "<td><p>Â</p></td>\n",
    "<td><p>A</p></td>\n",
    "</tr>\n",
    "<tr class=\"odd\">\n",
    "<td><p>0195</p></td>\n",
    "<td><p>Ã</p></td>\n",
    "<td><p>A</p></td>\n",
    "</tr>\n",
    "<tr class=\"even\">\n",
    "<td><p>0224</p></td>\n",
    "<td><p>à</p></td>\n",
    "<td><p>A</p></td>\n",
    "</tr>\n",
    "<tr class=\"odd\">\n",
    "<td><p>0225</p></td>\n",
    "<td><p>á</p></td>\n",
    "<td><p>A</p></td>\n",
    "</tr>\n",
    "<tr class=\"even\">\n",
    "<td><p>0226</p></td>\n",
    "<td><p>â</p></td>\n",
    "<td><p>A</p></td>\n",
    "</tr>\n",
    "<tr class=\"odd\">\n",
    "<td><p>0227</p></td>\n",
    "<td><p>ã</p></td>\n",
    "<td><p>A</p></td>\n",
    "</tr>\n",
    "<tr class=\"even\">\n",
    "<td><p>0065</p></td>\n",
    "<td><p>A</p></td>\n",
    "<td><p>A</p></td>\n",
    "</tr>\n",
    "<tr class=\"odd\">\n",
    "<td><p>0114</p></td>\n",
    "<td><p>r</p></td>\n",
    "<td><p>R</p></td>\n",
    "</tr>\n",
    "<tr class=\"even\">\n",
    "<td><p>0174</p></td>\n",
    "<td><p>®</p></td>\n",
    "<td><p>R</p></td>\n",
    "</tr>\n",
    "<tr class=\"odd\">\n",
    "<td><p>0121</p></td>\n",
    "<td><p>y</p></td>\n",
    "<td><p>Y</p></td>\n",
    "</tr>\n",
    "<tr class=\"even\">\n",
    "<td><p>0221</p></td>\n",
    "<td><p>Ý</p></td>\n",
    "<td><p>Y</p></td>\n",
    "</tr>\n",
    "<tr class=\"odd\">\n",
    "<td><p>0253</p></td>\n",
    "<td><p>ý</p></td>\n",
    "<td><p>Y</p></td>\n",
    "</tr>\n",
    "<tr class=\"even\">\n",
    "<td><p>0255</p></td>\n",
    "<td><p>ÿ</p></td>\n",
    "<td><p>Y</p></td>\n",
    "</tr>\n",
    "<tr class=\"odd\">\n",
    "<td><p>0120</p></td>\n",
    "<td><p>x</p></td>\n",
    "<td><p>X</p></td>\n",
    "</tr>\n",
    "<tr class=\"even\">\n",
    "<td><p>0215</p></td>\n",
    "<td><p>×</p></td>\n",
    "<td><p>X</p></td>\n",
    "</tr>\n",
    "<tr class=\"odd\">\n",
    "<td><p>0111</p></td>\n",
    "<td><p>o</p></td>\n",
    "<td><p>O</p></td>\n",
    "</tr>\n",
    "<tr class=\"even\">\n",
    "<td><p>0210</p></td>\n",
    "<td><p>Ò</p></td>\n",
    "<td><p>O</p></td>\n",
    "</tr>\n",
    "<tr class=\"odd\">\n",
    "<td><p>0211</p></td>\n",
    "<td><p>Ó</p></td>\n",
    "<td><p>O</p></td>\n",
    "</tr>\n",
    "<tr class=\"even\">\n",
    "<td><p>0212</p></td>\n",
    "<td><p>Ô</p></td>\n",
    "<td><p>O</p></td>\n",
    "</tr>\n",
    "<tr class=\"odd\">\n",
    "<td><p>0213</p></td>\n",
    "<td><p>Õ</p></td>\n",
    "<td><p>O</p></td>\n",
    "</tr>\n",
    "<tr class=\"even\">\n",
    "<td><p>0216</p></td>\n",
    "<td><p>Ø</p></td>\n",
    "<td><p>O</p></td>\n",
    "</tr>\n",
    "<tr class=\"odd\">\n",
    "<td><p>0242</p></td>\n",
    "<td><p>ò</p></td>\n",
    "<td><p>O</p></td>\n",
    "</tr>\n",
    "<tr class=\"even\">\n",
    "<td><p>0243</p></td>\n",
    "<td><p>ó</p></td>\n",
    "<td><p>O</p></td>\n",
    "</tr>\n",
    "<tr class=\"odd\">\n",
    "<td><p>0244</p></td>\n",
    "<td><p>ô</p></td>\n",
    "<td><p>O</p></td>\n",
    "</tr>\n",
    "<tr class=\"even\">\n",
    "<td><p>0245</p></td>\n",
    "<td><p>õ</p></td>\n",
    "<td><p>O</p></td>\n",
    "</tr>\n",
    "<tr class=\"odd\">\n",
    "<td><p>0248</p></td>\n",
    "<td><p>ø</p></td>\n",
    "<td><p>O</p></td>\n",
    "</tr>\n",
    "<tr class=\"even\">\n",
    "<td><p>0105</p></td>\n",
    "<td><p>i</p></td>\n",
    "<td><p>I</p></td>\n",
    "</tr>\n",
    "<tr class=\"odd\">\n",
    "<td><p>0204</p></td>\n",
    "<td><p>Ì</p></td>\n",
    "<td><p>I</p></td>\n",
    "</tr>\n",
    "<tr class=\"even\">\n",
    "<td><p>0205</p></td>\n",
    "<td><p>Í</p></td>\n",
    "<td><p>I</p></td>\n",
    "</tr>\n",
    "<tr class=\"odd\">\n",
    "<td><p>0206</p></td>\n",
    "<td><p>Î</p></td>\n",
    "<td><p>I</p></td>\n",
    "</tr>\n",
    "<tr class=\"even\">\n",
    "<td><p>0207</p></td>\n",
    "<td><p>Ï</p></td>\n",
    "<td><p>I</p></td>\n",
    "</tr>\n",
    "<tr class=\"odd\">\n",
    "<td><p>0236</p></td>\n",
    "<td><p>ì</p></td>\n",
    "<td><p>I</p></td>\n",
    "</tr>\n",
    "<tr class=\"even\">\n",
    "<td><p>0237</p></td>\n",
    "<td><p>í</p></td>\n",
    "<td><p>I</p></td>\n",
    "</tr>\n",
    "<tr class=\"odd\">\n",
    "<td><p>0238</p></td>\n",
    "<td><p>î</p></td>\n",
    "<td><p>I</p></td>\n",
    "</tr>\n",
    "<tr class=\"even\">\n",
    "<td><p>0239</p></td>\n",
    "<td><p>ï</p></td>\n",
    "<td><p>I</p></td>\n",
    "</tr>\n",
    "<tr class=\"odd\">\n",
    "<td><p>0169</p></td>\n",
    "<td><p>©</p></td>\n",
    "<td><p>C</p></td>\n",
    "</tr>\n",
    "<tr class=\"even\">\n",
    "<td><p>0099</p></td>\n",
    "<td><p>c</p></td>\n",
    "<td><p>C</p></td>\n",
    "</tr>\n",
    "</tbody>\n",
    "</table></div>"
   ]
  },
  {
   "cell_type": "markdown",
   "id": "c87a3ddd-d684-486a-be30-6fd43060862d",
   "metadata": {},
   "source": [
    "### Password Age and Reuse"
   ]
  },
  {
   "cell_type": "markdown",
   "id": "a0969030-7d3f-4d96-b11a-ceee660bf9d0",
   "metadata": {},
   "source": [
    "Users should also change their passwords frequently. Even though long and strong passwords are much more difficult to break than short and simple ones, they can still be cracked. An attacker who has enough time and computing power at his disposal can eventually break any password. In general, passwords should be changed within 42 days, and old passwords should never be reused."
   ]
  },
  {
   "cell_type": "markdown",
   "id": "e3189954-2686-4de7-8310-f19e51bc182b",
   "metadata": {},
   "source": [
    "### Developing a Password Policy for Your Organization"
   ]
  },
  {
   "cell_type": "markdown",
   "id": "fd06bb16-065b-4b19-9c06-c265a9e0d884",
   "metadata": {},
   "source": [
    "This section provides the following step-by-step instructions for enhancing security by creating and communicating a password policy for your organization.\n",
    "\n",
    "- Identifying what computer operating systems are present on your organization's network\n",
    "\n",
    "- Understanding what the limitations are for those operating systems\n",
    "\n",
    "- Defining what the technical requirements for passwords will be on your organization's network.\n",
    "\n",
    "- Determining how much formality is appropriate regarding the documentation and communication of the password policy for your organization\n",
    "\n",
    "- Documenting the password policy in writing\n",
    "\n",
    "- Communicating the password policy to the users before implementing it on your systems\n",
    "\n",
    "- Implementing the password policy on your organization's computer systems\n",
    "\n",
    "- Reminding users on an ongoing basis about importance of observing the password policy and other corporate security policies."
   ]
  },
  {
   "cell_type": "markdown",
   "id": "993a80cf-cbc5-4f7b-b0a9-c3acb1a45bc3",
   "metadata": {},
   "source": [
    "#### Identifying Existing Operating Systems"
   ]
  },
  {
   "cell_type": "markdown",
   "id": "97bd8f08-2438-4702-8d52-518f6ca95e75",
   "metadata": {},
   "source": [
    "In order to specify password policies that will not cause problems for any users logging on to computers in your organization you need to know what operating systems they are using. It is possible that you already know exactly what operating systems are in use on your network. If you don't then you need to find out. You do not need to know how many of each, you do not need to create a precise inventory of all the systems on your network at this time. To be able to design a suitable password policy you only need to know if there are any legacy systems present. Computers running Windows 95, Windows 98, or Windows Millennium Edition are the legacy operating systems that you are most likely to encounter on your network.\n",
    "\n",
    "To identify what computer operating systems are in use on your organization's network you can ask your users to check which version they are running for you, or you can walk up to each computer and check yourself. Regardless of who does the checking, this is the process:\n",
    "\n",
    "- Click `Start`, and then click `Run`.\n",
    "\n",
    "- In Open, type `winver.exe`, and then click `OK`. The version number is displayed in the `About` Windows dialog box."
   ]
  },
  {
   "cell_type": "markdown",
   "id": "32043e14-1370-49eb-8e47-349cefe673a1",
   "metadata": {},
   "source": [
    "#### Understanding the Limitations of Some Operating Systems"
   ]
  },
  {
   "cell_type": "markdown",
   "id": "f1408793-b431-44f1-ab36-fb76b4452e22",
   "metadata": {},
   "source": [
    "As explained earlier, computers running Windows NT 4.0, Windows 2000, Windows XP, and Windows Server 2003 all support long and strong passwords. Computers running Windows 95, Windows 98, and Windows Millennium Edition do not. If any of the computers on your network are running any of these versions of Windows, then your password policy will have to accommodate these computers.\n",
    "\n",
    "For organization that include computers running Windows 95, Windows 98, or Windows Millennium Edition, then the user passwords cannot be longer than 14 characters and cannot include characters generated through ALT key combinations.\n",
    "\n",
    "If all computers in your organization are running Windows NT 4.0, Windows 2000, Windows XP, or Windows Server 2003, then user passwords can be up to 128 characters long and those passwords can include characters generated through ALT key combinations."
   ]
  },
  {
   "cell_type": "markdown",
   "id": "17437d32-4d24-4118-b324-32ebc26c075a",
   "metadata": {},
   "source": [
    "#### Defining Technical Requirements for Passwords"
   ]
  },
  {
   "cell_type": "markdown",
   "id": "af597f86-2fdc-45ec-8180-9e821868ebf2",
   "metadata": {},
   "source": [
    "For computers running Windows 2000, Windows XP, and Windows Server 2003, you can enforce up to five settings related to password characteristics.\n",
    "\n",
    "In this step, we provide you with the setting definitions and our recommendation for these settings. You will decide what values your organization will enforce.\n",
    "\n",
    "<center>\n",
    "    <b>Technical Requirements for Passwords</b>\n",
    "\n",
    "<div class=\"has-inner-focus\"><table aria-label=\"Table 4\" class=\"table table-sm\">\n",
    "<colgroup>\n",
    "<col>\n",
    "<col>\n",
    "<col>\n",
    "</colgroup>\n",
    "<thead>\n",
    "<tr class=\"header\">\n",
    "<th><p>Setting</p></th>\n",
    "<th><p>Description</p></th>\n",
    "<th><p>Recommendation</p></th>\n",
    "</tr>\n",
    "</thead>\n",
    "<tbody>\n",
    "<tr class=\"odd\">\n",
    "<td><p><strong>Enforce password history</strong></p></td>\n",
    "<td><p>Determines the number of unique new passwords a user must use before an old password can be reused. It can be set between 0 and 24; if set to 0, then enforce password history is disabled.</p></td>\n",
    "<td><p>For most organizations, set to 24 passwords remembered.</p></td>\n",
    "</tr>\n",
    "<tr class=\"even\">\n",
    "<td><p><strong>Maximum password age</strong></p></td>\n",
    "<td><p>Determines how many days a password can be used before the user is required to change it. It can be set between 0 and 999; if set to 0, then passwords never expire. Setting this too low may cause a great deal of frustration for your users, setting it too high or disabling it will give potential attackers more time to try to break users' passwords.</p></td>\n",
    "<td><p>For most organizations, set to 42 days.</p></td>\n",
    "</tr>\n",
    "<tr class=\"odd\">\n",
    "<td><p><strong>Minimum password age</strong></p></td>\n",
    "<td><p>Determines how many days a user must keep their new password before they can change it. This setting is designed to work with the <strong>Enforce password history</strong> setting so that users cannot quickly reset their password 24 times and then change their password back to the old password. It can be set between 0 and 999; if set to 0, then users will be able to immediately change their password right after changing it.</p></td>\n",
    "<td><p>For most organizations, set to 2 days.</p></td>\n",
    "</tr>\n",
    "<tr class=\"even\">\n",
    "<td><p><strong>Minimum password length</strong></p></td>\n",
    "<td><p>Determines how short passwords can be. Although computers running Windows 2000, Windows XP, and Windows Server 2003 support passwords up to 128 characters, this setting can only be set between 0 and 14 characters. If it is set to 0, then users are allowed to have blank passwords; this value should never be used.</p></td>\n",
    "<td><p>Set to 8 characters.</p></td>\n",
    "</tr>\n",
    "<tr class=\"odd\">\n",
    "<td><p><strong>Passwords must meet complexity requirements</strong></p></td>\n",
    "<td><p>Determines whether or not password complexity is enforced.<br>\n",
    "When this setting is enabled user passwords will have the following requirements:<br>\n",
    "</p>\n",
    "<ul>\n",
    "<li><p>The password is at least six characters long.</p></li>\n",
    "<li><p>The password contains characters from three of the following five categories: English uppercase characters (A - Z); English lowercase characters (a - z); base 10 digits (0 - 9); non - alphanumeric (For example: !, $, #, or %); Unicode characters.</p></li>\n",
    "<li><p>The password does not contain three or more characters from the user's account name. If the account name is less than three characters long then this check is not performed because the rate at which passwords would be rejected would be too high. When checking against the user's full name several characters are treated as delimiters that separate the name into individual tokens: commas, periods, dashes/hyphens, underscores, spaces, pound-signs and tabs. For each token that is three or more characters long, that token is searched for in the password, and if it is present, the password change is rejected. For example, the name \"Erin M. Hagens\" would be split into three tokens: \"Erin,\" \"M,\" and \"Hagens.\" Since the second token is only one character long it would be ignored. Therefore, this user could not have a password that included either \"erin\" or \"hagens\" as a substring anywhere in the password. All of these checks are case insensitive.</p></li>\n",
    "</ul></td>\n",
    "<td><p>Enable this setting.</p></td>\n",
    "</tr>\n",
    "</tbody>\n",
    "</table></div>"
   ]
  },
  {
   "cell_type": "markdown",
   "id": "4b4f0b44-1dd7-4918-9804-4c3d4c3d9d77",
   "metadata": {},
   "source": [
    "#### Documenting Your Organization's Password Policy"
   ]
  },
  {
   "cell_type": "markdown",
   "id": "ba465ff6-75f1-44e0-9aba-a0974a9315d0",
   "metadata": {},
   "source": [
    "Next, you need to decide how formal you want to be when documenting your organization's password policy.\n",
    "\n",
    "At a minimum, write down the settings that will be enforced on the computers in your organization's network.\n",
    "\n",
    "Some organizations may want to record the policy in a formal policy statement. If you feel that this level of formality is suitable for your organization, you may want to take a look at the links to sample policies that appear in \"Related Information\" later in this document.\n",
    "\n",
    "Some organizations may have regulatory requirements for documenting these sorts of corporate policies. If you believe that your organization has regulatory requirements, you ought to have the policy reviewed by your organization's legal counsel before implementing it and communicating it to your users."
   ]
  },
  {
   "cell_type": "markdown",
   "id": "ec555738-a6bc-43f0-9790-3dac8fe370d6",
   "metadata": {},
   "source": [
    "### Communicating the Password Policy to Users"
   ]
  },
  {
   "cell_type": "markdown",
   "id": "0f2f5306-3014-4cb8-9681-e8bb41905864",
   "metadata": {},
   "source": [
    "Any important policy change needs to be clearly communicated to the people who work at your organization. When changing or implementing password policies, it is extremely important that you clearly explain to the people impacted what you are doing and why."
   ]
  },
  {
   "cell_type": "markdown",
   "id": "7b37e2b2-1a31-4613-b289-fbb3c9cf5826",
   "metadata": {},
   "source": [
    "#### Sample Password Policy for Your Use"
   ]
  },
  {
   "cell_type": "markdown",
   "id": "75faf909-a700-4560-9369-b56c15fbdf32",
   "metadata": {},
   "source": [
    "The following text is designed for you to copy and distribute to the people you work with. Although it is ready for use as is, you may want to change specific terms to better match your own needs and specific password policy requirements.\n",
    "\n",
    "You will notice that this sample text does not discuss or recommend the use of ALT key combinations; this is because their use may be too demanding for many users. ALT key combination use is recommended for technically savvy users who have powerful or sensitive accounts, such as administrators.\n",
    "\n",
    "To organization members:\n",
    "\n",
    "Weak and blank passwords are one of the easiest ways for attackers to break into your computer and our organization's network. Passwords that are used for years at a time, or passwords that are reused frequently, are also much more likely to be discovered by an attacker.\n",
    "\n",
    "To increase the protection of your account on the network, you are required to use strong passwords when accessing corporate computer systems. You will be required to change your password periodically, and you will be required to use passwords that do not match your previous passwords.\n",
    "\n",
    "A strong password is a password that is at least eight characters long and uses characters from three of the five following groups:\n",
    "\n",
    "- Lowercase letters\n",
    "- Uppercase letters\n",
    "- Numbers (for instance, 1, 2, 3)\n",
    "- Symbols (for instance, @, =, -, and so on)\n",
    "- Unicode characters\n",
    "\n",
    "Your passwords will also not be able to contain three or more consecutive letters from your user account name. You will be required to change your password every 42 days, and you will not be able to reuse passwords.\n",
    "\n",
    "When you change your password, your new password will automatically be checked for complexity and it will be compared to your previous passwords. This may sound like a frustrating situation and you may be tempted to write down your password and paste it to your desk, computer monitor, or some other easily accessed location. However, the moment you do that you are exposing your computer and our entire organization to tremendous risk as anyone could walk up to your computer and log on to the network using your credentials. Therefore, never write down your passwords. Instead, create passwords that are easy to remember.\n",
    "\n",
    "Below you'll find some more background information about password security as well as specific advice on how to create strong passwords that are easy to remember.\n",
    "\n",
    "**Using Pass Phrases**\n",
    "\n",
    "Perhaps it might be easier to think in terms \"pass phrases\" rather than \"passwords.\" If your computer is running Windows NT 4.0 or earlier, Windows 2000, Windows XP, and Windows Server 2003, passwords up to fifteen or more characters are supported, including spaces. Therefore, \"You can try to break this until the cows come home!\" is a perfectly valid pass phrase that will be extremely difficult for an attacker to break even using the best password cracking tool around. If your computer is running one of the operating systems mentioned above, try to use a very long pass phrase that includes a mix of uppercase letters, lowercase letters, numbers, and symbols.\n",
    "\n",
    "Note that you should not actually use the example passwords within this document, although the password discussed above, \"You can try to break this until the cows come home \" is very long attackers may add it and other sample passwords in this document to their attack tools. These are examples, you should always create your own unique passwords.\n",
    "\n",
    "**More Password Tips**\n",
    "\n",
    "The following information provides tips and do's and don'ts for creating and remembering passwords and password phrases.\n",
    "\n",
    "- **Use more than one word**\n",
    "Instead of only using the name of someone you know, such as \"Allison\", choose something about that person no one else knows about, for instance, \"AllisonsBear\" or \"AlliesBear\".\n",
    "\n",
    "- **Use symbols instead of characters**\n",
    "Many people tend to put the required symbols and numbers at the end of a word they know, for instance, \"Allison1234\". Unfortunately, this is relatively easy to break. The word \"Allison\" is in a lot of dictionaries that include common names; once the name is discovered, the attacker has only four more relatively easy characters to guess. Instead, replace one or more of the letters within the word with symbols that you'll easily recall. Many people have their own creative interpretations of what letter some symbols and numbers resemble. For example, try substituting \"@\" for \"A\", \"!\" for \"l\", a zero (0) for an \"O\", a `$` for an \"S\", and a \"3\" for an \"E\". With substitutions such as these, \"@llis0nbe@r\", \"A!!isonB3ar\", and \"A//i$onBear\" are all recognizable to you, but they would be extremely difficult to guess or break. Look at the symbols on your keyboard and think of the first character that comes to mind-it might not be what someone else would think of, but you will remember it. Use some of those symbols as substitutions for your passwords from now on.\n",
    "\n",
    "- **Choose events or people that are on your mind**\n",
    "To remember a strong password that will have to change in several months, try selecting an upcoming personal or public event. Use this as an opportunity to remind yourself about something pleasant that is going on in your life, or a person whom you admire or love. You won't be likely to forget the password if it is funny or endearing. Make it unique to you. Be sure to make it a phrase of two or more words, and continue to slip in your symbols. For example: \"J0hn$Gr@du@tion\".\n",
    "\n",
    "- **Use phonetics in the words**\n",
    "In general, password dictionaries used by attackers search for words embedded inside your password. As mentioned before, don't hesitate to use the words, but make sure you liberally sprinkle those words with embedded symbols. Another way to trump the attacker is to avoid spelling the words properly, or use funny phonetics that you can remember. For instance, \"Run for the hills\" could become \"R0n4dHiLLs!\" or \"R0n 4 d Hills!\" If your manager's name happens to be Ron, you might even get a chuckle each morning typing this in. If you are a lousy speller, you are ahead of the game already.\n",
    "\n",
    "- **Don't be afraid to make the password long**\n",
    "If you remember it better as a full phrase, go ahead and type it in. Longer passwords are much harder to break. And even though it is long, if it is easy for you to remember, you will probably have a lot less trouble getting into your system, even if you aren't the best typist in the world.\n",
    "\n",
    "- **Use first letters of a phrase**\n",
    "To create an easy-to-remember and strong password, begin with a properly capitalized and punctuated sentence that is easy for you to remember. For example: \"My daughter Kay goes to the International School.\" Next, take the first letter of each word in your sentence, preserving the capitalization used in the sentence. In the example above \"MdKgttIS\" would be the result. Finally substitute some non-alphanumeric characters for some of the letters in the password. You might use an \"@\" to replace an \"a\" or use an \"!\" to replace an \"L\". After one such substitution the example password above would be \"MdKgtt!S\"-a very difficult password to break, yet a password that is easy for you to remember, as long as you can recall the sentence on which the password is based.\n",
    "\n",
    "**Do's:**\n",
    "\n",
    "- Combine letters, symbols, and numbers that are easy for you to remember and hard for someone else to guess.\n",
    "\n",
    "- Create pronounceable passwords (even if they are not words) that are easier to remember, reducing the temptation to write down your password.\n",
    "\n",
    "- Try out using the initial letters of a phrase you love, especially if a number or special character is included.\n",
    "\n",
    "- Take two familiar things, and then wrap them around a number or special character. Alternatively, change the spelling to include a special character. In this manner, you get one unfamiliar thing (which makes a good password because it is easy for you and you alone to remember, but hard for anyone else to discover). Here are a few examples:\n",
    "\n",
    "    \"Phone + 4 + you\" = \"Phone4you\" or \"Fone4y0u\"\n",
    "\n",
    "    \"cat + * + Mouse\" = \"cat*Mouse\" or \"cat*Mou$e\"\n",
    "\n",
    "    \"attack + 3 + book\" = \"attack3booK\" or \"@tack3booK\"\n",
    "\n",
    "**Don'ts:**\n",
    "\n",
    "- Don't use personal information such as derivatives of your user ID, names of family members, maiden names, cars, license tags, telephone numbers, pets, birthdays, social security numbers, addresses, or hobbies.\n",
    "\n",
    "- Don't use any word in any language spelled forward or backward.\n",
    "\n",
    "- Don't tie passwords to the month, for example, don't use \"Mayday\" in May.\n",
    "\n",
    "- Don't create new passwords that are substantially similar to ones you've previously used."
   ]
  },
  {
   "cell_type": "markdown",
   "id": "f3f57974-dde3-4665-9557-85b0e80833e5",
   "metadata": {},
   "source": [
    "### Implementing the Password Policy in Your Organization"
   ]
  },
  {
   "cell_type": "markdown",
   "id": "31f6ce4d-dfbe-4640-ac1b-b85dd2ce1447",
   "metadata": {},
   "source": [
    "Now that you have specified, documented, and communicated the new password policy, it is time to implement the password policies on your network. For information about enforcing password usage, see [\"Password must meet complexity requirements\"](https://learn.microsoft.com/en-us/previous-versions/windows/it-pro/windows-server-2008-R2-and-2008/hh994562(v=ws.10)?redirectedfrom=MSDN)."
   ]
  },
  {
   "cell_type": "markdown",
   "id": "ca94d94f-412e-4c58-a487-50a66138d84a",
   "metadata": {},
   "source": [
    "### Related Information"
   ]
  },
  {
   "cell_type": "markdown",
   "id": "652e9f93-5e7c-4d4b-ba45-1a860cd6db19",
   "metadata": {},
   "source": [
    "For more information about developing a password policy, see the following:\n",
    "\n",
    "- [\"Password Policy\"](https://go.microsoft.com/fwlink/?linkid=22205) on the SANS (SysAdmin, Audit, Network, Security) Web site. SANS has advice on creating formal corporate security policies and samples policies.\n",
    "\n",
    "- [\"Sample Generic Policy and High Level Procedures for Passwords and Access Forms\"](https://go.microsoft.com/fwlink/?linkid=22206) on the National Institute of Standards (NIST) Web site. NIST has a sample password policy that many government agencies have used as the foundation for developing their own policies.\n",
    "\n",
    "For more information about password policies, see the following:\n",
    "\n",
    "- [\"Account Passwords and Policies\"](https://go.microsoft.com/fwlink/?linkid=22208) on the Microsoft TechNet Web site."
   ]
  },
  {
   "cell_type": "markdown",
   "id": "de7a5e66-02b0-486e-95a9-9d2093bbca1e",
   "metadata": {
    "jp-MarkdownHeadingCollapsed": true,
    "tags": []
   },
   "source": [
    "# <b>3.4 File Permissions</b>"
   ]
  },
  {
   "cell_type": "markdown",
   "id": "9f1afabe-fea3-4001-9714-d9eb046f1881",
   "metadata": {},
   "source": [
    "|Purpose|PowerShell|Bash|\n",
    "|-|-|-|\n",
    "|check ACLs|`icacls <path to folder>`||\n",
    "||`icacls /?` read on `icacls`||\n",
    "|check permissions|`icacls 'C:\\FolderName'`|`ls -l`|\n",
    "|**Modifying Permissions**|||\n",
    "|give permissions|`icacls 'C:\\FolderName' /grant 'Everyone:(OI)(CI)(R)'`|`sudo chmod ugo+rwx fname` (change mode)|\n",
    "|||`sudo chmod 777 fname`|\n",
    "|withdraw permission|`icacls 'C:\\FolderName' /remove 'Everyone:(OI)(CI)(R)'`|`sudo chmod ugo-rwx fname`|\n",
    "|||`sudo chmod 000 fname`|\n",
    "|change owner||`sudo chown uname fname`|\n",
    "|change group||`sudo chgrp uname fname`|"
   ]
  },
  {
   "cell_type": "markdown",
   "id": "15c53ad0-4e29-4e2a-b981-7db279c1b70d",
   "metadata": {
    "tags": []
   },
   "source": [
    "## Windows"
   ]
  },
  {
   "cell_type": "markdown",
   "id": "f510fb6d-9d4c-44dd-a5b4-40890064b426",
   "metadata": {},
   "source": [
    "**Access Control Lists (ACLs)**\n",
    "- **Discretionary Access Control Lists (DACLs)** - who can use a file and what they're allowed to do with it,\n",
    "- **System Access Control Lists (SACLs)** - are used to tell Windows that it should use an event log to make a note of every time someone accesses a file or folder.\n",
    "\n",
    "- `Read` - lets you see that a file exists and allows you to read its contents. It also lets you read the files and directories in a directory. \n",
    "- `Read and execute` - lets you read files and if the file is an executable, you can run the file. `Read and Execute` includes read, so if you select `Read and Execute`, read will automatically be selected. \n",
    "- `List folder contents` is an alias for `Read and Execute` on a directory. Checking one will check the other. It means that you can read and execute files in that directory. \n",
    "- `Write` lets you make changes to a file. It might be surprising to you, but you can have write access to a file without having read permission to that file. The `Write` permission also lets you create subdirectories and write to files in the directory. \n",
    "- `Modify` permission is an umbrella permission that includes `read`, `execute`, and `write`. \n",
    "- `Full control` - a user or group with full control can do anything they want to the file. It includes all the permissions of `Modify` and adds the ability to take ownership of a file and change its ACLs. \n",
    "\n",
    "Now, when we click on My username, we can see the permissions for Cindy,\n",
    "Play video starting at :3:23 and follow transcript3:23\n",
    "which show that I'm allowed all of these access permissions. If we want to see which ACLs are assigned to a file, we can use a utility designed to view and change ACLs called icalcs, or improved change ACLs. Let's take a look at my desktop first. icalcs desktop. Well, that looks useful, but what does it mean? I can see the user accounts that have access to my desktop and I can see that my account is one of them. But what about the rest of this stuff? These letters represent each of the permissions that we talked about before. Let's take a look at the help for icalcs. I bet that'll explain things. icalcs/? There's a description of what each one of these letters means.\n",
    "Play video starting at :4:24 and follow transcript4:24\n",
    "The F shows that I have full control of my Desktop folder. icalcs causes full access. We saw this in the GUI earlier as full control. These are the same permission. What are these other letters mean? NTFS permissions can be inherited as we saw from the icalcs help. OI means object inherit, and CI means container inherit. If I create new files or objects inside my desktop folder, they'll inherit this DACL. If I create new directories or containers in my desktop, they'll also inherit this DACL."
   ]
  },
  {
   "cell_type": "markdown",
   "id": "1d0b4c46-b904-416c-8cfb-763b29200fe9",
   "metadata": {},
   "source": [
    "### Guest Users"
   ]
  },
  {
   "cell_type": "markdown",
   "id": "c5adeede-747a-4c2c-bdaa-47773c41805d",
   "metadata": {},
   "source": [
    "- users who can use computer without a password, they are in the group \"Everyone\"\n",
    "- all the users except for the guests are in the \"Authenticated Group\""
   ]
  },
  {
   "cell_type": "markdown",
   "id": "04889447-98e0-421c-b016-6fa38cccfc99",
   "metadata": {
    "tags": []
   },
   "source": [
    "### Supplemental Reading for [Windows ACL](https://learn.microsoft.com/en-us/windows/win32/secauthz/access-control-lists?redirectedfrom=MSDN)"
   ]
  },
  {
   "cell_type": "markdown",
   "id": "c7856ae2-1c38-4afc-a44d-1c51fe8773db",
   "metadata": {},
   "source": [
    "An [access control list](https://learn.microsoft.com/en-us/windows/desktop/SecGloss/a-gly) (ACL) is a list of [access control entries](https://learn.microsoft.com/en-us/windows/win32/secauthz/access-control-entries) (ACE). Each ACE in an ACL identifies a trustee and specifies the [access rights](https://learn.microsoft.com/en-us/windows/win32/secauthz/access-rights-and-access-masks) allowed, denied, or audited for that trustee. The [security descriptor](https://learn.microsoft.com/en-us/windows/win32/secauthz/security-descriptors) for a [securable object](https://learn.microsoft.com/en-us/windows/win32/secauthz/securable-objects) can contain two types of ACLs: a DACL and an SACL.\n",
    "\n",
    "A [discretionary access control list](https://learn.microsoft.com/en-us/windows/desktop/SecGloss/d-gly) (DACL) identifies the trustees that are allowed or denied access to a securable object. When a [process](https://learn.microsoft.com/en-us/windows/desktop/SecGloss/p-gly) tries to access a securable object, the system checks the ACEs in the object's DACL to determine whether to grant access to it. If the object doesn't have a DACL, the system grants full access to everyone. If the object's DACL has no ACEs, the system denies all attempts to access the object because the DACL doesn't allow any access rights. The system checks the ACEs in sequence until it finds one or more ACEs that allow all the requested access rights, or until any of the requested access rights are denied. For more information, see [How DACLs control access to an object](https://learn.microsoft.com/en-us/windows/win32/secauthz/how-dacls-control-access-to-an-object). For information about how to properly create a DACL, see [Creating a DACL](https://learn.microsoft.com/en-us/windows/desktop/SecBP/creating-a-dacl).\n",
    "\n",
    "A [system access control list](https://learn.microsoft.com/en-us/windows/desktop/SecGloss/s-gly) (SACL) allows administrators to log attempts to access a secured object. Each ACE specifies the types of access attempts by a specified trustee that cause the system to generate a record in the security event log. An ACE in an SACL can generate audit records when an access attempt fails, when it succeeds, or both. For more information about SACLs, see [Audit generation](https://learn.microsoft.com/en-us/windows/win32/secauthz/audit-generation) and [SACL access right](https://learn.microsoft.com/en-us/windows/win32/secauthz/sacl-access-right).\n",
    "\n",
    "Don't try to work directly with the contents of an ACL. To ensure that ACLs are semantically correct, use the appropriate functions to create and manipulate ACLs. For more information, see [Getting information from an ACL](https://learn.microsoft.com/en-us/windows/win32/secauthz/getting-information-from-an-acl) and [Creating or modifying an ACL](https://learn.microsoft.com/en-us/windows/win32/secauthz/creating-or-modifying-an-acl).\n",
    "\n",
    "ACLs also provide access control to Microsoft Active Directory service objects. Active Directory Service Interfaces (ADSI) include routines to create and modify the contents of these ACLs. For more information, see [Controlling object access in Active Directory Domain Services](https://learn.microsoft.com/en-us/windows/desktop/AD/controlling-access-to-objects-in-active-directory-domain-services)."
   ]
  },
  {
   "cell_type": "markdown",
   "id": "1cf8ee54-d0ea-47d0-9731-745a92e5227b",
   "metadata": {},
   "source": [
    "### Supplemental Reading: File and Folder Permissions"
   ]
  },
  {
   "cell_type": "markdown",
   "id": "f106248b-73ee-4aaa-9247-1f03498b9195",
   "metadata": {},
   "source": [
    "Applies To: Windows 7, Windows Server 2008 R2\n",
    "\n",
    "The following table lists the access limitations for each set of special NTFS permissions.\n",
    "\n",
    "<div class=\"has-inner-focus\"><table aria-label=\"Table 1\" class=\"table table-sm\">\n",
    "<colgroup>\n",
    "<col>\n",
    "<col>\n",
    "<col>\n",
    "<col>\n",
    "<col>\n",
    "<col>\n",
    "<col>\n",
    "</colgroup>\n",
    "<thead>\n",
    "<tr class=\"header\">\n",
    "<th>Special permissions</th>\n",
    "<th>Full Control</th>\n",
    "<th>Modify</th>\n",
    "<th>Read &amp; Execute</th>\n",
    "<th>List Folder Contents (folders only)</th>\n",
    "<th>Read</th>\n",
    "<th>Write</th>\n",
    "</tr>\n",
    "</thead>\n",
    "<tbody>\n",
    "<tr class=\"odd\">\n",
    "<td><p>Traverse Folder/Execute File</p></td>\n",
    "<td><p>x</p></td>\n",
    "<td><p>x</p></td>\n",
    "<td><p>x</p></td>\n",
    "<td><p>x</p></td>\n",
    "<td><p></p></td>\n",
    "<td><p></p></td>\n",
    "</tr>\n",
    "<tr class=\"even\">\n",
    "<td><p>List Folder/Read Data</p></td>\n",
    "<td><p>x</p></td>\n",
    "<td><p>x</p></td>\n",
    "<td><p>x</p></td>\n",
    "<td><p>x</p></td>\n",
    "<td><p>x</p></td>\n",
    "<td><p></p></td>\n",
    "</tr>\n",
    "<tr class=\"odd\">\n",
    "<td><p>Read Attributes</p></td>\n",
    "<td><p>x</p></td>\n",
    "<td><p>x</p></td>\n",
    "<td><p>x</p></td>\n",
    "<td><p>x</p></td>\n",
    "<td><p>x</p></td>\n",
    "<td><p></p></td>\n",
    "</tr>\n",
    "<tr class=\"even\">\n",
    "<td><p>Read Extended Attributes</p></td>\n",
    "<td><p>x</p></td>\n",
    "<td><p>x</p></td>\n",
    "<td><p>x</p></td>\n",
    "<td><p>x</p></td>\n",
    "<td><p>x</p></td>\n",
    "<td><p></p></td>\n",
    "</tr>\n",
    "<tr class=\"odd\">\n",
    "<td><p>Create Files/Write Data</p></td>\n",
    "<td><p>x</p></td>\n",
    "<td><p>x</p></td>\n",
    "<td><p></p></td>\n",
    "<td><p></p></td>\n",
    "<td><p></p></td>\n",
    "<td><p>x</p></td>\n",
    "</tr>\n",
    "<tr class=\"even\">\n",
    "<td><p>Create Folders/Append Data</p></td>\n",
    "<td><p>x</p></td>\n",
    "<td><p>x</p></td>\n",
    "<td><p></p></td>\n",
    "<td><p></p></td>\n",
    "<td><p></p></td>\n",
    "<td><p>x</p></td>\n",
    "</tr>\n",
    "<tr class=\"odd\">\n",
    "<td><p>Write Attributes</p></td>\n",
    "<td><p>x</p></td>\n",
    "<td><p>x</p></td>\n",
    "<td><p></p></td>\n",
    "<td><p></p></td>\n",
    "<td><p></p></td>\n",
    "<td><p>x</p></td>\n",
    "</tr>\n",
    "<tr class=\"even\">\n",
    "<td><p>Write Extended Attributes</p></td>\n",
    "<td><p>x</p></td>\n",
    "<td><p>x</p></td>\n",
    "<td><p></p></td>\n",
    "<td><p></p></td>\n",
    "<td><p></p></td>\n",
    "<td><p>x</p></td>\n",
    "</tr>\n",
    "<tr class=\"odd\">\n",
    "<td><p>Delete Subfolders and Files</p></td>\n",
    "<td><p>x</p></td>\n",
    "<td><p></p></td>\n",
    "<td><p></p></td>\n",
    "<td><p></p></td>\n",
    "<td><p></p></td>\n",
    "<td><p></p></td>\n",
    "</tr>\n",
    "<tr class=\"even\">\n",
    "<td><p>Delete</p></td>\n",
    "<td><p>x</p></td>\n",
    "<td><p>x</p></td>\n",
    "<td><p></p></td>\n",
    "<td><p></p></td>\n",
    "<td><p></p></td>\n",
    "<td><p></p></td>\n",
    "</tr>\n",
    "<tr class=\"odd\">\n",
    "<td><p>Read Permissions</p></td>\n",
    "<td><p>x</p></td>\n",
    "<td><p>x</p></td>\n",
    "<td><p>x</p></td>\n",
    "<td><p>x</p></td>\n",
    "<td><p>x</p></td>\n",
    "<td><p>x</p></td>\n",
    "</tr>\n",
    "<tr class=\"even\">\n",
    "<td><p>Change Permissions</p></td>\n",
    "<td><p>x</p></td>\n",
    "<td><p></p></td>\n",
    "<td><p></p></td>\n",
    "<td><p></p></td>\n",
    "<td><p></p></td>\n",
    "<td><p></p></td>\n",
    "</tr>\n",
    "<tr class=\"odd\">\n",
    "<td><p>Take Ownership</p></td>\n",
    "<td><p>x</p></td>\n",
    "<td><p></p></td>\n",
    "<td><p></p></td>\n",
    "<td><p></p></td>\n",
    "<td><p></p></td>\n",
    "<td><p></p></td>\n",
    "</tr>\n",
    "<tr class=\"even\">\n",
    "<td><p>Synchronize</p></td>\n",
    "<td><p>x</p></td>\n",
    "<td><p>x</p></td>\n",
    "<td><p>x</p></td>\n",
    "<td><p>x</p></td>\n",
    "<td><p>x</p></td>\n",
    "<td><p>x</p></td>\n",
    "</tr>\n",
    "</tbody>\n",
    "</table></div>\n",
    "\n",
    "> Important: Groups or users granted Full Control permission on a folder can delete any files in that folder regardless of the permissions protecting the file.\n",
    "\n",
    "**Additional considerations**\n",
    "\n",
    "Although List Folder Contents and Read & Execute appear to have the same special permissions, these permissions are inherited differently. List Folder Contents is inherited by folders but not files, and it should only appear when you view folder permissions. Read & Execute is inherited by both files and folders and is always present when you view file or folder permissions.\n",
    "\n",
    "In this version of Windows, the Everyone group does not include the Anonymous Logon group by default, so permissions applied to the Everyone group do not affect the Anonymous Logon group.\n",
    "\n",
    "Additional references: [Managing Permissions](https://learn.microsoft.com/en-us/previous-versions/windows/it-pro/windows-server-2008-R2-and-2008/cc732880(v=ws.11)?redirectedfrom=MSDN)"
   ]
  },
  {
   "cell_type": "markdown",
   "id": "240afea4-ce7a-4ab2-abd2-65b745a8fdbb",
   "metadata": {},
   "source": [
    "## Linux"
   ]
  },
  {
   "cell_type": "markdown",
   "id": "2be2dc88-72f0-4761-b252-9231c936d374",
   "metadata": {},
   "source": [
    "### `chmod`"
   ]
  },
  {
   "cell_type": "markdown",
   "id": "53760773-c464-4985-bdc5-738bdd279e7a",
   "metadata": {},
   "source": [
    "`chmod ugo+rwx fname`:\n",
    "- `u`ser \n",
    "- `g`roup\n",
    "- `o`ther users<br>\n",
    "<br>\n",
    "- `r`ead or `4`\n",
    "- `w`rite or `2`\n",
    "- e`x`ecute or `1`\n",
    "- `-` disabled\n",
    "\n",
    "You can also write like this:\n",
    "\n",
    "`chmod 754 fname`:\n",
    "- 7 is 4+2+1 for user\n",
    "- 5 is 4+1 for group\n",
    "- 1 is 1 for other users<br>\n",
    "<br>\n",
    "- `s`etUID or `4`\n",
    "- `g` setGID or `2`\n",
    "- s`t`icky bit or `1`"
   ]
  },
  {
   "cell_type": "markdown",
   "id": "2df03a45-318d-43d8-a4dc-16e04419bfb4",
   "metadata": {},
   "source": [
    "### View permissions"
   ]
  },
  {
   "cell_type": "code",
   "execution_count": 3,
   "id": "02182dc8-039e-4454-995e-6f4dda9624d5",
   "metadata": {
    "tags": []
   },
   "outputs": [
    {
     "name": "stdout",
     "output_type": "stream",
     "text": [
      "total 524\n",
      "-rw-r--r-- 1 commi commi      0 Aug 26 02:27 Administrative\n",
      "-rw-r--r-- 1 commi commi 423827 Aug 26 13:38 C2_The_Bits_and_Bytes_of_Computer_Networking.ipynb\n",
      "-rw-r--r-- 1 commi commi 100600 Aug 30 00:59 C3_Operating_Systems_and_You.ipynb\n",
      "drwxr-xr-x 3 commi commi   4096 Aug 26 02:27 \u001b[0m\u001b[01;34mdata\u001b[0m\n",
      "drwxr-xr-x 2 commi commi   4096 Aug 26 14:39 \u001b[01;34mmaterials\u001b[0m\n"
     ]
    }
   ],
   "source": [
    "ls -l"
   ]
  },
  {
   "cell_type": "markdown",
   "id": "aa7d48b4-a8f1-4068-acdf-66134600a339",
   "metadata": {},
   "source": [
    "`-rw-r--r-- 1 commi commi      0 Aug 26 02:27 Administrative`\n",
    "\n",
    "- `-` means \"a regular file\"\n",
    "- `d` means \"directory\"\n",
    "\n",
    "Then groups by three:\n",
    "\n",
    "- `rw-` permission of the USER (`commi`)\n",
    "- `r--` permission of the GROUP (`commi`)\n",
    "- `r--` permission of all OTHER users"
   ]
  },
  {
   "cell_type": "markdown",
   "id": "d657a3ce-0992-4b67-bbe4-cec8acaf2c48",
   "metadata": {},
   "source": [
    "### SetUID, SetGID, Sticky Bit"
   ]
  },
  {
   "cell_type": "markdown",
   "id": "a0554a87-110f-499d-9bae-51343e53c6ec",
   "metadata": {},
   "source": [
    "#### SetUID"
   ]
  },
  {
   "cell_type": "markdown",
   "id": "f0113027-c3c7-43d5-bcdf-f33d95bace93",
   "metadata": {},
   "source": [
    "Changing root rights for users without giving them sudo rights.\n",
    "\n",
    "```bash\n",
    "sudo useradd example\n",
    "sudo passwd example\n",
    "ls -l /etc/shadow\n",
    "```\n",
    "\n",
    "`-rw-r----- 1 root shadow 1180 Aug 31 21:05 /etc/shadow`\n",
    "\n",
    "So this file with the password is owned by root.\n",
    "\n",
    "SetUID enables files to be run by the permissions of the owner of the file. In this case, when you run the password command, it's being run as root:\n",
    "\n",
    "```bash\n",
    "ls -l /usr/bin/passwd\n",
    "```\n",
    "\n",
    "`-rwsr-xr-x 1 root root 68248 Mar 23 17:40 /usr/bin/passwd`\n",
    "\n",
    "Here `s` stands for `SetUID`. When the `s` is substituted where a regular bit would be, it allows us to run the file with the permissions of the owner of the file. To enable the `setuid` bit, you can do it symbolically (`s`) or numerically (`4`):\n",
    "\n",
    "```bash\n",
    "cd /tmp/\n",
    "touch file1.txt\n",
    "sudo chmod u+s file1.txt\n",
    "ls -l file1.txt\n",
    "```\n",
    "`-rwSr--r-- 1 commi commi     0 Sep 14 16:16 file1.txt`\n",
    "\n",
    "```bash\n",
    "# or\n",
    "sudo chmod 4755 file1.txt\n",
    "ls -l file1.txt\n",
    "```\n",
    "`-rwsr--r-- 1 commi commi     0 Sep 14 16:16 file1.txt`"
   ]
  },
  {
   "cell_type": "markdown",
   "id": "d66d39ee-4d99-41ff-8328-b9514f3a31eb",
   "metadata": {},
   "source": [
    "#### SetGID"
   ]
  },
  {
   "cell_type": "code",
   "execution_count": 1,
   "id": "75fc57be-bf92-4923-b2df-64cebedb4025",
   "metadata": {},
   "outputs": [
    {
     "name": "stdout",
     "output_type": "stream",
     "text": [
      "-rwxr-sr-x 1 root tty 39224 Mar 23 15:02 \u001b[0m\u001b[30;43m/usr/bin/wall\u001b[0m\n"
     ]
    }
   ],
   "source": [
    "ls -l /usr/bin/wall"
   ]
  },
  {
   "cell_type": "markdown",
   "id": "680da10e-84f0-42bc-89a4-88b90bbc7e18",
   "metadata": {},
   "source": [
    "`tty` means the root in the tty group. \n",
    "\n",
    "\n",
    "```bash\n",
    "sudo chmod g+s file1.txt\n",
    "ls -l | grep file1.txt\n",
    "```\n",
    "`-rwsr-Sr-- 1 commi commi     0 Sep 14 16:16 file1.txt`\n",
    "\n",
    "```bash\n",
    "or\n",
    "sudo chmod 2744 file1.txt\n",
    "ls -l | grep file1.txt\n",
    "```\n",
    "`-rwxr-sr-x 1 commi commi     0 Sep 14 16:16 file1.txt`"
   ]
  },
  {
   "cell_type": "markdown",
   "id": "3090fb09-3c5e-4432-b461-5cc6131f4c69",
   "metadata": {},
   "source": [
    "#### `sticky bit`"
   ]
  },
  {
   "cell_type": "markdown",
   "id": "3d484061-c3a5-4ee8-aa19-c296ac82cdf3",
   "metadata": {},
   "source": [
    "stick a file or a folder down so anyone can write to it but they cannot delete anything, this can be done only by owner or root user.\n",
    "\n",
    "Let's take a look at `/tmp` folder permissions:\n",
    "\n",
    "```bash\n",
    "ls -ld /tmp\n",
    "```\n",
    "`drwxrwxrwt 16 root root 20480 Sep 14 16:38 /tmp`\n",
    "\n",
    "`t` at the end means that everyone can add and modify files in that directory but only root or the owner can delete the directory.\n",
    "\n",
    "Let's create a folder and change its permissions to `t`.\n",
    "\n",
    "```bash\n",
    "mkdir folder1\n",
    "ls -ld folder1\n",
    "```\n",
    "`drwxr-xr-x 2 commi commi 4096 Sep 14 16:46 folder1/`\n",
    "\n",
    "\n",
    "```bash\n",
    "sudo chmod +t folder1\n",
    "ls -ld folder1\n",
    "```\n",
    "`drwxr-xr-t 2 commi commi 4096 Sep 14 16:46 folder1/`\n",
    "\n",
    "```bash\n",
    "or\n",
    "sudo chmod 1744 folder1\n",
    "ls -ld folder1\n",
    "```\n",
    "`drwxr--r-T 2 commi commi 4096 Sep 14 16:46 folder1/`"
   ]
  },
  {
   "cell_type": "markdown",
   "id": "56fc091d-6245-4628-b21e-6ebe67ea8b1a",
   "metadata": {
    "jp-MarkdownHeadingCollapsed": true,
    "tags": []
   },
   "source": [
    "# <b>3.5 Software Distribution</b>"
   ]
  },
  {
   "cell_type": "markdown",
   "id": "108594e3-2e88-46f9-b6a0-63a021c42f6b",
   "metadata": {
    "jp-MarkdownHeadingCollapsed": true,
    "tags": []
   },
   "source": [
    "# 3.5.1 Software"
   ]
  },
  {
   "cell_type": "markdown",
   "id": "d084d646-c980-4acc-85e9-0174ccf0ded1",
   "metadata": {
    "tags": []
   },
   "source": [
    "## Windows"
   ]
  },
  {
   "cell_type": "markdown",
   "id": "c0135bcc-5ef9-47d8-a9ed-47d435b86d4b",
   "metadata": {},
   "source": [
    "### Windows Software Packages"
   ]
  },
  {
   "cell_type": "markdown",
   "id": "b691ee1f-9c8f-41a4-980f-b77a49145285",
   "metadata": {},
   "source": [
    "Developers have different ways to package software using software compiling tools. In Windows, software is usually packaged as a .exe (executable file). Windows software can be sourced from the Microsoft Store or downloaded directly and installed in several ways. This reading covers the most common methods software packages are installed on Windows OS."
   ]
  },
  {
   "cell_type": "markdown",
   "id": "982bda24-eee9-4cf2-b92a-7af6328e762d",
   "metadata": {},
   "source": [
    "#### Installation Package"
   ]
  },
  {
   "cell_type": "markdown",
   "id": "e4a2507e-3b94-4830-b337-7daf214d6cde",
   "metadata": {},
   "source": [
    "Installation packages contain all the information the Windows Installer needs to install software on a computer. The packages include a `.msi` file (Microsoft install file) which contains an installation database, summary information, and data streams for each part of the installation. The `.msi` file may also include internal source files and external source files needed for the installation. Windows Installer uses the information contained in the `.msi` file to install, maintain, and remove programs on Windows. \n",
    "\n",
    "**Portable Executable**\n",
    "\n",
    "These `.msi` files are contained within a portable executable (`PE`), which is a format specific to Windows. The file type extension for a PE is `.exe`. Although these PEs commonly include instructions for the computer to run, such as the `.msi` files, they may also have images that the program may run or computer code."
   ]
  },
  {
   "cell_type": "markdown",
   "id": "45cf46d5-9ef6-4037-8f44-30e930ee30d6",
   "metadata": {},
   "source": [
    "#### Self-extracting Executable"
   ]
  },
  {
   "cell_type": "markdown",
   "id": "09726dd9-6c08-4040-9fac-13620ca192a9",
   "metadata": {},
   "source": [
    "While it is common to install software using the Windows Installer, it is helpful for you to know how to install software using the command line.\n",
    "\n",
    "Self-extractor packages are executable files (`.exe`) that are run in the Windows interface by clicking on them or running from the command line. Software installed by an IT professional onto an end user’s computer will likely use this format. Software installation package, update package, or hotfix package created with the Microsoft Self-Extractor, can be executed using the following command lines: \n",
    "\n",
    "`/extract:[path]`: Extracts the content of the package to the path folder. If a path isn’t specified, then a Browse dialog box appears.\n",
    "\n",
    "`/log:[path to log file]`: Enables verbose logging (more detailed information recorded in the log file) for the update installation.\n",
    "\n",
    "`/lang:lcid`: Sets the user interface to the specified locale when multiple locales are available in the package.\n",
    "\n",
    "`/quiet`: Runs the package in silent mode.\n",
    "\n",
    "`/passive`: Runs the update without any interaction from the user.\n",
    "\n",
    "`/norestart`: Prevents prompting of the user when a restart of the computer is needed.\n",
    "\n",
    "`/forcerestart`: Forces a restart of the computer as soon as the update is finished.\n",
    "\n",
    "You can always type `/?`, `/h`, or `/help` from the command line to view these options. "
   ]
  },
  {
   "cell_type": "markdown",
   "id": "59d40717-394c-4114-8362-998cdf1a76c6",
   "metadata": {},
   "source": [
    "#### App Packager"
   ]
  },
  {
   "cell_type": "markdown",
   "id": "e90e37ea-1e96-4009-9eaa-d4d9b0a1cb52",
   "metadata": {},
   "source": [
    "The app packager used in the **Windows Software Development Kit (SDK)** and **Microsoft Visual Studio** includes a program called **MakeAppx.exe**. MakeAppx.exe is a tool that creates an app package from files on disk or extracts the files from an app package to disk. For Windows 8.1 and higher, this program can also create and extract app package bundles. This tool is primarily used by software developers."
   ]
  },
  {
   "cell_type": "markdown",
   "id": "fec25a46-515d-4568-99fb-e2d4f9082962",
   "metadata": {},
   "source": [
    "#### Microsoft Store"
   ]
  },
  {
   "cell_type": "markdown",
   "id": "be93f72d-4c66-4d85-8417-d0c7567e32fd",
   "metadata": {},
   "source": [
    "The Microsoft Store, included in the Windows OS, is the primary source for apps, games, and videos in Windows. The Microsoft Store only contains apps and programs certified for compatibility and curated for content. Software installed through the Microsoft store is automatically updated by default. Some organizations may disable the Microsoft store on user computers to limit users’ ability to install new applications without authorization. \n",
    "\n",
    "While the Microsoft Store is a convenient and popular way to get programs on Windows, some software can also be downloaded directly from developers."
   ]
  },
  {
   "cell_type": "markdown",
   "id": "f692e44d-6508-4d02-b8e5-e61e9825bed2",
   "metadata": {},
   "source": [
    "#### Key takeaways"
   ]
  },
  {
   "cell_type": "markdown",
   "id": "4e14cb0f-72be-41a2-8cb4-dff3cf4594b0",
   "metadata": {},
   "source": [
    "Windows has many different ways to distribute, install, uninstall, and update programs and code on a computer. Depending on the organization, IT might use any of these installation options regularly.\n",
    "\n",
    "- Installation packages contain all the information the Windows Installer needs to install software on a computer.\n",
    "\n",
    "- While it is common to install software using the Windows Installer, it is helpful for you to know how to install software using the command line.\n",
    "\n",
    "- The Windows Software Development Kit (SDK) and Microsoft Visual Studio include a program called MakeAppx.exe. MakeAppx.exe is a tool that creates an app package from files on disk or extracts the files from an app package to disk.\n",
    "\n",
    "- Microsoft Store is a digital distribution storefront for apps, games, and other media.\n",
    "\n",
    "**Resources for more information**\n",
    "\n",
    "- Installation Package: \n",
    "https://docs.microsoft.com/en-us/windows/win32/msi/installation-package\n",
    "\n",
    "- App packager (MakeAppx.exe): \n",
    "https://docs.microsoft.com/en-us/windows/win32/appxpkg/make-appx-package--makeappx-exe-\n",
    "\n",
    "- Portable Executables: \n",
    "https://docs.microsoft.com/en-us/windows/win32/debug/pe-format\n",
    "\n",
    "- Self-extractor: \n",
    "https://docs.microsoft.com/en-us/troubleshoot/windows-client/deployment/command-switches-supported-by-self-extractor-package"
   ]
  },
  {
   "cell_type": "markdown",
   "id": "6e3a6a99-f90e-4648-8b4f-550d38713f43",
   "metadata": {},
   "source": [
    "## Mobile"
   ]
  },
  {
   "cell_type": "markdown",
   "id": "1765fed3-7270-4250-ab94-a9864026e53e",
   "metadata": {},
   "source": [
    "### Mobile App Distribution"
   ]
  },
  {
   "cell_type": "markdown",
   "id": "552fb4ae-9e26-4d58-8e16-edb0939ea62a",
   "metadata": {},
   "source": [
    "You are likely familiar with using either the Apple App Store or Google Play store to download and install apps on your smartphone. As an IT Support professional, you may need to deploy mobile apps across large organizations. In this reading, you will learn more about how mobile apps are distributed both publicly and privately for iOS and Android. "
   ]
  },
  {
   "cell_type": "markdown",
   "id": "0b167857-2534-4036-ab96-807003530afd",
   "metadata": {},
   "source": [
    "#### Apple"
   ]
  },
  {
   "cell_type": "markdown",
   "id": "7c27d556-3eb8-4c59-9ee8-4935e83436f2",
   "metadata": {},
   "source": [
    "Apple’s App Store provides apps to millions of mobile devices around the world, including the iPhone, iPad, and Apple Watch. Apple’s App Store Connect allows developers and organizations to distribute both public and private apps, provided that the app passes an intensive review process to meet Apple’s quality standards. App Store Connect also allows developers and organizations to set individualized prices for the apps, enter banking information to accept payments for apps or in-app purchases, schedule beta testing, and more. Apple recommends that developers use the Xcode integrated development environment (IDE) or Ad Hoc for developing iOS, iPadOS, and watchOS apps.\n",
    "\n",
    "**Apple’s App Store**\n",
    "\n",
    "Apple’s public App Store is a marketplace that reaches millions of Apple mobile device users across the world. The App Store offers developers unlimited bandwidth for hosting, handles payment processing, verifies users, etc. Developers must first register through the Apple Developer Program if they wish to distribute apps through the App Store. The Apple Developer Program offers resources, tools, and support for app development, including testing tools, beta software, analytics, etc. Apple has a long and detailed list of guidelines for all apps that developers and organizations must follow. The guidelines include rules for safety, third-party software development kits (SDKs), ad networks, trademarks and copyrights, and much more. Additionally, submitted apps cannot be copies of other developers’ products, nor can they be designed to steal users’ data. Though the Apple Store Connect review process is rigorous, the platform also provides an appeals process for rejected apps.\n",
    "\n",
    "**Custom Apple apps**\n",
    "\n",
    "Organizations may opt to create private customized apps to meet specific and unique organizational needs. These custom apps may be designed for the organization’s students, employees, clients, partners, franchisees, etc. Organizations can choose to offer the apps for free, for a price, or through special redemption codes. They also have the option to automatically distribute and configure apps to large numbers of registered devices using Mobile Device Management (MDM).  \n",
    "\n",
    "Apple offers a couple of options for private and secure customized app distribution:\n",
    "\n",
    "Apple School Manager - For educational institutions, provides the option to distribute proprietary apps for internal use and to purchase other apps in large volumes, often with educator discounts. Common apps in Apple School Manager might include those for course registration or digital textbook access. Apple School Manager also offers educational institutions the ability to create accounts for students and staff, as well as to setup automatic device enrollment.\n",
    "\n",
    "Apple Business Manager - For businesses, offers similar features as the Apple School Manager including the distribution and purchase of private apps, as well as the automatic deployment of apps to the business’ mobile devices. As an IT Support professional, you might want to volume purchase mobile virus protection and automatically deploy the app across your business’ mobile devices. An organization can set private audience groups in App Store Connect. The audience groups will be able to see and download the organization’s custom apps through the Apps and Books or Content sections of the Apple School and Apple Business Managers. \n",
    "\n",
    "**Outside official Apple distribution channels**\n",
    "\n",
    "Some developers and organizations might not want to use an Apple platform for app distribution. As an alternative, they have the option to distribute Apple “trusted developer” apps from websites or private file shares using their Apple Developer ID certificate and Apple’s notarization process."
   ]
  },
  {
   "cell_type": "markdown",
   "id": "842b1bd9-f9a9-4f97-86fe-8a662da00195",
   "metadata": {},
   "source": [
    "#### Android mobile apps"
   ]
  },
  {
   "cell_type": "markdown",
   "id": "558659d3-0e79-48b3-b71a-c29f813e171b",
   "metadata": {},
   "source": [
    "Google makes considerable investments into Android development, the Google Play platform, services, tools, and marketing to support developers and organizations who choose Google Play to deploy Android apps. Android Studio is the official Android integrated development environment (IDE) for developing Android apps. Android Studio is used to compile Android Package Kit (APK) files, and the Android App Bundle is used to publish apps to Google Play. The Android App Bundle enables Google Play to automatically generate the APK files for a variety of devices and provide app signing keys. This service is a significant time saver for developers and it ensures Google Play apps will work on most Android devices. \n",
    "\n",
    "**Google Play Store**\n",
    "\n",
    "Google Play revenue makes it possible for Google to offer the open Android operating system for free to device manufacturers in order to promote growth and innovation. This business model has driven Android adoption across 24,000+ device models with billions of Android mobile device users around the world. The Google Play store hosts 2 million apps and games with 140+ billion downloads per year, and growing. Google also keeps consumers safe with Google Play’s built-in protections, which require developers to adhere to high safety standards.\n",
    "\n",
    "To distribute an app publicly through the Google Play Store, a developer will: \n",
    "\n",
    "1. Create a Google Play developer account.\n",
    "1. Use the Google Play Console to Create App.\n",
    "    - Provide preliminary information about the app.\n",
    "    - Review and agree to the Developer Program Policies, Terms of Service, and documentation about export laws (where applicable).\n",
    "1. Use the app’s Dashboard for guidance through the app publishing process:\n",
    "    - Google Play Store listing\n",
    "    - Pre-release management\n",
    "    - Prepare a release\n",
    "    - Testing\n",
    "    - Submit app and declarations for review by Google\n",
    "    - Promotion/pre-registration\n",
    "    - Publish app (upon review approval) \n",
    "\n",
    "**Custom Android Apps**\n",
    "\n",
    "Large organizations, or Enterprise customers, can use “managed Google Play” as a distribution tool for deploying apps to employees. Enterprise customers operate their own Google Play store to host their apps publicly and/or privately. They can grant access to select users or user groups to view and download private apps. \n",
    "\n",
    "Google Play Custom App Publishing API is an Application Programming Interface from Google that enables developers and organizations to create and publish private custom apps. Apps that are published through Google Play Custom App Publishing API cannot be converted to public apps. The apps will remain private permanently. Google offers a streamlined verification process for private custom apps. These apps can be available to an organization for deployment in as little as 5 minutes after verification. \n",
    "\n",
    "Google Play Custom App Publishing API can be used by:\n",
    "- Enterprise mobility management providers (EMMs)\n",
    "- Third-party app developers\n",
    "- Organizations/developers that want their enterprise clients to be able to distribute private/custom apps from an EMM console, IDE, or other interface.\n",
    "\n",
    "Enterprise customers can publish apps by: \n",
    "1. Enabling the Google Play Custom App Publishing API.\n",
    "1. Creating a service account.\n",
    "1. Granting publishing permission to the service account on the organization’s Play Console developer account.\n",
    "\n",
    "Using Google Play within an organization, IT Support administrators should:\n",
    "1. Use their organization’s managed version of Google Play to select and approve apps.\n",
    "1. Ensure all employee Android devices are set up to use the organization’s managed Google Play account.\n",
    "1. Use the organization’s Enterprise Mobility Manager (EMM) to manage employee Android devices and deploy selected apps to employees’ Android devices.\n",
    "\n",
    "For Android devices that are owned by employees (BYODs) and not registered with the organization’s EMM: \n",
    "1. Consider Google’s recommendation to create a work profile on each device.. \n",
    "1. Show employees how to use their work profile to access the organization’s managed Google Play account. \n",
    "1. Demonstrate that employees can then view and install any of the administrator selected and approved apps. \n",
    "\n",
    "**Outside official Google distribution channels**\n",
    "\n",
    "Google’s open platform policies includes allowing competitors to innovate in developing app stores. Some alternative app stores that distribute Android apps include:\n",
    "\n",
    "- APKMirror\n",
    "- Aurora Store\n",
    "- Aptoide\n",
    "- Amazon Appstore\n",
    "- F-Droid\n",
    "- Uptodown\n",
    "- SlideMe\n",
    "- APKPure\n",
    "- Galaxy Store\n",
    "- Yalp Store\n",
    "\n",
    "Please see Fossbytes [“10 Best Google Play Store Alternatives: Websites And Apps”](https://fossbytes.com/10-google-play-store-alternatives/) for more information about each Android app store in the list above.\n",
    "\n",
    "**Resources for more information**\n",
    "\n",
    "- [App Store Review Guidelines](https://developer.apple.com/app-store/review/guidelines/) - Apple’s comprehensive list of guidelines developers must follow for designing and submitting apps to the Apple App Store. \n",
    "\n",
    "- [Distributing custom apps for business](https://developer.apple.com/business/custom-apps/) - Apple’s guide to publishing custom apps.\n",
    "\n",
    "- [About Android App Bundles](https://developer.android.com/guide/app-bundle) - Android developer’s guide to using Android App Bundles to develop and publish apps on Google Play. \n",
    "\n",
    "- [Get started with custom app publishing](https://developers.google.com/android/work/play/custom-app-api/get-started) - Google’s guide to publishing custom apps."
   ]
  },
  {
   "cell_type": "markdown",
   "id": "57a6f64b-1e0b-4c32-9474-28246a1732d3",
   "metadata": {},
   "source": [
    "### Mobile App Packages: App Updates"
   ]
  },
  {
   "cell_type": "markdown",
   "id": "027823d1-5252-4f9c-92a1-1b5ec5b0d950",
   "metadata": {},
   "source": [
    "In this reading, you will learn about updating apps on mobile devices. IT Support professionals use this skill for the maintenance and troubleshooting of mobile devices. It is a best practice to keep apps updated for security purposes and to avoid any problems that affect outdated apps.  "
   ]
  },
  {
   "cell_type": "markdown",
   "id": "16840b72-df13-4e82-9140-93aee0a8b586",
   "metadata": {},
   "source": [
    "#### Android mobile apps"
   ]
  },
  {
   "cell_type": "markdown",
   "id": "faa35b9e-ca46-4044-bfe0-fa74164e06ed",
   "metadata": {},
   "source": [
    "It is important to note that Android is an open operating system (OS). This means mobile device manufacturers and cellular service providers can modify the Android OS to enhance, control, or restrict elements of the OS. These modifications can include how system settings are accessed. If an Android device’s Storage settings cannot be located easily, it is best to consult the device manufacturer’s manual. Mobile device manuals can often be found online.\n",
    "\n",
    "Instructions for most Android phones and tablets (note that instructions may vary by OS version; Android 12 was used for these instructions):\n",
    "\n",
    "**Automatic updates**\n",
    "\n",
    "- Open the Google Play Store app.\n",
    "- At the top right, tap the profile icon.\n",
    "- Select Settings. \n",
    "- Open the sub-menu for Network preferences. \n",
    "- Select an option:\n",
    "    - App download preference Over any network - to update apps using either Wi-Fi or mobile data (data usage charges may apply, depending on cellular plan).\n",
    "    - Auto-update apps Over Wi-Fi only - to update apps only when connected to Wi-Fi.\n",
    "\n",
    "Troubleshooting note: If the user is not logged in to their Google account on the Android device, apps may not update automatically.\n",
    "\n",
    "**Manual updates**\n",
    "\n",
    "- If automatic updates are toggled on, repeat steps 1 to 5 for the “Automatic updates” instructions listed above. However, for step 5, select Don’t auto-update apps.\n",
    "- Open the Google Play Store app.\n",
    "- At the top right, tap the profile icon.\n",
    "- Select Manage apps & device. \n",
    "- In the Update available section, select See details.\n",
    "- Select individual software to Update.\n",
    "\n",
    "**Apple mobile devices**\n",
    "\n",
    "**Automatic updates**\n",
    "\n",
    "Apple’s iPhones and iPads are configured by default to automatically update apps stored on these devices. However, as an IT Support specialist, you may encounter a variety of reasons why automatic updates were disabled for a device, but need to be enabled again. The instructions to turn on automatic updates for installed apps may vary by OS version. Please see Apple’s website to view instructions for the specific OS version in use. \n",
    "\n",
    "**Manual updates**\n",
    "\n",
    "Some IT departments have policies to test all updates before allowing the updates to be applied across the organization’s devices. In this case, you may need to configure the organization’s Apple mobile devices to use manual updates for apps. Turning on manual updates will involve turning off automatic updates. This step enables notifications to display each time an update becomes available for an app installed on the device. \n",
    "\n",
    "**Instructions for app updates**\n",
    "\n",
    "The instructions for configuring automatic and manual updates for installed apps may vary by OS version. Please see the “Resources for more information” section below for links to Apple’s Support website to obtain detailed instructions. \n",
    "\n",
    "**Resources for more information**\n",
    "\n",
    "For more information about updating apps on mobile devices, please visit:\n",
    "\n",
    "- [How to manually update apps on your Apple device](https://support.apple.com/en-us/HT202180) - Instructions for configuring both manual updates and automatic updates for apps on Apple mobile devices.\n",
    "\n",
    "- [Manage software updates for Apple devices](https://support.apple.com/guide/deployment/manage-software-updates-depc4c80847a/web) - Advanced administrative information for managing software updates for Apple mobile devices. Centered on devices enrolled in mobile device management (MDM) solutions.\n",
    "\n",
    "- [How to update the Play Store & apps on Android](https://support.google.com/googleplay/answer/113412?hl=en) - Provides step-by-step instructions on multiple options for updating Android apps."
   ]
  },
  {
   "cell_type": "markdown",
   "id": "a7915ceb-1322-40ac-835a-9f57c4529e14",
   "metadata": {
    "tags": []
   },
   "source": [
    "## Linux"
   ]
  },
  {
   "cell_type": "markdown",
   "id": "d54dc92c-9388-4fe8-84a2-5f2e7caa246d",
   "metadata": {},
   "source": [
    "### `tar` archives"
   ]
  },
  {
   "cell_type": "markdown",
   "id": "9e8d66bf-e1d5-45d7-aa4e-f301c671d10e",
   "metadata": {},
   "source": [
    "`tar option(s) archive_name file_name(s)`\n",
    "\n",
    "|Purpose|Bash|\n",
    "|-|-|\n",
    "|**Compression**|`-c`|\n",
    "|archive files without compression|`tar -czvf file.tar file1 file2 file3`|\n",
    "|\"next come string\" (i.e. name of the archive)|`-f`|\n",
    "|verbose|`-v`|\n",
    "|bzip2|`-j`|\n",
    "|gzip|`-z`|\n",
    "|compress|`-Z`|\n",
    "|**Extract**|`x`|\n",
    "||`tar -xjvf files.tar.bz2`|\n",
    "|**Other**||\n",
    "|add files|`tar -rf file.tar file7`|\n",
    "|delete files|`tar -f file.tar --delete file1 file2`|\n",
    "|list the contents of an uncompressed archive|`tar -tf file.tar`|\n",
    "\n",
    "[Source](https://www.linfo.org/tar.html)"
   ]
  },
  {
   "cell_type": "markdown",
   "id": "79d29ab9-f862-4c92-92eb-d678eb917f44",
   "metadata": {
    "jp-MarkdownHeadingCollapsed": true,
    "tags": []
   },
   "source": [
    "# 3.5.2 Packages"
   ]
  },
  {
   "cell_type": "markdown",
   "id": "c494f87c-0b7f-44c3-8a08-0ff549aa52e2",
   "metadata": {},
   "source": [
    "## DLL Files and Windows Package Dependencies"
   ]
  },
  {
   "cell_type": "markdown",
   "id": "b195acd5-7e29-4d39-ba0f-c5800dff31b5",
   "metadata": {},
   "source": [
    "In this reading, you will learn about **dynamic link library (DLL)** files. This information includes how Windows package dependencies can break and how Microsoft has remedied these DLL dependency problems using the `.NET` framework and other methods. You will also learn about the side-by-side assemblies and manifest files for Windows applications. \n",
    "\n",
    "**Dynamic link library (DLL)**\n",
    "\n",
    "Windows DLL files are vital to the core functions of the Windows operating system (OS). Some Windows-compatible applications also use DLL files to function. DLLs are made up of programming modules that contain reusable code. Multiple applications can use and reuse the same DLL files. For example, the `Comdlg32` DLL file is used by many applications to provide Windows dialog box functions. The reusable feature helps Windows conserve disk space and use RAM more efficiently, which improves the operating speed of the OS and applications. The modular structure also makes updating a DLL file fast and simple, eliminating the need to update the entire library. DLL updates are installed once for use by any number of applications. \n",
    "\n",
    "A few common DLLs used by Windows include:\n",
    "- `.drv` files - Device drivers manage the operation of physical devices such as printers.\n",
    "- `.ocx` files - Active X controls provide controls like the program object for selecting a date from a calendar.\n",
    "- `.cpl` files - Control panel files manage each of the functions found in the Windows Control Panel. \n",
    "\n",
    "An application can use DLLs to load parts of the app as modules. This means that if the application offers multiple functions, the app can selectively load only the modules that offer the functionality requested by the user. For example, if a user does not access the Print function within an application, then the printer driver DLL file does not need to be loaded into memory. This system requires less RAM to hold the application in working memory, which improves operating speeds.   \n",
    "\n",
    "**DLL dependencies**\n",
    "\n",
    "A Windows package dependency is created when an application uses a DLL file. Although the Windows DLL system supports the sharing of DLL files by multiple applications, the applications’ dependencies can be broken under certain circumstances.  \n",
    "\n",
    "DLL dependencies can be broken when: \n",
    "- **Overwriting DLL dependencies** - It is possible for an application to overwrite the DLL dependency of another app, causing the other app to fail. \n",
    "- **Deleting DLL files** - Some applications and malware may delete the DLLs needed by other applications installed on a system. \n",
    "- **Applying upgrades or fixes to DLLs** - Can cause a problem called “DLL hell” where an application installs a new version of the shared DLL for a computer system. However, other applications that are dependent on the shared DLL have not yet been updated to be compatible with the new version of the DLL. This causes the other applications to fail when the end user tries to launch them.  \n",
    "- **Rolling-back to previous DLL versions** - A user may try to reinstall an older application that stopped working after a shared DLL file was upgraded by a newer app. However, the reinstallation of the app that uses the old DLL version can overwrite the new DLL file. This DLL version roll-back can cause the newer app with the shared DLL dependency to fail the next time it tries to run.  \n",
    "\n",
    "Microsoft has remedied these problems through the use of:\n",
    "- **Windows File Protection** - The Windows OS controls the updates and deletions of system DLL files. Windows File Protection will allow only applications with valid digital signatures to update and delete DLL files.  \n",
    "- **Private DLLs** - Removes the sharing option from DLLs by creating a private version of the DLL and storing it in the application’s root folder. Changes to the shared version of the DLL will not affect the application’s private copy. \n",
    "- **.NET Framework assembly versioning** - Resolves the “DLL hell” problem by allowing an application to add an updated version of a DLL file without removing the older version of the DLL file. This prevents the malfunction of applications that have dependencies on the older DLL file. The DLL versions can be found in the \"`C:\\Windows\\assembly`\" path and are placed in the **Global Assembly Cache (GAC)**. The GAC contains the .NET “Strong Name Assembly” of each DLL file version. This “Strong Name Assembly” includes the: \n",
    "    - **name of the assembly** - multiple DLL files can share the assembly name \n",
    "    - **version number** - differentiates the version of DLLs \n",
    "    - **culture** - country or region where the application is deployed, can be “neutral”\n",
    "    - **public key token** - a unique 16-character key assigned to an assembly when it is built\n",
    "\n",
    "**Side-by-side assemblies**\n",
    "\n",
    "DLLs and dependencies can also be located in side-by-side assemblies. A **side-by-side assembly** is a public or private resource collection that is available to applications during run time. Side-by-side assemblies contain XML files called **manifests**. The manifests contain data similar to the configuration settings and other data that applications traditionally stored in the Windows registry. Instead of registering this data in the Windows registry, the applications store shared side-by-side assembly manifests in the **WinSxS** folder of the computer. Private manifests are stored inside the application’s folder or they can be embedded in an application or assembly. The metadata of a manifest may include: \n",
    "- **Names** - Manages file naming.\n",
    "- **Resource collections** - Can include one or more DLLs, COM servers, Windows classes, interfaces, and/or type libraries.\n",
    "- **Classes** - Included if versioning is used.\n",
    "- **Dependencies** - Applications and assemblies can create dependencies to other side-by-side assemblies.\n",
    "\n",
    "As an IT Support professional, this concept should be considered when troubleshooting application issues. If the application’s configuration settings are not found in the Windows registry, they might be located in the manifest from the app’s side-by-side assembly."
   ]
  },
  {
   "cell_type": "markdown",
   "id": "49225cde-8fab-439e-87db-d63dcd89ff4e",
   "metadata": {},
   "source": [
    "## Linux Package Dependencies"
   ]
  },
  {
   "cell_type": "markdown",
   "id": "48feec91-46b7-4ac4-aea6-a56f18a46118",
   "metadata": {},
   "source": [
    "In this reading, you will review how to install and manage Debian packages in Linux using the `dpkg` command. This skill may be helpful to IT Support professionals that work with Linux systems like Debian or Ubuntu. \n",
    "\n",
    "The following is a list of terms used in this reading:\n",
    "\n",
    "- **Debian**: One of many free Linux operating systems (OSes), used as the foundation for other OSes, like Ubuntu. \n",
    "\n",
    "- **Linux packages**: A compressed software archive file that contains the files needed for a software application. These files can include binary executables, a software libraries, configuration files, package dependencies, command line utilities, and/or application(s) with a graphical user interface (GUI). A Linux package can also be an OS update. Linux OS installations normally come with thousands of packages. Common Linux package types include: \n",
    "\n",
    "    - `.deb` - Debian packages\n",
    "\n",
    "    - `.rpm` - Redhat packages\n",
    "\n",
    "    - `.tgz` - TAR archive file \n",
    "\n",
    "- **Linux repository**: Storage space on a remote server that hosts thousands of Linux packages. Repositories must be added to a Linux system in order for the system to search and download packages from the repository. \n",
    "\n",
    "- **Stand alone package**: A package that does not require any dependencies. All files required to install and run the package on a Linux system are contained inside a single package.\n",
    "\n",
    "- **Package dependency**: A package that other Linux packages depend upon to function properly. Often, packages do not include the dependencies required to install the software they contain. Instead, package manifests list the external dependencies needed by the package. \n",
    "\n",
    "- **Package manager**: A tool on Linux systems used for installing, managing, and removing Linux packages. Package managers can also read package manifests to determine if any dependencies are needed. The package manager then finds and downloads the dependency packages before installing the packaged software. Several common Linux Package Managers include:\n",
    "\n",
    "    - For Debian and Debian-based systems, like Ubuntu:\n",
    "        - `dpkg` - Debian Package Manager\n",
    "        - `APT` - Advanced Package Tool, uses dpkg commands\n",
    "        - `aptitude` - user-friendly package manager <br>\n",
    "        <br>\n",
    "    - RedHat and RedHat-based systems, like CentOS: \n",
    "        - `rpm` - RedHat Package Manager\n",
    "        - `yum` - Yellowdog Updater Modified, comes with RedHat\n",
    "        - `dnf` - Dandified Yum"
   ]
  },
  {
   "cell_type": "markdown",
   "id": "f89092e4-c94e-454e-ad74-448796cf51fe",
   "metadata": {},
   "source": [
    "### The `dpkg` command"
   ]
  },
  {
   "cell_type": "markdown",
   "id": "e6b807f9-afc9-420d-aadb-987e5a3c5084",
   "metadata": {},
   "source": [
    "The Linux dpkg command is used to build, install, manage, and remove packages in Debian or Debian-based systems. \n",
    "\n",
    "**Syntax**\n",
    "\n",
    "The following are a few common `dpkg` command action parameters, with syntax and uses: \n",
    "|||\n",
    "|-|-|\n",
    "|To install a package: |`$ sudo dpkg --install packagename`|\n",
    "|To update a package saved locally: |`$ sudo dpkg --update-avail packagename`|\n",
    "|To remove a package: |`$ sudo dpkg --remove packagename`|\n",
    "|To purge a package, which removes the package and all files belonging to the package: |`$ sudo dpkg --purge packagename`|\n",
    "|To get a list of packages installed: |`$ sudo dpkg --list`|\n",
    "|To get a list of all files belonging to or associated with a package: |`$ sudo dpkg --listfiles packagename`|\n",
    "|To list the contents of a new package: |`$ sudo dpkg -contents packagename`|\n",
    "\n",
    "When an action parameter is added to the `dpkg` command, one of the following two commands are run in the background:\n",
    "\n",
    "- **dpkg-deb**: A back-end tool for manipulating .deb files. The dpkg-deb tool provides information about .deb files, and can pack and unpack their contents.\n",
    "\n",
    "- **dpkg-query**: A back-end tool for querying .deb files for information."
   ]
  },
  {
   "cell_type": "markdown",
   "id": "6929b730-0ba9-4e3a-abe7-57e4281e6936",
   "metadata": {},
   "source": [
    "### Additional Debian package managers"
   ]
  },
  {
   "cell_type": "markdown",
   "id": "e339d305-c0a2-458d-8a25-dac32fa735fd",
   "metadata": {},
   "source": [
    "There are several alternate methods for managing Debian packages. Some have command-line interfaces (CLI) while others have GUIs. The alternative options to `dpkg` include:\n",
    "\n",
    "- **APT (Advanced Packaging Tool)** - A powerful package manager designed to be a front-end for the `dpkg` command. APT installs and updates dependencies required for proper .deb package installation. \n",
    "\n",
    "- **Synaptic Package Manager** – A popular GTK (GNU Image Manipulation Program ToolKit) widget with a GUI. Provides an array of package management features.\n",
    "\n",
    "- **Ubuntu Software Center** – A GTK GUI developed by Ubuntu and integrated into the Ubuntu OS.\n",
    "\n",
    "- **aptitude** – A user-friendly front-end for APT, with a menu-driven console and a CLI.\n",
    "\n",
    "- **KPackage** – A part of KDE (Kool Desktop Environment) used to install and load packages that do not contain binary content. Non-binary content includes graphics and scripted extensions. "
   ]
  },
  {
   "cell_type": "markdown",
   "id": "68eb5458-78b2-4084-ae63-4703979fa54c",
   "metadata": {
    "jp-MarkdownHeadingCollapsed": true,
    "tags": []
   },
   "source": [
    "# 3.5.3 Device Software Management"
   ]
  },
  {
   "cell_type": "markdown",
   "id": "78a45656-7b93-4614-97f1-916bea5df3f9",
   "metadata": {},
   "source": [
    "## Linux Devices and Drivers"
   ]
  },
  {
   "cell_type": "markdown",
   "id": "844f1e17-8b2e-49ac-8c6d-a09787d33672",
   "metadata": {},
   "source": [
    "In this reading, you will learn how devices and drivers are managed in Linux. Previously, you learned that in Linux, devices attached to the computer are recognized by the operating system as **device files**. Devices are located in the `/dev` directory in Linux. A few examples of devices you may find in the `/dev` directory include:\n",
    "\n",
    "- `/dev/sda` - First SCSI drive\n",
    "- `/dev/sr0` - First optical disk drive \n",
    "- `/dev/usb` - USB device\n",
    "- `/dev/usbhid` - USB mouse\n",
    "- `/dev/usb/lp0` - USB printer\n",
    "- `/dev/null` - discard\n",
    "\n",
    "Some of the Linux device categories include:\n",
    "\n",
    "- **Block devices**: Devices that can hold data, such as hard drives, USB drives, and filesystems.\n",
    "\n",
    "- **Character devices**: Devices that input or output data one character at a time, such as keyboards, monitors, and printers. \n",
    "\n",
    "- **Pipe devices**: Similar to character devices. However, pipe devices send output to a process running on the Linux machine instead of a monitor or printer.\n",
    "\n",
    "- **Socket devices**: Similar to pipe devices. However, socket devices help multiple processes communicate with each other."
   ]
  },
  {
   "cell_type": "markdown",
   "id": "17de2304-8dc8-4e74-979f-fb03aa036e5c",
   "metadata": {},
   "source": [
    "### Installing a device in Linux"
   ]
  },
  {
   "cell_type": "markdown",
   "id": "1dc9e8b8-44e0-47ab-9ef3-7e65667561c7",
   "metadata": {},
   "source": [
    "There are hundreds of versions of Linux available due to the fact that Linux is an open source operating system. The methods for installing devices on Linux can vary from version to version. The instructions in this section provide various options for installing a printer and its device drivers on a Red Hat 9 Linux system running the GNOME user interface. \n",
    "\n",
    "**Device autodetect with udev**\n",
    "\n",
    "**Udev** is a device manager that automatically creates and removes device files in Linux when the associated devices are connected and disconnected. Udev has a daemon running in Linux that listens for kernel messages about devices connecting and disconnecting to the machine. \n",
    "\n",
    "**Installation through a user interface - GNOME**\n",
    "\n",
    "There are multiple user interfaces available for Linux. These instructions are specifically for the GNOME user interface. \n",
    "\n",
    "- In the GNOME user interface, open the `Settings` menu.\n",
    "\n",
    "- On the left-side menu, select `Printers`.\n",
    "\n",
    "- Click the `Unlock` button in the top right corner to change the system settings. Note that your user account must have superuser, sudo, or printadmin privileges to unlock the system settings for printers. \n",
    "\n",
    "- A dialog box will open showing a list of available printers. If your network has a large number of printers, you can search for the printer by IP address or host name. \n",
    "\n",
    "- Select the printer you want to install on the local system and click `Add`.\n",
    "\n",
    "- The printer listing will appear in the `Settings` window for the Printers. \n",
    "\n",
    "- In the top right corner of the printer listing, click the `Printer Settings` icon and select `Printer Details` from the pop-up menu. \n",
    "\n",
    "- The details of the printer will open in a new window. You should have three options for installing the printer driver:\n",
    "\n",
    "    - **Search for Drivers**: The GNOME Control Center will automatically search for the driver in driver repositories using PackageKit.\n",
    "\n",
    "    - **Select from Database**: Manually select a driver from any databases installed on the Linux system.\n",
    "\n",
    "    - **Install PPD File**: Manually select from a list of postscript printer description (PPD) files, which may be used as printer drivers.\n",
    "\n",
    "**Installation through the command line**\n",
    "\n",
    "Red Hat Linux uses the **Common Unix Printing System (CUPS)** to manage printers from the command line. CUPS servers broadcast to clients for automatic printer installation on Linux machines. However, for network environments with multiple printers, it may be preferable to manually install specific printers through the command line. \n",
    "\n",
    "- From the command-line, enter `$ lpadmin -p printername -m driverfilename.ppd` \n",
    "\n",
    "    - `Lpadmin` is the printer administrator command.\n",
    "\n",
    "    - The `-p printername` command adds or modifies the named printer. \n",
    "\n",
    "    - The `-m driverfilename.ppd` command installs the postscript printer description (PPD) driver filename that you provide. The file should be stored in the `/usr/share/cups/model/` directory.\n",
    "\n",
    "    - Enter $ man lpadmin to open the manual for the lpadmin command to find additional command line options."
   ]
  },
  {
   "cell_type": "markdown",
   "id": "34aabb19-7ede-4217-b23d-80ca91c769b5",
   "metadata": {},
   "source": [
    "### How to check if a device is installed"
   ]
  },
  {
   "cell_type": "markdown",
   "id": "6bd2d33a-19bb-473b-bbcb-8153112c5a09",
   "metadata": {},
   "source": [
    "There are a couple of methods for checking if a device is already installed on a Linux machine:\n",
    "\n",
    "**Through a user interface like GNOME**\n",
    "\n",
    "1. In the GNOME user interface, open the Settings menu.\n",
    "\n",
    "1. Browse each device set on the left-side menu. \n",
    "\n",
    "1. The attached devices of the selected device type will appear in the window pane on the right.\n",
    "\n",
    "**Through the command line**\n",
    "\n",
    "The most common way to check if a device is installed is to use the “ls” (lowercase L and S) command, which means “list”. \n",
    "\n",
    "- `$ ls /dev` - Lists all devices in the /dev folder\n",
    "\n",
    "- `$ lscpci` - Lists devices installed on the PCI bus\n",
    "\n",
    "- `$ lsusb` - Lists devices installed on the USB bus\n",
    "\n",
    "- `$ lsscsi` - Lists SCSI devices, such as hard drives\n",
    "\n",
    "- `$ lpstat -p` - Lists all printers and whether they are enabled\n",
    "\n",
    "- `$ dmesg` - Lists devices recognized by the kernel"
   ]
  },
  {
   "cell_type": "markdown",
   "id": "b6796d94-b1ec-44ed-82f5-5c142dc72f6e",
   "metadata": {},
   "source": [
    "## Linux Update"
   ]
  },
  {
   "cell_type": "markdown",
   "id": "fead85c3-8d0e-4d93-b61d-caf15cb3d828",
   "metadata": {},
   "source": [
    "Linux is a free, open-source operating system used on a wide variety of computing systems, such as embedded devices, mobile devices including its use in the Android operating system, personal computers, servers, mainframes, and supercomputers. The Linux kernel is the core interface between a device’s hardware and the rest of its processes. The kernel controls all the major functions of hardware running the Linux operating system. To keep the core operating system up to date with current security patches, new features, and bug patches, you need to update the Linux kernel. This reading covers how the Linux kernel functions and how to update Ubuntu, the most common Linux distribution. "
   ]
  },
  {
   "cell_type": "markdown",
   "id": "003959e9-fa04-4a9d-be4b-f95ddfab7af6",
   "metadata": {},
   "source": [
    "### Linux kernel"
   ]
  },
  {
   "cell_type": "markdown",
   "id": "56bd2ce7-61f3-427d-9a2c-ea7b3b0e020f",
   "metadata": {},
   "source": [
    "The Linux kernel is the main component of a Linux operating system (OS). The kernel is software located in the memory that tells the central processing unit (CPU) what to do. The Linux kernel is like a personal assistant for the hardware that relays messages and requests from users to the hardware. \n",
    "\n",
    "The kernel has four main jobs:\n",
    "\n",
    "- Memory management tracks how much memory is being used by what and where it is stored. \n",
    "- Process management determines which processes can use the central processing unit (CPU), when, and for how long.\n",
    "- Device drivers act as an interpreter between the hardware and processes.\n",
    "- System calls and security receives requests for service from the processes.\n",
    "\n",
    "To ensure that Linux distribution is running the most current version of the operating system, you will need to update it regularly. "
   ]
  },
  {
   "cell_type": "markdown",
   "id": "67ab6164-6648-45a8-8c2d-3fd0a6c5348a",
   "metadata": {},
   "source": [
    "### Updating Ubuntu Linux distribution"
   ]
  },
  {
   "cell_type": "markdown",
   "id": "18b6a44f-0cf9-4558-bf69-5a50ca4deecc",
   "metadata": {},
   "source": [
    "A Linux distribution is an operating system (OS) that includes the Linux kernel and usually a package management system. There are almost one thousand Linux distributions, and each distribution has a slightly different way of updating.\n",
    "\n",
    "The Ubuntu distribution is one of the most popular since it is easy to use. There are two ways to update the Ubuntu distribution:\n",
    "\n",
    "- **Update Manager** is a graphical user interface (GUI) that is nearly 100% automated. When updates are available, it will open on your desktop and prompt you to complete the updates. It checks for security updates daily and nonsecurity updates weekly. You can also choose to check for updates manually.\n",
    "\n",
    "- **Apt** is the Ubuntu package management system that uses command line tools to update a Ubuntu distribution. Apt does not check for updates automatically, you must manually run it to check for updates. You can use the following commands to check for updates and upgrade:\n",
    "\n",
    "    - `apt-get update` To update with apt, open the terminal and use the command apt-get update. This command prompts you to enter your password, then it updates the list of system packages. \n",
    "\n",
    "    - `apt-get upgrade` Once the package list is up to date, use the command apt-get upgrade to actually download and install all updated versions for the packages in the list."
   ]
  },
  {
   "cell_type": "markdown",
   "id": "36d463ae-312c-4a28-8eaa-2d635d74a8ae",
   "metadata": {},
   "source": [
    "### Key Takeaways"
   ]
  },
  {
   "cell_type": "markdown",
   "id": "5c74a01e-fc60-4bb2-b8c9-39fc5124daf9",
   "metadata": {},
   "source": [
    "- Linux is a free open-source operating system used on a wide variety of computing systems.  \n",
    "\n",
    "- The kernel is a part of the operating system of Linux and runs communications between the computer’s hardware and its processes. \n",
    "\n",
    "- Unbuntu is the most popular distribution because it is easy to use and update with the update manager or the command sudo apt-get upgrade.\n",
    "\n",
    "- As improvements to the processes are released, Linux needs to be updated to ensure the kernel communicates the right information to the hardware about the process. \n",
    "\n",
    "**Resources for more information**\n",
    "\n",
    "For more information on updating various distributions of Linux, visit this [Linux Foundation article](https://www.linuxfoundation.org/blog/classic-sysadmin-linux-101-updating-your-system/). \n",
    "\n",
    "For more complete command information for using apt in Ubuntu, visit [Ubuntu’s guide here](https://manpages.ubuntu.com/manpages/bionic/en/man8/apt.8.html)."
   ]
  },
  {
   "cell_type": "markdown",
   "id": "14d074ff-d415-4681-999a-92b8d2811119",
   "metadata": {
    "jp-MarkdownHeadingCollapsed": true,
    "tags": []
   },
   "source": [
    "# <b>3.6 File System Types</b>"
   ]
  },
  {
   "cell_type": "markdown",
   "id": "06d192e4-fc04-4fd1-a8c5-c150d2a7cc97",
   "metadata": {},
   "source": [
    "|Purpose|PowerShell|Bash|\n",
    "|-|-|-|\n",
    "|list disks|`DiskPart` -> `list disk`|`lsblk \\| grep disk`|\n",
    "|list disks and partitions||`sudo parted -l` (`quit`)|\n",
    "|||`sudo parted /dev/sdX` -> `print`|\n",
    "|create mbr or gpt partition table||`sudo parted /dev/sdX` -> `mklabel gpt`|\n",
    "|create a partition|`DiskPart` -> `select disk X` -> `create partition primary` -> `select partition 1` -> active|(parted) `mkpart primary ext4 <start of disk> <end of disk>`|\n",
    "|format disk|`(DiskPart) clean` -> `format FS=NTFS label=<name> quick`|`sudo mkfs -t ext4 /dev/sdX`|\n",
    "|mount a new drive||`sudo parted mount /dev/sdX <name_of_partition>`|\n",
    "|unmount a drive||`sudo umount /dev/sdX`|\n",
    "|show static info about fsystem||`cat /etc/fstab`|\n",
    "|check uuid (universally unique id) of partitions||`sudo blkid`|\n",
    "|**Links**|||\n",
    "|symbolik links|`mklink <symlink_name> <fname>`||\n",
    "|soft links||`ln -s <fname> <linkname>`|\n",
    "|hard links |`mklink /H <symlink_name> <fname>`|`ln <fname> <linkname>`|\n",
    "|**Disk usage**|[Disk Usage utility](https://learn.microsoft.com/en-us/sysinternals/downloads/du)||\n",
    "|disk usage in a directory||`du -h`|\n",
    "|free space in a directory||`df -h`|\n",
    "|**Disk repairing**|||\n",
    "||`fsutil repair query C:`|`sudo fscheck /dev/sdX` (can damage a file system)|\n",
    "|check and repair bad sectors|`chkdisk /F D:`||\n",
    "\n",
    "Beware of using kilobytes and kibibytes. In data storage terminology **1024 bytes are called kibibytes**, not kilobytes as in other IT fields."
   ]
  },
  {
   "cell_type": "markdown",
   "id": "d38f0d07-c39b-41c9-bb73-4f199461b4ad",
   "metadata": {},
   "source": [
    "<div><div class=\"reading-title css-1hxq2bi\"><h2 class=\"cds-108 css-1diqjn6 cds-110\" tabindex=\"-1\">Supplemental reading Mounting and Unmounting a Filesystem in Linux</h2><div class=\"css-1kuhxiq\"></div></div><div class=\"rc-CML\" dir=\"auto\"><div><div data-track=\"true\" data-track-app=\"open_course_home\" data-track-page=\"item_layout\" data-track-action=\"click\" data-track-component=\"cml\" role=\"presentation\"><div data-track=\"true\" data-track-app=\"open_course_home\" data-track-page=\"item_layout\" data-track-action=\"click\" data-track-component=\"cml_link\"><div data-testid=\"cml-viewer\" class=\"css-1kgqbsw\"><p>In this reading, you will learn how to mount and unmount file systems in Linux using the </span></span><span><strong><span>fstab</span></strong></span><span><span> table. IT Support professionals who work with Linux systems should know how to mount and unmount file systems both manually and automatically. This skill is often used when configuring Linux servers and other Linux systems to connect to network file systems.&nbsp;&nbsp;&nbsp;</span></span></p><h3 data-heading-variant=\"h3semibold\"><span><span>File system table (</span></span><span><strong><span>fstab</span></strong></span><span><span>)</span></span></h3><p><span><span>File System Table (</span></span><span><strong><span>fstab</span></strong></span><span><span>) is a Linux configuration table. It helps to simplify mounting and unmounting file systems in Linux. Mounting means to connect a physical storage device (hard drives, CD/DVD drives, network shares) to a location, also called a mount point, in a file system table. In the past, IT Support specialists for Linux systems had to manually mount hard drives and file systems using the </span></span><span><strong><span>mount</span></strong></span><span><span> command. The</span></span><span><strong><span> fstab</span></strong></span><span><span> configuration file made this administrative task more efficient by offering the option to automate the mounting of partitions or file systems during the boot process. Additionally, </span></span><span><strong><span>fstab</span></strong></span><span><span> allows for customized rules for mounting individual file systems.</span></span></p><p><span><span>The </span></span><span><strong><span>fstab</span></strong></span><span><span> configuration table consists of six columns containing the following parameters:</span></span></p><ul><li><p><span><strong><span>Column 1 - Device:</span></strong></span><span><span> \n",
    "The universally unique identifier (UUID) or the name of the device to be mounted (sda1, sda2, … sda#).</span></span></p></li><li><p><span><strong><span>Column 2 - Mount point: </span></strong></span><span><span>\n",
    "Names the directory location for mounting the device.&nbsp;</span></span></p></li><li><p><span><strong><span>Column 3 - File system type: </span></strong></span><span><span>\n",
    "Linux file systems, such as ext2, ext3, ext4, JFS, JFS2, VFAT, NTFS, ReiserFS, UDF, swap, and more.</span></span></p></li><li><p><span><strong><span>Column 4 - Options: </span></strong></span><span><span>\n",
    "List of mounting options in use, delimited by commas.</span></span><span><strong><span> </span></strong></span><span><span>See the next section titled “Fstab options” below for more information.</span></span></p></li><li><p><span><strong><span>Column 5 - Backup operation or dump: </span></strong></span><span><span>\n",
    "This is an outdated method for making device or partition backups and command dumps. It should not be used. In the past, this column contained a binary code that signified:</span></span></p><ul><li><p><span><strong><span>0</span></strong></span><span><span> = turns off backups</span></span></p></li><li><p><span><strong><span>1</span></strong></span><span><span> = turns on backups</span></span></p></li></ul></li><li><p><span><strong><span>Column 6 - File system check (fsck) order or Pass: </span></strong></span><span><span>\n",
    "The order in which the mounted device should be checked by the </span></span><span><strong><span>fsck</span></strong></span><span><span> utility:</span></span></p><ul><li><p><span><span>0 = fsck should not run a check on the file system.</span></span></p></li><li><p><span><span>1 = mounted device is the root file system and should be checked by the </span></span><span><strong><span>fsck</span></strong></span><span><span> command first.</span></span></p></li><li><p><span><span>2 = mounted device is a disk partition, which should be checked by </span></span><span><strong><span>fsck</span></strong></span><span><span> command after the root file system.</span></span></p></li></ul></li></ul><p><span><span>Example of an </span></span><span><strong><span>fstab</span></strong></span><span><span> table:</span></span></p><div class=\"css-1yr0py9\"><table><thead><tr><th scope=\"col\"><p><span><span>&lt;File System&gt;</span></span></p></th><th scope=\"col\"><p><span><span>&lt;Mount Point&gt;</span></span></p></th><th scope=\"col\"><p><span><span>&lt;Type&gt;</span></span></p></th><th scope=\"col\"><p><span><span>&lt;Options&gt;</span></span></p></th><th scope=\"col\"><p><span><span>&lt;Dump&gt;</span></span></p></th><th scope=\"col\"><p><span><span>&lt;Pass&gt;</span></span></p></th></tr></thead><tbody><tr><td><p><span><span>/dev/sda1</span></span></p></td><td><p><span><span>/</span></span></p></td><td><p><span><span>ext3</span></span></p></td><td><p><span><span>nouser</span></span></p></td><td><p><span><span>0</span></span></p></td><td><p><span><span>1</span></span></p></td></tr><tr><td><p><span><span>/dev/sda2</span></span></p></td><td><p><span><span>swap</span></span></p></td><td><p><span><span>swap</span></span></p></td><td><p><span><span>defaults</span></span></p></td><td><p><span><span>0</span></span></p></td><td><p><span><span>0</span></span></p></td></tr><tr><td><p><span><span>/dav/hda1</span></span></p></td><td><p><span><span>/mnt/shared</span></span></p></td><td><p><span><span>nfs</span></span></p></td><td><p><span><span>rw, noexec</span></span></p></td><td><p><span><span>0</span></span></p></td><td><p><span><span>2</span></span></p></td></tr></tbody></table></div><h4 data-heading-variant=\"h4bold\"><span><span>\n",
    "Fstab options</span></span></h4><p><span><span>In Column 4 of the </span></span><span><strong><span>fstab</span></strong></span><span><span> table, the available options include:&nbsp;</span></span></p><ul><li><p><span><strong><span>sync or async</span></strong></span><span><span> - Sets reading and writing to the file system to occur synchronously or asynchronously.</span></span></p></li><li><p><span><strong><span>auto</span></strong></span><span><span> - Automatically mounts the file system when booting.</span></span></p></li><li><p><span><strong><span>noauto</span></strong></span><span><span> - Prevents the file system from mounting automatically when booting.</span></span></p></li><li><p><span><strong><span>dev or nodev</span></strong></span><span><span> - Allows or prohibits the use of the device driver to mount the device.</span></span></p></li><li><p><span><strong><span>exec or noexec</span></strong></span><span><span> - Allows or prevents file system binaries from executing.</span></span></p></li><li><p><span><strong><span>ro</span></strong></span><span><span> - Mount file system as read-only.</span></span></p></li><li><p><span><strong><span>rw</span></strong></span><span><span> - Mount file system for read-write operations.</span></span></p></li><li><p><span><strong><span>user </span></strong></span><span><span>- Allows any user to mount the file system, but restricts which user can unmount the file system.</span></span></p></li><li><p><span><strong><span>users</span></strong></span><span><span> - Any user can mount the file system plus any user can unmount file system.</span></span></p></li><li><p><span><strong><span>nouser</span></strong></span><span><span> - The root user is the only role that can mount the file system (default setting).</span></span></p></li><li><p><span><strong><span>defaults</span></strong></span><span><span> - Use default settings, which include</span></span><span><strong><span> rw</span></strong></span><span><span>, </span></span><span><strong><span>suid</span></strong></span><span><span>, </span></span><span><strong><span>dev</span></strong></span><span><span>, </span></span><span><strong><span>exec</span></strong></span><span><span>, </span></span><span><strong><span>auto</span></strong></span><span><span>, </span></span><span><strong><span>nouser</span></strong></span><span><span>, </span></span><span><strong><span>async</span></strong></span><span><span>.</span></span></p></li></ul><p><span><span>For more options, consult the </span></span><span><strong><span>man </span></strong></span><span><span>page for the file system in use.\n",
    "</span></span></p><h3 data-heading-variant=\"h3semibold\"><span><span>Editing the </span></span><span><strong><span>fstab</span></strong></span><span><span> table</span></span></h3><p><span><span>As an IT Support professional, you may need to expand the hard drive space on a server. Imagine that you have installed a new hard drive and the Linux server does not seem to recognize the drive. In the background, Linux has detected the new hardware, but it does not know how to display information about the drive. So, you will need to add an entry in the </span></span><span><strong><span>fstab</span></strong></span><span><span> table so that Linux will know how to mount it and display its entry within the file system. The following steps will guide you through this process:</span></span></p><ol><li><p><span><span>Format the drive using the </span></span><span><strong><span>fdisk</span></strong></span><span><span> command. Select a Linux compatible file system, like ext4. If needed, you can also create a partition on the drive with the </span></span><span><strong><span>fdisk</span></strong></span><span><span> command.&nbsp;&nbsp;</span></span></p></li><li><p><span><span>Find which block devices the Linux system has assigned to the new drive. The block device is a storage device (hard drive, DVD drive, etc.) that is registered as a file in the </span></span><span><strong><span>/dev</span></strong></span><span><span> directory. The device file provides an interface between the system and the attached device for read-write processes. Use the </span></span><span><strong><span>lsblk</span></strong></span><span><span> command to find the list of block devices that are connected to the system.</span></span></p></li></ol><p><span><span>\n",
    "Example output from the </span></span><span><strong><span>lsblk</span></strong></span><span><span> command:</span></span></p><div class=\"css-1yr0py9\"><table><thead><tr><th scope=\"col\"><p><span><span>NAME</span></span></p></th><th scope=\"col\"><p><span><span>MAJ:MIN</span></span></p></th><th scope=\"col\"><p><span><span>RM</span></span></p></th><th scope=\"col\"><p><span><span>SIZE</span></span></p></th><th scope=\"col\"><p><span><span>RO</span></span></p></th><th scope=\"col\"><p><span><span>TYPE</span></span></p></th><th scope=\"col\"><p><span><span>MOUNTPOINT</span></span></p></th></tr></thead><tbody><tr><td><p><span><span>sda</span></span></p></td><td><p><span><span>8:0</span></span></p></td><td><p><span><span>0</span></span></p></td><td><p><span><span>512G</span></span></p></td><td><p><span><span>0</span></span></p></td><td><p><span><span>disk</span></span></p></td><td><p><span><span>\n",
    "</span></span></p></td></tr><tr><td><p><span><span>┖ sda1</span></span></p></td><td><p><span><span>8:1</span></span></p></td><td><p><span><span>0</span></span></p></td><td><p><span><span>1G</span></span></p></td><td><p><span><span>0</span></span></p></td><td><p><span><span>part</span></span></p></td><td><p><span><span>/boot</span></span></p></td></tr><tr><td><p><span><span>sdb</span></span></p></td><td><p><span><span>8:16</span></span></p></td><td><p><span><span>0</span></span></p></td><td><p><span><span>1T</span></span></p></td><td><p><span><span>0</span></span></p></td><td><p><span><span>disk</span></span></p></td><td><p><span><span>\n",
    "</span></span></p></td></tr><tr><td><p><span><span>┖ sdb1</span></span></p></td><td><p><span><span>8:17</span></span></p></td><td><p><span><span>0</span></span></p></td><td><p><span><span>128G</span></span></p></td><td><p><span><span>0</span></span></p></td><td><p><span><span>part</span></span></p></td><td><p><span><span>\n",
    "</span></span></p></td></tr></tbody></table></div><p><span><span>\n",
    "The seven columns in the output from the </span></span><span><strong><span>lsblk</span></strong></span><span><span> command are as follows:</span></span></p><p><span><span>a.</span></span><span><strong><span> NAME</span></strong></span><span><span> - Device names of the blocks. In this example, the device names are the existing </span></span><span><strong><span>sda</span></strong></span><span><span> drive and </span></span><span><strong><span>sda1 </span></strong></span><span><span>partition plus the new </span></span><span><strong><span>sdb </span></strong></span><span><span>hard drive and a newly formatted </span></span><span><strong><span>sdb1 </span></strong></span><span><span>partition.</span></span></p><p><span><span>b.</span></span><span><strong><span> MAJ:MIN</span></strong></span><span><span> - Major and minor code numbers for the device:</span></span></p><ol><li><p><span><span>The major number is the driver type used for device communication. A few examples include:</span></span></p><ul><li><p><span><strong><span>1</span></strong></span><span><span> = RAM&nbsp;&nbsp;</span></span></p></li><li><p><span><strong><span>3</span></strong></span><span><span> = IDE hard drive</span></span></p></li><li><p><span><strong><span>8</span></strong></span><span><span> = SCSI hard drive</span></span></p></li><li><p><span><strong><span>9</span></strong></span><span><span> = RAID metadisk</span></span></p></li></ul></li><li><p><span><span>The minor number is an ID number used by the device driver for the major number type.&nbsp;</span></span></p><ul><li><p><span><span>The minor numbers for the first hard drive can range from 0 to 15.</span></span></p><ol><li><p><span><span>The </span></span><span><strong><span>0</span></strong></span><span><span> minor number value for </span></span><span><strong><span>sda</span></strong></span><span><span> represents the physical drive.</span></span></p></li><li><p><span><span>The </span></span><span><strong><span>1</span></strong></span><span><span> minor number value for </span></span><span><strong><span>sda1</span></strong></span><span><span> represents the first partition on the </span></span><span><strong><span>sda</span></strong></span><span><span> drive.</span></span></p></li></ol></li><li><p><span><span>The minor numbers for the second hard drive can range from 16 to 31.</span></span></p><ol><li><p><span><span>The </span></span><span><strong><span>16</span></strong></span><span><span> minor number value for </span></span><span><strong><span>sdb</span></strong></span><span><span> represents the physical drive.</span></span></p></li><li><p><span><span>The </span></span><span><strong><span>17</span></strong></span><span><span> minor number value for </span></span><span><strong><span>sdb1</span></strong></span><span><span> represents the first partition on the </span></span><span><strong><span>sdb</span></strong></span><span><span> drive.</span></span></p></li></ol></li><li><p><span><span>Minor numbers for a third hard drive would range from 32 to 47, and so on.</span></span></p></li></ul></li></ol><p><span><span>c. </span></span><span><strong><span>RM</span></strong></span><span><span> - Indicates if the device is:</span></span></p><ol><li><p><span><strong><span>0</span></strong></span><span><span> = not removable&nbsp;</span></span></p></li><li><p><span><strong><span>1</span></strong></span><span><span> = removable</span></span></p></li></ol><p><span><span>d.</span></span><span><strong><span> SIZE</span></strong></span><span><span> - The amount of storage available on the device.</span></span></p><p><span><span>e. </span></span><span><strong><span>RO</span></strong></span><span><span> - Indicates file permissions:</span></span></p><ol><li><p><span><strong><span>0</span></strong></span><span><span> = read-write</span></span></p></li><li><p><span><strong><span>1</span></strong></span><span><span> = read-only</span></span></p></li></ol><p><span><span>f.</span></span><span><strong><span> TYPE</span></strong></span><span><span> - Lists the type of device, such as:</span></span></p><ol><li><p><span><strong><span>disk</span></strong></span><span><span> = hard drive</span></span></p></li><li><p><span><strong><span>part</span></strong></span><span><span> = disk partition&nbsp;</span></span></p></li></ol><p><span><span>g. </span></span><span><strong><span>MOUNTPOINT</span></strong></span><span><span> - The location where the device is mounted. A blank entry in this column means it is not mounted.&nbsp;&nbsp;</span></span></p><p><span><span>3. Use an editor, like gedit, to open the </span></span><span><strong><span>fstab</span></strong></span><span><span> file:&nbsp;</span></span></p><p><span><span>Example fstab file:</span></span></p><div class=\"css-1yr0py9\"><table><thead><tr><th scope=\"col\"><p><span><span>Device</span></span></p></th><th scope=\"col\"><p><span><span>Mount Point</span></span></p></th><th scope=\"col\"><p><span><span>File System</span></span></p></th><th scope=\"col\"><p><span><span>Options</span></span></p></th><th scope=\"col\"><p><span><span>Dump</span></span></p></th><th scope=\"col\"><p><span><span>Pass</span></span></p></th></tr></thead><tbody><tr><td><p><span><span>/dev/sda1</span></span></p></td><td><p><span><span>/</span></span></p></td><td><p><span><span>ext3</span></span></p></td><td><p><span><span>nouser</span></span></p></td><td><p><span><span>0</span></span></p></td><td><p><span><span>1</span></span></p></td></tr></tbody></table></div><p><span><span>4. To add the new file system partition:</span></span></p><ol><li><p><span><span>In the first column, add the new file system device name. In this example, the device name would be </span></span><span><strong><span>/dev/sdb1</span></strong></span><span><span>.</span></span></p></li><li><p><span><span>In the second column, indicate the mount point for the new partition. This should be a directory that would be easy to find and identify for users. For the sake of simplicity, the mount point for this example is </span></span><span><strong><span>/mnt/mystorage</span></strong></span><span><span>.</span></span></p></li><li><p><span><span>In the third column, enter the file system used on the new partition. In this example, the file system used for the new partition is </span></span><span><strong><span>ext4</span></strong></span><span><span>.</span></span></p></li><li><p><span><span>In the fourth column, enter any options you would like to use. The most common option is to select </span></span><span><strong><span>default</span></strong></span><span><span>.&nbsp;</span></span></p></li><li><p><span><span>In the fifth column, set the dump file to 0. Dump files are no longer configured in the </span></span><span><strong><span>fstab</span></strong></span><span><span> file, but the column still exists.</span></span></p></li><li><p><span><span>In the sixth column, the pass value should be </span></span><span><strong><span>2 </span></strong></span><span><span>because it is not the root file system and it is a best practice to run a file system check on boot.\n",
    "\n",
    "Your </span></span><span><strong><span>fstab</span></strong></span><span><span> table should now include the new partition:</span></span></p></li></ol><div class=\"css-1yr0py9\"><table><thead><tr><th scope=\"col\"><p><span><span>&lt;File System&gt;</span></span></p></th><th scope=\"col\"><p><span><span>&lt;Mount Point&gt;</span></span></p></th><th scope=\"col\"><p><span><span>&lt;Type&gt;</span></span></p></th><th scope=\"col\"><p><span><span>&lt;Options&gt;</span></span></p></th><th scope=\"col\"><p><span><span>&lt;Dump&gt;</span></span></p></th><th scope=\"col\"><p><span><span>&lt;Pass&gt;</span></span></p></th></tr></thead><tbody><tr><td><p><span><span>/dev/sda1</span></span></p></td><td><p><span><span>/</span></span></p></td><td><p><span><span>ext3</span></span></p></td><td><p><span><span>nouser</span></span></p></td><td><p><span><span>0</span></span></p></td><td><p><span><span>1</span></span></p></td></tr><tr><td><p><span><span>/dev/sdb1</span></span></p></td><td><p><span><span>/mnt/mystorage</span></span></p></td><td><p><span><span>ext4</span></span></p></td><td><p><span><span>default</span></span></p></td><td><p><span><span>0</span></span></p></td><td><p><span><span>2</span></span></p></td></tr></tbody></table></div><p><span><span>      7. Reboot the computer and check the </span></span><span><strong><span>mystorage </span></strong></span><span><span>directory for the new partition.</span></span></p></div></div></div></div>"
   ]
  },
  {
   "cell_type": "markdown",
   "id": "cc9a6c70-74ee-4076-a434-2dd18aa3368a",
   "metadata": {
    "tags": []
   },
   "source": [
    "<div><div class=\"reading-title css-1hxq2bi\"><h2 class=\"cds-108 css-1diqjn6 cds-110\" tabindex=\"-1\">Supplemental Reading for Windows Paging</h2><div class=\"css-1kuhxiq\"></div></div><div class=\"rc-CML\" dir=\"auto\"><div><div data-track=\"true\" data-track-app=\"open_course_home\" data-track-page=\"item_layout\" data-track-action=\"click\" data-track-component=\"cml\" role=\"presentation\"><div data-track=\"true\" data-track-app=\"open_course_home\" data-track-page=\"item_layout\" data-track-action=\"click\" data-track-component=\"cml_link\"><div data-testid=\"cml-viewer\" class=\"css-1kgqbsw\">In this reading, you will learn about Windows paging files and their primary functions. You will also learn how to set the appropriate Windows paging file size. As an IT Support specialist, you may want to add or maintain page files to improve system performance. A paging file is an optional tool that uses hard drive space to supplement a system’s RAM capacity. The paging file offloads data from RAM that has not been used recently by the system. Paging files can also be used for system crash dumps or to extend the system commit charge when the computer is in peak usage. However, paging files may not be necessary in systems with a large amount of RAM.</span></span></p><h3 data-heading-variant=\"h3semibold\"><span><span>Page file sizing&nbsp;</span></span></h3><p><span><span>Determining the size needed for a paging file depends on each system’s unique needs and uses. Variables that have an impact on page file sizes include:</span></span></p><ul><li><p><span><span>System crash dump requirements - A system crash dump is generated when a system crashes. A page file can be allocated to accept the Memory.dmp. Crash dumps have several size options that can be useful for various troubleshooting purposes. The page file needs to be large enough to accept the size of the selected crash dump. If the page file is not large enough, the system will not be able to generate the crash dump file. If the system is configured to manage page dumps, the system will automatically size the page files based on the crash dump settings. There are multiple crash dump options. Two common options include:</span></span></p><ul><li><p><span><strong><span>Small memory dump: </span></strong></span><span><span>This setting will save the minimum amount of info needed to troubleshoot a system crash. The paging file must have at least 2 MB of hard drive space allocated to it on the boot volume of the Windows system. It should also be configured to generate a new page file for each system crash to save a record of system problems. This history is stored in the&nbsp; Small Dump Directory which is located in the %SystemRoot%\\Minidump file path.&nbsp;</span></span></p><ul><li><p><span><span>To configure a small memory dump file, run the following command using the cmd utility:</span></span></p></li></ul></li></ul></li></ul><p><span><span>Wmic recoveros set </span></span><span><strong><span>DebugInfoType</span></strong></span><span><span> = 3</span></span></p><ul><li><p><span><span>Alternatively, this option can be configured in the registry:</span></span></p></li></ul><p><span><span>Set the </span></span><span><strong><span>CrashDumpEnabled</span></strong></span><span><span> DWORD value to 3</span></span></p><ul><li><p><span><span>To set a folder as the Small Dump Directory, use the following command line:</span></span></p></li></ul><p><span><span>Wmic recoveros set </span></span><span><strong><span>MiniDumpDirectory </span></strong></span><span><span>= &lt;folderpath&gt;&nbsp;</span></span></p><ul><li><p><span><span>Alternatively, the directory option can be set in the registry:</span></span></p></li></ul><p><span><span>Set the </span></span><span><strong><span>MinidumpDir Expandable String Value</span></strong></span><span><span> to &lt;folderpath&gt;</span></span></p><ul><li><p><span><strong><span>Complete memory dump: </span></strong></span><span><span>The option records the contents of system memory when the computer stops unexpectedly. This option isn't available on computers that have 2 or more GB of RAM. If you select this option, you must have a paging file on the boot volume that is sufficient to hold all the physical RAM plus 1 MB. The file is stored as specified in %SystemRoot%\\Memory.dmp by default. The extra megabyte is required for a complete memory dump file because Windows writes a header in addition to dumping the memory contents. The header contains a crash dump signature and specifies the values of some kernel variables. The header information doesn't require a full megabyte of space, but Windows sizes your paging file in increments of megabytes.</span></span></p><ul><li><p><span><span>To configure a complete memory dump file, run the following command using the cmd utility:</span></span></p></li></ul></li></ul><p><span><span>wmic recoveros set </span></span><span><strong><span>DebugInfoType</span></strong></span><span><span> = 1</span></span></p><ul><li><p><span><span>Alternatively, a complete memory dump file can be configured in the registry:</span></span></p></li></ul><p><span><span>Set the </span></span><span><strong><span>CrashDumpEnabled</span></strong></span><span><span> DWORD value to 1</span></span></p><ul><li><p><span><span>To set a memory dump file, use the following command line:</span></span></p></li></ul><p><span><span>wmic recoveros set </span></span><span><strong><span>DebugFilePath =</span></strong></span><span><span> &lt;folderpath&gt;&nbsp;</span></span></p><ul><li><p><span><span>Alternatively, the memory dump file can be set in the registry:</span></span></p></li></ul><p><span><span>Set the </span></span><span><strong><span>DumpFile Expandable String Value</span></strong></span><span><span> to &lt;folderpath&gt;</span></span></p><ul><li><p><span><span>To indicate that the system should not overwrite kernel memory dumps or other complete memory dumps, which may be valuable for troubleshooting system problems, use the command:</span></span></p></li></ul><p><span><span>wmic recoveros set </span></span><span><strong><span>OverwriteExistingDebugFile</span></strong></span><span><span> = 0</span></span></p><ul><li><p><span><span>Alternatively, the overwrite setting can be turned off in the registry:</span></span></p><ul><li><p><span><span>Set the </span></span><span><strong><span>Overwrite</span></strong></span><span><span> DWORD value to 0</span></span></p></li></ul></li></ul><ul><li><p><span><span>Peak usage or expected peak usage of the system commit charge - The system commit limit is the total of RAM plus the amount of disk space reserved for paging files. The system commit charge must be equal to or less than the system commit limit. If a page file is not in place, then the system commit limit is less than the system’s RAM amount. The purpose of these measurements is to prevent the system from overpromising available memory. If this system commit limit is exceeded, Windows or the applications in use may stop functioning properly. So, it is a best practice to assess the amount of disk storage allocated to the page files periodically to ensure there is sufficient space for what the system needs during peak usage. It is fine to reserve 128 GB or more for the page files, if there is sufficient space on the hard drive to dedicate a reserve of this size. However, it might be a waste of available storage space if the system only needs a small fraction of the reserved disk space. If disk space is low, then consider adding more RAM, more hard drive storage, or offload non-system files to network or cloud storage.</span></span></p></li></ul><ul><li><p><span><span>Space needed to offload data from RAM - Page files can serve to store modified pages that are not currently in use. This keeps the information easily accessible in case it is needed again by the system, without overburdening RAM storage. The modified pages to be stored on the hard drive are recorded in the </span></span><span><strong><span>\\Memory\\Modified Page List Bytes</span></strong></span><span><span> directory. If the page file is not large enough, some of the pages added to the Modified Page List Bytes might not be written to the page file. If this happens, the page file either needs to be expanded or additional page filles should be added to the system. To assess if the page file is too small, the following conditions must be true:&nbsp;</span></span></p><ul><li><p><span><span>\\Memory\\Available MBytes indicates more physical memory is needed.</span></span></p></li><li><p><span><span>A significant amount of memory exists in the modified page list.</span></span></p></li><li><p><span><span>\\Paging Files(*)% Usage (existing page files) are almost full.&nbsp;</span></span></p></li></ul></li></ul></div></div></div></div></div>"
   ]
  },
  {
   "cell_type": "markdown",
   "id": "b1df35a1-3d40-4abd-8403-422cbc920baa",
   "metadata": {},
   "source": [
    "## Files"
   ]
  },
  {
   "cell_type": "markdown",
   "id": "84c04e26-e587-4c3b-b3ab-eecfdb87168e",
   "metadata": {
    "tags": []
   },
   "source": [
    "### NTFS"
   ]
  },
  {
   "cell_type": "markdown",
   "id": "852b7632-256d-440f-a096-e4cdac75f85e",
   "metadata": {},
   "source": [
    "Three types of links:\n",
    "\n",
    "- **shortcuts** - for GUI,\n",
    "- **symbolik links** (`mklink <symlink_name> <fname>`) - for console,\n",
    "- **hard links** (`mklink /H <symlink_name> <fname>`) - a pointer to the index of the file, so you can change the name of the file and still access it."
   ]
  },
  {
   "cell_type": "markdown",
   "id": "3c756f3a-d776-46a3-b126-c269b8e209a3",
   "metadata": {},
   "source": [
    "#### [Master File Table (Local File Systems)](https://learn.microsoft.com/en-us/windows/win32/fileio/master-file-table?redirectedfrom=MSDN)"
   ]
  },
  {
   "cell_type": "markdown",
   "id": "3bfa3a6c-d72d-48bd-b71c-eb7424f3e5f5",
   "metadata": {},
   "source": [
    "The NTFS file system contains a file called the **master file table**, or **MFT**. There is at least one entry in the MFT for every file on an NTFS file system volume, including the MFT itself. All information about a file, including its size, time and date stamps, permissions, and data content, is stored either in MFT entries, or in space outside the MFT that is described by MFT entries.\n",
    "\n",
    "As files are added to an NTFS file system volume, more entries are added to the MFT and the MFT increases in size. When files are deleted from an NTFS file system volume, their MFT entries are marked as free and may be reused. However, disk space that has been allocated for these entries is not reallocated, and the size of the MFT does not decrease.\n",
    "\n",
    "The NTFS file system reserves space for the MFT to keep the MFT as contiguous as possible as it grows. The space reserved by the NTFS file system for the MFT in each volume is called the **MFT zone**. Space for file and directories are also allocated from this space, but only after all of the volume space outside of the MFT zone has been allocated.\n",
    "\n",
    "Depending on the average file size and other variables, either the reserved MFT zone or the unreserved space on the disk may be allocated first as the disk fills to capacity. Volumes with a small number of relatively large files will allocate the unreserved space first, while volumes with a large number of relatively small files allocate the MFT zone first. In either case, fragmentation of the MFT starts to take place when one region or the other becomes fully allocated. If the unreserved space is completely allocated, space for user files and directories will be allocated from the MFT zone. If the MFT zone is completely allocated, space for new MFT entries will be allocated from the unreserved space.\n",
    "\n",
    "The MFT itself can be defragmented. To reduce the chance of the MFT zone becoming fully allocated before the defragmentation process is complete, leave as much space at the beginning of the MFT zone as possible before defragmenting the volume. If the MFT zone becomes fully allocated before defragmentation has completed, there must be unallocated space outside of the MFT zone.\n",
    "\n",
    "The default MFT zone is calculated and reserved by the system when it mounts the volume, and is based on volume size. You can increase the MFT zone by means of the registry entry detailed in [Microsoft Knowledge Base Article 174619](https://support.microsoft.com/kb/174619), but you cannot make the default MFT zone smaller than what is calculated. Increasing the MFT zone does not decrease the disk space that users can use for data files.\n",
    "\n",
    "To determine the current size of the MFT, analyze the NTFS file system drive with Disk Defragmenter, then click the View Report button. The drive statistics will be displayed, including the current MFT size, and number of fragments. You can also obtain the size of the MFT by using the [FSCTL_GET_NTFS_VOLUME_DATA](https://learn.microsoft.com/en-us/windows/win32/api/winioctl/ni-winioctl-fsctl_get_ntfs_volume_data) control code."
   ]
  },
  {
   "cell_type": "markdown",
   "id": "e1778d0f-969d-4af2-9771-3fda17a04721",
   "metadata": {},
   "source": [
    "#### [Creating Symbolic Links](https://learn.microsoft.com/en-us/windows/win32/fileio/creating-symbolic-links)"
   ]
  },
  {
   "cell_type": "markdown",
   "id": "77ee1439-07f1-4bb0-9d0e-68fcf241ccf6",
   "metadata": {},
   "source": [
    "The function [CreateSymbolicLink](https://learn.microsoft.com/en-us/windows/desktop/api/WinBase/nf-winbase-createsymboliclinka) allows you to create symbolic links using either an absolute or relative path.\n",
    "\n",
    "Symbolic links can either be absolute or relative links. **Absolute links** are links that specify each portion of the path name; **relative links** are determined relative to where relative–link specifiers are in a specified path. Relative links are specified using the following conventions:\n",
    "\n",
    "- Dot (. and ..) conventions—for example, \"..\\\" resolves the path relative to the parent directory.\n",
    "\n",
    "- Names with no slashes (\\)—for example, \"tmp\" resolves the path relative to the current directory.\n",
    "\n",
    "- Root relative—for example, \"\\Windows\\System32\" resolves to the \"current drive:\\Windows\\System32\". directory\n",
    "\n",
    "- Current working directory-relative—for example, if the current working directory is \"C:\\Windows\\System32\", \"C:File.txt\" resolves to \"C:\\Windows\\System32\\File.txt\".\n",
    "\n",
    "> Note: If you specify a current working directory–relative link, it is created as an absolute link, due to the way the current working directory is processed based on the user and the thread.\n",
    "\n",
    "A symbolic link can also contain both **junction points** and **mounted folders** as a part of the path name.\n",
    "\n",
    "Symbolic links can point directly to a remote file or directory using the UNC path.\n",
    "\n",
    "Relative symbolic links are restricted to a single volume.\n",
    "\n",
    "**Example of an Absolute Symbolic Link**\n",
    "\n",
    "In this example, the original path contains a component, 'x', which is an absolute symbolic link. When 'x' is encountered, the fragment of the original path up to and including 'x' is completely replaced by the path that is pointed to by 'x'. The remainder of the path after 'x' is appended to this new path. This now becomes the modified path.\n",
    "\n",
    "X: \"C:\\alpha\\beta\\absLink\\gamma\\file\"\n",
    "\n",
    "Link: \"absLink\" maps to \"\\\\machineB\\share\"\n",
    "\n",
    "Modified Path: \"\\\\machineB\\share\\gamma\\file\"\n",
    "\n",
    "**Example of a Relative Symbolic Links**\n",
    "\n",
    "In this example, the original path contains a component 'x', which is a relative symbolic link. When 'x' is encountered, 'x' is completely replaced by the new fragment pointed to by 'x'. The remainder of the path after 'x', is appended to the new path. Any dots (..) in this new path replace components that appear before the dots (..). Each set of dots replace the component preceding. If the number of dots (..) exceed the number of components, an error is returned. Otherwise, when all component replacement has finished, the final, modified path remains.\n",
    "\n",
    "X: C:\\alpha\\beta\\link\\gamma\\file\n",
    "\n",
    "Link: \"link\" maps to \"..\\..\\theta\"\n",
    "\n",
    "Modified Path: \"C:\\alpha\\beta\\..\\..\\theta\\gamma\\file\"\n",
    "\n",
    "Final Path: \"C:\\theta\\gamma\\file\""
   ]
  },
  {
   "cell_type": "markdown",
   "id": "259490d1-a978-40be-9cf8-f2b415f7d7ca",
   "metadata": {},
   "source": [
    "#### [Hard links and junctions](https://learn.microsoft.com/en-us/windows/win32/fileio/hard-links-and-junctions)"
   ]
  },
  {
   "cell_type": "markdown",
   "id": "15d7de6c-2bcd-4388-ac1b-f7aaf43485e6",
   "metadata": {},
   "source": [
    "The NTFS file system supports three types of file links: \n",
    "- hard links, \n",
    "- junctions, and \n",
    "- symbolic links. \n",
    "\n",
    "This article is an overview of hard links and junctions. \n",
    "\n",
    "**Hard links**\n",
    "\n",
    "A **hard link** is the file-system representation of a file by which more than one path references a single file in the _same_ volume. To create a hard link, use the [CreateHardLinkA](https://learn.microsoft.com/en-us/windows/desktop/api/WinBase/nf-winbase-createhardlinka) function.\n",
    "\n",
    "Any changes made to a hard-linked file are instantly visible to applications that access it through the links that reference it. The attributes on the file are reflected in every hard link to that file, and changes to that file's attributes propagate to all the hard links. However, the directory entry size and attribute information of the file are visibly updated only at the link through which the change was made. For example, if you clear the read-only attribute flag on a particular hard link so you can delete that hard link, and there are multiple hard links to the file, the other hard links display that the read-only attribute is still set, which isn't true. To change the file back to the read-only state, you must set the read-only flag on the file from one of its remaining hard links.\n",
    "\n",
    "For example, in a system where `C:` and `D:` are local drives and `Z:` is a network drive mapped to `\\\\fred\\share`, the following references are permitted as a hard link:\n",
    "```\n",
    "C:\\dira\\ethel.txt linked to C:\\dirb\\dirc\\lucy.txt\n",
    "D:\\dir1\\tinker.txt linked to D:\\dir2\\dirx\\bell.txt\n",
    "C:\\diry\\bob.bak linked to C:\\dir2\\mina.txt\n",
    "```\n",
    "\n",
    "The following references aren't permitted:\n",
    "```\n",
    "C:\\dira linked to C:\\dirb\n",
    "C:\\dira\\ethel.txt linked to D:\\dirb\\lucy.txt\n",
    "C:\\dira\\ethel.txt linked to Z:\\dirb\\lucy.txt\n",
    "```\n",
    "\n",
    "To delete a hard link, use the [DeleteFileA](https://learn.microsoft.com/en-us/windows/desktop/api/FileAPI/nf-fileapi-deletefilea) function. You can delete hard links in any order regardless of the order in which they're created.\n",
    "\n",
    "**Junctions**\n",
    "\n",
    "A **junction** (also called a **soft link**) differs from a hard link in that the storage objects it references are _separate directories_. A junction can also link directories located on different local volumes on the same computer. Otherwise, junctions operate identically to hard links. Junctions are implemented through [reparse points](https://learn.microsoft.com/en-us/windows/win32/fileio/reparse-points).\n",
    "\n",
    "Assuming the same conditions in the Hard Links section, the following references are permitted as junctions:\n",
    "```\n",
    "C:\\dira linked to C:\\dirb\\dirc\n",
    "C:\\dirx linked to D:\\diry\n",
    "```\n",
    "\n",
    "The following references aren't permitted:\n",
    "```\n",
    "C:\\dira\\one.txt linked to C:\\dirb\\two.txt\n",
    "C:\\dir1 linked to Z:\\dir2\n",
    "```"
   ]
  },
  {
   "cell_type": "markdown",
   "id": "c677cc66-ab7c-4216-b68e-8d7132ff027c",
   "metadata": {},
   "source": [
    "### Linux"
   ]
  },
  {
   "cell_type": "markdown",
   "id": "a3d500e8-6cec-46ec-a5ab-f296da60eed5",
   "metadata": {},
   "source": [
    "- soft links - links to a file on a hard drive,\n",
    "- hard links - links to an Inode which is stored in Inode table. When you delete a file all the hard links still work."
   ]
  },
  {
   "cell_type": "code",
   "execution_count": 1,
   "id": "d79fc079-ff5b-4292-b73a-f1da19eeecc4",
   "metadata": {
    "execution": {
     "iopub.execute_input": "2023-09-25T05:50:20.885979Z",
     "iopub.status.busy": "2023-09-25T05:50:20.885388Z",
     "iopub.status.idle": "2023-09-25T05:50:21.099325Z",
     "shell.execute_reply": "2023-09-25T05:50:21.097942Z",
     "shell.execute_reply.started": "2023-09-25T05:50:20.885905Z"
    }
   },
   "outputs": [
    {
     "name": "stdout",
     "output_type": "stream",
     "text": [
      "-rw-r--r-- 1 vadim vadim 0 Sep 25 10:50 file2\n"
     ]
    }
   ],
   "source": [
    "cd /tmp/\n",
    "touch file2\n",
    "ls -l file2"
   ]
  },
  {
   "cell_type": "markdown",
   "id": "faa7fd9b-57cc-4c22-b6c1-d50c5374cf08",
   "metadata": {},
   "source": [
    "`1` means the number of hardlinks the file has.\n",
    "\n",
    "Let's create a soft link:"
   ]
  },
  {
   "cell_type": "code",
   "execution_count": 5,
   "id": "4b0e920e-14a6-4389-80a8-34db53ebfb85",
   "metadata": {
    "execution": {
     "iopub.execute_input": "2023-09-25T05:52:27.770869Z",
     "iopub.status.busy": "2023-09-25T05:52:27.769641Z",
     "iopub.status.idle": "2023-09-25T05:52:27.947629Z",
     "shell.execute_reply": "2023-09-25T05:52:27.945139Z",
     "shell.execute_reply.started": "2023-09-25T05:52:27.770820Z"
    },
    "tags": []
   },
   "outputs": [
    {
     "name": "stdout",
     "output_type": "stream",
     "text": [
      "\u001b[0m\u001b[01;35mf77aaecf40700f79a08a649693945053-{87A94AB0-E370-4cde-98D3-ACC110C5967D}\u001b[0m\n",
      "f79d601e26a782fd149b3ffb098aae9f-{87A94AB0-E370-4cde-98D3-ACC110C5967D}\n",
      "file2\n",
      "\u001b[01;36mfile2_softlink\u001b[0m\n",
      "\u001b[01;34mplasma-csd-generator.OKVuMk\u001b[0m\n",
      "qtsingleapp-clemen-d211-3e8-lockfile\n",
      "\u001b[01;35msddm-:0-NDYnBK\u001b[0m\n",
      "\u001b[01;35msddm-auth63806520-33fd-4314-892c-2349e90c904c\u001b[0m\n",
      "\u001b[01;34msnap-private-tmp\u001b[0m\n",
      "\u001b[01;34msystemd-private-3bd048e7f6e14df7b6671b7cef7a107d-ModemManager.service-Ez731z\u001b[0m\n",
      "\u001b[01;34msystemd-private-3bd048e7f6e14df7b6671b7cef7a107d-fwupd.service-p06SKa\u001b[0m\n",
      "\u001b[01;34msystemd-private-3bd048e7f6e14df7b6671b7cef7a107d-systemd-logind.service-Ur8Bo2\u001b[0m\n",
      "\u001b[01;34msystemd-private-3bd048e7f6e14df7b6671b7cef7a107d-upower.service-uV7Pvt\u001b[0m\n",
      "\u001b[01;34myandex-disk-5d2012049ed40bb7bb97f77d149e74d2eb055c94s\u001b[0m\n",
      "yandex_browser_updater.log\n"
     ]
    }
   ],
   "source": [
    "ln -s file2 file2_softlink\n",
    "ls"
   ]
  },
  {
   "cell_type": "code",
   "execution_count": 15,
   "id": "e26fe42b-f590-44aa-b213-e5eddb6dcef8",
   "metadata": {
    "execution": {
     "iopub.execute_input": "2023-09-25T05:55:26.932897Z",
     "iopub.status.busy": "2023-09-25T05:55:26.932205Z",
     "iopub.status.idle": "2023-09-25T05:55:27.040851Z",
     "shell.execute_reply": "2023-09-25T05:55:27.040087Z",
     "shell.execute_reply.started": "2023-09-25T05:55:26.932862Z"
    },
    "tags": []
   },
   "outputs": [
    {
     "name": "stdout",
     "output_type": "stream",
     "text": [
      "-rw-r--r-- 1 vadim vadim 0 Sep 25 10:50 file2\n"
     ]
    }
   ],
   "source": [
    "ls -l file2"
   ]
  },
  {
   "cell_type": "markdown",
   "id": "dfa490fc-9a4f-424c-b423-928d7cfc6f82",
   "metadata": {},
   "source": [
    "and a hard link:"
   ]
  },
  {
   "cell_type": "code",
   "execution_count": 16,
   "id": "8768f83b-bb72-45d8-859c-f84020c60e31",
   "metadata": {
    "execution": {
     "iopub.execute_input": "2023-09-25T05:55:29.635365Z",
     "iopub.status.busy": "2023-09-25T05:55:29.634686Z",
     "iopub.status.idle": "2023-09-25T05:55:29.802962Z",
     "shell.execute_reply": "2023-09-25T05:55:29.802128Z",
     "shell.execute_reply.started": "2023-09-25T05:55:29.635321Z"
    },
    "tags": []
   },
   "outputs": [
    {
     "name": "stdout",
     "output_type": "stream",
     "text": [
      "\u001b[0m\u001b[01;35mf77aaecf40700f79a08a649693945053-{87A94AB0-E370-4cde-98D3-ACC110C5967D}\u001b[0m\n",
      "f79d601e26a782fd149b3ffb098aae9f-{87A94AB0-E370-4cde-98D3-ACC110C5967D}\n",
      "file2\n",
      "file2_hardlink\n",
      "\u001b[01;36mfile2_softlink\u001b[0m\n",
      "\u001b[01;34mplasma-csd-generator.OKVuMk\u001b[0m\n",
      "qtsingleapp-clemen-d211-3e8-lockfile\n",
      "\u001b[01;35msddm-:0-NDYnBK\u001b[0m\n",
      "\u001b[01;35msddm-auth63806520-33fd-4314-892c-2349e90c904c\u001b[0m\n",
      "\u001b[01;34msnap-private-tmp\u001b[0m\n",
      "\u001b[01;34msystemd-private-3bd048e7f6e14df7b6671b7cef7a107d-ModemManager.service-Ez731z\u001b[0m\n",
      "\u001b[01;34msystemd-private-3bd048e7f6e14df7b6671b7cef7a107d-fwupd.service-p06SKa\u001b[0m\n",
      "\u001b[01;34msystemd-private-3bd048e7f6e14df7b6671b7cef7a107d-systemd-logind.service-Ur8Bo2\u001b[0m\n",
      "\u001b[01;34msystemd-private-3bd048e7f6e14df7b6671b7cef7a107d-upower.service-uV7Pvt\u001b[0m\n",
      "\u001b[01;34myandex-disk-5d2012049ed40bb7bb97f77d149e74d2eb055c94s\u001b[0m\n",
      "yandex_browser_updater.log\n"
     ]
    }
   ],
   "source": [
    "ln file2 file2_hardlink\n",
    "ls"
   ]
  },
  {
   "cell_type": "code",
   "execution_count": 17,
   "id": "ef9cadcc-c464-4dc4-ba66-3aa002bd7dbc",
   "metadata": {
    "execution": {
     "iopub.execute_input": "2023-09-25T05:55:31.053596Z",
     "iopub.status.busy": "2023-09-25T05:55:31.052868Z",
     "iopub.status.idle": "2023-09-25T05:55:31.159673Z",
     "shell.execute_reply": "2023-09-25T05:55:31.158752Z",
     "shell.execute_reply.started": "2023-09-25T05:55:31.053565Z"
    },
    "tags": []
   },
   "outputs": [
    {
     "name": "stdout",
     "output_type": "stream",
     "text": [
      "-rw-r--r-- 2 vadim vadim 0 Sep 25 10:50 file2\n"
     ]
    }
   ],
   "source": [
    "ls -l file2"
   ]
  },
  {
   "cell_type": "markdown",
   "id": "107e3485-a121-4db8-907d-3197a9286d60",
   "metadata": {},
   "source": [
    "<div><div class=\"reading-title css-1hxq2bi\"><h2 class=\"cds-108 css-1diqjn6 cds-110\" tabindex=\"-1\">Supplemental Reading for Linux Filesystem Repair</h2><div class=\"css-1kuhxiq\"></div></div><div class=\"rc-CML\" dir=\"auto\"><div><div data-track=\"true\" data-track-app=\"open_course_home\" data-track-page=\"item_layout\" data-track-action=\"click\" data-track-component=\"cml\" role=\"presentation\"><div data-track=\"true\" data-track-app=\"open_course_home\" data-track-page=\"item_layout\" data-track-action=\"click\" data-track-component=\"cml_link\"><div data-testid=\"cml-viewer\" class=\"css-1kgqbsw\"><p><span><span>In this reading, you will learn how to use the file system consistency check or </span></span><span><strong><span>fsck</span></strong></span><span><span> command to repair data corruption in file systems on Linux machines. As an IT Support specialist, you will most likely encounter instances of data corruption in onsite systems. It is critical for you to know how to recover corrupted data, file systems, and hard drives.&nbsp;</span></span></p><p><span><span>A computer file system is software that provides structure for storing the operating system (OS) and all other software installed on system hard drives. A hard drive must be formatted with a file system before the operating system can be installed. Since Linux is an open source OS, innovators have created nearly 100 file systems that support Linux OS installations. Several common file systems that are used for Linux systems include ext, ext2, ext3, ext4, JFS, XFS, ZFS, F2FS, and more.&nbsp;</span></span></p><p><span><span>Like all software, software-based computer file systems can experience corruption. File system corruption can impede the computer’s ability to locate files stored on the hard drive, including important OS files. File locations are stored as i-nodes (index nodes) in Linux. Every file in a Linux system has its own i-node identifier. The i-node stores metadata about the storage block and fragment location(s) where each file is stored. The i-node metadata also holds information about the file type, size of the files, file permissions, links to the file, and more.</span></span></p><h3 data-heading-variant=\"h3semibold\"><span><span>Symptoms of data corruption</span></span></h3><p><span><span>Symptoms of data corruption can include:&nbsp;</span></span></p><ul><li><p><span><span>System suddenly shuts down</span></span></p></li><li><p><span><span>Software program will not launch or it crashes when opening a corrupted file. May also give an error message saying:&nbsp;</span></span></p><ul><li><p><span><span>“File format not recognized” </span></span><span><em><span>or&nbsp;</span></em></span></p></li><li><p><span><span>“(file name) is not recognized”&nbsp;</span></span></p></li></ul></li><li><p><span><span>Corrupted files and folders may no longer appear in the file system.&nbsp;</span></span></p></li><li><p><span><span>The operating system (OS) may report bad sectors when failing to execute commands.</span></span></p></li><li><p><span><span>Damaged platter-based hard drives can make clicking sounds or unusual vibrations.\n",
    "</span></span></p></li></ul><h3 data-heading-variant=\"h3semibold\"><span><span>Causes of data corruption</span></span></h3><p><span><span>Data corruption on system hard drives and file systems can be caused by:&nbsp;</span></span></p><ul><li><p><span><strong><span>Software errors</span></strong></span><span><span> -&nbsp;</span></span></p><ul><li><p><span><span>Software errors can be any software event that interferes with normal hard disk read/write operations.</span></span></p></li><li><p><span><span>Viruses and malware can be designed to intentionally cause corruption to data.&nbsp;</span></span></p></li><li><p><span><span>Antivirus software can damage files if the software experiences problems while scanning or repairing the files.</span></span></p></li></ul></li><li><p><span><strong><span>Hardware malfunctions</span></strong></span><span><span> -&nbsp;</span></span></p><ul><li><p><span><span>Larger files are more likely to experience corruption than smaller files. Large files occupy more disk space, making them statistically more likely to cross a bad sector on the hard drive.&nbsp;</span></span></p></li><li><p><span><span>Hard drives that contain platters are at risk of experiencing malfunctioning read/write heads. Damaged heads can corrupt multiple files and directories in a single read/write transaction. Hard drives with moving mechanical parts are more likely to experience failures from moving parts that wear out over time.&nbsp;</span></span></p></li></ul></li><li><p><span><strong><span>Electrical damage</span></strong></span><span><span> - Can happen when a power failure occurs while the system is writing data to a hard drive.</span></span></p></li></ul><h3 data-heading-variant=\"h3semibold\"><span><span>Data corruption repair</span></span></h3><p><span><span>The most critical first step, after data corruption has been identified or suspected, is to shut down the affected hard drive(s). The reason for this step is to stop the cause of the corruption from writing to the hard drives. The longer the corruption activity continues, the more difficult recovering the data becomes.&nbsp;</span></span></p><p><span><span>Precautions should be taken before powering up a corrupted hard drive to run repair tools. It is important to minimize any read/write operations on the disk other than those produced by data recovery tools. One method to prevent further damage could be to have a corrupted Linux system boot from an external device or network (PXE boot). An alternative method might be to attach the corrupted hard drive as an external hard drive to a healthy system running Linux. A hard drive adapter or drive docking station can be used to convert an internal drive into an external device.&nbsp;</span></span></p><p><span><span>Before connecting a corrupted drive to a healthy system, the </span></span><span><strong><span>automount</span></strong></span><span><span> service must be disabled. The</span></span><span><strong><span> fsck</span></strong></span><span><span> command will not repair corruption on a mounted file system. In fact, mounting a corrupted file system can cause the healthy Linux system to crash. Although the corrupted file system should not be mounted, the device file for the corrupted hard drive in the </span></span><span><strong><span>/dev directory </span></strong></span><span><span>must be readable for the </span></span><span><strong><span>fsck </span></strong></span><span><span>command to access the drive.&nbsp;</span></span></p><h3 data-heading-variant=\"h3semibold\"><span><span>The </span></span><span><strong><span>fsck</span></strong></span><span><span> command</span></span></h3><p><span><em><strong><span>Important Warning:</span></strong></em></span><span><em><span> The</span></em></span><span><em><strong><span> fsck</span></strong></em></span><span><em><span> command should NOT be used:</span></em></span></p><ul><li><p><span><em><span>on a hard drive that was a member of a RAID array.</span></em></span></p></li><li><p><span><em><span>on a mounted file system (must be unmounted).&nbsp;</span></em></span></p></li></ul><p><span><span>An important command line data recovery tool offered in the Linux operating system is the</span></span><span><strong><span> fsck </span></strong></span><span><span>command. It should be run anytime a Linux system malfunctions. The </span></span><span><strong><span>fsck </span></strong></span><span><span>command can check the file system and repair some, but not all, inconsistencies found. In some cases, </span></span><span><strong><span>fsck </span></strong></span><span><span>may recommend deleting a corrupted file or directory. The default setting for the </span></span><span><strong><span>fsck </span></strong></span><span><span>command is to prompt the user to approve or deny the repair of any problems found. The user running the</span></span><span><strong><span> fsck </span></strong></span><span><span>command must have write permissions for the corrupted file or directory to be able to approve a repair. If the user does not choose to repair inconsistencies found, the file system will remain in a corrupted state.&nbsp;</span></span></p><p><span><span>The </span></span><span><strong><span>fsck</span></strong></span><span><span> command will check for inconsistencies and and prompt the user to make decisions on whether or </span></span><span><strong><span>fsck</span></strong></span><span><span> should repair for the following problems:</span></span></p><ul><li><p><span><span>Block count is not correct</span></span></p></li><li><p><span><span>Blocks and/or fragments that are:</span></span></p><ul><li><p><span><span>allocated to multiple files</span></span></p></li><li><p><span><span>illegally allocated</span></span></p></li></ul></li><li><p><span><span>Block and/or fragment numbers listed in i-node metadata that are:</span></span></p><ul><li><p><span><span>overlapping</span></span></p></li><li><p><span><span>out of range</span></span></p></li><li><p><span><span>marked free in the disk map</span></span></p></li><li><p><span><span>corrupted</span></span></p></li></ul></li><li><p><span><span>Map inconsistencies on the disk or in the i-node.&nbsp;&nbsp;</span></span></p></li><li><p><span><span>Directory:</span></span></p><ul><li><p><span><span>contains references to a file but that number does not equal the number of links listed in the same file’s i-node metadata.</span></span></p></li><li><p><span><span>sizes are not multiples of 512</span></span></p></li></ul></li></ul><p><span><span>The following checks are not run on compressed file systems.</span></span></p><ul><li><p><span><span>Directory checks:</span></span></p><ul><li><p><span><span>Directories or files that cannot be located or read.</span></span></p></li><li><p><span><span>The i-node map has an i-node number marked as being free in the directory entry.&nbsp;</span></span></p></li><li><p><span><span>The i-node number in the metadata is out of range.</span></span></p></li><li><p><span><span>The . (current directory) or .. (parent directory) link is missing or does not point to itself.&nbsp;</span></span></p></li></ul></li><li><p><span><span>Fragments found in files larger than 32KB.</span></span></p></li><li><p><span><span>Any fragments that are not listed as the last address of the file in an i-node metadata file. \n",
    "</span></span></p></li></ul><h3 data-heading-variant=\"h3semibold\"><span><span>How to use the fsck command</span></span></h3><ol><li><p><span><span>Enter </span></span><span><strong><span>fsck</span></strong></span><span><span> as a command line instruction. Syntax:</span></span></p></li></ol><p><span><strong><span>fsck</span></strong></span><span><span> [ </span></span><span><a target=\"_blank\" rel=\"noopener nofollow noreferrer\" href=\"https://www.ibm.com/docs/en/aix/7.2?topic=f-fsck-command#fsck__row-d3e118376\" class=\"css-gcjbqe\"><span><strong><span>-n </span></strong></span><svg aria-labelledby=\"cds-react-aria-326-title\" fill=\"none\" focusable=\"false\" height=\"16\" role=\"img\" viewBox=\"0 0 16 16\" width=\"16\" class=\"css-1lzqdox\" id=\"cds-react-aria-326\"><title id=\"cds-react-aria-326-title\">Opens in a new tab</title><path fill-rule=\"evenodd\" clip-rule=\"evenodd\" d=\"M1.5 3.5H6v1h3.5v9h9V10h2v4.5h-11v-11zM13.5 2.5h20v-1h4.5V6h-1V2.5z\" fill=\"currentColor\"></path><path fill-rule=\"evenodd\" clip-rule=\"evenodd\" d=\"M6.646 8.646l7-7 .708.708-7 7-.708-.708z\" fill=\"currentColor\"></path></svg></a></span><span><span>] [ </span></span><span><a target=\"_blank\" rel=\"noopener nofollow noreferrer\" href=\"https://www.ibm.com/docs/en/aix/7.2?topic=f-fsck-command#fsck__row-d3e118436\" class=\"css-gcjbqe\"><span><strong><span>-p </span></strong></span><svg aria-labelledby=\"cds-react-aria-327-title\" fill=\"none\" focusable=\"false\" height=\"16\" role=\"img\" viewBox=\"0 0 16 16\" width=\"16\" class=\"css-1lzqdox\" id=\"cds-react-aria-327\"><title id=\"cds-react-aria-327-title\">Opens in a new tab</title><path fill-rule=\"evenodd\" clip-rule=\"evenodd\" d=\"M1.5 3.5H6v1h3.5v9h9V10h2v4.5h-11v-11zM13.5 2.5h20v-1h4.5V6h-1V2.5z\" fill=\"currentColor\"></path><path fill-rule=\"evenodd\" clip-rule=\"evenodd\" d=\"M6.646 8.646l7-7 .708.708-7 7-.708-.708z\" fill=\"currentColor\"></path></svg></a></span><span><span>] [ </span></span><span><a target=\"_blank\" rel=\"noopener nofollow noreferrer\" href=\"https://www.ibm.com/docs/en/aix/7.2?topic=f-fsck-command#fsck__row-d3e118508\" class=\"css-gcjbqe\"><span><strong><span>-y </span></strong></span><svg aria-labelledby=\"cds-react-aria-328-title\" fill=\"none\" focusable=\"false\" height=\"16\" role=\"img\" viewBox=\"0 0 16 16\" width=\"16\" class=\"css-1lzqdox\" id=\"cds-react-aria-328\"><title id=\"cds-react-aria-328-title\">Opens in a new tab</title><path fill-rule=\"evenodd\" clip-rule=\"evenodd\" d=\"M1.5 3.5H6v1h3.5v9h9V10h2v4.5h-11v-11zM13.5 2.5h20v-1h4.5V6h-1V2.5z\" fill=\"currentColor\"></path><path fill-rule=\"evenodd\" clip-rule=\"evenodd\" d=\"M6.646 8.646l7-7 .708.708-7 7-.708-.708z\" fill=\"currentColor\"></path></svg></a></span><span><span>] [ </span></span><span><a target=\"_blank\" rel=\"noopener nofollow noreferrer\" href=\"https://www.ibm.com/docs/en/aix/7.2?topic=f-fsck-command#fsck__row-d3e118344\" class=\"css-gcjbqe\"><span><strong><span>-f </span></strong></span><svg aria-labelledby=\"cds-react-aria-329-title\" fill=\"none\" focusable=\"false\" height=\"16\" role=\"img\" viewBox=\"0 0 16 16\" width=\"16\" class=\"css-1lzqdox\" id=\"cds-react-aria-329\"><title id=\"cds-react-aria-329-title\">Opens in a new tab</title><path fill-rule=\"evenodd\" clip-rule=\"evenodd\" d=\"M1.5 3.5H6v1h3.5v9h9V10h2v4.5h-11v-11zM13.5 2.5h20v-1h4.5V6h-1V2.5z\" fill=\"currentColor\"></path><path fill-rule=\"evenodd\" clip-rule=\"evenodd\" d=\"M6.646 8.646l7-7 .708.708-7 7-.708-.708z\" fill=\"currentColor\"></path></svg></a></span><span><span>] [ </span></span><span><em><span>FileSystem1name</span></em></span><span><span> - </span></span><span><em><span>FileSystem2name ...</span></em></span><span><span> ]</span></span></p><ul><li><p><span><span>The </span></span><span><strong><span>-n</span></strong></span><span><span> flag - Sends a “</span></span><span><strong><span>n</span></strong></span><span><span>o” response to all </span></span><span><strong><span>fsck</span></strong></span><span><span> questions and does not allow </span></span><span><strong><span>fsck </span></strong></span><span><span>to write to the drive.&nbsp;</span></span></p></li><li><p><span><span>The </span></span><span><strong><span>-p</span></strong></span><span><span> flag - </span></span><span><strong><span>P</span></strong></span><span><span>revents error messages for minor problems from displaying while automatically fixing those minor errors. Outside of recovering from data corruption, it is a best practice to run the </span></span><span><strong><span>fsck -p</span></strong></span><span><span> command regularly at startup as a preventative measure.&nbsp;</span></span></p></li><li><p><span><span>The </span></span><span><strong><span>-y</span></strong></span><span><span> flag - Sends a “</span></span><span><strong><span>y</span></strong></span><span><span>es” response to all </span></span><span><strong><span>fsck </span></strong></span><span><span>questions to automatically attempt to repair all inconsistencies found. This flag should be reserved for severely corrupt file systems only.&nbsp;</span></span></p></li><li><p><span><span>The </span></span><span><strong><span>-f</span></strong></span><span><span> flag - Runs a </span></span><span><strong><span>f</span></strong></span><span><span>ast check that excludes file systems that were successfully unmounted for shutdown before the system crashed.&nbsp;</span></span></p></li><li><p><span><em><span>FileSystem#name - </span></em></span><span><span>If you do not specify a file system, the </span></span><span><strong><span>fsck</span></strong></span><span><span> command checks all file systems in </span></span><span><strong><span>/etc/filesystems, </span></strong></span><span><span>where the </span></span><span><strong><span>check </span></strong></span><span><span>attribute is set to </span></span><span><strong><span>true</span></strong></span><span><span>.</span></span></p></li><li><p><span><span>To see more advanced flags, use the </span></span><span><strong><span>man fsck</span></strong></span><span><span> command.</span></span></p></li></ul><p><span><span>                  a. To have the </span></span><span><strong><span>fsck</span></strong></span><span><span> command check all of the default file systems and prompt the user on how to handle each inconsistency found, simply enter at a command line:</span></span></p><p><span><span>                 b. For ext, ext2, ext3, and ext4 file systems, the </span></span><span><strong><span>e2fsck</span></strong></span><span><span> command can be used:</span></span></p><p><span><span>                c. To have the </span></span><span><strong><span>fsck</span></strong></span><span><span> command check specific file system(s) and automatically fix any inconsistencies found, enter:&nbsp;</span></span></p><p><span><span>2. The </span></span><span><strong><span>fsck</span></strong></span><span><span> command outputs an exit value, or code, when the tool terminates. The code is the sum of one or more of the following conditions:\n",
    "</span></span></p><ul><li><p><span><span>0 = All scanned file systems have been restored to a functional state.</span></span></p></li><li><p><span><span>2 = </span></span><span><strong><span>fsck </span></strong></span><span><span>did not finish checks or repairs due to an interruption.</span></span></p></li><li><p><span><span>4 = File system has changed and the computer needs to be rebooted.&nbsp;</span></span></p></li><li><p><span><span>8 = </span></span><span><strong><span>fsck</span></strong></span><span><span> could not repair some or all file system damage.\n",
    "</span></span></p></li></ul><h3 data-heading-variant=\"h3semibold\"><span><span>How to run </span></span><span><strong><span>fsck</span></strong></span><span><span> on the next boot or reboot</span></span></h3><p><span><span>In many Linux OS distributions, the </span></span><span><strong><span>fsck</span></strong></span><span><span> utility will automatically run at boot under certain circumstances, including:</span></span></p><ul><li><p><span><span>When a file system has been labeled as “dirty”, meaning that data scheduled to be written to the file system is different from what was actually written or not written to the disk. This could occur if the system shut down during a write operation.&nbsp;</span></span></p></li><li><p><span><span>When a file system has been mounted multiple times (can be set to a specific value) without a file system check.</span></span></p></li></ul><p><span><span>Configuring the </span></span><span><strong><span>fsck </span></strong></span><span><span>command to run automatically on boot and reboot differs depending on which brand and version of Linux is installed on the system. As a root or sudo user, use vi (visual instrument) to add the </span></span><span><strong><span>fsck</span></strong></span><span><span> command to the boot sequence.</span></span></p><ol><li><p><span><span>In Debian and Ubuntu,</span></span></p><ol><li><p><span><span>Edit the </span></span><span><strong><span>rcS</span></strong></span><span><span> file: \\$ sudo vi /etc/default/rcS</span></span></p></li><li><p><span><span>Add the following command to the </span></span><span><strong><span>rcS</span></strong></span><span><span> file: FSCKFIX=yes</span></span></p></li></ol></li></ol><p><span><span>      2. In CentOS,&nbsp;</span></span></p><p><span><span>                  a. Create or edit a file named autofsck: $ sudo vi /etc/sysconfig/autofsck</span></span></p><p><span><span>                  b. Add the following command to the autofsck file: AUTOFSCK_DEF_CHECK=yes\n",
    "</span></span></p>"
   ]
  },
  {
   "cell_type": "markdown",
   "id": "28052960-f2c2-430d-8c5e-5460bd3fe22e",
   "metadata": {
    "jp-MarkdownHeadingCollapsed": true
   },
   "source": [
    "# <b>3.7 Processes</b>"
   ]
  },
  {
   "cell_type": "markdown",
   "id": "41954daf-cb3e-46da-bf4c-b785aeb3b731",
   "metadata": {},
   "source": [
    "Windows processes can operate independent of their parents. Linux processes have a parent-child relationship. \n",
    "\n",
    "|Purpose|PowerShell|Bash|\n",
    "|-|-|-|\n",
    "|stopping processes|[taskkill](https://learn.microsoft.com/en-us/windows-server/administration/windows-commands/taskkill)||\n",
    "|**show processes**|`tasklist` (cmd.exe) and `Get-Process` ([PS](https://learn.microsoft.com/en-us/powershell/module/microsoft.powershell.management/get-process?view=powershell-5.1))|[ps](https://man7.org/linux/man-pages/man1/ps.1.html)|\n",
    "|||`ps -x`|\n",
    "|||`ps -ef` (`e` show the processes from all the users, `f`ull details)|\n",
    "|||`ls -l /proc`|\n",
    "|||`cat /proc/<PID>/status`|\n",
    "|show top processes|`Get-Process \\| Sort CPU -descending \\| Select -first <name> -Property ID,ProcessName,CPU`|`top`|\n",
    "|show system loadness||`uptime`|\n",
    "|time of last system boot|`who -b`|\n",
    "|show opened files||`lsof`|\n",
    "|**Signals**|||\n",
    "||`SIGINT`, [`Process Explorer`](https://learn.microsoft.com/en-us/sysinternals/downloads/process-explorer)||\n",
    "|interrupt proccess|`ctrl` + `C`|`ctrl` + `C`|\n",
    "|kill the process||`kill <PID>`|\n",
    "|||`kill -KILL <PID>`|\n",
    "|suspend the process||`kill -TSTP <PID>`|\n",
    "|continue||`kill -CONT <PID>`|\n",
    "||||\n",
    "||||\n",
    "||||\n",
    "||||\n",
    "||||\n",
    "||||\n",
    "||||\n",
    "||||"
   ]
  },
  {
   "cell_type": "markdown",
   "id": "f900e0a7-0272-4b34-9331-72bc32baeb23",
   "metadata": {},
   "source": [
    "## Linux: Reading Process Information"
   ]
  },
  {
   "cell_type": "markdown",
   "id": "7b903f9c-f3e3-415e-8275-638522ad35d4",
   "metadata": {},
   "source": [
    "### `ps`"
   ]
  },
  {
   "cell_type": "code",
   "execution_count": 4,
   "id": "cd6f44d4-acd9-4e94-8797-fe1b14aa1eb6",
   "metadata": {
    "execution": {
     "iopub.execute_input": "2023-09-25T09:59:50.917552Z",
     "iopub.status.busy": "2023-09-25T09:59:50.916827Z",
     "iopub.status.idle": "2023-09-25T09:59:51.037535Z",
     "shell.execute_reply": "2023-09-25T09:59:51.036839Z",
     "shell.execute_reply.started": "2023-09-25T09:59:50.917518Z"
    },
    "tags": []
   },
   "outputs": [
    {
     "name": "stdout",
     "output_type": "stream",
     "text": [
      "   2043 pts/2    Sl+    0:11 /home/vadim/.local/pipx/venvs/jupyter/bin/python /home/vadim/.local/bin/jupyter-lab\n",
      "   4040 pts/4    S+     0:00 grep jupyter-lab\n"
     ]
    }
   ],
   "source": [
    "ps -x | grep jupyter-lab"
   ]
  },
  {
   "cell_type": "markdown",
   "id": "e4d38d15-02f1-4a5f-8c17-d8015a7bd02c",
   "metadata": {},
   "source": [
    "`ps -x`:\n",
    "\n",
    "- `R`unning,\n",
    "- s`T`opped,\n",
    "- interruptible `S`leep."
   ]
  },
  {
   "cell_type": "code",
   "execution_count": 3,
   "id": "91081a13-8449-465c-968c-254d99b4b502",
   "metadata": {
    "execution": {
     "iopub.execute_input": "2023-09-25T09:59:11.268107Z",
     "iopub.status.busy": "2023-09-25T09:59:11.267114Z",
     "iopub.status.idle": "2023-09-25T09:59:11.395970Z",
     "shell.execute_reply": "2023-09-25T09:59:11.394439Z",
     "shell.execute_reply.started": "2023-09-25T09:59:11.268056Z"
    },
    "tags": []
   },
   "outputs": [
    {
     "name": "stdout",
     "output_type": "stream",
     "text": [
      "vadim       2043    2030  0 14:22 pts/2    00:00:11 /home/vadim/.local/pipx/venvs/jupyter/bin/python /home/vadim/.local/bin/jupyter-lab\n",
      "vadim       4019    2506  0 14:59 pts/4    00:00:00 grep jupyter-lab\n"
     ]
    }
   ],
   "source": [
    "ps -ef | grep jupyter-lab"
   ]
  },
  {
   "cell_type": "markdown",
   "id": "b27ff484-3fa3-42db-9140-62d788abd326",
   "metadata": {},
   "source": [
    "`ps -ef` :\n",
    "\n",
    "- user\n",
    "- PID\n",
    "- PPID (parent PID)\n",
    "- C number of children\n",
    "- STIME\n",
    "- TTY\n",
    "- TIME\n",
    "- CMD"
   ]
  },
  {
   "cell_type": "code",
   "execution_count": 5,
   "id": "d17c41e8-799e-463c-b49b-e28eb3942f82",
   "metadata": {
    "execution": {
     "iopub.execute_input": "2023-09-25T10:03:57.590847Z",
     "iopub.status.busy": "2023-09-25T10:03:57.589851Z",
     "iopub.status.idle": "2023-09-25T10:03:57.723342Z",
     "shell.execute_reply": "2023-09-25T10:03:57.722274Z",
     "shell.execute_reply.started": "2023-09-25T10:03:57.590798Z"
    },
    "tags": []
   },
   "outputs": [
    {
     "name": "stdout",
     "output_type": "stream",
     "text": [
      "Name:\tjupyter-lab\n",
      "Umask:\t0022\n",
      "State:\tS (sleeping)\n",
      "Tgid:\t2043\n",
      "Ngid:\t0\n",
      "Pid:\t2043\n",
      "PPid:\t2030\n",
      "TracerPid:\t0\n",
      "Uid:\t1000\t1000\t1000\t1000\n",
      "Gid:\t1000\t1000\t1000\t1000\n",
      "FDSize:\t256\n",
      "Groups:\t24 25 29 30 44 46 100 106 111 113 117 1000 \n",
      "NStgid:\t2043\n",
      "NSpid:\t2043\n",
      "NSpgid:\t2043\n",
      "NSsid:\t2030\n",
      "VmPeak:\t  689988 kB\n",
      "VmSize:\t  631196 kB\n",
      "VmLck:\t       0 kB\n",
      "VmPin:\t       0 kB\n",
      "VmHWM:\t  136500 kB\n",
      "VmRSS:\t  129120 kB\n",
      "RssAnon:\t  110364 kB\n",
      "RssFile:\t   18756 kB\n",
      "RssShmem:\t       0 kB\n",
      "VmData:\t  175504 kB\n",
      "VmStk:\t     132 kB\n",
      "VmExe:\t    2764 kB\n",
      "VmLib:\t   12588 kB\n",
      "VmPTE:\t     372 kB\n",
      "VmSwap:\t       0 kB\n",
      "HugetlbPages:\t       0 kB\n",
      "CoreDumping:\t0\n",
      "THP_enabled:\t1\n",
      "Threads:\t6\n",
      "SigQ:\t0/63465\n",
      "SigPnd:\t0000000000000000\n",
      "ShdPnd:\t0000000000000000\n",
      "SigBlk:\t0000000000000000\n",
      "SigIgn:\t0000000001001000\n",
      "SigCgt:\t0000000100004202\n",
      "CapInh:\t0000000000000000\n",
      "CapPrm:\t0000000000000000\n",
      "CapEff:\t0000000000000000\n",
      "CapBnd:\t000001ffffffffff\n",
      "CapAmb:\t0000000000000000\n",
      "NoNewPrivs:\t0\n",
      "Seccomp:\t0\n",
      "Seccomp_filters:\t0\n",
      "Speculation_Store_Bypass:\tthread vulnerable\n",
      "SpeculationIndirectBranch:\talways enabled\n",
      "Cpus_allowed:\tf\n",
      "Cpus_allowed_list:\t0-3\n",
      "Mems_allowed:\t00000000,00000000,00000000,00000000,00000000,00000000,00000000,00000000,00000000,00000000,00000000,00000000,00000000,00000000,00000000,00000000,00000000,00000000,00000000,00000000,00000000,00000000,00000000,00000000,00000000,00000000,00000000,00000000,00000000,00000000,00000000,00000001\n",
      "Mems_allowed_list:\t0\n",
      "voluntary_ctxt_switches:\t11008\n",
      "nonvoluntary_ctxt_switches:\t3275\n"
     ]
    }
   ],
   "source": [
    "cat /proc/2043/status"
   ]
  },
  {
   "cell_type": "code",
   "execution_count": null,
   "id": "2f822e16-5f2e-4ff6-ace4-9cfd62b00558",
   "metadata": {
    "collapsed": true,
    "jupyter": {
     "outputs_hidden": true
    },
    "tags": []
   },
   "outputs": [
    {
     "name": "stdout",
     "output_type": "stream",
     "text": [
      "PS(1)                            User Commands                           PS(1)\n",
      "\n",
      "NAME\n",
      "       ps - report a snapshot of the current processes.\n",
      "\n",
      "SYNOPSIS\n",
      "       ps [options]\n",
      "\n",
      "DESCRIPTION\n",
      "       ps displays information about a selection of the active processes.  If\n",
      "       you want a repetitive update of the selection and the displayed\n",
      "       information, use top instead.\n",
      "\n",
      "       This version of ps accepts several kinds of options:\n",
      "\n",
      "       1   UNIX options, which may be grouped and must be preceded by a dash.\n",
      "       2   BSD options, which may be grouped and must not be used with a dash.\n",
      "       3   GNU long options, which are preceded by two dashes.\n",
      "\n",
      "       Options of different types may be freely mixed, but conflicts can\n",
      "       appear.  There are some synonymous options, which are functionally\n",
      "       identical, due to the many standards and ps implementations that this\n",
      "       ps is compatible with.\n",
      "\n",
      "       Note that ps -aux is distinct from ps aux.  The POSIX and UNIX\n",
      "       standards require that ps -aux print all processes owned by a user\n",
      "       named x, as well as printing all processes that would be selected by\n",
      "       the -a option.  If the user named x does not exist, this ps may\n",
      "       interpret the command as ps aux instead and print a warning.  This\n",
      "       behavior is intended to aid in transitioning old scripts and habits.\n",
      "       It is fragile, subject to change, and thus should not be relied upon.\n",
      "\n",
      "       By default, ps selects all processes with the same effective user ID\n",
      "       (euid=EUID) as the current user and associated with the same terminal\n",
      "       as the invoker.  It displays the process ID (pid=PID), the terminal\n",
      "       associated with the process (tname=TTY), the cumulated CPU time in\n",
      "       [DD-]hh:mm:ss format (time=TIME), and the executable name (ucmd=CMD).\n",
      "       Output is unsorted by default.\n",
      "\n",
      "       The use of BSD-style options will add process state (stat=STAT) to the\n",
      "       default display and show the command args (args=COMMAND) instead of the\n",
      "       executable name.  You can override this with the PS_FORMAT environment\n",
      "       variable. The use of BSD-style options will also change the process\n",
      "       selection to include processes on other terminals (TTYs) that are owned\n",
      "       by you; alternately, this may be described as setting the selection to\n",
      "       be the set of all processes filtered to exclude processes owned by\n",
      "       other users or not on a terminal.  These effects are not considered\n",
      "       when options are described as being \"identical\" below, so -M will be\n",
      "       considered identical to Z and so on.\n",
      "\n",
      "       Except as described below, process selection options are additive.  The\n",
      "       default selection is discarded, and then the selected processes are\n",
      "       added to the set of processes to be displayed.  A process will thus be\n",
      "       shown if it meets any of the given selection criteria.\n",
      "\n",
      "EXAMPLES\n",
      "       To see every process on the system using standard syntax:\n",
      "          ps -e\n",
      "          ps -ef\n",
      "          ps -eF\n",
      "          ps -ely\n",
      "\n",
      "       To see every process on the system using BSD syntax:\n",
      "          ps ax\n",
      "          ps axu\n",
      "\n",
      "       To print a process tree:\n",
      "          ps -ejH\n",
      "          ps axjf\n",
      "\n",
      "       To get info about threads:\n",
      "          ps -eLf\n",
      "          ps axms\n",
      "\n",
      "       To get security info:\n",
      "          ps -eo euser,ruser,suser,fuser,f,comm,label\n",
      "          ps axZ\n",
      "          ps -eM\n",
      "\n",
      "       To see every process running as root (real & effective ID) in user\n",
      "       format:\n",
      "          ps -U root -u root u\n",
      "\n",
      "       To see every process with a user-defined format:\n",
      "          ps -eo pid,tid,class,rtprio,ni,pri,psr,pcpu,stat,wchan:14,comm\n",
      "          ps axo stat,euid,ruid,tty,tpgid,sess,pgrp,ppid,pid,pcpu,comm\n",
      "          ps -Ao pid,tt,user,fname,tmout,f,wchan\n",
      "\n",
      "       Print only the process IDs of syslogd:\n",
      "          ps -C syslogd -o pid=\n",
      "\n",
      "       Print only the name of PID 42:\n",
      "          ps -q 42 -o comm=\n",
      "\n",
      "SIMPLE PROCESS SELECTION\n",
      "       a      Lift the BSD-style \"only yourself\" restriction, which is imposed\n",
      "              upon the set of all processes when some BSD-style (without \"-\")\n",
      "              options are used or when the ps personality setting is BSD-like.\n",
      "              The set of processes selected in this manner is in addition to\n",
      "              the set of processes selected by other means.  An alternate\n",
      "              description is that this option causes ps to list all processes\n",
      "              with a terminal (tty), or to list all processes when used\n",
      "              together with the x option.\n",
      "\n",
      "       -A     Select all processes.  Identical to -e.\n",
      "\n",
      "       -a     Select all processes except both session leaders (see getsid(2))\n",
      "              and processes not associated with a terminal.\n",
      "\n",
      "       -d     Select all processes except session leaders.\n",
      "\n",
      "       --deselect\n",
      "              Select all processes except those that fulfill the specified\n",
      "              conditions (negates the selection).  Identical to -N.\n",
      "\n",
      "       -e     Select all processes.  Identical to -A.\n",
      "\n",
      "       g      Really all, even session leaders.  This flag is obsolete and may\n",
      "              be discontinued in a future release.  It is normally implied by\n",
      "              the a flag, and is only useful when operating in the sunos4\n",
      "              personality.\n",
      "\n",
      "       -N     Select all processes except those that fulfill the specified\n",
      "              conditions (negates the selection).  Identical to --deselect.\n",
      "\n",
      "       T      Select all processes associated with this terminal.  Identical\n",
      "              to the t option without any argument.\n",
      "\n",
      "       r      Restrict the selection to only running processes.\n",
      "\n",
      "       x      Lift the BSD-style \"must have a tty\" restriction, which is\n",
      "              imposed upon the set of all processes when some BSD-style\n",
      "              (without \"-\") options are used or when the ps personality\n",
      "              setting is BSD-like.  The set of processes selected in this\n",
      "              manner is in addition to the set of processes selected by other\n",
      "              means.  An alternate description is that this option causes ps\n",
      "              to list all processes owned by you (same EUID as ps), or to list\n",
      "              all processes when used together with the a option.\n",
      "\n",
      "PROCESS SELECTION BY LIST\n",
      "       These options accept a single argument in the form of a blank-separated\n",
      "       or comma-separated list.  They can be used multiple times.  For\n",
      "       example: ps -p \"1 2\" -p 3,4\n",
      "\n",
      "       -123   Identical to --pid 123.\n",
      "\n",
      "       123    Identical to --pid 123.\n",
      "\n",
      "       -C cmdlist\n",
      "              Select by command name.  This selects the processes whose\n",
      "              executable name is given in cmdlist.  NOTE: The command name is\n",
      "              not the same as the command line. Previous versions of procps\n",
      "              and the kernel truncated this command name to 15 characters.\n",
      "              This limitation is no longer present in both. If you depended on\n",
      "              matching only 15 characters, you may no longer get a match.\n",
      "\n",
      "       -G grplist\n",
      "              Select by real group ID (RGID) or name.  This selects the\n",
      "              processes whose real group name or ID is in the grplist list.\n",
      "              The real group ID identifies the group of the user who created\n",
      "              the process, see getgid(2).\n",
      "\n",
      "       -g grplist\n",
      "              Select by session OR by effective group name.  Selection by\n",
      "              session is specified by many standards, but selection by\n",
      "              effective group is the logical behavior that several other\n",
      "              operating systems use.  This ps will select by session when the\n",
      "              list is completely numeric (as sessions are).  Group ID numbers\n",
      "              will work only when some group names are also specified.  See\n",
      "              the -s and --group options.\n",
      "\n",
      "       --Group grplist\n",
      "              Select by real group ID (RGID) or name.  Identical to -G.\n",
      "\n",
      "       --group grplist\n",
      "              Select by effective group ID (EGID) or name.  This selects the\n",
      "              processes whose effective group name or ID is in grplist.  The\n",
      "              effective group ID describes the group whose file access\n",
      "              permissions are used by the process (see getegid(2)).  The -g\n",
      "              option is often an alternative to --group.\n",
      "\n",
      "       p pidlist\n",
      "              Select by process ID.  Identical to -p and --pid.\n",
      "\n",
      "       -p pidlist\n",
      "              Select by PID.  This selects the processes whose process ID\n",
      "              numbers appear in pidlist.  Identical to p and --pid.\n",
      "\n",
      "       --pid pidlist\n",
      "              Select by process ID.  Identical to -p and p.\n",
      "\n",
      "       --ppid pidlist\n",
      "              Select by parent process ID.  This selects the processes with a\n",
      "              parent process ID in pidlist.  That is, it selects processes\n",
      "              that are children of those listed in pidlist.\n",
      "\n",
      "       q pidlist\n",
      "              Select by process ID (quick mode).  Identical to -q and\n",
      "              --quick-pid.\n",
      "\n",
      "       -q pidlist\n",
      "              Select by PID (quick mode).  This selects the processes whose\n",
      "              process ID numbers appear in pidlist.  With this option ps reads\n",
      "              the necessary info only for the pids listed in the pidlist and\n",
      "              doesn't apply additional filtering rules. The order of pids is\n",
      "              unsorted and preserved. No additional selection options, sorting\n",
      "              and forest type listings are allowed in this mode.  Identical to\n",
      "              q and --quick-pid.\n",
      "\n",
      "       --quick-pid pidlist\n",
      "              Select by process ID (quick mode).  Identical to -q and q.\n",
      "\n",
      "       -s sesslist\n",
      "              Select by session ID.  This selects the processes with a session\n",
      "              ID specified in sesslist.\n",
      "\n",
      "       --sid sesslist\n",
      "              Select by session ID.  Identical to -s.\n",
      "\n",
      "       t ttylist\n",
      "              Select by tty.  Nearly identical to -t and --tty, but can also\n",
      "              be used with an empty ttylist to indicate the terminal\n",
      "              associated with ps.  Using the T option is considered cleaner\n",
      "              than using t with an empty ttylist.\n",
      "\n",
      "       -t ttylist\n",
      "              Select by tty.  This selects the processes associated with the\n",
      "              terminals given in ttylist.  Terminals (ttys, or screens for\n",
      "              text output) can be specified in several forms: /dev/ttyS1,\n",
      "              ttyS1, S1.  A plain \"-\" may be used to select processes not\n",
      "              attached to any terminal.\n",
      "\n",
      "       --tty ttylist\n",
      "              Select by terminal.  Identical to -t and t.\n",
      "\n",
      "       U userlist\n",
      "              Select by effective user ID (EUID) or name.  This selects the\n",
      "              processes whose effective user name or ID is in userlist.  The\n",
      "              effective user ID describes the user whose file access\n",
      "              permissions are used by the process (see geteuid(2)).  Identical\n",
      "              to -u and --user.\n",
      "\n",
      "       -U userlist\n",
      "              Select by real user ID (RUID) or name.  It selects the processes\n",
      "              whose real user name or ID is in the userlist list.  The real\n",
      "              user ID identifies the user who created the process, see\n",
      "              getuid(2).\n",
      "\n",
      "       -u userlist\n",
      "              Select by effective user ID (EUID) or name.  This selects the\n",
      "              processes whose effective user name or ID is in userlist.\n",
      "\n",
      "              The effective user ID describes the user whose file access\n",
      "              permissions are used by the process (see geteuid(2)).  Identical\n",
      "              to U and --user.\n",
      "\n",
      "       --User userlist\n",
      "              Select by real user ID (RUID) or name.  Identical to -U.\n",
      "\n",
      "       --user userlist\n",
      "              Select by effective user ID (EUID) or name.  Identical to -u and\n",
      "              U.\n",
      "\n",
      "OUTPUT FORMAT CONTROL\n",
      "       These options are used to choose the information displayed by ps.  The\n",
      "       output may differ by personality.\n",
      "\n",
      "       -c     Show different scheduler information for the -l option.\n",
      "\n",
      "       --context\n",
      "              Display security context format (for SELinux).\n",
      "\n",
      "       -f     Do full-format listing. This option can be combined with many\n",
      "              other UNIX-style options to add additional columns.  It also\n",
      "              causes the command arguments to be printed.  When used with -L,\n",
      "              the NLWP (number of threads) and LWP (thread ID) columns will be\n",
      "              added.  See the c option, the format keyword args, and the\n",
      "              format keyword comm.\n",
      "\n",
      "       -F     Extra full format.  See the -f option, which -F implies.\n",
      "\n",
      "       --format format\n",
      "              user-defined format.  Identical to -o and o.\n",
      "\n",
      "       j      BSD job control format.\n",
      "\n",
      "       -j     Jobs format.\n",
      "\n",
      "       l      Display BSD long format.\n",
      "\n",
      "       -l     Long format.  The -y option is often useful with this.\n",
      "\n",
      "       -M     Add a column of security data.  Identical to Z (for SELinux).\n",
      "\n",
      "       O format\n",
      "              is preloaded o (overloaded).  The BSD O option can act like -O\n",
      "              (user-defined output format with some common fields predefined)\n",
      "              or can be used to specify sort order.  Heuristics are used to\n",
      "              determine the behavior of this option.  To ensure that the\n",
      "              desired behavior is obtained (sorting or formatting), specify\n",
      "              the option in some other way (e.g.  with -O or --sort).  When\n",
      "              used as a formatting option, it is identical to -O, with the BSD\n",
      "              personality.\n",
      "\n",
      "       -O format\n",
      "              Like -o, but preloaded with some default columns.  Identical to\n",
      "              -o pid,format,state,tname,time,command or -o pid,format,tname,\n",
      "              time,cmd, see -o below.\n",
      "\n",
      "       o format\n",
      "              Specify user-defined format.  Identical to -o and --format.\n",
      "\n",
      "       -o format\n",
      "              User-defined format.  format is a single argument in the form of\n",
      "              a blank-separated or comma-separated list, which offers a way to\n",
      "              specify individual output columns.  The recognized keywords are\n",
      "              described in the STANDARD FORMAT SPECIFIERS section below.\n",
      "              Headers may be renamed (ps -o pid,ruser=RealUser -o\n",
      "              comm=Command) as desired.  If all column headers are empty (ps\n",
      "              -o pid= -o comm=) then the header line will not be output.\n",
      "              Column width will increase as needed for wide headers; this may\n",
      "              be used to widen up columns such as WCHAN (ps -o pid,wchan=WIDE-\n",
      "              WCHAN-COLUMN -o comm).  Explicit width control (ps opid,\n",
      "              wchan:42,cmd) is offered too.  The behavior of ps -o pid=X,\n",
      "              comm=Y varies with personality; output may be one column named\n",
      "              \"X,comm=Y\" or two columns named \"X\" and \"Y\".  Use multiple -o\n",
      "              options when in doubt.  Use the PS_FORMAT environment variable\n",
      "              to specify a default as desired; DefSysV and DefBSD are macros\n",
      "              that may be used to choose the default UNIX or BSD columns.\n",
      "\n",
      "       -P     Add a column showing psr.\n",
      "\n",
      "       s      Display signal format.\n",
      "\n",
      "       u      Display user-oriented format.\n",
      "\n",
      "       v      Display virtual memory format.\n",
      "\n",
      "       X      Register format.\n",
      "\n",
      "       -y     Do not show flags; show rss in place of addr.  This option can\n",
      "              only be used with -l.\n",
      "\n",
      "       Z      Add a column of security data.  Identical to -M (for SELinux).\n",
      "\n",
      "OUTPUT MODIFIERS\n",
      "       c      Show the true command name.  This is derived from the name of\n",
      "              the executable file, rather than from the argv value.  Command\n",
      "              arguments and any modifications to them are thus not shown.\n",
      "              This option effectively turns the args format keyword into the\n",
      "              comm format keyword; it is useful with the -f format option and\n",
      "              with the various BSD-style format options, which all normally\n",
      "              display the command arguments.  See the -f option, the format\n",
      "              keyword args, and the format keyword comm.\n",
      "\n",
      "       --cols n\n",
      "              Set screen width.\n",
      "\n",
      "       --columns n\n",
      "              Set screen width.\n",
      "\n",
      "       --cumulative\n",
      "              Include some dead child process data (as a sum with the parent).\n",
      "\n",
      "       e      Show the environment after the command.\n",
      "\n",
      "       f      ASCII art process hierarchy (forest).\n",
      "\n",
      "       --forest\n",
      "              ASCII art process tree.\n",
      "\n",
      "       h      No header.  (or, one header per screen in the BSD personality).\n",
      "              The h option is problematic.  Standard BSD ps uses this option\n",
      "              to print a header on each page of output, but older Linux ps\n",
      "              uses this option to totally disable the header.  This version of\n",
      "              ps follows the Linux usage of not printing the header unless the\n",
      "              BSD personality has been selected, in which case it prints a\n",
      "              header on each page of output.  Regardless of the current\n",
      "              personality, you can use the long options --headers and\n",
      "              --no-headers to enable printing headers each page or disable\n",
      "              headers entirely, respectively.\n",
      "\n",
      "       -H     Show process hierarchy (forest).\n",
      "\n",
      "       --headers\n",
      "              Repeat header lines, one per page of output.\n",
      "\n",
      "       k spec Specify sorting order.  Sorting syntax is\n",
      "              [+|-]key[,[+|-]key[,...]].  Choose a multi-letter key from the\n",
      "              STANDARD FORMAT SPECIFIERS section.  The \"+\" is optional since\n",
      "              default direction is increasing numerical or lexicographic\n",
      "              order.  Identical to --sort.\n",
      "\n",
      "                      Examples:\n",
      "                      ps jaxkuid,-ppid,+pid\n",
      "                      ps axk comm o comm,args\n",
      "                      ps kstart_time -ef\n",
      "\n",
      "       --lines n\n",
      "              Set screen height.\n",
      "\n",
      "       n      Numeric output for WCHAN and USER (including all types of UID\n",
      "              and GID).\n",
      "\n",
      "       --no-headers\n",
      "              Print no header line at all.  --no-heading is an alias for this\n",
      "              option.\n",
      "\n",
      "       O order\n",
      "              Sorting order (overloaded).  The BSD O option can act like -O\n",
      "              (user-defined output format with some common fields predefined)\n",
      "              or can be used to specify sort order.  Heuristics are used to\n",
      "              determine the behavior of this option.  To ensure that the\n",
      "              desired behavior is obtained (sorting or formatting), specify\n",
      "              the option in some other way (e.g.  with -O or --sort).\n",
      "\n",
      "              For sorting, obsolete BSD O option syntax is\n",
      "              O[+|-]k1[,[+|-]k2[,...]].  It orders the processes listing\n",
      "              according to the multilevel sort specified by the sequence of\n",
      "              one-letter short keys k1,k2, ...  described in the OBSOLETE SORT\n",
      "              KEYS section below.  The \"+\" is currently optional, merely\n",
      "              re-iterating the default direction on a key, but may help to\n",
      "              distinguish an O sort from an O format.  The \"-\" reverses\n",
      "              direction only on the key it precedes.\n",
      "\n",
      "       --rows n\n",
      "              Set screen height.\n",
      "\n",
      "       S      Sum up some information, such as CPU usage, from dead child\n",
      "              processes into their parent.  This is useful for examining a\n",
      "              system where a parent process repeatedly forks off short-lived\n",
      "              children to do work.\n",
      "\n",
      "       --sort spec\n",
      "              Specify sorting order.  Sorting syntax is\n",
      "              [+|-]key[,[+|-]key[,...]].  Choose a multi-letter key from the\n",
      "              STANDARD FORMAT SPECIFIERS section.  The \"+\" is optional since\n",
      "              default direction is increasing numerical or lexicographic\n",
      "              order.  Identical to k.  For example: ps jax --sort=uid,-ppid,\n",
      "              +pid\n",
      "\n",
      "       w      Wide output.  Use this option twice for unlimited width.\n",
      "\n",
      "       -w     Wide output.  Use this option twice for unlimited width.\n",
      "\n",
      "       --width n\n",
      "              Set screen width.\n",
      "\n",
      "THREAD DISPLAY\n",
      "       H      Show threads as if they were processes.\n",
      "\n",
      "       -L     Show threads, possibly with LWP and NLWP columns.\n",
      "\n",
      "       m      Show threads after processes.\n",
      "\n",
      "       -m     Show threads after processes.\n",
      "\n",
      "       -T     Show threads, possibly with SPID column.\n",
      "\n",
      "OTHER INFORMATION\n",
      "       --help section\n",
      "              Print a help message.  The section argument can be one of\n",
      "              simple, list, output, threads, misc, or all.  The argument can\n",
      "              be shortened to one of the underlined letters as in:\n",
      "              s|l|o|t|m|a.\n",
      "\n",
      "       --info Print debugging info.\n",
      "\n",
      "       L      List all format specifiers.\n",
      "\n",
      "       V      Print the procps-ng version.\n",
      "\n",
      "       -V     Print the procps-ng version.\n",
      "\n",
      "       --version\n",
      "              Print the procps-ng version.\n",
      "\n",
      "NOTES\n",
      "       This ps works by reading the virtual files in /proc.  This ps does not\n",
      "       need to be setuid kmem or have any privileges to run.  Do not give this\n",
      "       ps any special permissions.\n",
      "\n",
      "       CPU usage is currently expressed as the percentage of time spent\n",
      "       running during the entire lifetime of a process.  This is not ideal,\n",
      "       and it does not conform to the standards that ps otherwise conforms to.\n",
      "       CPU usage is unlikely to add up to exactly 100%.\n",
      "\n",
      "       The SIZE and RSS fields don't count some parts of a process including\n",
      "       the page tables, kernel stack, struct thread_info, and struct\n",
      "       task_struct.  This is usually at least 20 KiB of memory that is always\n",
      "       resident.  SIZE is the virtual size of the process (code+data+stack).\n",
      "\n",
      "       Processes marked <defunct> are dead processes (so-called \"zombies\")\n",
      "       that remain because their parent has not destroyed them properly.\n",
      "       These processes will be destroyed by init(8) if the parent process\n",
      "       exits.\n",
      "\n",
      "       If the length of the username is greater than the length of the display\n",
      "       column, the username will be truncated.  See the -o and -O formatting\n",
      "       options to customize length.\n",
      "\n",
      "       Commands options such as ps -aux are not recommended as it is a\n",
      "       confusion of two different standards.  According to the POSIX and UNIX\n",
      "       standards, the above command asks to display all processes with a TTY\n",
      "       (generally the commands users are running) plus all processes owned by\n",
      "       a user named x.  If that user doesn't exist, then ps will assume you\n",
      "       really meant ps aux.\n",
      "\n",
      "PROCESS FLAGS\n",
      "       The sum of these values is displayed in the \"F\" column, which is\n",
      "       provided by the flags output specifier:\n",
      "\n",
      "               1    forked but didn't exec\n",
      "               4    used super-user privileges\n",
      "\n",
      "PROCESS STATE CODES\n",
      "       Here are the different values that the s, stat and state output\n",
      "       specifiers (header \"STAT\" or \"S\") will display to describe the state of\n",
      "       a process:\n",
      "\n",
      "               D    uninterruptible sleep (usually IO)\n",
      "               I    Idle kernel thread\n",
      "               R    running or runnable (on run queue)\n",
      "               S    interruptible sleep (waiting for an event to complete)\n",
      "               T    stopped by job control signal\n",
      "               t    stopped by debugger during the tracing\n",
      "               W    paging (not valid since the 2.6.xx kernel)\n",
      "               X    dead (should never be seen)\n",
      "               Z    defunct (\"zombie\") process, terminated but not reaped by\n",
      "                    its parent\n",
      "\n",
      "       For BSD formats and when the stat keyword is used, additional\n",
      "       characters may be displayed:\n",
      "\n",
      "               <    high-priority (not nice to other users)\n",
      "               N    low-priority (nice to other users)\n",
      "               L    has pages locked into memory (for real-time and custom IO)\n",
      "               s    is a session leader\n",
      "               l    is multi-threaded (using CLONE_THREAD, like NPTL pthreads\n",
      "                    do)\n",
      "               +    is in the foreground process group\n",
      "\n",
      "OBSOLETE SORT KEYS\n",
      "       These keys are used by the BSD O option (when it is used for sorting).\n",
      "       The GNU --sort option doesn't use these keys, but the specifiers\n",
      "       described below in the STANDARD FORMAT SPECIFIERS section.  Note that\n",
      "       the values used in sorting are the internal values ps uses and not the\n",
      "       \"cooked\" values used in some of the output format fields (e.g.  sorting\n",
      "       on tty will sort into device number, not according to the terminal name\n",
      "       displayed).  Pipe ps output into the sort(1) command if you want to\n",
      "       sort the cooked values.\n",
      "\n",
      "       KEY   LONG         DESCRIPTION\n",
      "       c     cmd          simple name of executable\n",
      "       C     pcpu         cpu utilization\n",
      "       f     flags        flags as in long format F field\n",
      "       g     pgrp         process group ID\n",
      "       G     tpgid        controlling tty process group ID\n",
      "       j     cutime       cumulative user time\n",
      "       J     cstime       cumulative system time\n",
      "       k     utime        user time\n",
      "       m     min_flt      number of minor page faults\n",
      "       M     maj_flt      number of major page faults\n",
      "       n     cmin_flt     cumulative minor page faults\n",
      "       N     cmaj_flt     cumulative major page faults\n",
      "       o     session      session ID\n",
      "       p     pid          process ID\n",
      "       P     ppid         parent process ID\n",
      "       r     rss          resident set size\n",
      "       R     resident     resident pages\n",
      "       s     size         memory size in kilobytes\n",
      "       S     share        amount of shared pages\n",
      "       t     tty          the device number of the controlling tty\n",
      "       T     start_time   time process was started\n",
      "       U     uid          user ID number\n",
      "       u     user         user name\n",
      "       v     vsize        total VM size in KiB\n",
      "       y     priority     kernel scheduling priority\n",
      "\n",
      "AIX FORMAT DESCRIPTORS\n",
      "       This ps supports AIX format descriptors, which work somewhat like the\n",
      "       formatting codes of printf(1) and printf(3).  For example, the normal\n",
      "       default output can be produced with this: ps -eo \"%p %y %x %c\".  The\n",
      "       NORMAL codes are described in the next section.\n",
      "\n",
      "       CODE   NORMAL   HEADER\n",
      "       %C     pcpu     %CPU\n",
      "       %G     group    GROUP\n",
      "       %P     ppid     PPID\n",
      "       %U     user     USER\n",
      "       %a     args     COMMAND\n",
      "       %c     comm     COMMAND\n",
      "       %g     rgroup   RGROUP\n",
      "       %n     nice     NI\n",
      "       %p     pid      PID\n",
      "       %r     pgid     PGID\n",
      "       %t     etime    ELAPSED\n",
      "       %u     ruser    RUSER\n",
      "       %x     time     TIME\n",
      "       %y     tty      TTY\n",
      "       %z     vsz      VSZ\n",
      "\n",
      "STANDARD FORMAT SPECIFIERS\n",
      "       Here are the different keywords that may be used to control the output\n",
      "       format (e.g. with option -o) or to sort the selected processes with the\n",
      "       GNU-style --sort option.\n",
      "\n",
      "       For example: ps -eo pid,user,args --sort user\n",
      "\n",
      "       This version of ps tries to recognize most of the keywords used in\n",
      "       other implementations of ps.\n",
      "\n",
      "       The following user-defined format specifiers may contain spaces:\n",
      "       args, cmd, comm, command, fname, ucmd, ucomm, lstart, bsdstart, start.\n",
      "\n",
      "       Some keywords may not be available for sorting.\n",
      "\n",
      "       CODE        HEADER    DESCRIPTION\n",
      "\n",
      "       %cpu        %CPU      cpu utilization of the process in \"##.#\" format.\n",
      "                             Currently, it is the CPU time used divided by the\n",
      "                             time the process has been running\n",
      "                             (cputime/realtime ratio), expressed as a\n",
      "                             percentage.  It will not add up to 100% unless\n",
      "                             you are lucky.  (alias pcpu).\n",
      "\n",
      "       %mem        %MEM      ratio of the process's resident set size  to the\n",
      "                             physical memory on the machine, expressed as a\n",
      "                             percentage.  (alias pmem).\n",
      "\n",
      "       ag_id       AGID      The autogroup identifier associated with a\n",
      "                             process which operates in conjunction with the\n",
      "                             CFS scheduler to improve interactive desktop\n",
      "                             performance.\n",
      "\n",
      "       ag_nice     AGNI      The autogroup nice value which affects scheduling\n",
      "                             of all processes in that group.\n",
      "\n",
      "       args        COMMAND   command with all its arguments as a string.\n",
      "                             Modifications to the arguments may be shown.  The\n",
      "                             output in this column may contain spaces.  A\n",
      "                             process marked <defunct> is partly dead, waiting\n",
      "                             to be fully destroyed by its parent.  Sometimes\n",
      "                             the process args will be unavailable; when this\n",
      "                             happens, ps will instead print the executable\n",
      "                             name in brackets.  (alias cmd, command).  See\n",
      "                             also the comm format keyword, the -f option, and\n",
      "                             the c option.\n",
      "                             When specified last, this column will extend to\n",
      "                             the edge of the display.  If ps can not determine\n",
      "                             display width, as when output is redirected\n",
      "                             (piped) into a file or another command, the\n",
      "                             output width is undefined (it may be 80,\n",
      "                             unlimited, determined by the TERM variable, and\n",
      "                             so on).  The COLUMNS environment variable or\n",
      "                             --cols option may be used to exactly determine\n",
      "                             the width in this case.  The w or -w option may\n",
      "                             be also be used to adjust width.\n",
      "\n",
      "       blocked     BLOCKED   mask of the blocked signals, see signal(7).\n",
      "                             According to the width of the field, a 32 or\n",
      "                             64-bit mask in hexadecimal format is displayed.\n",
      "                             (alias sig_block, sigmask).\n",
      "\n",
      "       bsdstart    START     time the command started.  If the process was\n",
      "                             started less than 24 hours ago, the output format\n",
      "                             is \" HH:MM\", else it is \" Mmm:SS\" (where Mmm is\n",
      "                             the three letters of the month).  See also\n",
      "                             lstart, start, start_time, and stime.\n",
      "\n",
      "       bsdtime     TIME      accumulated cpu time, user + system.  The display\n",
      "                             format is usually \"MMM:SS\", but can be shifted to\n",
      "                             the right if the process used more than 999\n",
      "                             minutes of cpu time.\n",
      "\n",
      "       c           C         processor utilization. Currently, this is the\n",
      "                             integer value of the percent usage over the\n",
      "                             lifetime of the process.  (see %cpu).\n",
      "\n",
      "       caught      CAUGHT    mask of the caught signals, see signal(7).\n",
      "                             According to the width of the field, a 32 or 64\n",
      "                             bits mask in hexadecimal format is displayed.\n",
      "                             (alias sig_catch, sigcatch).\n",
      "\n",
      "       cgname      CGNAME    display name of control groups to which the\n",
      "                             process belongs.\n",
      "\n",
      "       cgroup      CGROUP    display control groups to which the process\n",
      "                             belongs.\n",
      "\n",
      "       cgroupns    CGROUPNS  Unique inode number describing the namespace the\n",
      "                             process belongs to.  See namespaces(7).\n",
      "\n",
      "       class       CLS       scheduling class of the process.  (alias\n",
      "                             policy, cls).  Field's possible values are:\n",
      "\n",
      "                                      -   not reported\n",
      "                                      TS  SCHED_OTHER\n",
      "                                      FF  SCHED_FIFO\n",
      "                                      RR  SCHED_RR\n",
      "                                      B   SCHED_BATCH\n",
      "                                      ISO SCHED_ISO\n",
      "                                      IDL SCHED_IDLE\n",
      "                                      DLN SCHED_DEADLINE\n",
      "                                      ?   unknown value\n",
      "\n",
      "       cls         CLS       scheduling class of the process.  (alias\n",
      "                             policy, cls).  Field's possible values are:\n",
      "\n",
      "                                      -   not reported\n",
      "                                      TS  SCHED_OTHER\n",
      "                                      FF  SCHED_FIFO\n",
      "                                      RR  SCHED_RR\n",
      "                                      B   SCHED_BATCH\n",
      "                                      ISO SCHED_ISO\n",
      "                                      IDL SCHED_IDLE\n",
      "                                      DLN SCHED_DEADLINE\n",
      "                                      ?   unknown value\n",
      "\n",
      "       cmd         CMD       see args.  (alias args, command).\n",
      "\n",
      "       comm        COMMAND   command name (only the executable name).\n",
      "                             Modifications to the command name will not be\n",
      "                             shown.  A process marked <defunct> is partly\n",
      "                             dead, waiting to be fully destroyed by its\n",
      "                             parent.  The output in this column may contain\n",
      "                             spaces.  (alias ucmd, ucomm).  See also the args\n",
      "                             format keyword, the -f option, and the c option.\n",
      "                             When specified last, this column will extend to\n",
      "                             the edge of the display.  If ps can not determine\n",
      "                             display width, as when output is redirected\n",
      "                             (piped) into a file or another command, the\n",
      "                             output width is undefined (it may be 80,\n",
      "                             unlimited, determined by the TERM variable, and\n",
      "                             so on).  The COLUMNS environment variable or\n",
      "                             --cols option may be used to exactly determine\n",
      "                             the width in this case.  The w or -w option may\n",
      "                             be also be used to adjust width.\n",
      "\n",
      "       command     COMMAND   See args.  (alias args, command).\n",
      "\n",
      "       cp          CP        per-mill (tenths of a percent) CPU usage.  (see\n",
      "                             %cpu).\n",
      "\n",
      "       cputime     TIME      cumulative CPU time, \"[DD-]hh:mm:ss\" format.\n",
      "                             (alias time).\n",
      "\n",
      "       cputimes    TIME      cumulative CPU time in seconds (alias times).\n",
      "\n",
      "       cuc         %CUC      The CPU utilization of a process, including dead\n",
      "                             children, in an extended \"##.###\" format.  (see\n",
      "                             also %cpu, c, cp, cuu, pcpu).\n",
      "\n",
      "       cuu         %CUU      The CPU utilization of a process in an extended\n",
      "                             \"##.###\" format.  (see also %cpu, c, cp, cuc,\n",
      "                             pcpu).\n",
      "\n",
      "       drs         DRS       data resident set size, the amount of physical\n",
      "                             memory devoted to other than executable code.\n",
      "\n",
      "       egid        EGID      effective group ID number of the process as a\n",
      "                             decimal integer.  (alias gid).\n",
      "\n",
      "       egroup      EGROUP    effective group ID of the process.  This will be\n",
      "                             the textual group ID, if it can be obtained and\n",
      "                             the field width permits, or a decimal\n",
      "                             representation otherwise.  (alias group).\n",
      "\n",
      "       eip         EIP       instruction pointer. As of kernel 4.9.xx will be\n",
      "                             zeroed out unless task is exiting or being core\n",
      "                             dumped.\n",
      "\n",
      "       esp         ESP       stack pointer. As of kernel 4.9.xx will be zeroed\n",
      "                             out unless task is exiting or being core dumped.\n",
      "\n",
      "       etime       ELAPSED   elapsed time since the process was started, in\n",
      "                             the form [[DD-]hh:]mm:ss.\n",
      "\n",
      "       etimes      ELAPSED   elapsed time since the process was started, in\n",
      "                             seconds.\n",
      "\n",
      "       euid        EUID      effective user ID (alias uid).\n",
      "\n",
      "       euser       EUSER     effective user name.  This will be the textual\n",
      "                             user ID, if it can be obtained and the field\n",
      "                             width permits, or a decimal representation\n",
      "                             otherwise.  The n option can be used to force the\n",
      "                             decimal representation.  (alias uname, user).\n",
      "\n",
      "       exe         EXE       path to the executable. Useful if path cannot be\n",
      "                             printed via cmd, comm or args format options.\n",
      "\n",
      "       f           F         flags associated with the process, see the\n",
      "                             PROCESS FLAGS section.  (alias flag, flags).\n",
      "\n"
     ]
    }
   ],
   "source": [
    "man ps"
   ]
  },
  {
   "cell_type": "markdown",
   "id": "39854b57-c886-4cb2-9361-4883a5457f3c",
   "metadata": {},
   "source": [
    "### `kill`"
   ]
  },
  {
   "cell_type": "code",
   "execution_count": 2,
   "id": "a5a5402a-d8b6-469f-b55a-ec915f6f281e",
   "metadata": {
    "tags": []
   },
   "outputs": [
    {
     "name": "stdout",
     "output_type": "stream",
     "text": [
      " 1) SIGHUP\t 2) SIGINT\t 3) SIGQUIT\t 4) SIGILL\t 5) SIGTRAP\n",
      " 6) SIGABRT\t 7) SIGBUS\t 8) SIGFPE\t 9) SIGKILL\t10) SIGUSR1\n",
      "11) SIGSEGV\t12) SIGUSR2\t13) SIGPIPE\t14) SIGALRM\t15) SIGTERM\n",
      "16) SIGSTKFLT\t17) SIGCHLD\t18) SIGCONT\t19) SIGSTOP\t20) SIGTSTP\n",
      "21) SIGTTIN\t22) SIGTTOU\t23) SIGURG\t24) SIGXCPU\t25) SIGXFSZ\n",
      "26) SIGVTALRM\t27) SIGPROF\t28) SIGWINCH\t29) SIGIO\t30) SIGPWR\n",
      "31) SIGSYS\t34) SIGRTMIN\t35) SIGRTMIN+1\t36) SIGRTMIN+2\t37) SIGRTMIN+3\n",
      "38) SIGRTMIN+4\t39) SIGRTMIN+5\t40) SIGRTMIN+6\t41) SIGRTMIN+7\t42) SIGRTMIN+8\n",
      "43) SIGRTMIN+9\t44) SIGRTMIN+10\t45) SIGRTMIN+11\t46) SIGRTMIN+12\t47) SIGRTMIN+13\n",
      "48) SIGRTMIN+14\t49) SIGRTMIN+15\t50) SIGRTMAX-14\t51) SIGRTMAX-13\t52) SIGRTMAX-12\n",
      "53) SIGRTMAX-11\t54) SIGRTMAX-10\t55) SIGRTMAX-9\t56) SIGRTMAX-8\t57) SIGRTMAX-7\n",
      "58) SIGRTMAX-6\t59) SIGRTMAX-5\t60) SIGRTMAX-4\t61) SIGRTMAX-3\t62) SIGRTMAX-2\n",
      "63) SIGRTMAX-1\t64) SIGRTMAX\t\n"
     ]
    }
   ],
   "source": [
    "kill -l"
   ]
  },
  {
   "cell_type": "code",
   "execution_count": 1,
   "id": "120f1917-bc21-4a90-bb2b-dc07d90f95e8",
   "metadata": {
    "collapsed": true,
    "jupyter": {
     "outputs_hidden": true
    },
    "tags": []
   },
   "outputs": [
    {
     "name": "stdout",
     "output_type": "stream",
     "text": [
      "KILL(1)                          User Commands                         KILL(1)\n",
      "\n",
      "NAME\n",
      "       kill - send a signal to a process\n",
      "\n",
      "SYNOPSIS\n",
      "       kill [options] <pid> [...]\n",
      "\n",
      "DESCRIPTION\n",
      "       The  default  signal  for kill is TERM.  Use -l or -L to list available\n",
      "       signals.  Particularly useful signals include  HUP,  INT,  KILL,  STOP,\n",
      "       CONT,  and  0.   Alternate  signals may be specified in three ways: -9,\n",
      "       -SIGKILL or -KILL.  Negative PID values may be  used  to  choose  whole\n",
      "       process  groups; see the PGID column in ps command output.  A PID of -1\n",
      "       is special; it indicates all processes except the kill  process  itself\n",
      "       and init.\n",
      "\n",
      "OPTIONS\n",
      "       <pid> [...]\n",
      "              Send signal to every <pid> listed.\n",
      "\n",
      "       -<signal>\n",
      "       -s <signal>\n",
      "       --signal <signal>\n",
      "              Specify  the  signal to be sent.  The signal can be specified by\n",
      "              using name or number.  The behavior of signals is  explained  in\n",
      "              signal(7) manual page.\n",
      "\n",
      "       -q, --queue value\n",
      "              Use  sigqueue(3)  rather  than kill(2) and the value argument is\n",
      "              used to specify an integer to be sent with the  signal.  If  the\n",
      "              receiving  process has installed a handler for this signal using\n",
      "              the SA_SIGINFO flag to sigaction(2), then  it  can  obtain  this\n",
      "              data via the si_value field of the siginfo_t structure.\n",
      "\n",
      "       -l, --list [signal]\n",
      "              List  signal  names.   This  option has optional argument, which\n",
      "              will convert signal number to signal name, or other way round.\n",
      "\n",
      "       -L, --table\n",
      "              List signal names in a nice table.\n",
      "\n",
      "       NOTES  Your shell (command line interpreter) may have a  built-in  kill\n",
      "              command.   You  may  need  to  run the command described here as\n",
      "              /bin/kill to solve the conflict.\n",
      "\n",
      "EXAMPLES\n",
      "       kill -9 -1\n",
      "              Kill all processes you can kill.\n",
      "\n",
      "       kill -l 11\n",
      "              Translate number 11 into a signal name.\n",
      "\n",
      "       kill -L\n",
      "              List the available signal choices in a nice table.\n",
      "\n",
      "       kill 123 543 2341 3453\n",
      "              Send the default signal, SIGTERM, to all those processes.\n",
      "\n",
      "SEE ALSO\n",
      "       kill(2),   killall(1),   nice(1),   pkill(1),   renice(1),   signal(7),\n",
      "       sigqueue(3), skill(1)\n",
      "\n",
      "STANDARDS\n",
      "       This  command  meets  appropriate  standards. The -L flag is Linux-spe‐\n",
      "       cific.\n",
      "\n",
      "AUTHOR\n",
      "       Albert Cahalan ⟨albert@users.sf.net⟩ wrote kill in 1999  to  replace  a\n",
      "       bsdutils  one  that  was  not  standards compliant.  The util-linux one\n",
      "       might also work correctly.\n",
      "\n",
      "REPORTING BUGS\n",
      "       Please send bug reports to ⟨procps@freelists.org⟩\n",
      "\n",
      "procps-ng                         2021-05-18                           KILL(1)\n"
     ]
    }
   ],
   "source": [
    "man kill"
   ]
  },
  {
   "cell_type": "markdown",
   "id": "59e3d94e-c8cc-4b44-b581-f10d5dd8e40c",
   "metadata": {},
   "source": [
    "## Resource Monitoring in Linux"
   ]
  },
  {
   "cell_type": "markdown",
   "id": "3d057b46-9e2d-427c-8fa9-cb561ae9a513",
   "metadata": {},
   "source": [
    "Balancing resources keeps a computer system running smoothly. When processes are using too many resources, operating problems may occur. To avoid problems from the overuse of resources, you should monitor the usage of resources. Monitoring resources and adjusting the balance is important to keep computers running at their best. This reading will cover how to monitor resources in Linux using the load average metric and the common command.\n",
    "\n",
    "**Load in Linux**\n",
    "\n",
    "In Linux, \n",
    "\n",
    "> a **load** is the set of processes that a central processing unit (CPU) is currently running or waiting to run. \n",
    "\n",
    "A load for a system that is idle with no processes running or waiting to run is classified as a `0`. Every process running or waiting to run adds a value of `1` to the load. This means if you have `3` applications running and `2` on the waitlist, the load is `5`. The higher the load, the more resources are being used, and the more the load should be monitored to keep the system running smoothly. \n",
    "\n",
    "**Load average in Linux**\n",
    "\n",
    "The load as a measurement doesn’t provide much information as it constantly changes as processes run. To account for this, an average is used to measure the load on the system. The **load average** is calculated by finding the load over a given period of time. Linux uses three decimal values to show the load over time instead of the percent other systems use. An easy way to check the load average is to run the `uptime` command in the terminal. The following image depicts the load values returned from the `uptime` command. \n",
    "\n",
    "\n",
    "![Load average values returned in the Linux terminal](data/images/Screenshot_20231004_132730.png)\n",
    "\n",
    "\n",
    "The command returns three load averages:\n",
    "\n",
    "- **Average CPU load for last minute**, which corresponds to 0.034. This is a very low value and means an average of 3% of the CPU was used over the last minute. \n",
    "\n",
    "- **Average CPU load for last 5 minutes** corresponds to the second value of 0.036. Again, this can be thought of as, on average, 4% of the CPU was being used over the past five minutes. \n",
    "\n",
    "- **Average CPU load for last 15 minutes** corresponds to 0.038, meaning on average, 4% of the CPU has been used over the last 15 minutes. \n",
    "\n",
    "**Top**\n",
    "\n",
    "Another way you can monitor the load average in Linux is to use the **`top` (table of processes)** command in the terminal. The result of running the `top` command is an in-depth view of the resources being used on your system. \n",
    "\n",
    "![Detailed process load average output in Linux terminal](data/images/Screenshot_20231004_133346.png)\n",
    "\n",
    "The first line displayed is the same as the load average output given using the uptime command. It lists what percent of the CPU is running processes or has processes waiting. The second line shows the task output and describes the status of processes in the system. The five states in the task output represent:\n",
    "\n",
    "1. **Total** shows the sum of the processes from any state. \n",
    "\n",
    "1. **Running** shows the number of processes currently handling requests, executing normally, and having CPU access.\n",
    "\n",
    "1. **Sleeping** shows the number of processes awaiting resources in their normal state. \n",
    "\n",
    "1. **Stopped** shows the number of processes ending and releasing resources. The stopped processes send a termination message to the parent process. The process created by the kernel in Linux is known as the **Parent Process**. All the processes derived from the parent process are termed as **Child Processes**.\n",
    "\n",
    "1. **Zombie** shows the number of processes waiting for its parent process to release resources. Zombie processes usually mean an application or service didn't exit gracefully. Having a few zombie processes is not a problem. \n",
    "\n",
    "The `top` command gives detailed insight on usage for an IT individual to gauge the availability of resources on a system. \n",
    "\n",
    "**Key Takeaways**\n",
    "\n",
    "- Computers need to balance the resources used with the resources that are free. Ensuring that the CPU is not overused means that a system will run with few issues. \n",
    "\n",
    "- The load in Linux is calculated by adding `1` for each process that is running or waiting to run. \n",
    "\n",
    "- Monitoring the average load of Linux allows an IT professional to identify which processes are running to determine what to end in order to balance the system. A balanced system runs with fewer problems than one that is using too high of a percent of resources. \n",
    "\n",
    "- The load average uses three time lengths to determine the use of the CPU: one minute, five minutes and fifteen minutes. \n",
    "\n",
    "The `top` command can give detailed information about the resource usage of tasks that are running or waiting to run."
   ]
  },
  {
   "cell_type": "markdown",
   "id": "2d183ef8-bc0b-4370-9257-b94ed2a50bb8",
   "metadata": {
    "jp-MarkdownHeadingCollapsed": true,
    "tags": []
   },
   "source": [
    "# <b>3.8 Remote Access</b>"
   ]
  },
  {
   "cell_type": "markdown",
   "id": "aab0b126-724d-4e6b-bc6b-99eede7f29ff",
   "metadata": {},
   "source": [
    "## Remote Connections in Windows"
   ]
  },
  {
   "cell_type": "markdown",
   "id": "e84f072c-d1d8-4e6e-862f-e8aaa06454df",
   "metadata": {},
   "source": [
    "Connecting securely to remote machines is an important task for deploying services. **Secure Shell (SSH)** was developed in the 1990s to address this issue. This reading will cover what SSH is, the features it enables, and common SSH clients and their key features in Windows.\n",
    "\n",
    "**SSH**\n",
    "\n",
    "> **Secure Shell (SSH)** is a network protocol that gives users a secure way to access a computer over an unsecured network. \n",
    "\n",
    "SSH enables secure remote access to SSH-enabled network systems or devices and automated processes. It also allows for secure remote access to transfer files, use commands and manage network infrastructure.\n",
    "\n",
    "**OpenSSH**\n",
    "\n",
    "**OpenSSH** is the open-source version of the Secure Shell (SSH) tools used by administrators of Linux and other non-Windows for cross-platform remote systems management. OpenSSH has been added to Windows (as of autumn 2018) and is included in Windows Server and Windows client.\n",
    "\n",
    "**Common SSH Clients**\n",
    "\n",
    "An SSH client is a program that establishes secure and authenticated SSH connections to SSH servers. The following common SSH clients are Windows compatible:\n",
    "\n",
    "|SSH client|Description|Features|Protocols|\n",
    "|-|-|-|-|\n",
    "|[PuTTY](https://www.putty.org/)|a terminal emulator and the inspiration for all subsequent remote access systems|Telnet, SSH, Rlogin (A remote login tool for use with UNIX-based machines on your network), and raw socket connections plus Secure File Transfer Protocol (SFTP) and Secure Copy Protocol (SCP) for file transfers between two hosts|SCP, SSH, Telnet, rlogin, and raw socket connection|\n",
    "|[SecureCRT](https://www.vandyke.com/cgi-bin/releases.php?product=securecrt)|a remote access system available for macOS, Linux, iOS, and Windows|terminal emulation and file transfer through an SSH tunnel. It enables connections through many protocols and has usability features like tabbed sessions and customizable menus|SSH1, SSH2, Telnet, and Telnet/SSL|\n",
    "|[SmarTTY](https://sysprogs.com/SmarTTY/download/)|a free SSH client with a multi-tabbed interface to allow multiple simultaneous connections|This tool includes SCP capabilities for file transfers. It also includes usability features like auto-completion, file panel, and package management|SSH, SCP|\n",
    "|[mRemoteNG](https://mremoteng.org/download)|a remote desktop system with a tabbed interface for multiple simultaneous connections|The system enables connections with Remote Desktop Protocol (RDP), Telnet (two-way text communication via virtual terminal connections), Rlogin, Virtual Network Computing (VNC, a graphics-based desktop sharing system), and SSH|RDP, VNC, SSH, Telnet, HTTP/HTTPS, rlogin, Raw Socket Connections, Powershell remoting|\n",
    "|[MobaXterm](https://mobaxterm.mobatek.net/download.html)|a remote access system built for Unix and Linux, and Windows|Features include an embedded X server (a graphical interface akin to windows), X11 forwarding (a way to run applications over a remote connection), and easy display exportation to let X11 applications know which screen to run on|SSH, X11, RDP, VNC|\n",
    "\n",
    "**Key Takeaways**\n",
    "\n",
    "- Secure Shell(SSH) is a way to securely connect two remote machines over an unsecured network.\n",
    "\n",
    "- You can use SSH to remotely control, transfer files from, and manage network resources for SSH-enabled clients.\n",
    "\n",
    "- OpenSSH is an open-source version for cross-platform management.\n",
    "\n",
    "- There are many common Window-compatible SSH clients with various features to fit any need, including PuTTY, SecureCRT, SmarTTY, mRemoteNG, and MobaXterm."
   ]
  },
  {
   "cell_type": "markdown",
   "id": "2de8de10-92b3-4c8d-9570-e9dfb901333a",
   "metadata": {
    "jp-MarkdownHeadingCollapsed": true,
    "tags": []
   },
   "source": [
    "# <b>3.9 Virtualization</b>"
   ]
  },
  {
   "cell_type": "markdown",
   "id": "e5f4eb2f-3849-4439-8d6a-7fe0d3a1c36b",
   "metadata": {},
   "source": [
    "## Virtual Machines"
   ]
  },
  {
   "cell_type": "markdown",
   "id": "2b98248b-6aab-4fc8-8fde-98cf812c8c16",
   "metadata": {},
   "source": [
    "Virtualization creates a simulated computer environment for running a complete operating system (OS). The simulated computer environment is called a virtual machine (VM). On a VM, you can run an OS as if it were running directly on your physical hardware. This reading explains how virtual machines work and introduces some tools for creating a VM.\n",
    "\n",
    "**How VMs work**\n",
    "\n",
    "Virtual machine software creates a virtualized environment that behaves like a separate computer system. The VM runs in a window on the operating system of your physical computer. The operating system that runs on your physical computer is called the “host” OS. Any operating systems running inside a VM are called “guests.” In the virtual environment, you can install your guest OS, and it will function like it’s running on a physical machine. Whenever you want to use the guest OS, open your VM software and run the guest OS in a window on your host desktop.\n",
    "\n",
    "Using a virtual machine lets you experiment with different operating systems without having to uninstall or replace your host OS. For example, you can try a Linux OS as a VM on your Windows computer to see how the two OSs compare, or you can use a VM on your Linux system to run a Mac software package. \n",
    "\n",
    "Another advantage of VMs is that they are isolated from the rest of your system. Software running inside a VM doesn’t affect the host OS or other VMs on your system. This isolation makes VMs a safe place to test software even when there is a risk of negative effects on a system.\n",
    "\n",
    "A key advantage of VMs is significant reduction in hardware and electricity costs. You can run many VMs on a single host by dividing available hardware resources among each virtualized environment. Modern computer hardware offers a lot of computing power in a single device. But a typical OS will require only a fraction of the computing resources available in a computer. This means you won’t have to run those systems on several physical computers that are only partially used.\n",
    "\n",
    "VM software divides hardware resources among virtualized environments by designating a portion of resources as virtual resources. When you create a VM you may be asked to specify the amount of physical hard drive space you want to set apart for your VM to use. The VM software will create a virtual hard drive for your VM of the specified size. VM software may have you also specify the amount of RAM you want to allocate for your VM. After you create the VM, you can usually adjust resource allocations. If you want more drive space or RAM for your VM, you can adjust the settings in the VM software to allocate more of those resources.\n",
    "\n",
    "**VM software**\n",
    "\n",
    "Some common Virtual Machine software used to create VMs:\n",
    "\n",
    "- **VirtualBox** runs on Windows, Linux, Macintosh, and Solaris hosts. VirtualBox supports various guest operating systems, including Windows, Linux, Solaris, OpenBSD, and macOS. VirtualBox is open-source software available for free on the VirtualBox [download page](https://www.virtualbox.org/wiki/Downloads).\n",
    "\n",
    "- **Hyper-V** is a Microsoft's virtualization platform. It is available as an integrated feature on the Windows operating system. Hyper-V supports Windows, Linux, and FreeBSD virtual machines. It does not support macOS. See [Microsoft’s Hyper-V for Windows documentation](https://docs.microsoft.com/en-us/virtualization/hyper-v-on-windows/) for information on how to access Hyper-V on recent versions of Windows.\n",
    "\n",
    "- **VMware** desktop software runs on Windows, Linux, and macOS hosts. VMware Workstation Player is the VMware software that lets users run multiple operating systems on a single physical personal computer. It is freely available for non-commercial use on the [VMware Workstation Download page](https://www.vmware.com/products/workstation-player/workstation-player-evaluation.html).\n",
    "\n",
    "- **Red Hat Virtualization (RHV)** is a business-oriented platform developed for virtualization in enterprise computing contexts. RHV supports a variety of guest systems. Red Hat charges an annual subscription fee for product access, updates, patches, and technical support. See [Red Hat’s RHV Datasheet](https://www.redhat.com/en/resources/red-hat-virtualization-datasheet) for information on how to implement RHV on existing hardware infrastructures.\n",
    "\n",
    "**Key takeaways**\n",
    "\n",
    "- Virtualization lets you create a simulated computer environment for running a complete operating system. \n",
    "\n",
    "- Virtual machine (VM) software creates a virtualized environment that behaves like a separate computer system.\n",
    "\n",
    "- Virtualization lets you experiment with different operating systems without having to uninstall or replace your host OS and provides a safe place to test software.\n",
    "\n",
    "- VM software divides hardware resources among virtualized environments by allocating  portions of available resources as virtual resources.\n",
    "\n",
    "A variety of Virtual Machine software are available for creating VMs.\n",
    "\n",
    "More resources\n",
    "For step-by-step instructions on how to create a virtual machine using VirtualBox, see the [VirtualBox manual](https://www.virtualbox.org/manual/ch01.html)."
   ]
  },
  {
   "cell_type": "markdown",
   "id": "9969203f-19f7-4fd6-a54f-7b6840b59589",
   "metadata": {},
   "source": [
    "# <b>3.10 Logging</b>"
   ]
  },
  {
   "cell_type": "markdown",
   "id": "adc53e29-08c3-4cb9-81c7-032f766e8d86",
   "metadata": {},
   "source": [
    "|Purpose|PowerShell|Bash|\n",
    "|-|-|-|\n",
    "|logs|`eventvwr.msc`|`ls /var/log`|"
   ]
  },
  {
   "cell_type": "markdown",
   "id": "9d7b1cc2-6d40-4716-b38c-915439512f9c",
   "metadata": {
    "jp-MarkdownHeadingCollapsed": true
   },
   "source": [
    "# <b>3.11 Opertating System Deployment</b>"
   ]
  },
  {
   "cell_type": "markdown",
   "id": "9f823f81-f0ca-44bb-8323-88800400caa2",
   "metadata": {},
   "source": [
    "## OS Deployment Methods"
   ]
  },
  {
   "cell_type": "markdown",
   "id": "ab37e880-f10f-49f6-84cf-90198111cdad",
   "metadata": {},
   "source": [
    "In this reading, you will learn about operating system (OS) deployment methods, including the use of disk cloning. A cloned disk is an identical copy of a hard drive. Cloning is often used when an Enterprise company purchases a large number of identical computers. The IT Support Administrators for the company are responsible for installing and configuring the computers to meet the needs of the company and its network. Disk cloning is used to save time on this type of deployment. IT Administrators will select one of the new computers to install and configure needed items, such as the OS, utilities, tools, network settings, software, drivers, firmware, and more. Then they make a clone of this first hard drive. The cloned disk is used to copy the entire disk image over to the remaining new computers so that the IT Admins do not need to repeat the same installation and configuration steps on each new computer. They may keep a copy of the original disk from this deployment to reimage the systems if a clean OS install is required (e.g., following a virus or malware infection, OS corruption, etc.).  \n",
    "\n",
    "Cloned disks have uses beyond deploying OSs. They can be used to test new software and configurations in a lab environment before applying the updates to similar production systems. Cloning can also be used for system migrations, data backups, disk archival, or to make a copy of a hard drive for investigative or auditing purposes.  "
   ]
  },
  {
   "cell_type": "markdown",
   "id": "899bdd08-25cf-4bb3-934c-6a8a05a9005b",
   "metadata": {},
   "source": [
    "### Tools for duplicating disks"
   ]
  },
  {
   "cell_type": "markdown",
   "id": "4da0f8fb-8a41-4ed5-9dc0-2c72a8c802c0",
   "metadata": {},
   "source": [
    "#### Hard disk duplicator"
   ]
  },
  {
   "cell_type": "markdown",
   "id": "a2c9b8a5-c643-45a8-9c15-6271fd33f65c",
   "metadata": {},
   "source": [
    "**Hard drive duplicators** are machines that can make identical copies of hard drives. The original drive is inserted into the duplicator machine along with one or more blank hard drives as targets. Disk duplicators can have anywhere from a single target bay for limited disk cloning (example use: law enforcement investigations) up to 100+ target bays for industrial use (example use: computer manufacturing). If the target drives are not blank, the duplicator machine can wipe the drives. The target drives usually need to share the same characteristics (e.g., interface, form factor, transfer rate) of the original drive. The targets should also have the same or greater storage capacity than the original. \n",
    "\n",
    "The hard drive duplicator may have an LCD interface built-in to the machine and/or a management software/HTML interface, the latter of which can be accessed over a networked or directly-connected computer or server. The duplicator interface can be used to initiate and manage disk cloning and/or disk wiping (reformatting). Most duplicators copy data  sector-by-sector. The time to transfer data from the original to the target drives depends on multiple variables. The machine’s user manual should be consulted to calculate duplication time."
   ]
  },
  {
   "cell_type": "markdown",
   "id": "c0cc887d-aede-4b6c-a8d6-661821b05c54",
   "metadata": {},
   "source": [
    "#### Disk cloning software"
   ]
  },
  {
   "cell_type": "markdown",
   "id": "a80beda3-452b-4b9c-a113-c96c10260c6d",
   "metadata": {},
   "source": [
    "Hard drives can also be cloned using software. This method allows the original and target to be different media from one another. For example, a hard drive can be cloned from an IDE drive to an SSD drive, a CD-ROM/DVD, removable USB drive, cloud-based systems, or other storage media, and vice versa. Software cloning supports full disk copies (including the OS, all settings, software, and data) or copies of selected partitions of the drive (useful for data-only or OS-only copies). Disk cloning software is often used by IT Administrators who need to deploy disk images across a network to target workstations or to cloud-based systems. Cloud platforms normally offer a virtual machine (VM) cloning tool as part of their services. VM cloning is the most efficient method for cloning servers and workstations. VM cloning takes a few seconds to deploy new systems. \n",
    "\n",
    "A few examples of disk cloning software include:\n",
    "\n",
    "- **NinjaOne Backup** - Cloud-based cloning, backup, and data recovery service designed for managed service providers (MSPs) and remote workplaces. \n",
    "\n",
    "- **Acronis Cyber Protect Home Office** - Desktop and mobile device cloning software that works with Windows, Apple, and Android systems. Designed for end users. Supports backup, recovery, data migration, and disk replication. Includes an anti-malware service that can overcome ransomware attacks. \n",
    "\n",
    "- **Barracuda Intronis Backup** - Cloud-based cloning and backup service on a SaaS platform. Designed for MSPs who support small to mid-sized businesses. Can integrate with professional services automation (PSA) and remote monitoring and management (RMM) packages.\n",
    "\n",
    "- **ManageEngine OS Deployer** - Software for replications, migrations, standardizing system configurations, security, and more. Can create images of Windows, macOS, and Linux operating systems with all drivers, system configurations, and user profiles. These images can be saved to a locally stored library. The library is available to deploy OSs to new, migrated, or recovered systems as needed. \n",
    "\n",
    "- **EaseUS Todo Backup Free** - Free Windows-compatible software for differential, incremental, and full backups, as well as disaster recovery. Supports copying from NAS, RAID, and USB drives."
   ]
  },
  {
   "cell_type": "markdown",
   "id": "008b7000-7d03-457c-a9a4-3e8d32957724",
   "metadata": {},
   "source": [
    "### Methods for deploying disk clones"
   ]
  },
  {
   "cell_type": "markdown",
   "id": "c7bd7d11-f6a4-47d0-854b-0d4a7bf23912",
   "metadata": {},
   "source": [
    "The sections above have described disk clone deployment through copied hard drives, image libraries, network storage, and cloud-based deployments. There are some other options for cloned disk deployments: \n",
    "\n",
    "**Flash drive distribution**\n",
    "\n",
    "OSs can be distributed on flash drives. IT professionals can format flash drives to be bootable prior to copying a cloned disk image to the flash drive. Target systems should be set to boot from removable media in the BIOS. After inserting a flash drive containing the OS into an individual computer, restart the system and follow the prompts to install the OS. Microsoft offers this method as an option for Windows installations. Linux systems can also be booted and installed from flash drives. \n",
    "\n",
    "**The Linux `dd` command**\n",
    "\n",
    "The Linux/Unix `dd` command is a built-in utility for converting and copying files. On Linux/Unix-based OSs, most items are treated as files, including block (storage) devices. This characteristic makes it possible for the `dd` command to clone and wipe disks.\n",
    "\n",
    "**Key takeaways**\n",
    "\n",
    "Hard drives can be duplicated by:\n",
    "\n",
    "- Hard disk duplicator machines\n",
    "\n",
    "- Disk cloning software. Examples:\n",
    "\n",
    "    - NinjaOne Backup\n",
    "\n",
    "    - Acronis Cyber Protect Home Office\n",
    "\n",
    "    - Barracuda Intronis Backup\n",
    "\n",
    "    - ManageEngine OS Deployer\n",
    "\n",
    "    - EaseUS Todo Backup\n",
    "\n",
    "- Operating systems can be deployed through:\n",
    "\n",
    "    - Cloned hard drives\n",
    "\n",
    "    - Hard drive image libraries\n",
    "\n",
    "    - Network storage\n",
    "\n",
    "    - Cloud-based deployments\n",
    "\n",
    "    - Flash drive distributions\n",
    "\n",
    "    - In Linux, using the dd command\n",
    "\n",
    "Resources for more information\n",
    "For more information on disk cloning and OS deployment techniques, please visit:\n",
    "\n",
    "- [How to clone a hard drive on Windows](https://www.tomsguide.com/how-to/how-to-clone-a-hard-drive-on-windows) - Step-by-step guide with screenshots on how to clone a hard drive using the software Macrium Reflect Free.\n",
    "- [Best Hard Drive Duplicator/Cloner Docking Station for 2022](https://nerdtechy.com/best-hard-drive-duplicator-cloner-docking-station) - Comparison guide to popular hard drive duplicator machines.\n",
    "- [OS deployment methods with Configuration Manager](https://docs.microsoft.com/en-us/mem/configmgr/osd/deploy-use/methods-to-deploy-enterprise-operating-systems) - Microsoft’s guide to options for deploying Windows in a network environment. \n",
    "- [dd(1) - Linux manual page](https://man7.org/linux/man-pages/man1/dd.1.html) - The manual for the Linux dd command, which describes how to use the command and lists the available optional flags. "
   ]
  },
  {
   "cell_type": "markdown",
   "id": "54f48fd3-c098-4d0e-8704-df0230b71def",
   "metadata": {},
   "source": [
    "## Windows Troubleshooting"
   ]
  },
  {
   "cell_type": "markdown",
   "id": "cfc978a9-ab06-48c9-a6ec-7375229f460e",
   "metadata": {},
   "source": [
    "In an IT support environment, it’s common to come across issues that you can resolve using the log analysis tools. These tools can help with application crashes, a slow boot or startup, application hangs, or unexpected reboots.  In this reading you will learn how to resolve application crashes through the Windows’ graphical user interface (GUI) and your system log files. \n",
    "\n",
    "**Solving the problem**\n",
    "\n",
    "When you begin to troubleshoot an IT issue, you should begin by researching the root of the problem. You might ask yourself these questions:\n",
    "\n",
    "- Is the problem unique to one computer or all computers on the network? \n",
    "\n",
    "- Does the problem affect a single user or all users? \n",
    "\n",
    "- Is the problem related to a particular application? Is that application up-to-date?\n",
    "\n",
    "Information in your system and application logs can help you answer these questions.\n",
    "\n",
    "Once you have figured out the problem, decide how you are going to fix it. You first attempt at fixing it might not be the right solution. This is okay and you are keeping the problem-solving process moving forward and helping to develop your technical troubleshooting skills.\n",
    "\n",
    "After you have solved the issue and have figured out how to fix it, educate others on your team and in your company about what you discovered. Educating others about IT issues that are happening will help prevent them from happening again.\n",
    "\n",
    "It’s also important to document your solution to a problem. Many organizations have a structured documentation process in place for IT. This documentation is a place for you to record the issues you have encountered and the solutions you discovered.  If they don’t already have a documentation system, it is an opportunity to create a documentation system for your company and follow it. Documenting issues that arise, and solutions to those issues, will save the company and other IT support professionals time and resources in the future.\n",
    "\n",
    "**An example scenario**\n",
    "\n",
    "Consider this situation: One of the commonly-used software applications at your company continuously crashes around the same time every day. You use information in the Windows log files to investigate the issue and see events as they happen live. There are several types of logs you may analyze. A good way to start is by analyzing the system and application logs.\n",
    "\n",
    "**Accessing logs through the Windows GUI tool**\n",
    "\n",
    "In Windows you can access logs through the GUI using the **Event Viewer** tool. You can launch the Event Viewer through the Windows start menus or by typing `eventvwr.msc` from the run box. The Event Viewer records a lot of information about the system. With a custom view, you can create a filter that will look across all the event logs and focus the view on just the information you're interested in. \n",
    "\n",
    "In the scenario above, you’re interested in a crash event that happens around the same time every day. You may create a custom view to filter only events that happen around the time of your crash event. Select the “error” and “critical” checkboxes to limit the view to include crash events. You can also select specific logs to view. The system log is a good place to start. Name the new view and save it for future reference.\n",
    " \n",
    "![Image of Event Viewer’s “Create Custom View” interface, for specifying filtering parameters.](data/images/oDOJzTZkRr2aZvjg2vcawQ_df1eaf8ab7b940baa3b63929e8c473f1_4_yjV5vFHJjjvZS4ov56A9_EwKN0qfvT6W_6xGunRZ2c1ffo7Kq_jCizrGLVniztSlwQugjooMp4gbPi5oe5ZFdCfzOxVghcHMGKaV759-DLsrE-fcy7X05D0MrL3dUj4M8GUcHuyML63YJ06HPdC2wdkYPVEY3rdj5ErRl04odOATmycdqHVZgVZn7J5bM.png)\n",
    "\n",
    "**Interpreting the log file**\n",
    "\n",
    "Once you have accessed your logs and focused on those parts that contain information most relevant to your crash event, you can examine the logs to find the root cause of the issue. Since you’re concerned with the crash of a specific application, you might scan the log file for the word “error” or the application name. Check the timestamps of these error logs for crashes that happen around the time that you suspect your crashes are happening. These parts of your system logs are most likely to offer clues about what’s causing your problem and how to fix it.\n",
    "\n",
    "You may have to examine the logs a few times to collect the data you need. You may also have to try multiple different solutions before finding the right one. Then once you have, you can document it so others don’t have to go through the same process again. \n",
    "\n",
    "**Key takeaways**\n",
    "\n",
    "- Good problem solving skills will help expedite the troubleshooting process and increase productivity.\n",
    "\n",
    "- When faced with a problem, analyze the situation to determine what steps to take.\n",
    "\n",
    "- There are two key tools that can help you resolve application errors:\n",
    "    - 1. Access to logs through the Windows GUI\n",
    "    - 2. Log analysis<br>\n",
    "<br>\n",
    "- After reaching your conclusions about a problem, communicate your findings.\n",
    "\n",
    "- Document your solution to every problem."
   ]
  },
  {
   "cell_type": "markdown",
   "id": "e07552b4-af6b-408e-8489-10f323a98929",
   "metadata": {},
   "source": [
    "## Windows Troubleshooting Example"
   ]
  },
  {
   "cell_type": "markdown",
   "id": "1ddd9553-dbc1-4bf8-8e04-3455442386f5",
   "metadata": {},
   "source": [
    "**Troubleshooting a problem in Windows**\n",
    "\n",
    "As an IT Support professional, you will likely run into problems caused by a full primary hard drive, where the OS is installed. An affected computer may display an error message stating there is insufficient space on the drive to save new files, apply an update, or install new software. In some cases, the computer might not provide an informative error message at all. Instead, the system may experience performance issues, hang, crash, or it might not even load the OS after booting. Note that it is a best practice to routinely perform maintenance and clean-up of computer hard drives to free storage space, improve system performance, and prevent the myriad of issues that can arise when the primary hard drive is full.\n",
    "\n",
    "Imagine that you are an IT Support Specialist for an organization. An employee reports that their computer is running very slowly and keeps hanging. You know that Windows Update had been scheduled to run overnight to update all of the organization’s systems with multiple patches, updates, and fixes. Although it is possible for these changes to cause system problems, there is only one employee reporting a problem. So, it is more likely that the system did not have adequate storage space to install all of the updates on that employee’s computer system. You suspect that the primary hard drive could be full. Your troubleshooting and repair steps might include:\n",
    "\n",
    "1. **Check how much free storage space remains**. A quick and easy troubleshooting step for system performance issues is to check if the primary hard drive is full. In this scenario, you discover that the employee’s hard drive has less than 5 GB of space left. Microsoft recommends giving Windows 10 at least 20 GB of free space for normal OS processes. You will need to find at least 15 GB of files to delete or move to another storage location. \n",
    "\n",
    "1. **Delete temporary and unneeded files**. There are a few methods for cleaning out junk files from Windows. Two system maintenance tools for this purpose, found in several versions of Windows, include:\n",
    "\n",
    "    - **Storage Sense**: Use the Windows Storage Sense tool to delete unnecessary files like temporary files, offline cloud files, downloads, and those stored in the Recycle Bin. You can also configure Storage Sense to regularly and automatically clean the hard drive for proactive maintenance. \n",
    "\n",
    "    - **Disk Cleanup**: A simple alternative tool to Storage Sense. Disk Cleanup performs most of the same operations as Storage Sense, plus it offers a drive compression utility. Note: If you run Disk Cleanup on a drive, but the computer is still reporting “Low Disk Space”, the Temp folder is most likely filling up with Microsoft Store .appx files. In this case, you will need to clear the cache for Microsoft Store.\n",
    "\n",
    "1. **Reset Windows Update**. Since you know the employee’s computer went through a Windows Update overnight and possibly did not complete this process fully, it may be wise to perform a Windows Update reset. The reset tool can check whether a system reboot is required to apply the updates, security settings were changed, update files are missing or corrupted, service registrations are missing or corrupt, and more.This utility can be found in the Windows system Settings menu, under Troubleshoot > Other troubleshooters >  Windows Update.\n",
    "\n",
    "1. **Move files off of the primary hard drive and onto** (one or more of the following): \n",
    "\n",
    "    - **Internal or external storage device**: Install an additional hard drive or add an external storage device, like a USB drive or SD card, to hold user files.\n",
    "\n",
    "    - **Network storage**: Network storage space is often available in network environments in the form of Network Attached Storage (NAS) appliances or large Enterprise Storage Area Networks (SANs). In these environments, end users should have network drive space mapped to their workstations for file storage, instead of saving files to their local hard drives. \n",
    "\n",
    "    - **Cloud storage (OneDrive, File Explorer, Google Drive, etc.)**: Providing cloud storage space to end users is a lower cost alternative to network storage. However, this option is less secure than onsite NAS or SAN storage.\n",
    "\n",
    "In Windows **System Storage**, under **Advanced storage** settings, set the new drive storage as the destination for “Where new content is saved.”   \n",
    "\n",
    "1. Set any cloud storage solutions to be online-only. This will prevent cloud files from downloading an offline or cached version of the files to the hard drive. \n",
    "\n",
    "1. Uninstall apps that are not needed (including Windows Store apps). This is an effective way to free up large amounts of storage space. \n",
    "\n",
    "1. Run antivirus and antimalware software. Some viruses and malware intentionally fill up hard drives with garbage data.\n",
    "\n",
    "1. Wipe hard drive and reinstall the OS. If none of the suggestions listed above solve the problem with slow system performance and hanging, consider wiping the hard drive and reinstalling the OS. This is the best method for repairing failed system updates.\n",
    "\n",
    "\n",
    "**Resources**\n",
    "\n",
    "- [Free up drive space in Windows](https://support.microsoft.com/en-us/windows/free-up-drive-space-in-windows-85529ccb-c365-490d-b548-831022bc9b32#WindowsVersion=Windows_10) - Microsoft article for Windows 10 and 11 that provides step-by-step instructions for freeing storage space on a hard drive. \n",
    "\n",
    "- [Low Disk Space error due to a full Temp folder](https://www.coursera.org/learn/os-power-user/supplement/5LdXl/supplemental-reading-for-windows-troubleshooting-example) - Steps to clear the cache for Microsoft Store and reset Windows Update for Windows 10 and 11.\n",
    "\n",
    "- [Manage drive space with Storage Sense](https://support.microsoft.com/en-us/windows/manage-drive-space-with-storage-sense-654f6ada-7bfc-45e5-966b-e24aded96ad5) - Instructions for configuring this Windows tool to automatically remove temporary files, downloads, offline cloud files, and empty the Recycle Bin.\n",
    "\n",
    "- [How to use Event Viewer on Windows 10](https://www.windowscentral.com/how-use-event-viewer-windows-10) - A walkthrough tour of Windows Event Viewer with screenshots and detailed explanations of each part of the tool.\n",
    "\n",
    "- [How do I reset Windows Update components?](https://www.coursera.org/learn/os-power-user/supplement/5LdXl/supplemental-reading-for-windows-troubleshooting-example) - Steps for troubleshooting problems with Windows Update."
   ]
  }
 ],
 "metadata": {
  "kernelspec": {
   "display_name": "Bash",
   "language": "bash",
   "name": "bash"
  },
  "language_info": {
   "codemirror_mode": "shell",
   "file_extension": ".sh",
   "mimetype": "text/x-sh",
   "name": "bash"
  }
 },
 "nbformat": 4,
 "nbformat_minor": 5
}
